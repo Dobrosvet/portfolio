{
 "cells": [
  {
   "attachments": {},
   "cell_type": "markdown",
   "metadata": {},
   "source": [
    "# Продвинутый SQL"
   ]
  },
  {
   "cell_type": "markdown",
   "metadata": {
    "id": "sRW85nPMDWKb"
   },
   "source": [
    "Выполните продвинутые задания по SQL. Задания включают дополнительные вопросы, дайте на них ответ.\n",
    "\n",
    "Необходимые данные находятся в таблицах схемы `stackoverflow`. Не забудьте подключиться к базе с помощью SQLAlchemy.\n",
    "\n",
    "Чтобы ожидаемый результат было легче представить, к каждому заданию добавлен небольшой фрагмент итоговой таблицы."
   ]
  },
  {
   "cell_type": "code",
   "execution_count": 1,
   "metadata": {
    "id": "nlZBlglMDWKe"
   },
   "outputs": [],
   "source": [
    "import os\n",
    "import pandas as pd\n",
    "import matplotlib.pyplot as plt\n",
    "import seaborn as sns\n",
    "from sqlalchemy import create_engine\n",
    "from dotenv import load_dotenv"
   ]
  },
  {
   "cell_type": "code",
   "execution_count": 2,
   "metadata": {},
   "outputs": [],
   "source": [
    "load_dotenv()\n",
    "\n",
    "USER = os.getenv('USER')\n",
    "PWD = os.getenv('PWD')\n",
    "HOST = os.getenv('HOST')\n",
    "PORT = os.getenv('PORT')\n",
    "DB = os.getenv('DB')"
   ]
  },
  {
   "cell_type": "markdown",
   "metadata": {
    "id": "XnOE3n28DWKg"
   },
   "source": [
    "Конфигурация для подключения к базе данных `data-analyst-advanced-sql`\n",
    "\n",
    "Эта база данных содержит схему `stackoverflow`, с которой вы будете работать в проекте"
   ]
  },
  {
   "cell_type": "code",
   "execution_count": 3,
   "metadata": {
    "id": "6p-yGp7qDWKg"
   },
   "outputs": [],
   "source": [
    "connection_string = f'postgresql://{USER}:{PWD}@{HOST}:{PORT}/{DB}'"
   ]
  },
  {
   "cell_type": "markdown",
   "metadata": {
    "id": "2Rg8ZpS0DWKh"
   },
   "source": [
    "Создание подключения"
   ]
  },
  {
   "cell_type": "code",
   "execution_count": 4,
   "metadata": {
    "id": "DamCUTR6DWKi"
   },
   "outputs": [],
   "source": [
    "engine = create_engine(connection_string) "
   ]
  },
  {
   "cell_type": "markdown",
   "metadata": {
    "id": "bel8XeSlDWKj"
   },
   "source": [
    "Пример запроса к базе данных\n",
    "\n",
    "`sample_df` является pandas-датафреймом."
   ]
  },
  {
   "cell_type": "code",
   "execution_count": 5,
   "metadata": {
    "id": "6Z_fw0yLDWKk"
   },
   "outputs": [],
   "source": [
    "query = '''\n",
    "SELECT *\n",
    "FROM stackoverflow.users\n",
    "LIMIT 10;\n",
    "'''\n",
    "\n",
    "sample_df = pd.read_sql_query(query, con=engine) "
   ]
  },
  {
   "cell_type": "code",
   "execution_count": 5,
   "metadata": {
    "id": "ZpuZ290oDWKk",
    "outputId": "22785a0a-e2bc-4559-ec3c-4879c4b377eb"
   },
   "outputs": [
    {
     "data": {
      "text/html": [
       "<div>\n",
       "<style scoped>\n",
       "    .dataframe tbody tr th:only-of-type {\n",
       "        vertical-align: middle;\n",
       "    }\n",
       "\n",
       "    .dataframe tbody tr th {\n",
       "        vertical-align: top;\n",
       "    }\n",
       "\n",
       "    .dataframe thead th {\n",
       "        text-align: right;\n",
       "    }\n",
       "</style>\n",
       "<table border=\"1\" class=\"dataframe\">\n",
       "  <thead>\n",
       "    <tr style=\"text-align: right;\">\n",
       "      <th></th>\n",
       "      <th>id</th>\n",
       "      <th>creation_date</th>\n",
       "      <th>display_name</th>\n",
       "      <th>last_access_date</th>\n",
       "      <th>location</th>\n",
       "      <th>reputation</th>\n",
       "      <th>views</th>\n",
       "    </tr>\n",
       "  </thead>\n",
       "  <tbody>\n",
       "    <tr>\n",
       "      <th>0</th>\n",
       "      <td>1</td>\n",
       "      <td>2008-07-31 14:22:31</td>\n",
       "      <td>Jeff Atwood</td>\n",
       "      <td>2018-08-29 02:34:23</td>\n",
       "      <td>El Cerrito, CA</td>\n",
       "      <td>44300</td>\n",
       "      <td>408587</td>\n",
       "    </tr>\n",
       "    <tr>\n",
       "      <th>1</th>\n",
       "      <td>2</td>\n",
       "      <td>2008-07-31 14:22:31</td>\n",
       "      <td>Geoff Dalgas</td>\n",
       "      <td>2018-08-23 17:31:56</td>\n",
       "      <td>Corvallis, OR</td>\n",
       "      <td>3491</td>\n",
       "      <td>23966</td>\n",
       "    </tr>\n",
       "    <tr>\n",
       "      <th>2</th>\n",
       "      <td>3</td>\n",
       "      <td>2008-07-31 14:22:31</td>\n",
       "      <td>Jarrod Dixon</td>\n",
       "      <td>2018-08-30 20:56:24</td>\n",
       "      <td>Raleigh, NC, United States</td>\n",
       "      <td>13418</td>\n",
       "      <td>24396</td>\n",
       "    </tr>\n",
       "    <tr>\n",
       "      <th>3</th>\n",
       "      <td>4</td>\n",
       "      <td>2008-07-31 14:22:31</td>\n",
       "      <td>Joel Spolsky</td>\n",
       "      <td>2018-08-14 22:18:15</td>\n",
       "      <td>New York, NY</td>\n",
       "      <td>28768</td>\n",
       "      <td>73755</td>\n",
       "    </tr>\n",
       "    <tr>\n",
       "      <th>4</th>\n",
       "      <td>5</td>\n",
       "      <td>2008-07-31 14:22:31</td>\n",
       "      <td>Jon Galloway</td>\n",
       "      <td>2018-08-29 16:48:36</td>\n",
       "      <td>San Diego, CA</td>\n",
       "      <td>39172</td>\n",
       "      <td>11700</td>\n",
       "    </tr>\n",
       "    <tr>\n",
       "      <th>5</th>\n",
       "      <td>8</td>\n",
       "      <td>2008-07-31 21:33:24</td>\n",
       "      <td>Eggs McLaren</td>\n",
       "      <td>2018-04-09 02:04:56</td>\n",
       "      <td>None</td>\n",
       "      <td>942</td>\n",
       "      <td>6372</td>\n",
       "    </tr>\n",
       "    <tr>\n",
       "      <th>6</th>\n",
       "      <td>9</td>\n",
       "      <td>2008-07-31 21:35:27</td>\n",
       "      <td>Kevin Dente</td>\n",
       "      <td>2018-08-30 18:18:03</td>\n",
       "      <td>Oakland, CA</td>\n",
       "      <td>14337</td>\n",
       "      <td>4949</td>\n",
       "    </tr>\n",
       "    <tr>\n",
       "      <th>7</th>\n",
       "      <td>11</td>\n",
       "      <td>2008-08-01 00:59:11</td>\n",
       "      <td>Anonymous User</td>\n",
       "      <td>2008-08-01 00:59:11</td>\n",
       "      <td>None</td>\n",
       "      <td>1890</td>\n",
       "      <td>2123</td>\n",
       "    </tr>\n",
       "    <tr>\n",
       "      <th>8</th>\n",
       "      <td>13</td>\n",
       "      <td>2008-08-01 04:18:05</td>\n",
       "      <td>Chris Jester-Young</td>\n",
       "      <td>2018-08-30 02:47:23</td>\n",
       "      <td>Raleigh, NC, United States</td>\n",
       "      <td>177138</td>\n",
       "      <td>35414</td>\n",
       "    </tr>\n",
       "    <tr>\n",
       "      <th>9</th>\n",
       "      <td>17</td>\n",
       "      <td>2008-08-01 12:02:22</td>\n",
       "      <td>Nick Berardi</td>\n",
       "      <td>2018-01-22 01:35:38</td>\n",
       "      <td>Issaquah, WA</td>\n",
       "      <td>44443</td>\n",
       "      <td>4786</td>\n",
       "    </tr>\n",
       "  </tbody>\n",
       "</table>\n",
       "</div>"
      ],
      "text/plain": [
       "   id       creation_date        display_name    last_access_date  \\\n",
       "0   1 2008-07-31 14:22:31         Jeff Atwood 2018-08-29 02:34:23   \n",
       "1   2 2008-07-31 14:22:31        Geoff Dalgas 2018-08-23 17:31:56   \n",
       "2   3 2008-07-31 14:22:31        Jarrod Dixon 2018-08-30 20:56:24   \n",
       "3   4 2008-07-31 14:22:31        Joel Spolsky 2018-08-14 22:18:15   \n",
       "4   5 2008-07-31 14:22:31        Jon Galloway 2018-08-29 16:48:36   \n",
       "5   8 2008-07-31 21:33:24        Eggs McLaren 2018-04-09 02:04:56   \n",
       "6   9 2008-07-31 21:35:27         Kevin Dente 2018-08-30 18:18:03   \n",
       "7  11 2008-08-01 00:59:11      Anonymous User 2008-08-01 00:59:11   \n",
       "8  13 2008-08-01 04:18:05  Chris Jester-Young 2018-08-30 02:47:23   \n",
       "9  17 2008-08-01 12:02:22        Nick Berardi 2018-01-22 01:35:38   \n",
       "\n",
       "                     location  reputation   views  \n",
       "0              El Cerrito, CA       44300  408587  \n",
       "1               Corvallis, OR        3491   23966  \n",
       "2  Raleigh, NC, United States       13418   24396  \n",
       "3                New York, NY       28768   73755  \n",
       "4               San Diego, CA       39172   11700  \n",
       "5                        None         942    6372  \n",
       "6                 Oakland, CA       14337    4949  \n",
       "7                        None        1890    2123  \n",
       "8  Raleigh, NC, United States      177138   35414  \n",
       "9                Issaquah, WA       44443    4786  "
      ]
     },
     "execution_count": 5,
     "metadata": {},
     "output_type": "execute_result"
    }
   ],
   "source": [
    "sample_df"
   ]
  },
  {
   "cell_type": "markdown",
   "metadata": {
    "id": "gnBMXkDBDWKm"
   },
   "source": [
    "## Задание 1"
   ]
  },
  {
   "cell_type": "markdown",
   "metadata": {
    "id": "vHsfOrrNDWKn"
   },
   "source": [
    "Выведите общую сумму просмотров постов за каждый месяц 2008 года. Если данных за какой-либо месяц в базе нет, такой месяц можно пропустить. Результат отсортируйте по убыванию общего количества просмотров."
   ]
  },
  {
   "cell_type": "markdown",
   "metadata": {
    "id": "N5rTgGNmDWKn"
   },
   "source": [
    "| month_date  | total_views |\n",
    "| ------------- | ------------- |\n",
    "| 2008-09-01  | 452928568  |\n",
    "| 2008-10-01  | 365400138  |\n",
    "| ...         | ... |"
   ]
  },
  {
   "cell_type": "code",
   "execution_count": 6,
   "metadata": {
    "id": "eWvykcXTDWKo"
   },
   "outputs": [
    {
     "data": {
      "text/html": [
       "<div>\n",
       "<style scoped>\n",
       "    .dataframe tbody tr th:only-of-type {\n",
       "        vertical-align: middle;\n",
       "    }\n",
       "\n",
       "    .dataframe tbody tr th {\n",
       "        vertical-align: top;\n",
       "    }\n",
       "\n",
       "    .dataframe thead th {\n",
       "        text-align: right;\n",
       "    }\n",
       "</style>\n",
       "<table border=\"1\" class=\"dataframe\">\n",
       "  <thead>\n",
       "    <tr style=\"text-align: right;\">\n",
       "      <th></th>\n",
       "      <th>month_date</th>\n",
       "      <th>total_views</th>\n",
       "    </tr>\n",
       "  </thead>\n",
       "  <tbody>\n",
       "    <tr>\n",
       "      <th>0</th>\n",
       "      <td>2008-09-01</td>\n",
       "      <td>452928568</td>\n",
       "    </tr>\n",
       "    <tr>\n",
       "      <th>1</th>\n",
       "      <td>2008-10-01</td>\n",
       "      <td>365400138</td>\n",
       "    </tr>\n",
       "    <tr>\n",
       "      <th>2</th>\n",
       "      <td>2008-11-01</td>\n",
       "      <td>221759651</td>\n",
       "    </tr>\n",
       "    <tr>\n",
       "      <th>3</th>\n",
       "      <td>2008-12-01</td>\n",
       "      <td>197792841</td>\n",
       "    </tr>\n",
       "    <tr>\n",
       "      <th>4</th>\n",
       "      <td>2008-08-01</td>\n",
       "      <td>131367083</td>\n",
       "    </tr>\n",
       "    <tr>\n",
       "      <th>5</th>\n",
       "      <td>2008-07-01</td>\n",
       "      <td>669895</td>\n",
       "    </tr>\n",
       "  </tbody>\n",
       "</table>\n",
       "</div>"
      ],
      "text/plain": [
       "  month_date  total_views\n",
       "0 2008-09-01    452928568\n",
       "1 2008-10-01    365400138\n",
       "2 2008-11-01    221759651\n",
       "3 2008-12-01    197792841\n",
       "4 2008-08-01    131367083\n",
       "5 2008-07-01       669895"
      ]
     },
     "execution_count": 6,
     "metadata": {},
     "output_type": "execute_result"
    }
   ],
   "source": [
    "query = '''\n",
    "SELECT\n",
    "    DISTINCT DATE_TRUNC('MONTH', creation_date) AS month_date,\n",
    "    SUM(views_count) OVER(PARTITION BY DATE_TRUNC('MONTH', creation_date)) AS total_views\n",
    "FROM stackoverflow.posts\n",
    "WHERE EXTRACT(YEAR FROM creation_date) = 2008\n",
    "ORDER BY total_views DESC\n",
    "'''\n",
    "\n",
    "sample_df = pd.read_sql_query(query, con=engine) \n",
    "sample_df"
   ]
  },
  {
   "cell_type": "markdown",
   "metadata": {
    "id": "I_ZvhOxkDWKp"
   },
   "source": [
    "Проанализируйте итоговую таблицу. Отличаются ли данные за разные месяцы? С чем могут быть связаны отличия?"
   ]
  },
  {
   "cell_type": "markdown",
   "metadata": {
    "id": "luxSj17oDWKq"
   },
   "source": [
    "**Ответ:**\n",
    "\n",
    "- В Июле гораздо меньшее значение среди всех остальных, вдимо это начало работы сервиса до стадии закрытого бета-тестирования\n",
    "- Значительный рост в Августе по сравнению с Июлем, запуск закрытого бета-теста 31 июля, порядок количества постов увеличился с сотен тысячь до сотен милиионов\n",
    "- В Сентябре произошёл скачок по сравнению с Августом примерно в 4 раза, максимальное значение среди всех, 15 сентября была запущена публичная-бета\n",
    "- С Сентября по Декабрь происходит плавный спад, в итоге постов стали публиковать в 2 раза меньше. Причинами могут быть\n",
    "    - большое количество уже существущих постов где уже есть ответы на вопросы\n",
    "    - естественный отток клиентов после запуска\n",
    "    - сезонные отпуска и праздники"
   ]
  },
  {
   "cell_type": "markdown",
   "metadata": {
    "id": "FziIXkn5DWKr"
   },
   "source": [
    "## Задание 2"
   ]
  },
  {
   "cell_type": "markdown",
   "metadata": {
    "id": "fTGESZvYDWKr"
   },
   "source": [
    "Выведите имена самых активных пользователей, которые в первый месяц после регистрации (включая день регистрации) дали больше 100 ответов. Вопросы, которые задавали пользователи, не учитывайте. Для каждого имени пользователя выведите количество уникальных значений `user_id`. Отсортируйте результат по полю с именами в лексикографическом порядке."
   ]
  },
  {
   "cell_type": "markdown",
   "metadata": {
    "id": "W5-tv6Y3DWKs"
   },
   "source": [
    "| display_name | count |\n",
    "| ------------ | ----- |\n",
    "| 1800 INFORMATION | 1 |\n",
    "| Adam Bellaire | 1 |\n",
    "| Adam Davis | 1 |\n",
    "| ... | ... |"
   ]
  },
  {
   "cell_type": "code",
   "execution_count": 7,
   "metadata": {
    "id": "fIO-y-YjDWKt"
   },
   "outputs": [
    {
     "data": {
      "text/html": [
       "<div>\n",
       "<style scoped>\n",
       "    .dataframe tbody tr th:only-of-type {\n",
       "        vertical-align: middle;\n",
       "    }\n",
       "\n",
       "    .dataframe tbody tr th {\n",
       "        vertical-align: top;\n",
       "    }\n",
       "\n",
       "    .dataframe thead th {\n",
       "        text-align: right;\n",
       "    }\n",
       "</style>\n",
       "<table border=\"1\" class=\"dataframe\">\n",
       "  <thead>\n",
       "    <tr style=\"text-align: right;\">\n",
       "      <th></th>\n",
       "      <th>display_name</th>\n",
       "      <th>count</th>\n",
       "    </tr>\n",
       "  </thead>\n",
       "  <tbody>\n",
       "    <tr>\n",
       "      <th>0</th>\n",
       "      <td>1800 INFORMATION</td>\n",
       "      <td>1</td>\n",
       "    </tr>\n",
       "    <tr>\n",
       "      <th>1</th>\n",
       "      <td>Adam Bellaire</td>\n",
       "      <td>1</td>\n",
       "    </tr>\n",
       "    <tr>\n",
       "      <th>2</th>\n",
       "      <td>Adam Davis</td>\n",
       "      <td>1</td>\n",
       "    </tr>\n",
       "    <tr>\n",
       "      <th>3</th>\n",
       "      <td>Adam Liss</td>\n",
       "      <td>1</td>\n",
       "    </tr>\n",
       "    <tr>\n",
       "      <th>4</th>\n",
       "      <td>Alan</td>\n",
       "      <td>8</td>\n",
       "    </tr>\n",
       "    <tr>\n",
       "      <th>...</th>\n",
       "      <td>...</td>\n",
       "      <td>...</td>\n",
       "    </tr>\n",
       "    <tr>\n",
       "      <th>71</th>\n",
       "      <td>leppie</td>\n",
       "      <td>1</td>\n",
       "    </tr>\n",
       "    <tr>\n",
       "      <th>72</th>\n",
       "      <td>lomaxx</td>\n",
       "      <td>1</td>\n",
       "    </tr>\n",
       "    <tr>\n",
       "      <th>73</th>\n",
       "      <td>mattlant</td>\n",
       "      <td>1</td>\n",
       "    </tr>\n",
       "    <tr>\n",
       "      <th>74</th>\n",
       "      <td>paxdiablo</td>\n",
       "      <td>1</td>\n",
       "    </tr>\n",
       "    <tr>\n",
       "      <th>75</th>\n",
       "      <td>tzot</td>\n",
       "      <td>1</td>\n",
       "    </tr>\n",
       "  </tbody>\n",
       "</table>\n",
       "<p>76 rows × 2 columns</p>\n",
       "</div>"
      ],
      "text/plain": [
       "        display_name  count\n",
       "0   1800 INFORMATION      1\n",
       "1      Adam Bellaire      1\n",
       "2         Adam Davis      1\n",
       "3          Adam Liss      1\n",
       "4               Alan      8\n",
       "..               ...    ...\n",
       "71            leppie      1\n",
       "72            lomaxx      1\n",
       "73          mattlant      1\n",
       "74         paxdiablo      1\n",
       "75              tzot      1\n",
       "\n",
       "[76 rows x 2 columns]"
      ]
     },
     "execution_count": 7,
     "metadata": {},
     "output_type": "execute_result"
    }
   ],
   "source": [
    "query = '''\n",
    "SELECT\n",
    "    su.display_name,\n",
    "    COUNT(DISTINCT su.id)\n",
    "FROM stackoverflow.posts AS sp\n",
    "JOIN stackoverflow.post_types AS spt ON sp.post_type_id = spt.id\n",
    "JOIN stackoverflow.users AS su ON sp.user_id = su.id\n",
    "WHERE\n",
    "    spt.type = 'Answer' AND\n",
    "    sp.creation_date - su.creation_date <= '30 DAYS'\n",
    "GROUP BY su.display_name\n",
    "HAVING COUNT(sp.id) > 100\n",
    "ORDER BY su.display_name\n",
    "'''\n",
    "\n",
    "sample_df = pd.read_sql_query(query, con=engine)\n",
    "sample_df"
   ]
  },
  {
   "cell_type": "markdown",
   "metadata": {
    "id": "I3Wr82TplKpI"
   },
   "source": [
    "Какие аномалии наблюдаются в данных? О чём они говорят?"
   ]
  },
  {
   "cell_type": "code",
   "execution_count": 8,
   "metadata": {
    "id": "CEIGGQ6ODWKy"
   },
   "outputs": [
    {
     "data": {
      "text/plain": [
       "array([ 1,  8, 15, 29, 10, 21, 12,  7,  9, 16,  5, 11,  3, 19],\n",
       "      dtype=int64)"
      ]
     },
     "execution_count": 8,
     "metadata": {},
     "output_type": "execute_result"
    }
   ],
   "source": [
    "sample_df['count'].unique()"
   ]
  },
  {
   "cell_type": "markdown",
   "metadata": {},
   "source": [
    "**Ответ:**\n",
    "\n",
    "- Некоторые имена пользователей встречаются не один раз, значит они не уникальны"
   ]
  },
  {
   "cell_type": "markdown",
   "metadata": {
    "id": "JhM2xXj5DWKu"
   },
   "source": [
    "## Задание 3"
   ]
  },
  {
   "cell_type": "markdown",
   "metadata": {
    "id": "IS6xPqyyDWKu"
   },
   "source": [
    "Выведите количество постов за 2008 год по месяцам. Отберите посты от пользователей, которые зарегистрировались в сентябре 2008 года и сделали хотя бы один пост в декабре того же года. Отсортируйте таблицу по значению месяца по убыванию."
   ]
  },
  {
   "cell_type": "markdown",
   "metadata": {
    "id": "WmjhjV2xDWKv"
   },
   "source": [
    "| month | count |\n",
    "| ------|------ |\n",
    "| 2008-12-01 | 17641 |\n",
    "| 2008-11-01 | 18294 |\n",
    "| ... | ... |"
   ]
  },
  {
   "cell_type": "code",
   "execution_count": 9,
   "metadata": {
    "id": "kVu0FB8WDWKv"
   },
   "outputs": [
    {
     "data": {
      "text/html": [
       "<div>\n",
       "<style scoped>\n",
       "    .dataframe tbody tr th:only-of-type {\n",
       "        vertical-align: middle;\n",
       "    }\n",
       "\n",
       "    .dataframe tbody tr th {\n",
       "        vertical-align: top;\n",
       "    }\n",
       "\n",
       "    .dataframe thead th {\n",
       "        text-align: right;\n",
       "    }\n",
       "</style>\n",
       "<table border=\"1\" class=\"dataframe\">\n",
       "  <thead>\n",
       "    <tr style=\"text-align: right;\">\n",
       "      <th></th>\n",
       "      <th>date_trunc</th>\n",
       "      <th>count</th>\n",
       "    </tr>\n",
       "  </thead>\n",
       "  <tbody>\n",
       "    <tr>\n",
       "      <th>0</th>\n",
       "      <td>2008-12-01</td>\n",
       "      <td>17641</td>\n",
       "    </tr>\n",
       "    <tr>\n",
       "      <th>1</th>\n",
       "      <td>2008-11-01</td>\n",
       "      <td>18294</td>\n",
       "    </tr>\n",
       "    <tr>\n",
       "      <th>2</th>\n",
       "      <td>2008-10-01</td>\n",
       "      <td>27171</td>\n",
       "    </tr>\n",
       "    <tr>\n",
       "      <th>3</th>\n",
       "      <td>2008-09-01</td>\n",
       "      <td>24870</td>\n",
       "    </tr>\n",
       "    <tr>\n",
       "      <th>4</th>\n",
       "      <td>2008-08-01</td>\n",
       "      <td>32</td>\n",
       "    </tr>\n",
       "  </tbody>\n",
       "</table>\n",
       "</div>"
      ],
      "text/plain": [
       "  date_trunc  count\n",
       "0 2008-12-01  17641\n",
       "1 2008-11-01  18294\n",
       "2 2008-10-01  27171\n",
       "3 2008-09-01  24870\n",
       "4 2008-08-01     32"
      ]
     },
     "execution_count": 9,
     "metadata": {},
     "output_type": "execute_result"
    }
   ],
   "source": [
    "query = '''\n",
    "SELECT\n",
    "    DISTINCT DATE_TRUNC('MONTH', creation_date),\n",
    "    COUNT(*) OVER(PARTITION BY DATE_TRUNC('MONTH', creation_date))\n",
    "FROM stackoverflow.posts\n",
    "WHERE user_id IN (\n",
    "    SELECT DISTINCT su.id\n",
    "    FROM stackoverflow.users AS su\n",
    "    JOIN stackoverflow.posts AS sp ON sp.user_id = su.id\n",
    "    WHERE\n",
    "        DATE_TRUNC('MONTH', su.creation_date) = '2008-09-01' AND\n",
    "        DATE_TRUNC('MONTH', sp.creation_date) = '2008-12-01'\n",
    ")\n",
    "ORDER BY date_trunc DESC\n",
    "'''\n",
    "\n",
    "sample_df = pd.read_sql_query(query, con=engine)\n",
    "sample_df"
   ]
  },
  {
   "cell_type": "markdown",
   "metadata": {
    "id": "Vnxn9DVHDWKx"
   },
   "source": [
    "Изучите данные: есть ли в них аномалии? Предположите, почему могли появиться аномальные значения."
   ]
  },
  {
   "cell_type": "markdown",
   "metadata": {},
   "source": [
    "**Ответ:**\n",
    "\n",
    "- Аномалия в в том что данные пользователей которые зарегестрировались в Сентябре, а посты сделаны в Августе, то есть ещё до регистрации чего быть не может. Это может быть вызвано программной ошибкой или техническим сбоем в тестовый период."
   ]
  },
  {
   "cell_type": "markdown",
   "metadata": {
    "id": "5Pcizm0DDWKz"
   },
   "source": [
    "## Задание 4"
   ]
  },
  {
   "cell_type": "markdown",
   "metadata": {
    "id": "KUZPF6vHDWKz"
   },
   "source": [
    "Используя данные о постах, выведите несколько полей:\n",
    "\n",
    "- идентификатор пользователя, который написал пост;\n",
    "- дата создания поста;\n",
    "- количество просмотров у текущего поста;\n",
    "- сумму просмотров постов автора с накоплением.\n",
    "\n",
    "Данные в таблице должны быть отсортированы по возрастанию идентификаторов пользователей, а данные об одном и том же пользователе — по возрастанию даты создания поста."
   ]
  },
  {
   "cell_type": "markdown",
   "metadata": {
    "id": "ZpsTUVDYDWK0"
   },
   "source": [
    "| user_id | creation_date | views_count | cumulative_count |\n",
    "| ------ | -------------- | ----------- | ---------------- |\n",
    "| 1 | 2008-07-31 23:41:00  | 480476   | 480476  |\n",
    "| 1 | 2008-07-31 23:55:38  | 136033 | 616509  | \n",
    "| 1 | 2008-07-31 23:56:41  | 0 |  616509  |\n",
    "| ... | ... | ... | ... |\n",
    "| 2 | 2008-07-31 23:56:41 | 79087  | 79087 |\n",
    "| 2 | 2008-08-01 05:09:56 | 65443 | 144530 |\n",
    "| ... | ...  | ...  | ...  |"
   ]
  },
  {
   "cell_type": "code",
   "execution_count": 10,
   "metadata": {
    "id": "hDoJhMzfDWK0"
   },
   "outputs": [
    {
     "data": {
      "text/html": [
       "<div>\n",
       "<style scoped>\n",
       "    .dataframe tbody tr th:only-of-type {\n",
       "        vertical-align: middle;\n",
       "    }\n",
       "\n",
       "    .dataframe tbody tr th {\n",
       "        vertical-align: top;\n",
       "    }\n",
       "\n",
       "    .dataframe thead th {\n",
       "        text-align: right;\n",
       "    }\n",
       "</style>\n",
       "<table border=\"1\" class=\"dataframe\">\n",
       "  <thead>\n",
       "    <tr style=\"text-align: right;\">\n",
       "      <th></th>\n",
       "      <th>user_id</th>\n",
       "      <th>creation_date</th>\n",
       "      <th>views_count</th>\n",
       "      <th>cumulative_count</th>\n",
       "    </tr>\n",
       "  </thead>\n",
       "  <tbody>\n",
       "    <tr>\n",
       "      <th>0</th>\n",
       "      <td>1</td>\n",
       "      <td>2008-07-31 23:41:00</td>\n",
       "      <td>480476</td>\n",
       "      <td>480476</td>\n",
       "    </tr>\n",
       "    <tr>\n",
       "      <th>1</th>\n",
       "      <td>1</td>\n",
       "      <td>2008-07-31 23:55:38</td>\n",
       "      <td>136033</td>\n",
       "      <td>616509</td>\n",
       "    </tr>\n",
       "    <tr>\n",
       "      <th>2</th>\n",
       "      <td>1</td>\n",
       "      <td>2008-07-31 23:56:41</td>\n",
       "      <td>0</td>\n",
       "      <td>616509</td>\n",
       "    </tr>\n",
       "    <tr>\n",
       "      <th>3</th>\n",
       "      <td>1</td>\n",
       "      <td>2008-08-04 02:45:08</td>\n",
       "      <td>0</td>\n",
       "      <td>616509</td>\n",
       "    </tr>\n",
       "    <tr>\n",
       "      <th>4</th>\n",
       "      <td>1</td>\n",
       "      <td>2008-08-04 04:31:03</td>\n",
       "      <td>0</td>\n",
       "      <td>616509</td>\n",
       "    </tr>\n",
       "    <tr>\n",
       "      <th>...</th>\n",
       "      <td>...</td>\n",
       "      <td>...</td>\n",
       "      <td>...</td>\n",
       "      <td>...</td>\n",
       "    </tr>\n",
       "    <tr>\n",
       "      <th>243791</th>\n",
       "      <td>5696608</td>\n",
       "      <td>2008-12-23 16:00:37</td>\n",
       "      <td>0</td>\n",
       "      <td>2804</td>\n",
       "    </tr>\n",
       "    <tr>\n",
       "      <th>243792</th>\n",
       "      <td>5696608</td>\n",
       "      <td>2008-12-23 17:35:09</td>\n",
       "      <td>0</td>\n",
       "      <td>2804</td>\n",
       "    </tr>\n",
       "    <tr>\n",
       "      <th>243793</th>\n",
       "      <td>5696608</td>\n",
       "      <td>2008-12-24 01:02:48</td>\n",
       "      <td>0</td>\n",
       "      <td>2804</td>\n",
       "    </tr>\n",
       "    <tr>\n",
       "      <th>243794</th>\n",
       "      <td>5696608</td>\n",
       "      <td>2008-12-30 14:34:45</td>\n",
       "      <td>0</td>\n",
       "      <td>2804</td>\n",
       "    </tr>\n",
       "    <tr>\n",
       "      <th>243795</th>\n",
       "      <td>5696608</td>\n",
       "      <td>2008-12-30 16:32:12</td>\n",
       "      <td>0</td>\n",
       "      <td>2804</td>\n",
       "    </tr>\n",
       "  </tbody>\n",
       "</table>\n",
       "<p>243796 rows × 4 columns</p>\n",
       "</div>"
      ],
      "text/plain": [
       "        user_id       creation_date  views_count  cumulative_count\n",
       "0             1 2008-07-31 23:41:00       480476            480476\n",
       "1             1 2008-07-31 23:55:38       136033            616509\n",
       "2             1 2008-07-31 23:56:41            0            616509\n",
       "3             1 2008-08-04 02:45:08            0            616509\n",
       "4             1 2008-08-04 04:31:03            0            616509\n",
       "...         ...                 ...          ...               ...\n",
       "243791  5696608 2008-12-23 16:00:37            0              2804\n",
       "243792  5696608 2008-12-23 17:35:09            0              2804\n",
       "243793  5696608 2008-12-24 01:02:48            0              2804\n",
       "243794  5696608 2008-12-30 14:34:45            0              2804\n",
       "243795  5696608 2008-12-30 16:32:12            0              2804\n",
       "\n",
       "[243796 rows x 4 columns]"
      ]
     },
     "execution_count": 10,
     "metadata": {},
     "output_type": "execute_result"
    }
   ],
   "source": [
    "query = '''\n",
    "SELECT\n",
    "    user_id,\n",
    "    creation_date,\n",
    "    views_count,\n",
    "    SUM(views_count) OVER(PARTITION BY user_id ORDER BY creation_date) AS cumulative_count\n",
    "FROM stackoverflow.posts\n",
    "ORDER BY user_id, creation_date\n",
    "'''\n",
    "\n",
    "sample_df = pd.read_sql_query(query, con=engine)\n",
    "sample_df"
   ]
  },
  {
   "cell_type": "markdown",
   "metadata": {
    "id": "N0kHRHvIDWK2"
   },
   "source": [
    "## Задание 5"
   ]
  },
  {
   "cell_type": "markdown",
   "metadata": {
    "id": "gBgvmPtODWK2"
   },
   "source": [
    "Найдите среднее количество постов пользователей в день за август 2008 года. Отберите данные о пользователях, которые опубликовали больше 120 постов за август. Дни без публикаций не учитывайте. \n",
    "\n",
    "Отсортируйте результат по возрастанию среднего количества постов. Значения можно не округлять."
   ]
  },
  {
   "cell_type": "markdown",
   "metadata": {
    "id": "nfzR08BODWK3"
   },
   "source": [
    "| user_id | avg_daily |\n",
    "| ------- | --------- |\n",
    "| 116     | 4.777778  |\n",
    "| 234     | 5.208333  |\n",
    "| ...     | ... |"
   ]
  },
  {
   "cell_type": "code",
   "execution_count": 11,
   "metadata": {
    "id": "YFyPNz5GDWK3"
   },
   "outputs": [
    {
     "data": {
      "text/html": [
       "<div>\n",
       "<style scoped>\n",
       "    .dataframe tbody tr th:only-of-type {\n",
       "        vertical-align: middle;\n",
       "    }\n",
       "\n",
       "    .dataframe tbody tr th {\n",
       "        vertical-align: top;\n",
       "    }\n",
       "\n",
       "    .dataframe thead th {\n",
       "        text-align: right;\n",
       "    }\n",
       "</style>\n",
       "<table border=\"1\" class=\"dataframe\">\n",
       "  <thead>\n",
       "    <tr style=\"text-align: right;\">\n",
       "      <th></th>\n",
       "      <th>user_id</th>\n",
       "      <th>avg_daily</th>\n",
       "    </tr>\n",
       "  </thead>\n",
       "  <tbody>\n",
       "    <tr>\n",
       "      <th>0</th>\n",
       "      <td>116</td>\n",
       "      <td>4.777778</td>\n",
       "    </tr>\n",
       "    <tr>\n",
       "      <th>1</th>\n",
       "      <td>234</td>\n",
       "      <td>5.208333</td>\n",
       "    </tr>\n",
       "    <tr>\n",
       "      <th>2</th>\n",
       "      <td>91</td>\n",
       "      <td>5.681818</td>\n",
       "    </tr>\n",
       "    <tr>\n",
       "      <th>3</th>\n",
       "      <td>905</td>\n",
       "      <td>7.000000</td>\n",
       "    </tr>\n",
       "    <tr>\n",
       "      <th>4</th>\n",
       "      <td>383</td>\n",
       "      <td>7.277778</td>\n",
       "    </tr>\n",
       "  </tbody>\n",
       "</table>\n",
       "</div>"
      ],
      "text/plain": [
       "   user_id  avg_daily\n",
       "0      116   4.777778\n",
       "1      234   5.208333\n",
       "2       91   5.681818\n",
       "3      905   7.000000\n",
       "4      383   7.277778"
      ]
     },
     "execution_count": 11,
     "metadata": {},
     "output_type": "execute_result"
    }
   ],
   "source": [
    "# хуже\n",
    "query = '''\n",
    "SELECT\n",
    "    DISTINCT user_id,\n",
    "    AVG(count) OVER(PARTITION BY user_id) AS avg_daily\n",
    "FROM (\n",
    "    SELECT\n",
    "        DISTINCT user_id,\n",
    "        DATE_TRUNC('DAY', creation_date),\n",
    "        COUNT(*)\n",
    "    FROM stackoverflow.posts\n",
    "    WHERE\n",
    "        user_id IN (\n",
    "            SELECT user_id\n",
    "            FROM (\n",
    "                SELECT\n",
    "                    DISTINCT user_id,\n",
    "                    COUNT(*) OVER(PARTITION BY user_id)\n",
    "                FROM stackoverflow.posts\n",
    "                WHERE DATE_TRUNC('MONTH', creation_date) = '2008-08-01'\n",
    "            ) AS up\n",
    "            WHERE count > 120\n",
    "        ) AND\n",
    "        DATE_TRUNC('MONTH', creation_date) = '2008-08-01'\n",
    "    GROUP BY user_id, DATE_TRUNC('DAY', creation_date)\n",
    ") AS fin\n",
    "WHERE DATE_TRUNC('MONTH', date_trunc) = '2008-08-01'\n",
    "ORDER BY avg_daily\n",
    "'''\n",
    "\n",
    "# лучше\n",
    "query = '''\n",
    "SELECT\n",
    "    DISTINCT user_id,\n",
    "    AVG(count) OVER(PARTITION BY user_id) AS avg_daily\n",
    "FROM (\n",
    "    SELECT\n",
    "        user_id,\n",
    "        DATE_TRUNC('DAY', creation_date),\n",
    "        COUNT(id)\n",
    "    FROM stackoverflow.posts\n",
    "    WHERE\n",
    "        user_id IN (\n",
    "            SELECT user_id\n",
    "            FROM stackoverflow.posts\n",
    "            WHERE DATE_TRUNC('MONTH', creation_date) = '2008-08-01'\n",
    "            GROUP BY user_id\n",
    "            HAVING COUNT(id) > 120\n",
    "        )\n",
    "    GROUP BY user_id, DATE_TRUNC('DAY', creation_date)\n",
    ") AS fin\n",
    "WHERE DATE_TRUNC('MONTH', date_trunc) = '2008-08-01'\n",
    "ORDER BY avg_daily\n",
    "'''\n",
    "\n",
    "sample_df = pd.read_sql_query(query, con=engine)\n",
    "sample_df"
   ]
  },
  {
   "cell_type": "markdown",
   "metadata": {
    "id": "EQ0dcFH4DWK5"
   },
   "source": [
    "## Задание 6"
   ]
  },
  {
   "cell_type": "markdown",
   "metadata": {
    "id": "c7flfg_hDWK5"
   },
   "source": [
    "Сколько в среднем дней в период с 1 по 7 декабря 2008 года пользователи взаимодействовали с платформой? Для каждого пользователя отберите дни, в которые он или она опубликовали хотя бы один пост. Нужно получить одно целое число — не забудьте округлить результат. "
   ]
  },
  {
   "cell_type": "markdown",
   "metadata": {
    "id": "RC1Ibzm9DWK6"
   },
   "source": [
    "| result |\n",
    "| -----  |\n",
    "| <целое число> |"
   ]
  },
  {
   "cell_type": "code",
   "execution_count": 12,
   "metadata": {},
   "outputs": [
    {
     "data": {
      "text/html": [
       "<div>\n",
       "<style scoped>\n",
       "    .dataframe tbody tr th:only-of-type {\n",
       "        vertical-align: middle;\n",
       "    }\n",
       "\n",
       "    .dataframe tbody tr th {\n",
       "        vertical-align: top;\n",
       "    }\n",
       "\n",
       "    .dataframe thead th {\n",
       "        text-align: right;\n",
       "    }\n",
       "</style>\n",
       "<table border=\"1\" class=\"dataframe\">\n",
       "  <thead>\n",
       "    <tr style=\"text-align: right;\">\n",
       "      <th></th>\n",
       "      <th>round</th>\n",
       "    </tr>\n",
       "  </thead>\n",
       "  <tbody>\n",
       "    <tr>\n",
       "      <th>0</th>\n",
       "      <td>2</td>\n",
       "    </tr>\n",
       "  </tbody>\n",
       "</table>\n",
       "</div>"
      ],
      "text/plain": [
       "   round\n",
       "0      2"
      ]
     },
     "execution_count": 12,
     "metadata": {},
     "output_type": "execute_result"
    }
   ],
   "source": [
    "query = '''\n",
    "SELECT ROUND(AVG(count))::int\n",
    "FROM (\n",
    "    SELECT COUNT(DISTINCT creation_date::date)\n",
    "    FROM stackoverflow.posts\n",
    "    WHERE creation_date::DATE BETWEEN '2008-12-01' AND '2008-12-07'\n",
    "    GROUP BY user_id\n",
    ") AS fin\n",
    "'''\n",
    "\n",
    "sample_df = pd.read_sql_query(query, con=engine)\n",
    "sample_df"
   ]
  },
  {
   "cell_type": "markdown",
   "metadata": {
    "id": "UJFtNNggDWK7"
   },
   "source": [
    "Проанализируйте итоговую таблицу — какие выводы можно сделать?"
   ]
  },
  {
   "cell_type": "markdown",
   "metadata": {
    "id": "LfUuYz-1DWK8"
   },
   "source": [
    "**Ответ:**\n",
    "\n",
    "- В период с 1 по 7 декабря 2008 года пользователи взаимодействовали с платформой в среднем 2 раза"
   ]
  },
  {
   "cell_type": "markdown",
   "metadata": {
    "id": "wfOmqmfLDWK8"
   },
   "source": [
    "## Задание 7"
   ]
  },
  {
   "cell_type": "markdown",
   "metadata": {
    "id": "X4ARQimADWK9"
   },
   "source": [
    "Выведите историю активности каждого пользователя в таком виде: идентификатор пользователя, дата публикации поста. Отсортируйте вывод по возрастанию идентификаторов пользователей, а для каждого пользователя — по возрастанию даты публикации.\n",
    "\n",
    "Добавьте в таблицу новое поле: для каждого поста в нём будет указано название месяца предпоследней публикации пользователя относительно текущей. Если такой публикации нет, укажите `NULL`.  Python автоматически поменяет `NULL` на `None`, но дополнительно преобразовывать значения `None` вам не нужно.\n",
    "\n",
    "Посмотрите внимательно на образец таблицы: для первых двух постов предпоследней публикации нет, но, начиная с третьего поста, в новое поле входит нужный месяц. Для следующего пользователя в первые две записи поля `second_last_month` тоже войдёт `NULL`."
   ]
  },
  {
   "cell_type": "markdown",
   "metadata": {
    "id": "IGPjRP01DWK9"
   },
   "source": [
    "| user_id | creation_date | second_last_month |\n",
    "| ------- | ------------- | ----------------- |\n",
    "| 1       | 2008-07-31 23:41:00 | None |\n",
    "| 1       | 2008-07-31 23:55:38 | None |\n",
    "| 1       | 2008-07-31 23:56:41 | July |\n",
    "| 1       | 2008-08-04 02:45:08 | July |\n",
    "| 1       | 2008-08-04 04:31:03 | July |\n",
    "| 1       | 2008-08-04 08:04:42 | August |\n",
    "| ... | ... | ... |"
   ]
  },
  {
   "cell_type": "code",
   "execution_count": 13,
   "metadata": {
    "id": "HzI1vhaMDWK-"
   },
   "outputs": [
    {
     "data": {
      "text/html": [
       "<div>\n",
       "<style scoped>\n",
       "    .dataframe tbody tr th:only-of-type {\n",
       "        vertical-align: middle;\n",
       "    }\n",
       "\n",
       "    .dataframe tbody tr th {\n",
       "        vertical-align: top;\n",
       "    }\n",
       "\n",
       "    .dataframe thead th {\n",
       "        text-align: right;\n",
       "    }\n",
       "</style>\n",
       "<table border=\"1\" class=\"dataframe\">\n",
       "  <thead>\n",
       "    <tr style=\"text-align: right;\">\n",
       "      <th></th>\n",
       "      <th>user_id</th>\n",
       "      <th>creation_date</th>\n",
       "      <th>to_char</th>\n",
       "    </tr>\n",
       "  </thead>\n",
       "  <tbody>\n",
       "    <tr>\n",
       "      <th>0</th>\n",
       "      <td>1</td>\n",
       "      <td>2008-07-31 23:41:00</td>\n",
       "      <td>None</td>\n",
       "    </tr>\n",
       "    <tr>\n",
       "      <th>1</th>\n",
       "      <td>1</td>\n",
       "      <td>2008-07-31 23:55:38</td>\n",
       "      <td>None</td>\n",
       "    </tr>\n",
       "    <tr>\n",
       "      <th>2</th>\n",
       "      <td>1</td>\n",
       "      <td>2008-07-31 23:56:41</td>\n",
       "      <td>July</td>\n",
       "    </tr>\n",
       "    <tr>\n",
       "      <th>3</th>\n",
       "      <td>1</td>\n",
       "      <td>2008-08-04 02:45:08</td>\n",
       "      <td>July</td>\n",
       "    </tr>\n",
       "    <tr>\n",
       "      <th>4</th>\n",
       "      <td>1</td>\n",
       "      <td>2008-08-04 04:31:03</td>\n",
       "      <td>July</td>\n",
       "    </tr>\n",
       "    <tr>\n",
       "      <th>...</th>\n",
       "      <td>...</td>\n",
       "      <td>...</td>\n",
       "      <td>...</td>\n",
       "    </tr>\n",
       "    <tr>\n",
       "      <th>243791</th>\n",
       "      <td>5696608</td>\n",
       "      <td>2008-12-23 16:00:37</td>\n",
       "      <td>December</td>\n",
       "    </tr>\n",
       "    <tr>\n",
       "      <th>243792</th>\n",
       "      <td>5696608</td>\n",
       "      <td>2008-12-23 17:35:09</td>\n",
       "      <td>December</td>\n",
       "    </tr>\n",
       "    <tr>\n",
       "      <th>243793</th>\n",
       "      <td>5696608</td>\n",
       "      <td>2008-12-24 01:02:48</td>\n",
       "      <td>December</td>\n",
       "    </tr>\n",
       "    <tr>\n",
       "      <th>243794</th>\n",
       "      <td>5696608</td>\n",
       "      <td>2008-12-30 14:34:45</td>\n",
       "      <td>December</td>\n",
       "    </tr>\n",
       "    <tr>\n",
       "      <th>243795</th>\n",
       "      <td>5696608</td>\n",
       "      <td>2008-12-30 16:32:12</td>\n",
       "      <td>December</td>\n",
       "    </tr>\n",
       "  </tbody>\n",
       "</table>\n",
       "<p>243796 rows × 3 columns</p>\n",
       "</div>"
      ],
      "text/plain": [
       "        user_id       creation_date    to_char\n",
       "0             1 2008-07-31 23:41:00       None\n",
       "1             1 2008-07-31 23:55:38       None\n",
       "2             1 2008-07-31 23:56:41  July     \n",
       "3             1 2008-08-04 02:45:08  July     \n",
       "4             1 2008-08-04 04:31:03  July     \n",
       "...         ...                 ...        ...\n",
       "243791  5696608 2008-12-23 16:00:37  December \n",
       "243792  5696608 2008-12-23 17:35:09  December \n",
       "243793  5696608 2008-12-24 01:02:48  December \n",
       "243794  5696608 2008-12-30 14:34:45  December \n",
       "243795  5696608 2008-12-30 16:32:12  December \n",
       "\n",
       "[243796 rows x 3 columns]"
      ]
     },
     "execution_count": 13,
     "metadata": {},
     "output_type": "execute_result"
    }
   ],
   "source": [
    "query = '''\n",
    "SELECT\n",
    "    user_id,\n",
    "    creation_date,\n",
    "    TO_CHAR(LAG(creation_date, 2) OVER(PARTITION BY user_id ORDER BY creation_date), 'Month')\n",
    "FROM stackoverflow.posts\n",
    "ORDER BY user_id\n",
    "'''\n",
    "\n",
    "sample_df = pd.read_sql_query(query, con=engine)\n",
    "sample_df"
   ]
  },
  {
   "cell_type": "markdown",
   "metadata": {
    "id": "tf9qq2yzDWK_"
   },
   "source": [
    "## Задание 8"
   ]
  },
  {
   "cell_type": "markdown",
   "metadata": {
    "id": "gfwLVXBYDWLA"
   },
   "source": [
    "Рассчитайте аналог Retention Rate по месяцам для пользователей StackOverflow. Объедините пользователей в когорты по месяцу их первого поста. Возвращение определяйте по наличию поста в текущем месяце. "
   ]
  },
  {
   "cell_type": "markdown",
   "metadata": {
    "id": "kN2ic39WlKpl"
   },
   "source": [
    "| cohort_dt | session_date | users_cnt | cohort_users_cnt | retention_rate |\n",
    "| --- | --- | --- | --- | --- |\n",
    "| 2008-07-01 00:00:00 | 2008-07-01 00:00:00 | 3 | 3 | 100 |\n",
    "| 2008-07-01 00:00:00 | 2008-08-01 00:00:00 | 2 | 3 | 66,67 |\n",
    "| 2008-07-01 00:00:00 | 2008-09-01 00:00:00 | 1 | 3 | 33,33 |\n",
    "| 2008-07-01 00:00:00 | 2008-10-01 00:00:00 | 2 | 3 | 66,67 |\n",
    "| 2008-07-01 00:00:00 | 2008-11-01 00:00:00 | 1 | 3 | 33,33 |\n",
    "| 2008-07-01 00:00:00 | 2008-12-01 00:00:00 | 2 | 3 | 66,67 |\n",
    "| 2008-08-01 00:00:00 | 2008-08-01 00:00:00 | 2151 | 2151 | 100 |\n",
    "| ... | ... | ... | ... | ... |"
   ]
  },
  {
   "cell_type": "code",
   "execution_count": 14,
   "metadata": {
    "id": "LUgFmwmTDWLB"
   },
   "outputs": [
    {
     "data": {
      "text/html": [
       "<div>\n",
       "<style scoped>\n",
       "    .dataframe tbody tr th:only-of-type {\n",
       "        vertical-align: middle;\n",
       "    }\n",
       "\n",
       "    .dataframe tbody tr th {\n",
       "        vertical-align: top;\n",
       "    }\n",
       "\n",
       "    .dataframe thead th {\n",
       "        text-align: right;\n",
       "    }\n",
       "</style>\n",
       "<table border=\"1\" class=\"dataframe\">\n",
       "  <thead>\n",
       "    <tr style=\"text-align: right;\">\n",
       "      <th></th>\n",
       "      <th>cohort_dt</th>\n",
       "      <th>session_date</th>\n",
       "      <th>users_cnt</th>\n",
       "      <th>cohort_users_cnt</th>\n",
       "      <th>retention_rate</th>\n",
       "    </tr>\n",
       "  </thead>\n",
       "  <tbody>\n",
       "    <tr>\n",
       "      <th>0</th>\n",
       "      <td>2008-07-01</td>\n",
       "      <td>2008-10-01</td>\n",
       "      <td>2</td>\n",
       "      <td>3</td>\n",
       "      <td>66.67</td>\n",
       "    </tr>\n",
       "    <tr>\n",
       "      <th>1</th>\n",
       "      <td>2008-10-01</td>\n",
       "      <td>2008-12-01</td>\n",
       "      <td>1221</td>\n",
       "      <td>3629</td>\n",
       "      <td>33.65</td>\n",
       "    </tr>\n",
       "    <tr>\n",
       "      <th>2</th>\n",
       "      <td>2008-12-01</td>\n",
       "      <td>2008-12-01</td>\n",
       "      <td>2536</td>\n",
       "      <td>2536</td>\n",
       "      <td>100.00</td>\n",
       "    </tr>\n",
       "    <tr>\n",
       "      <th>3</th>\n",
       "      <td>2008-08-01</td>\n",
       "      <td>2008-08-01</td>\n",
       "      <td>2151</td>\n",
       "      <td>2151</td>\n",
       "      <td>100.00</td>\n",
       "    </tr>\n",
       "    <tr>\n",
       "      <th>4</th>\n",
       "      <td>2008-08-01</td>\n",
       "      <td>2008-12-01</td>\n",
       "      <td>894</td>\n",
       "      <td>2151</td>\n",
       "      <td>41.56</td>\n",
       "    </tr>\n",
       "    <tr>\n",
       "      <th>5</th>\n",
       "      <td>2008-09-01</td>\n",
       "      <td>2008-11-01</td>\n",
       "      <td>2966</td>\n",
       "      <td>7678</td>\n",
       "      <td>38.63</td>\n",
       "    </tr>\n",
       "    <tr>\n",
       "      <th>6</th>\n",
       "      <td>2008-07-01</td>\n",
       "      <td>2008-07-01</td>\n",
       "      <td>3</td>\n",
       "      <td>3</td>\n",
       "      <td>100.00</td>\n",
       "    </tr>\n",
       "    <tr>\n",
       "      <th>7</th>\n",
       "      <td>2008-09-01</td>\n",
       "      <td>2008-10-01</td>\n",
       "      <td>4132</td>\n",
       "      <td>7678</td>\n",
       "      <td>53.82</td>\n",
       "    </tr>\n",
       "    <tr>\n",
       "      <th>8</th>\n",
       "      <td>2008-10-01</td>\n",
       "      <td>2008-11-01</td>\n",
       "      <td>1640</td>\n",
       "      <td>3629</td>\n",
       "      <td>45.19</td>\n",
       "    </tr>\n",
       "    <tr>\n",
       "      <th>9</th>\n",
       "      <td>2008-09-01</td>\n",
       "      <td>2008-12-01</td>\n",
       "      <td>2500</td>\n",
       "      <td>7678</td>\n",
       "      <td>32.56</td>\n",
       "    </tr>\n",
       "    <tr>\n",
       "      <th>10</th>\n",
       "      <td>2008-11-01</td>\n",
       "      <td>2008-12-01</td>\n",
       "      <td>1151</td>\n",
       "      <td>2852</td>\n",
       "      <td>40.36</td>\n",
       "    </tr>\n",
       "    <tr>\n",
       "      <th>11</th>\n",
       "      <td>2008-07-01</td>\n",
       "      <td>2008-08-01</td>\n",
       "      <td>2</td>\n",
       "      <td>3</td>\n",
       "      <td>66.67</td>\n",
       "    </tr>\n",
       "    <tr>\n",
       "      <th>12</th>\n",
       "      <td>2008-08-01</td>\n",
       "      <td>2008-09-01</td>\n",
       "      <td>1571</td>\n",
       "      <td>2151</td>\n",
       "      <td>73.04</td>\n",
       "    </tr>\n",
       "    <tr>\n",
       "      <th>13</th>\n",
       "      <td>2008-08-01</td>\n",
       "      <td>2008-10-01</td>\n",
       "      <td>1275</td>\n",
       "      <td>2151</td>\n",
       "      <td>59.27</td>\n",
       "    </tr>\n",
       "    <tr>\n",
       "      <th>14</th>\n",
       "      <td>2008-10-01</td>\n",
       "      <td>2008-10-01</td>\n",
       "      <td>3629</td>\n",
       "      <td>3629</td>\n",
       "      <td>100.00</td>\n",
       "    </tr>\n",
       "    <tr>\n",
       "      <th>15</th>\n",
       "      <td>2008-07-01</td>\n",
       "      <td>2008-11-01</td>\n",
       "      <td>1</td>\n",
       "      <td>3</td>\n",
       "      <td>33.33</td>\n",
       "    </tr>\n",
       "    <tr>\n",
       "      <th>16</th>\n",
       "      <td>2008-09-01</td>\n",
       "      <td>2008-09-01</td>\n",
       "      <td>7678</td>\n",
       "      <td>7678</td>\n",
       "      <td>100.00</td>\n",
       "    </tr>\n",
       "    <tr>\n",
       "      <th>17</th>\n",
       "      <td>2008-11-01</td>\n",
       "      <td>2008-11-01</td>\n",
       "      <td>2852</td>\n",
       "      <td>2852</td>\n",
       "      <td>100.00</td>\n",
       "    </tr>\n",
       "    <tr>\n",
       "      <th>18</th>\n",
       "      <td>2008-07-01</td>\n",
       "      <td>2008-09-01</td>\n",
       "      <td>1</td>\n",
       "      <td>3</td>\n",
       "      <td>33.33</td>\n",
       "    </tr>\n",
       "    <tr>\n",
       "      <th>19</th>\n",
       "      <td>2008-08-01</td>\n",
       "      <td>2008-11-01</td>\n",
       "      <td>1050</td>\n",
       "      <td>2151</td>\n",
       "      <td>48.81</td>\n",
       "    </tr>\n",
       "    <tr>\n",
       "      <th>20</th>\n",
       "      <td>2008-07-01</td>\n",
       "      <td>2008-12-01</td>\n",
       "      <td>2</td>\n",
       "      <td>3</td>\n",
       "      <td>66.67</td>\n",
       "    </tr>\n",
       "  </tbody>\n",
       "</table>\n",
       "</div>"
      ],
      "text/plain": [
       "    cohort_dt session_date  users_cnt  cohort_users_cnt  retention_rate\n",
       "0  2008-07-01   2008-10-01          2                 3           66.67\n",
       "1  2008-10-01   2008-12-01       1221              3629           33.65\n",
       "2  2008-12-01   2008-12-01       2536              2536          100.00\n",
       "3  2008-08-01   2008-08-01       2151              2151          100.00\n",
       "4  2008-08-01   2008-12-01        894              2151           41.56\n",
       "5  2008-09-01   2008-11-01       2966              7678           38.63\n",
       "6  2008-07-01   2008-07-01          3                 3          100.00\n",
       "7  2008-09-01   2008-10-01       4132              7678           53.82\n",
       "8  2008-10-01   2008-11-01       1640              3629           45.19\n",
       "9  2008-09-01   2008-12-01       2500              7678           32.56\n",
       "10 2008-11-01   2008-12-01       1151              2852           40.36\n",
       "11 2008-07-01   2008-08-01          2                 3           66.67\n",
       "12 2008-08-01   2008-09-01       1571              2151           73.04\n",
       "13 2008-08-01   2008-10-01       1275              2151           59.27\n",
       "14 2008-10-01   2008-10-01       3629              3629          100.00\n",
       "15 2008-07-01   2008-11-01          1                 3           33.33\n",
       "16 2008-09-01   2008-09-01       7678              7678          100.00\n",
       "17 2008-11-01   2008-11-01       2852              2852          100.00\n",
       "18 2008-07-01   2008-09-01          1                 3           33.33\n",
       "19 2008-08-01   2008-11-01       1050              2151           48.81\n",
       "20 2008-07-01   2008-12-01          2                 3           66.67"
      ]
     },
     "execution_count": 14,
     "metadata": {},
     "output_type": "execute_result"
    }
   ],
   "source": [
    "query = '''\n",
    "WITH\n",
    "    cohort_users_count AS (\n",
    "        SELECT\n",
    "            *,\n",
    "            COUNT(user_id) OVER(PARTITION BY cohort_dt) AS cohort_users_cnt\n",
    "        FROM (\n",
    "            SELECT\n",
    "                DISTINCT user_id,\n",
    "                MIN(DATE_TRUNC('month', creation_date)) OVER (PARTITION BY user_id) AS cohort_dt\n",
    "            FROM stackoverflow.posts\n",
    "        ) AS uc\n",
    "    ),\n",
    "        \n",
    "    sessions AS (\n",
    "        SELECT\n",
    "            user_id,\n",
    "            DATE_TRUNC('month', creation_date) AS session_date\n",
    "        FROM stackoverflow.posts\n",
    "        GROUP BY user_id, session_date\n",
    "    )\n",
    "\n",
    "SELECT\n",
    "    cuc.cohort_dt,\n",
    "    s.session_date,\n",
    "    COUNT(cuc.user_id) AS users_cnt,\n",
    "    cuc.cohort_users_cnt,\n",
    "    ROUND(COUNT(cuc.user_id) * 100.0 / cohort_users_cnt, 2) AS retention_rate\n",
    "FROM cohort_users_count AS cuc\n",
    "JOIN sessions AS s ON s.user_id = cuc.user_id\n",
    "GROUP BY cuc.cohort_dt, s.session_date, cuc.cohort_users_cnt\n",
    "'''\n",
    "\n",
    "sample_df = pd.read_sql_query(query, con=engine)\n",
    "sample_df"
   ]
  },
  {
   "cell_type": "markdown",
   "metadata": {
    "id": "_msBtnb2DWLC"
   },
   "source": [
    "Постройте тепловую карту Retention Rate. Какие аномалии или другие необычные явления удалось выявить? Сформулируйте гипотезы о возможных причинах."
   ]
  },
  {
   "cell_type": "code",
   "execution_count": 15,
   "metadata": {
    "id": "qAEJc8H1DWLC"
   },
   "outputs": [
    {
     "data": {
      "image/png": "[encoded data removed]",
      "text/plain": [
       "<Figure size 1000x600 with 2 Axes>"
      ]
     },
     "metadata": {},
     "output_type": "display_data"
    }
   ],
   "source": [
    "retention = sample_df.pivot('cohort_dt', 'session_date', 'retention_rate')\n",
    "retention.index = [str(x)[0:10] for x in retention.index]\n",
    "retention.columns = [str(x)[0:10] for x in retention.columns]\n",
    "\n",
    "plt.figure(figsize=(10, 6))\n",
    "sns.heatmap(retention, annot=True, fmt='')\n",
    "plt.title('Коэффициент удержания (Retention Rate)')\n",
    "plt.xlabel('session_date')\n",
    "plt.ylabel('cohort_dt')\n",
    "plt.show()"
   ]
  },
  {
   "cell_type": "markdown",
   "metadata": {
    "id": "EgOfIsI4DWLC"
   },
   "source": [
    "**Ответ:**\n",
    "\n",
    "- Аномалии в когорте 2008.07.01 коэффициент удержания должен постепенно убывать. Возможно из-за тестового периода или технических ошибок, в этот период было только 3 пользователя, все три зарегестрировались и написали посты только в первый месяц, а дальше писали то 2 то 1 пользователь"
   ]
  },
  {
   "cell_type": "markdown",
   "metadata": {
    "id": "1k7oPWt5DWLK"
   },
   "source": [
    "## Задание 9\n"
   ]
  },
  {
   "cell_type": "markdown",
   "metadata": {
    "id": "ALsYVSyRDWLM"
   },
   "source": [
    "На сколько процентов менялось количество постов ежемесячно с 1 сентября по 31 декабря 2008 года? Отобразите таблицу со следующими полями:\n",
    "\n",
    "- номер месяца;\n",
    "- количество постов за месяц;\n",
    "- процент, который показывает, насколько изменилось количество постов в текущем месяце по сравнению с предыдущим.\n",
    "\n",
    "Если постов стало меньше, значение процента должно быть отрицательным, если больше — положительным. Округлите значение процента до двух знаков после запятой.\n",
    "\n",
    "Напомним, что при делении одного целого числа на другое в PostgreSQL в результате получится целое число, округлённое до ближайшего целого вниз. Чтобы этого избежать, переведите делимое в тип `numeric`."
   ]
  },
  {
   "cell_type": "markdown",
   "metadata": {
    "id": "u4E2zF8DDWLM"
   },
   "source": [
    "| creation_month | posts_count | percentage |\n",
    "| -------------- | ----------- | ---------- |\n",
    "| 9 | 70731 | Nan |\n",
    "| 10 | 63102 | -10.33 |\n",
    "| ... | ... | ... |"
   ]
  },
  {
   "cell_type": "code",
   "execution_count": 16,
   "metadata": {
    "id": "Mb5pShStDWLN"
   },
   "outputs": [
    {
     "data": {
      "text/html": [
       "<div>\n",
       "<style scoped>\n",
       "    .dataframe tbody tr th:only-of-type {\n",
       "        vertical-align: middle;\n",
       "    }\n",
       "\n",
       "    .dataframe tbody tr th {\n",
       "        vertical-align: top;\n",
       "    }\n",
       "\n",
       "    .dataframe thead th {\n",
       "        text-align: right;\n",
       "    }\n",
       "</style>\n",
       "<table border=\"1\" class=\"dataframe\">\n",
       "  <thead>\n",
       "    <tr style=\"text-align: right;\">\n",
       "      <th></th>\n",
       "      <th>creation_month</th>\n",
       "      <th>count</th>\n",
       "      <th>round</th>\n",
       "    </tr>\n",
       "  </thead>\n",
       "  <tbody>\n",
       "    <tr>\n",
       "      <th>0</th>\n",
       "      <td>9</td>\n",
       "      <td>70371</td>\n",
       "      <td>NaN</td>\n",
       "    </tr>\n",
       "    <tr>\n",
       "      <th>1</th>\n",
       "      <td>10</td>\n",
       "      <td>63102</td>\n",
       "      <td>-10.33</td>\n",
       "    </tr>\n",
       "    <tr>\n",
       "      <th>2</th>\n",
       "      <td>11</td>\n",
       "      <td>46975</td>\n",
       "      <td>-25.56</td>\n",
       "    </tr>\n",
       "    <tr>\n",
       "      <th>3</th>\n",
       "      <td>12</td>\n",
       "      <td>44592</td>\n",
       "      <td>-5.07</td>\n",
       "    </tr>\n",
       "  </tbody>\n",
       "</table>\n",
       "</div>"
      ],
      "text/plain": [
       "   creation_month  count  round\n",
       "0               9  70371    NaN\n",
       "1              10  63102 -10.33\n",
       "2              11  46975 -25.56\n",
       "3              12  44592  -5.07"
      ]
     },
     "execution_count": 16,
     "metadata": {},
     "output_type": "execute_result"
    }
   ],
   "source": [
    "query = '''\n",
    "SELECT\n",
    "    *,\n",
    "    ROUND((count::numeric/LAG(count) OVER() - 1) * 100, 2)\n",
    "FROM (\n",
    "    SELECT\n",
    "        EXTRACT(MONTH FROM creation_date)::int AS creation_month,\n",
    "        COUNT(id)\n",
    "    FROM stackoverflow.posts\n",
    "    WHERE DATE_TRUNC('MONTH', creation_date) BETWEEN '2008-09-01' AND '2008-12-01'\n",
    "    GROUP BY creation_month\n",
    ") AS fin\n",
    "'''\n",
    "\n",
    "sample_df = pd.read_sql_query(query, con=engine)\n",
    "sample_df"
   ]
  },
  {
   "cell_type": "markdown",
   "metadata": {
    "id": "9NQE2y_MDWLP"
   },
   "source": [
    "Постройте круговую диаграмму с количеством постов по месяцам."
   ]
  },
  {
   "cell_type": "code",
   "execution_count": 17,
   "metadata": {
    "id": "377ABjiVDWLP"
   },
   "outputs": [
    {
     "data": {
      "image/png": "[encoded data removed]",
      "text/plain": [
       "<Figure size 640x480 with 1 Axes>"
      ]
     },
     "metadata": {},
     "output_type": "display_data"
    }
   ],
   "source": [
    "sample_df.plot(labels=['Сентябрь', 'Октябрь', 'Ноябрь', 'Декабрь'], y='count', kind='pie', legend=False,\n",
    "               autopct=lambda p: int((sample_df['count'].sum()*p/100).round()))\n",
    "plt.title('Измение кол-ва постов ежемесячно\\n с 1 сентября по 31 декабря 2008')\n",
    "plt.show();"
   ]
  },
  {
   "cell_type": "markdown",
   "metadata": {
    "id": "uw7qMtafDWLP"
   },
   "source": [
    "## Задание 10"
   ]
  },
  {
   "cell_type": "markdown",
   "metadata": {
    "id": "oRBpWKx3DWLQ"
   },
   "source": [
    "Выгрузите данные активности пользователя, который опубликовал больше всего постов за всё время. Выведите данные за октябрь 2008 года в таком виде:\n",
    "\n",
    "- номер недели;\n",
    "- дата и время последнего поста, опубликованного на этой неделе."
   ]
  },
  {
   "cell_type": "markdown",
   "metadata": {
    "id": "XjAWSn_3DWLQ"
   },
   "source": [
    "| week_creation | creation_date |\n",
    "| ------------- | ------------- |\n",
    "| 40 | 2008-10-05 09:00:58 |\n",
    "| 41 | 2008-10-12 21:22:23 |\n",
    "| ... | ... |"
   ]
  },
  {
   "cell_type": "code",
   "execution_count": 18,
   "metadata": {
    "id": "r5F5fSkwDWLQ"
   },
   "outputs": [
    {
     "data": {
      "text/html": [
       "<div>\n",
       "<style scoped>\n",
       "    .dataframe tbody tr th:only-of-type {\n",
       "        vertical-align: middle;\n",
       "    }\n",
       "\n",
       "    .dataframe tbody tr th {\n",
       "        vertical-align: top;\n",
       "    }\n",
       "\n",
       "    .dataframe thead th {\n",
       "        text-align: right;\n",
       "    }\n",
       "</style>\n",
       "<table border=\"1\" class=\"dataframe\">\n",
       "  <thead>\n",
       "    <tr style=\"text-align: right;\">\n",
       "      <th></th>\n",
       "      <th>week_creation</th>\n",
       "      <th>creation_date</th>\n",
       "    </tr>\n",
       "  </thead>\n",
       "  <tbody>\n",
       "    <tr>\n",
       "      <th>0</th>\n",
       "      <td>40</td>\n",
       "      <td>2008-10-05 09:00:58</td>\n",
       "    </tr>\n",
       "    <tr>\n",
       "      <th>1</th>\n",
       "      <td>41</td>\n",
       "      <td>2008-10-12 21:22:23</td>\n",
       "    </tr>\n",
       "    <tr>\n",
       "      <th>2</th>\n",
       "      <td>42</td>\n",
       "      <td>2008-10-19 06:49:30</td>\n",
       "    </tr>\n",
       "    <tr>\n",
       "      <th>3</th>\n",
       "      <td>43</td>\n",
       "      <td>2008-10-26 21:44:36</td>\n",
       "    </tr>\n",
       "    <tr>\n",
       "      <th>4</th>\n",
       "      <td>44</td>\n",
       "      <td>2008-10-31 22:16:01</td>\n",
       "    </tr>\n",
       "  </tbody>\n",
       "</table>\n",
       "</div>"
      ],
      "text/plain": [
       "   week_creation       creation_date\n",
       "0             40 2008-10-05 09:00:58\n",
       "1             41 2008-10-12 21:22:23\n",
       "2             42 2008-10-19 06:49:30\n",
       "3             43 2008-10-26 21:44:36\n",
       "4             44 2008-10-31 22:16:01"
      ]
     },
     "execution_count": 18,
     "metadata": {},
     "output_type": "execute_result"
    }
   ],
   "source": [
    "query = '''\n",
    "SELECT\n",
    "    EXTRACT(WEEK FROM creation_date)::int AS week_creation,\n",
    "    MAX(creation_date) AS creation_date\n",
    "FROM stackoverflow.posts\n",
    "WHERE\n",
    "    DATE_TRUNC('MONTH', creation_date) = '2008-10-01' AND\n",
    "    user_id IN (\n",
    "        SELECT user_id\n",
    "        FROM stackoverflow.posts\n",
    "        GROUP BY user_id\n",
    "        ORDER BY COUNT(id) DESC\n",
    "        LIMIT 1\n",
    "    )\n",
    "GROUP BY week_creation\n",
    "'''\n",
    "\n",
    "sample_df = pd.read_sql_query(query, con=engine)\n",
    "sample_df"
   ]
  }
 ],
 "metadata": {
  "ExecuteTimeLog": [
   {
    "duration": 863,
    "start_time": "2023-05-23T09:06:43.523Z"
   },
   {
    "duration": 4,
    "start_time": "2023-05-23T09:06:45.753Z"
   },
   {
    "duration": 14228,
    "start_time": "2023-05-23T09:06:48.746Z"
   },
   {
    "duration": 313,
    "start_time": "2023-05-23T09:07:02.976Z"
   },
   {
    "duration": 15,
    "start_time": "2023-05-23T09:07:04.415Z"
   },
   {
    "duration": 55,
    "start_time": "2023-05-23T09:13:55.468Z"
   },
   {
    "duration": 70,
    "start_time": "2023-05-23T09:14:00.856Z"
   },
   {
    "duration": 58,
    "start_time": "2023-05-23T09:14:12.681Z"
   },
   {
    "duration": 231,
    "start_time": "2023-05-23T09:14:28.450Z"
   },
   {
    "duration": 57,
    "start_time": "2023-05-23T09:14:34.076Z"
   },
   {
    "duration": 174,
    "start_time": "2023-05-23T09:15:04.538Z"
   },
   {
    "duration": 68,
    "start_time": "2023-05-23T09:15:14.243Z"
   },
   {
    "duration": 1007,
    "start_time": "2023-05-23T09:15:45.057Z"
   },
   {
    "duration": 810,
    "start_time": "2023-05-23T09:15:56.781Z"
   },
   {
    "duration": 226,
    "start_time": "2023-05-23T09:16:57.719Z"
   },
   {
    "duration": 197,
    "start_time": "2023-05-23T09:17:01.659Z"
   },
   {
    "duration": 164,
    "start_time": "2023-05-23T09:17:05.320Z"
   },
   {
    "duration": 234,
    "start_time": "2023-05-23T09:17:28.780Z"
   },
   {
    "duration": 598,
    "start_time": "2023-05-23T09:19:12.915Z"
   },
   {
    "duration": 239,
    "start_time": "2023-05-23T09:19:19.519Z"
   },
   {
    "duration": 2312,
    "start_time": "2023-05-23T09:20:22.523Z"
   },
   {
    "duration": 240,
    "start_time": "2023-05-23T09:20:50.724Z"
   },
   {
    "duration": 178,
    "start_time": "2023-05-23T09:38:10.883Z"
   },
   {
    "duration": 47,
    "start_time": "2023-05-23T09:38:34.742Z"
   },
   {
    "duration": 159,
    "start_time": "2023-05-23T09:41:11.380Z"
   },
   {
    "duration": 2112,
    "start_time": "2023-05-23T09:41:16.079Z"
   },
   {
    "duration": 2472,
    "start_time": "2023-05-23T13:46:27.278Z"
   },
   {
    "duration": 126,
    "start_time": "2023-05-23T13:47:37.075Z"
   },
   {
    "duration": 125,
    "start_time": "2023-05-23T13:47:53.519Z"
   },
   {
    "duration": 2533,
    "start_time": "2023-05-23T13:48:35.698Z"
   },
   {
    "duration": 737,
    "start_time": "2023-05-23T13:48:49.071Z"
   },
   {
    "duration": 130,
    "start_time": "2023-05-23T15:37:03.658Z"
   },
   {
    "duration": 124,
    "start_time": "2023-05-23T15:37:13.057Z"
   },
   {
    "duration": 140,
    "start_time": "2023-05-23T15:37:56.888Z"
   },
   {
    "duration": 874,
    "start_time": "2023-05-23T15:38:20.072Z"
   },
   {
    "duration": 183,
    "start_time": "2023-05-23T15:39:15.905Z"
   },
   {
    "duration": 537,
    "start_time": "2023-05-23T15:39:19.937Z"
   },
   {
    "duration": 346,
    "start_time": "2023-05-23T15:41:13.642Z"
   },
   {
    "duration": 308,
    "start_time": "2023-05-23T15:42:12.279Z"
   },
   {
    "duration": 485,
    "start_time": "2023-05-23T15:43:46.103Z"
   },
   {
    "duration": 313,
    "start_time": "2023-05-23T15:44:01.706Z"
   },
   {
    "duration": 373,
    "start_time": "2023-05-23T15:44:30.786Z"
   },
   {
    "duration": 119,
    "start_time": "2023-05-23T15:44:51.977Z"
   },
   {
    "duration": 371,
    "start_time": "2023-05-23T15:44:55.749Z"
   },
   {
    "duration": 316,
    "start_time": "2023-05-23T15:45:33.685Z"
   },
   {
    "duration": 325,
    "start_time": "2023-05-23T15:45:54.281Z"
   },
   {
    "duration": 318,
    "start_time": "2023-05-23T15:46:03.082Z"
   },
   {
    "duration": 128,
    "start_time": "2023-05-23T15:47:32.216Z"
   },
   {
    "duration": 268,
    "start_time": "2023-05-23T15:47:47.693Z"
   },
   {
    "duration": 211,
    "start_time": "2023-05-23T15:48:01.503Z"
   },
   {
    "duration": 214,
    "start_time": "2023-05-23T15:48:44.680Z"
   },
   {
    "duration": 224,
    "start_time": "2023-05-23T15:49:28.047Z"
   },
   {
    "duration": 280,
    "start_time": "2023-05-23T15:49:40.814Z"
   },
   {
    "duration": 229,
    "start_time": "2023-05-23T15:50:00.954Z"
   },
   {
    "duration": 225,
    "start_time": "2023-05-23T15:50:14.558Z"
   },
   {
    "duration": 210,
    "start_time": "2023-05-23T15:50:22.946Z"
   },
   {
    "duration": 212,
    "start_time": "2023-05-23T15:51:51.997Z"
   },
   {
    "duration": 214,
    "start_time": "2023-05-23T15:52:14.142Z"
   },
   {
    "duration": 4,
    "start_time": "2023-05-23T16:04:49.546Z"
   },
   {
    "duration": 5,
    "start_time": "2023-05-23T16:05:22.054Z"
   },
   {
    "duration": 690,
    "start_time": "2023-05-23T16:49:19.605Z"
   },
   {
    "duration": 127,
    "start_time": "2023-05-23T16:49:44.485Z"
   },
   {
    "duration": 228,
    "start_time": "2023-05-23T16:50:00.468Z"
   },
   {
    "duration": 119,
    "start_time": "2023-05-23T16:57:18.309Z"
   },
   {
    "duration": 164,
    "start_time": "2023-05-23T16:57:40.152Z"
   },
   {
    "duration": 148,
    "start_time": "2023-05-23T16:57:55.412Z"
   },
   {
    "duration": 1217,
    "start_time": "2023-05-23T16:58:06.252Z"
   },
   {
    "duration": 318,
    "start_time": "2023-05-23T16:59:52.550Z"
   },
   {
    "duration": 146,
    "start_time": "2023-05-23T17:00:12.811Z"
   },
   {
    "duration": 87,
    "start_time": "2023-05-23T17:00:22.145Z"
   },
   {
    "duration": 89,
    "start_time": "2023-05-23T17:07:31.548Z"
   },
   {
    "duration": 132,
    "start_time": "2023-05-23T17:14:39.343Z"
   },
   {
    "duration": 155,
    "start_time": "2023-05-23T17:15:29.991Z"
   },
   {
    "duration": 115,
    "start_time": "2023-05-23T17:15:38.170Z"
   },
   {
    "duration": 175,
    "start_time": "2023-05-23T17:15:47.952Z"
   },
   {
    "duration": 197,
    "start_time": "2023-05-23T17:16:21.896Z"
   },
   {
    "duration": 175,
    "start_time": "2023-05-23T17:16:33.343Z"
   },
   {
    "duration": 177,
    "start_time": "2023-05-23T17:16:44.744Z"
   },
   {
    "duration": 194,
    "start_time": "2023-05-23T17:16:49.746Z"
   },
   {
    "duration": 179,
    "start_time": "2023-05-23T17:17:02.483Z"
   },
   {
    "duration": 173,
    "start_time": "2023-05-23T17:17:28.449Z"
   },
   {
    "duration": 68,
    "start_time": "2023-05-23T17:19:44.143Z"
   },
   {
    "duration": 69,
    "start_time": "2023-05-23T17:19:54.884Z"
   },
   {
    "duration": 70,
    "start_time": "2023-05-23T17:20:00.338Z"
   },
   {
    "duration": 186,
    "start_time": "2023-05-23T17:20:04.341Z"
   },
   {
    "duration": 143,
    "start_time": "2023-05-23T17:20:12.341Z"
   },
   {
    "duration": 178,
    "start_time": "2023-05-23T17:20:46.003Z"
   },
   {
    "duration": 71,
    "start_time": "2023-05-23T17:22:02.278Z"
   },
   {
    "duration": 113,
    "start_time": "2023-05-23T17:28:30.880Z"
   },
   {
    "duration": 876,
    "start_time": "2023-05-23T17:28:45.253Z"
   },
   {
    "duration": 1403,
    "start_time": "2023-05-23T17:29:50.158Z"
   },
   {
    "duration": 1208,
    "start_time": "2023-05-23T17:31:37.704Z"
   },
   {
    "duration": 1214,
    "start_time": "2023-05-23T17:31:48.250Z"
   },
   {
    "duration": 1255,
    "start_time": "2023-05-23T17:32:44.256Z"
   },
   {
    "duration": 1080,
    "start_time": "2023-05-23T17:33:03.352Z"
   },
   {
    "duration": 1210,
    "start_time": "2023-05-23T17:33:40.586Z"
   },
   {
    "duration": 11,
    "start_time": "2023-05-23T17:34:20.172Z"
   },
   {
    "duration": 164,
    "start_time": "2023-05-23T17:40:39.962Z"
   },
   {
    "duration": 135,
    "start_time": "2023-05-23T17:40:51.900Z"
   },
   {
    "duration": 123,
    "start_time": "2023-05-23T17:40:59.771Z"
   },
   {
    "duration": 93,
    "start_time": "2023-05-23T17:41:11.353Z"
   },
   {
    "duration": 73,
    "start_time": "2023-05-23T17:42:21.383Z"
   },
   {
    "duration": 73,
    "start_time": "2023-05-23T17:43:52.276Z"
   },
   {
    "duration": 72,
    "start_time": "2023-05-23T17:44:58.157Z"
   },
   {
    "duration": 80,
    "start_time": "2023-05-23T17:45:22.041Z"
   },
   {
    "duration": 72,
    "start_time": "2023-05-23T17:45:26.391Z"
   },
   {
    "duration": 71,
    "start_time": "2023-05-23T17:45:45.616Z"
   },
   {
    "duration": 140,
    "start_time": "2023-05-23T17:49:42.080Z"
   },
   {
    "duration": 165,
    "start_time": "2023-05-23T17:51:18.846Z"
   },
   {
    "duration": 175,
    "start_time": "2023-05-23T17:51:50.693Z"
   },
   {
    "duration": 105,
    "start_time": "2023-05-23T17:52:02.884Z"
   },
   {
    "duration": 121,
    "start_time": "2023-05-23T17:52:55.608Z"
   },
   {
    "duration": 106,
    "start_time": "2023-05-23T17:53:04.119Z"
   },
   {
    "duration": 136,
    "start_time": "2023-05-23T17:53:44.483Z"
   },
   {
    "duration": 107,
    "start_time": "2023-05-23T17:53:56.967Z"
   },
   {
    "duration": 108,
    "start_time": "2023-05-23T17:54:47.630Z"
   },
   {
    "duration": 107,
    "start_time": "2023-05-23T17:54:57.257Z"
   },
   {
    "duration": 106,
    "start_time": "2023-05-23T17:55:23.601Z"
   },
   {
    "duration": 1272,
    "start_time": "2023-05-23T18:00:20.768Z"
   },
   {
    "duration": 133,
    "start_time": "2023-05-23T18:06:49.800Z"
   },
   {
    "duration": 99,
    "start_time": "2023-05-23T18:07:33.948Z"
   },
   {
    "duration": 170,
    "start_time": "2023-05-23T18:11:24.579Z"
   },
   {
    "duration": 115,
    "start_time": "2023-05-23T18:11:36.547Z"
   },
   {
    "duration": 164,
    "start_time": "2023-05-23T18:12:36.705Z"
   },
   {
    "duration": 457,
    "start_time": "2023-05-23T18:12:51.977Z"
   },
   {
    "duration": 198,
    "start_time": "2023-05-23T18:12:57.315Z"
   },
   {
    "duration": 115,
    "start_time": "2023-05-23T18:13:04.179Z"
   },
   {
    "duration": 115,
    "start_time": "2023-05-23T18:13:14.585Z"
   },
   {
    "duration": 109,
    "start_time": "2023-05-23T18:13:43.246Z"
   },
   {
    "duration": 237,
    "start_time": "2023-05-23T18:16:05.539Z"
   },
   {
    "duration": 221,
    "start_time": "2023-05-23T18:16:30.746Z"
   },
   {
    "duration": 321,
    "start_time": "2023-05-23T18:16:45.478Z"
   },
   {
    "duration": 130,
    "start_time": "2023-05-23T18:17:03.105Z"
   },
   {
    "duration": 158,
    "start_time": "2023-05-23T18:17:08.545Z"
   },
   {
    "duration": 117,
    "start_time": "2023-05-23T18:17:15.141Z"
   },
   {
    "duration": 110,
    "start_time": "2023-05-23T18:18:13.511Z"
   },
   {
    "duration": 106,
    "start_time": "2023-05-23T18:18:50.250Z"
   },
   {
    "duration": 104,
    "start_time": "2023-05-23T18:19:06.101Z"
   },
   {
    "duration": 91,
    "start_time": "2023-05-23T18:20:13.641Z"
   },
   {
    "duration": 90,
    "start_time": "2023-05-23T18:20:49.284Z"
   },
   {
    "duration": 96,
    "start_time": "2023-05-23T18:21:12.735Z"
   },
   {
    "duration": 124,
    "start_time": "2023-05-23T18:22:08.177Z"
   },
   {
    "duration": 95,
    "start_time": "2023-05-23T18:22:31.041Z"
   },
   {
    "duration": 122,
    "start_time": "2023-05-23T18:24:42.438Z"
   },
   {
    "duration": 153,
    "start_time": "2023-05-23T18:27:17.243Z"
   },
   {
    "duration": 148,
    "start_time": "2023-05-23T18:27:24.547Z"
   },
   {
    "duration": 128,
    "start_time": "2023-05-23T18:27:30.613Z"
   },
   {
    "duration": 144,
    "start_time": "2023-05-23T18:27:37.801Z"
   },
   {
    "duration": 126,
    "start_time": "2023-05-23T18:28:05.725Z"
   },
   {
    "duration": 273,
    "start_time": "2023-05-23T18:30:02.397Z"
   },
   {
    "duration": 139,
    "start_time": "2023-05-23T18:30:13.493Z"
   },
   {
    "duration": 89,
    "start_time": "2023-05-23T18:30:21.148Z"
   },
   {
    "duration": 89,
    "start_time": "2023-05-23T18:33:50.877Z"
   },
   {
    "duration": 142,
    "start_time": "2023-05-23T18:35:14.205Z"
   },
   {
    "duration": 176,
    "start_time": "2023-05-23T18:35:28.739Z"
   },
   {
    "duration": 112,
    "start_time": "2023-05-23T18:35:44.678Z"
   },
   {
    "duration": 121,
    "start_time": "2023-05-23T18:36:10.252Z"
   },
   {
    "duration": 101,
    "start_time": "2023-05-23T18:36:33.022Z"
   },
   {
    "duration": 162,
    "start_time": "2023-05-23T18:36:51.452Z"
   },
   {
    "duration": 104,
    "start_time": "2023-05-23T18:37:00.348Z"
   },
   {
    "duration": 91,
    "start_time": "2023-05-23T18:38:56.388Z"
   },
   {
    "duration": 89,
    "start_time": "2023-05-23T18:39:34.904Z"
   },
   {
    "duration": 186,
    "start_time": "2023-05-23T18:41:51.352Z"
   },
   {
    "duration": 93,
    "start_time": "2023-05-23T18:41:58.076Z"
   },
   {
    "duration": 94,
    "start_time": "2023-05-23T18:42:17.390Z"
   },
   {
    "duration": 87,
    "start_time": "2023-05-23T18:42:33.210Z"
   },
   {
    "duration": 90,
    "start_time": "2023-05-23T18:43:15.069Z"
   },
   {
    "duration": 89,
    "start_time": "2023-05-23T18:43:33.643Z"
   },
   {
    "duration": 88,
    "start_time": "2023-05-23T18:43:43.841Z"
   },
   {
    "duration": 89,
    "start_time": "2023-05-23T18:43:48.604Z"
   },
   {
    "duration": 91,
    "start_time": "2023-05-23T18:44:01.476Z"
   },
   {
    "duration": 89,
    "start_time": "2023-05-23T18:44:45.656Z"
   },
   {
    "duration": 88,
    "start_time": "2023-05-23T18:45:48.063Z"
   },
   {
    "duration": 82,
    "start_time": "2023-05-23T18:46:52.944Z"
   },
   {
    "duration": 81,
    "start_time": "2023-05-23T18:47:39.032Z"
   },
   {
    "duration": 91,
    "start_time": "2023-05-23T18:47:43.206Z"
   },
   {
    "duration": 123,
    "start_time": "2023-05-23T18:48:56.715Z"
   },
   {
    "duration": 116,
    "start_time": "2023-05-23T18:49:22.815Z"
   },
   {
    "duration": 122,
    "start_time": "2023-05-23T18:49:26.365Z"
   },
   {
    "duration": 91,
    "start_time": "2023-05-23T18:50:33.819Z"
   },
   {
    "duration": 90,
    "start_time": "2023-05-23T18:50:54.091Z"
   },
   {
    "duration": 89,
    "start_time": "2023-05-23T18:50:59.715Z"
   },
   {
    "duration": 89,
    "start_time": "2023-05-23T18:51:03.978Z"
   },
   {
    "duration": 88,
    "start_time": "2023-05-23T18:51:54.403Z"
   },
   {
    "duration": 88,
    "start_time": "2023-05-23T18:53:58.346Z"
   },
   {
    "duration": 90,
    "start_time": "2023-05-23T18:54:24.403Z"
   },
   {
    "duration": 87,
    "start_time": "2023-05-23T18:55:52.155Z"
   },
   {
    "duration": 91,
    "start_time": "2023-05-23T18:55:55.327Z"
   },
   {
    "duration": 91,
    "start_time": "2023-05-23T18:57:27.341Z"
   },
   {
    "duration": 90,
    "start_time": "2023-05-23T18:57:32.341Z"
   },
   {
    "duration": 88,
    "start_time": "2023-05-23T18:58:47.855Z"
   },
   {
    "duration": 91,
    "start_time": "2023-05-23T18:59:17.968Z"
   },
   {
    "duration": 90,
    "start_time": "2023-05-23T19:00:00.542Z"
   },
   {
    "duration": 92,
    "start_time": "2023-05-23T19:01:16.146Z"
   },
   {
    "duration": 116,
    "start_time": "2023-05-23T19:01:49.636Z"
   },
   {
    "duration": 119,
    "start_time": "2023-05-23T19:02:10.497Z"
   },
   {
    "duration": 89,
    "start_time": "2023-05-23T19:02:18.374Z"
   },
   {
    "duration": 87,
    "start_time": "2023-05-23T19:02:35.245Z"
   },
   {
    "duration": 91,
    "start_time": "2023-05-23T19:03:05.467Z"
   },
   {
    "duration": 91,
    "start_time": "2023-05-23T19:03:37.649Z"
   },
   {
    "duration": 93,
    "start_time": "2023-05-23T19:03:42.039Z"
   },
   {
    "duration": 117,
    "start_time": "2023-05-23T19:03:59.368Z"
   },
   {
    "duration": 89,
    "start_time": "2023-05-23T19:04:17.728Z"
   },
   {
    "duration": 89,
    "start_time": "2023-05-23T19:04:22.291Z"
   },
   {
    "duration": 122,
    "start_time": "2023-05-23T19:06:53.681Z"
   },
   {
    "duration": 89,
    "start_time": "2023-05-23T19:07:05.999Z"
   },
   {
    "duration": 88,
    "start_time": "2023-05-23T19:08:07.662Z"
   },
   {
    "duration": 117,
    "start_time": "2023-05-23T19:09:10.673Z"
   },
   {
    "duration": 117,
    "start_time": "2023-05-23T19:09:17.028Z"
   },
   {
    "duration": 170,
    "start_time": "2023-05-23T19:09:32.538Z"
   },
   {
    "duration": 215,
    "start_time": "2023-05-23T19:14:09.789Z"
   },
   {
    "duration": 210,
    "start_time": "2023-05-23T19:14:18.054Z"
   },
   {
    "duration": 757,
    "start_time": "2023-05-24T07:08:40.422Z"
   },
   {
    "duration": 3,
    "start_time": "2023-05-24T07:08:41.181Z"
   },
   {
    "duration": 4659,
    "start_time": "2023-05-24T07:08:41.185Z"
   },
   {
    "duration": 42,
    "start_time": "2023-05-24T07:08:45.846Z"
   },
   {
    "duration": 13,
    "start_time": "2023-05-24T07:08:45.889Z"
   },
   {
    "duration": 220,
    "start_time": "2023-05-24T07:08:45.903Z"
   },
   {
    "duration": 188,
    "start_time": "2023-05-24T07:08:46.124Z"
   },
   {
    "duration": 3,
    "start_time": "2023-05-24T07:08:46.314Z"
   },
   {
    "duration": 153,
    "start_time": "2023-05-24T07:08:46.318Z"
   },
   {
    "duration": 1114,
    "start_time": "2023-05-24T07:08:46.473Z"
   },
   {
    "duration": 63,
    "start_time": "2023-05-24T07:08:47.589Z"
   },
   {
    "duration": 10,
    "start_time": "2023-05-24T07:08:47.654Z"
   },
   {
    "duration": 3,
    "start_time": "2023-05-24T07:08:47.666Z"
   },
   {
    "duration": 18,
    "start_time": "2023-05-24T07:08:47.670Z"
   },
   {
    "duration": 10,
    "start_time": "2023-05-24T07:08:47.689Z"
   },
   {
    "duration": 2,
    "start_time": "2023-05-24T07:08:47.700Z"
   },
   {
    "duration": 17,
    "start_time": "2023-05-24T07:08:47.703Z"
   },
   {
    "duration": 13,
    "start_time": "2023-05-24T07:08:47.721Z"
   },
   {
    "duration": 2,
    "start_time": "2023-05-24T07:08:47.735Z"
   },
   {
    "duration": 23,
    "start_time": "2023-05-24T07:08:47.738Z"
   },
   {
    "duration": 191,
    "start_time": "2023-05-24T07:12:20.254Z"
   },
   {
    "duration": 187,
    "start_time": "2023-05-24T07:12:24.981Z"
   },
   {
    "duration": 192,
    "start_time": "2023-05-24T07:12:31.425Z"
   },
   {
    "duration": 188,
    "start_time": "2023-05-24T07:12:35.150Z"
   },
   {
    "duration": 1571,
    "start_time": "2023-05-24T07:12:42.154Z"
   },
   {
    "duration": 132,
    "start_time": "2023-05-24T07:14:03.877Z"
   },
   {
    "duration": 183,
    "start_time": "2023-05-24T07:15:04.570Z"
   },
   {
    "duration": 186,
    "start_time": "2023-05-24T07:16:04.366Z"
   },
   {
    "duration": 191,
    "start_time": "2023-05-24T07:16:31.526Z"
   },
   {
    "duration": 180,
    "start_time": "2023-05-24T07:16:48.451Z"
   },
   {
    "duration": 129,
    "start_time": "2023-05-24T07:18:16.811Z"
   },
   {
    "duration": 126,
    "start_time": "2023-05-24T07:19:50.208Z"
   },
   {
    "duration": 133,
    "start_time": "2023-05-24T07:19:54.105Z"
   },
   {
    "duration": 66,
    "start_time": "2023-05-24T07:20:16.054Z"
   },
   {
    "duration": 123,
    "start_time": "2023-05-24T07:20:28.603Z"
   },
   {
    "duration": 68,
    "start_time": "2023-05-24T07:22:04.804Z"
   },
   {
    "duration": 112,
    "start_time": "2023-05-24T07:23:12.362Z"
   },
   {
    "duration": 130,
    "start_time": "2023-05-24T07:24:29.814Z"
   },
   {
    "duration": 125,
    "start_time": "2023-05-24T07:25:03.082Z"
   },
   {
    "duration": 132,
    "start_time": "2023-05-24T07:25:32.383Z"
   },
   {
    "duration": 127,
    "start_time": "2023-05-24T07:25:40.055Z"
   },
   {
    "duration": 5,
    "start_time": "2023-05-24T07:26:36.270Z"
   },
   {
    "duration": 135,
    "start_time": "2023-05-24T07:29:04.181Z"
   },
   {
    "duration": 5,
    "start_time": "2023-05-24T07:29:08.471Z"
   },
   {
    "duration": 64,
    "start_time": "2023-05-24T07:32:00.175Z"
   },
   {
    "duration": 61,
    "start_time": "2023-05-24T07:32:06.192Z"
   },
   {
    "duration": 85,
    "start_time": "2023-05-24T07:35:34.126Z"
   },
   {
    "duration": 57,
    "start_time": "2023-05-24T07:37:04.720Z"
   },
   {
    "duration": 91,
    "start_time": "2023-05-24T07:37:08.305Z"
   },
   {
    "duration": 77,
    "start_time": "2023-05-24T07:37:32.502Z"
   },
   {
    "duration": 43,
    "start_time": "2023-05-24T07:37:36.796Z"
   },
   {
    "duration": 70,
    "start_time": "2023-05-24T07:37:53.904Z"
   },
   {
    "duration": 45,
    "start_time": "2023-05-24T07:38:08.479Z"
   },
   {
    "duration": 90,
    "start_time": "2023-05-24T07:38:16.090Z"
   },
   {
    "duration": 71,
    "start_time": "2023-05-24T07:38:34.494Z"
   },
   {
    "duration": 69,
    "start_time": "2023-05-24T07:38:53.384Z"
   },
   {
    "duration": 42,
    "start_time": "2023-05-24T07:39:06.816Z"
   },
   {
    "duration": 44,
    "start_time": "2023-05-24T07:39:17.204Z"
   },
   {
    "duration": 113,
    "start_time": "2023-05-24T07:39:22.504Z"
   },
   {
    "duration": 43,
    "start_time": "2023-05-24T07:39:33.024Z"
   },
   {
    "duration": 41,
    "start_time": "2023-05-24T07:40:01.467Z"
   },
   {
    "duration": 92,
    "start_time": "2023-05-24T07:40:05.197Z"
   },
   {
    "duration": 71,
    "start_time": "2023-05-24T07:40:53.402Z"
   },
   {
    "duration": 42,
    "start_time": "2023-05-24T07:41:23.106Z"
   },
   {
    "duration": 88,
    "start_time": "2023-05-24T07:41:39.074Z"
   },
   {
    "duration": 67,
    "start_time": "2023-05-24T07:41:48.392Z"
   },
   {
    "duration": 114,
    "start_time": "2023-05-24T07:42:01.218Z"
   },
   {
    "duration": 54,
    "start_time": "2023-05-24T07:42:23.882Z"
   },
   {
    "duration": 54,
    "start_time": "2023-05-24T07:42:33.183Z"
   },
   {
    "duration": 117,
    "start_time": "2023-05-24T07:43:14.096Z"
   },
   {
    "duration": 55,
    "start_time": "2023-05-24T07:43:19.466Z"
   },
   {
    "duration": 54,
    "start_time": "2023-05-24T07:43:33.778Z"
   },
   {
    "duration": 112,
    "start_time": "2023-05-24T07:43:58.921Z"
   },
   {
    "duration": 53,
    "start_time": "2023-05-24T07:44:14.972Z"
   },
   {
    "duration": 43,
    "start_time": "2023-05-24T07:44:40.462Z"
   },
   {
    "duration": 47,
    "start_time": "2023-05-24T07:45:08.650Z"
   },
   {
    "duration": 43,
    "start_time": "2023-05-24T07:45:19.794Z"
   },
   {
    "duration": 53,
    "start_time": "2023-05-24T07:45:45.176Z"
   },
   {
    "duration": 146,
    "start_time": "2023-05-24T07:45:52.480Z"
   },
   {
    "duration": 49,
    "start_time": "2023-05-24T07:47:26.103Z"
   },
   {
    "duration": 31,
    "start_time": "2023-05-24T07:47:53.767Z"
   },
   {
    "duration": 30,
    "start_time": "2023-05-24T07:48:51.542Z"
   },
   {
    "duration": 87,
    "start_time": "2023-05-24T07:51:14.985Z"
   },
   {
    "duration": 77,
    "start_time": "2023-05-24T07:51:18.594Z"
   },
   {
    "duration": 53,
    "start_time": "2023-05-24T07:51:25.762Z"
   },
   {
    "duration": 33,
    "start_time": "2023-05-24T07:51:39.395Z"
   },
   {
    "duration": 31,
    "start_time": "2023-05-24T07:52:39.445Z"
   },
   {
    "duration": 31,
    "start_time": "2023-05-24T07:52:43.009Z"
   },
   {
    "duration": 31,
    "start_time": "2023-05-24T07:52:49.266Z"
   },
   {
    "duration": 74,
    "start_time": "2023-05-24T08:03:05.161Z"
   },
   {
    "duration": 58,
    "start_time": "2023-05-24T08:03:15.150Z"
   },
   {
    "duration": 66,
    "start_time": "2023-05-24T08:03:25.914Z"
   },
   {
    "duration": 65,
    "start_time": "2023-05-24T08:04:01.462Z"
   },
   {
    "duration": 64,
    "start_time": "2023-05-24T08:04:41.411Z"
   },
   {
    "duration": 16,
    "start_time": "2023-05-24T08:05:34.321Z"
   },
   {
    "duration": 21,
    "start_time": "2023-05-24T08:06:32.187Z"
   },
   {
    "duration": 14,
    "start_time": "2023-05-24T08:06:36.521Z"
   },
   {
    "duration": 16,
    "start_time": "2023-05-24T08:06:41.914Z"
   },
   {
    "duration": 15,
    "start_time": "2023-05-24T08:06:44.386Z"
   },
   {
    "duration": 24,
    "start_time": "2023-05-24T08:06:48.255Z"
   },
   {
    "duration": 17,
    "start_time": "2023-05-24T08:07:43.081Z"
   },
   {
    "duration": 92,
    "start_time": "2023-05-24T08:10:17.139Z"
   },
   {
    "duration": 1891,
    "start_time": "2023-05-24T08:10:29.120Z"
   },
   {
    "duration": 2342,
    "start_time": "2023-05-24T08:11:18.150Z"
   },
   {
    "duration": 67,
    "start_time": "2023-05-24T08:12:23.052Z"
   },
   {
    "duration": 1761,
    "start_time": "2023-05-24T08:12:27.858Z"
   },
   {
    "duration": 1826,
    "start_time": "2023-05-24T08:13:14.450Z"
   },
   {
    "duration": 1855,
    "start_time": "2023-05-24T08:14:43.780Z"
   },
   {
    "duration": 70,
    "start_time": "2023-05-24T08:15:12.109Z"
   },
   {
    "duration": 815,
    "start_time": "2023-05-24T08:15:16.019Z"
   },
   {
    "duration": 67,
    "start_time": "2023-05-24T08:15:39.023Z"
   },
   {
    "duration": 1764,
    "start_time": "2023-05-24T08:15:47.262Z"
   },
   {
    "duration": 1938,
    "start_time": "2023-05-24T08:16:17.364Z"
   },
   {
    "duration": 75,
    "start_time": "2023-05-24T08:16:31.062Z"
   },
   {
    "duration": 980,
    "start_time": "2023-05-24T08:16:33.994Z"
   },
   {
    "duration": 1112,
    "start_time": "2023-05-24T08:17:08.657Z"
   },
   {
    "duration": 1123,
    "start_time": "2023-05-24T08:18:06.173Z"
   },
   {
    "duration": 1075,
    "start_time": "2023-05-24T08:18:12.876Z"
   },
   {
    "duration": 1880,
    "start_time": "2023-05-24T09:22:32.628Z"
   },
   {
    "duration": 69,
    "start_time": "2023-05-24T09:23:04.065Z"
   },
   {
    "duration": 1912,
    "start_time": "2023-05-24T09:23:19.701Z"
   },
   {
    "duration": 2208,
    "start_time": "2023-05-24T09:25:49.489Z"
   },
   {
    "duration": 2152,
    "start_time": "2023-05-24T09:26:34.682Z"
   },
   {
    "duration": 2333,
    "start_time": "2023-05-24T09:27:44.503Z"
   },
   {
    "duration": 2572,
    "start_time": "2023-05-24T09:28:33.209Z"
   },
   {
    "duration": 1030,
    "start_time": "2023-05-24T09:29:10.757Z"
   },
   {
    "duration": 1080,
    "start_time": "2023-05-24T09:29:46.089Z"
   },
   {
    "duration": 104,
    "start_time": "2023-05-24T09:30:13.333Z"
   },
   {
    "duration": 1113,
    "start_time": "2023-05-24T09:30:22.687Z"
   },
   {
    "duration": 64,
    "start_time": "2023-05-24T09:31:12.073Z"
   },
   {
    "duration": 70,
    "start_time": "2023-05-24T09:31:18.410Z"
   },
   {
    "duration": 60,
    "start_time": "2023-05-24T09:32:32.780Z"
   },
   {
    "duration": 268,
    "start_time": "2023-05-24T09:32:41.103Z"
   },
   {
    "duration": 1136,
    "start_time": "2023-05-24T09:34:20.160Z"
   },
   {
    "duration": 62,
    "start_time": "2023-05-24T09:35:41.882Z"
   },
   {
    "duration": 59,
    "start_time": "2023-05-24T09:36:06.256Z"
   },
   {
    "duration": 63,
    "start_time": "2023-05-24T09:36:20.054Z"
   },
   {
    "duration": 279,
    "start_time": "2023-05-24T09:36:50.160Z"
   },
   {
    "duration": 350,
    "start_time": "2023-05-24T09:37:18.561Z"
   },
   {
    "duration": 379,
    "start_time": "2023-05-24T09:38:05.638Z"
   },
   {
    "duration": 65,
    "start_time": "2023-05-24T09:38:39.990Z"
   },
   {
    "duration": 111,
    "start_time": "2023-05-24T09:38:48.205Z"
   },
   {
    "duration": 393,
    "start_time": "2023-05-24T09:38:55.957Z"
   },
   {
    "duration": 66,
    "start_time": "2023-05-24T09:39:35.349Z"
   },
   {
    "duration": 91,
    "start_time": "2023-05-24T09:40:02.769Z"
   },
   {
    "duration": 1103,
    "start_time": "2023-05-24T09:41:58.787Z"
   },
   {
    "duration": 991,
    "start_time": "2023-05-24T09:46:15.620Z"
   },
   {
    "duration": 1340,
    "start_time": "2023-05-24T09:47:21.054Z"
   },
   {
    "duration": 1294,
    "start_time": "2023-05-24T09:47:36.767Z"
   },
   {
    "duration": 1279,
    "start_time": "2023-05-24T09:47:44.703Z"
   },
   {
    "duration": 1303,
    "start_time": "2023-05-24T09:47:50.253Z"
   },
   {
    "duration": 1016,
    "start_time": "2023-05-24T09:48:07.157Z"
   },
   {
    "duration": 504,
    "start_time": "2023-05-24T09:53:21.057Z"
   },
   {
    "duration": 67,
    "start_time": "2023-05-24T09:54:20.026Z"
   },
   {
    "duration": 493,
    "start_time": "2023-05-24T09:54:28.553Z"
   },
   {
    "duration": 121,
    "start_time": "2023-05-24T09:55:03.085Z"
   },
   {
    "duration": 97,
    "start_time": "2023-05-24T09:55:06.386Z"
   },
   {
    "duration": 490,
    "start_time": "2023-05-24T09:56:15.749Z"
   },
   {
    "duration": 68,
    "start_time": "2023-05-24T09:57:40.272Z"
   },
   {
    "duration": 62,
    "start_time": "2023-05-24T09:57:48.649Z"
   },
   {
    "duration": 98,
    "start_time": "2023-05-24T09:57:55.761Z"
   },
   {
    "duration": 79,
    "start_time": "2023-05-24T09:58:05.162Z"
   },
   {
    "duration": 504,
    "start_time": "2023-05-24T09:58:39.977Z"
   },
   {
    "duration": 446,
    "start_time": "2023-05-24T10:00:24.400Z"
   },
   {
    "duration": 319,
    "start_time": "2023-05-24T10:02:43.902Z"
   },
   {
    "duration": 400,
    "start_time": "2023-05-24T10:03:09.077Z"
   },
   {
    "duration": 316,
    "start_time": "2023-05-24T10:03:32.080Z"
   },
   {
    "duration": 321,
    "start_time": "2023-05-24T10:03:49.089Z"
   },
   {
    "duration": 348,
    "start_time": "2023-05-24T10:04:23.665Z"
   },
   {
    "duration": 84,
    "start_time": "2023-05-24T10:05:15.249Z"
   },
   {
    "duration": 322,
    "start_time": "2023-05-24T10:05:24.890Z"
   },
   {
    "duration": 385,
    "start_time": "2023-05-24T10:05:41.977Z"
   },
   {
    "duration": 309,
    "start_time": "2023-05-24T10:06:22.065Z"
   },
   {
    "duration": 356,
    "start_time": "2023-05-24T10:07:04.082Z"
   },
   {
    "duration": 445,
    "start_time": "2023-05-24T10:07:53.602Z"
   },
   {
    "duration": 70,
    "start_time": "2023-05-24T10:09:01.461Z"
   },
   {
    "duration": 449,
    "start_time": "2023-05-24T10:09:15.149Z"
   },
   {
    "duration": 451,
    "start_time": "2023-05-24T10:10:24.810Z"
   },
   {
    "duration": 530,
    "start_time": "2023-05-24T10:12:44.610Z"
   },
   {
    "duration": 502,
    "start_time": "2023-05-24T10:13:10.821Z"
   },
   {
    "duration": 395,
    "start_time": "2023-05-24T10:14:22.699Z"
   },
   {
    "duration": 380,
    "start_time": "2023-05-24T10:16:11.566Z"
   },
   {
    "duration": 68,
    "start_time": "2023-05-24T10:26:32.497Z"
   },
   {
    "duration": 62,
    "start_time": "2023-05-24T10:26:54.314Z"
   },
   {
    "duration": 62,
    "start_time": "2023-05-24T10:27:09.383Z"
   },
   {
    "duration": 63,
    "start_time": "2023-05-24T10:27:25.410Z"
   },
   {
    "duration": 118,
    "start_time": "2023-05-24T10:29:36.661Z"
   },
   {
    "duration": 62,
    "start_time": "2023-05-24T10:29:50.770Z"
   },
   {
    "duration": 64,
    "start_time": "2023-05-24T10:30:38.158Z"
   },
   {
    "duration": 1143,
    "start_time": "2023-05-24T10:31:18.197Z"
   },
   {
    "duration": 62,
    "start_time": "2023-05-24T10:31:30.212Z"
   },
   {
    "duration": 22,
    "start_time": "2023-05-24T10:32:38.220Z"
   },
   {
    "duration": 142,
    "start_time": "2023-05-24T10:33:26.697Z"
   },
   {
    "duration": 147,
    "start_time": "2023-05-24T10:34:02.762Z"
   },
   {
    "duration": 168,
    "start_time": "2023-05-24T10:34:36.523Z"
   },
   {
    "duration": 100,
    "start_time": "2023-05-24T10:34:58.382Z"
   },
   {
    "duration": 76,
    "start_time": "2023-05-24T10:35:04.287Z"
   },
   {
    "duration": 88,
    "start_time": "2023-05-24T10:35:54.873Z"
   },
   {
    "duration": 150,
    "start_time": "2023-05-24T10:36:11.499Z"
   },
   {
    "duration": 84,
    "start_time": "2023-05-24T10:36:15.323Z"
   },
   {
    "duration": 116,
    "start_time": "2023-05-24T10:36:52.914Z"
   },
   {
    "duration": 188,
    "start_time": "2023-05-24T10:37:00.120Z"
   },
   {
    "duration": 146,
    "start_time": "2023-05-24T10:37:07.973Z"
   },
   {
    "duration": 86,
    "start_time": "2023-05-24T10:37:10.449Z"
   },
   {
    "duration": 82,
    "start_time": "2023-05-24T10:43:28.861Z"
   },
   {
    "duration": 4,
    "start_time": "2023-05-24T10:43:53.158Z"
   },
   {
    "duration": 104,
    "start_time": "2023-05-24T10:43:56.702Z"
   },
   {
    "duration": 105,
    "start_time": "2023-05-24T10:44:24.484Z"
   },
   {
    "duration": 96,
    "start_time": "2023-05-24T10:44:32.266Z"
   },
   {
    "duration": 119,
    "start_time": "2023-05-24T10:45:09.349Z"
   },
   {
    "duration": 92,
    "start_time": "2023-05-24T10:45:20.170Z"
   },
   {
    "duration": 89,
    "start_time": "2023-05-24T10:47:29.961Z"
   },
   {
    "duration": 84,
    "start_time": "2023-05-24T10:47:37.681Z"
   },
   {
    "duration": 84,
    "start_time": "2023-05-24T10:47:55.662Z"
   },
   {
    "duration": 56,
    "start_time": "2023-05-24T10:48:33.258Z"
   },
   {
    "duration": 71,
    "start_time": "2023-05-24T10:48:36.388Z"
   },
   {
    "duration": 47,
    "start_time": "2023-05-24T10:48:48.362Z"
   },
   {
    "duration": 43,
    "start_time": "2023-05-24T10:48:53.266Z"
   },
   {
    "duration": 46,
    "start_time": "2023-05-24T10:49:51.453Z"
   },
   {
    "duration": 50,
    "start_time": "2023-05-24T10:50:00.170Z"
   },
   {
    "duration": 53,
    "start_time": "2023-05-24T10:50:16.762Z"
   },
   {
    "duration": 50,
    "start_time": "2023-05-24T10:50:23.257Z"
   },
   {
    "duration": 54,
    "start_time": "2023-05-24T10:50:51.958Z"
   },
   {
    "duration": 94,
    "start_time": "2023-05-24T10:51:01.701Z"
   },
   {
    "duration": 78,
    "start_time": "2023-05-24T10:51:12.121Z"
   },
   {
    "duration": 105,
    "start_time": "2023-05-24T10:51:42.561Z"
   },
   {
    "duration": 87,
    "start_time": "2023-05-24T10:52:04.391Z"
   },
   {
    "duration": 94,
    "start_time": "2023-05-24T10:52:35.366Z"
   },
   {
    "duration": 97,
    "start_time": "2023-05-24T10:54:37.265Z"
   },
   {
    "duration": 94,
    "start_time": "2023-05-24T10:54:52.687Z"
   },
   {
    "duration": 104,
    "start_time": "2023-05-24T10:55:29.261Z"
   },
   {
    "duration": 68,
    "start_time": "2023-05-24T10:57:22.783Z"
   },
   {
    "duration": 1044,
    "start_time": "2023-05-24T10:58:24.669Z"
   },
   {
    "duration": 905,
    "start_time": "2023-05-24T10:58:58.770Z"
   },
   {
    "duration": 227,
    "start_time": "2023-05-24T10:59:08.767Z"
   },
   {
    "duration": 72,
    "start_time": "2023-05-24T10:59:28.375Z"
   },
   {
    "duration": 228,
    "start_time": "2023-05-24T10:59:42.850Z"
   },
   {
    "duration": 68,
    "start_time": "2023-05-24T11:00:29.159Z"
   },
   {
    "duration": 87,
    "start_time": "2023-05-24T11:00:39.888Z"
   },
   {
    "duration": 235,
    "start_time": "2023-05-24T11:00:43.796Z"
   },
   {
    "duration": 98,
    "start_time": "2023-05-24T11:02:06.287Z"
   },
   {
    "duration": 73,
    "start_time": "2023-05-24T11:03:14.424Z"
   },
   {
    "duration": 67,
    "start_time": "2023-05-24T11:04:27.679Z"
   },
   {
    "duration": 67,
    "start_time": "2023-05-24T11:04:32.893Z"
   },
   {
    "duration": 68,
    "start_time": "2023-05-24T11:04:36.589Z"
   },
   {
    "duration": 64,
    "start_time": "2023-05-24T11:04:42.900Z"
   },
   {
    "duration": 107,
    "start_time": "2023-05-24T11:04:53.322Z"
   },
   {
    "duration": 83,
    "start_time": "2023-05-24T11:05:55.486Z"
   },
   {
    "duration": 99,
    "start_time": "2023-05-24T11:06:36.452Z"
   },
   {
    "duration": 102,
    "start_time": "2023-05-24T11:07:07.369Z"
   },
   {
    "duration": 101,
    "start_time": "2023-05-24T11:07:42.551Z"
   },
   {
    "duration": 101,
    "start_time": "2023-05-24T11:07:59.154Z"
   },
   {
    "duration": 1199,
    "start_time": "2023-05-24T11:08:22.793Z"
   },
   {
    "duration": 3,
    "start_time": "2023-05-24T11:08:23.994Z"
   },
   {
    "duration": 4710,
    "start_time": "2023-05-24T11:08:23.998Z"
   },
   {
    "duration": 51,
    "start_time": "2023-05-24T11:08:28.710Z"
   },
   {
    "duration": 17,
    "start_time": "2023-05-24T11:08:28.764Z"
   },
   {
    "duration": 226,
    "start_time": "2023-05-24T11:08:28.783Z"
   },
   {
    "duration": 127,
    "start_time": "2023-05-24T11:08:29.010Z"
   },
   {
    "duration": 4,
    "start_time": "2023-05-24T11:08:29.139Z"
   },
   {
    "duration": 158,
    "start_time": "2023-05-24T11:08:29.145Z"
   },
   {
    "duration": 1248,
    "start_time": "2023-05-24T11:08:29.305Z"
   },
   {
    "duration": 67,
    "start_time": "2023-05-24T11:08:30.555Z"
   },
   {
    "duration": 55,
    "start_time": "2023-05-24T11:08:30.624Z"
   },
   {
    "duration": 1179,
    "start_time": "2023-05-24T11:08:30.681Z"
   },
   {
    "duration": 472,
    "start_time": "2023-05-24T11:08:31.863Z"
   },
   {
    "duration": 427,
    "start_time": "2023-05-24T11:08:32.336Z"
   },
   {
    "duration": 64,
    "start_time": "2023-05-24T11:08:32.765Z"
   },
   {
    "duration": 102,
    "start_time": "2023-05-24T11:08:32.831Z"
   },
   {
    "duration": 95,
    "start_time": "2023-05-24T11:08:32.934Z"
   },
   {
    "duration": 1383,
    "start_time": "2023-05-24T11:38:12.561Z"
   },
   {
    "duration": 4,
    "start_time": "2023-05-24T11:38:13.946Z"
   },
   {
    "duration": 11880,
    "start_time": "2023-05-24T11:38:13.952Z"
   },
   {
    "duration": 39,
    "start_time": "2023-05-24T11:38:25.833Z"
   },
   {
    "duration": 14,
    "start_time": "2023-05-24T11:38:25.877Z"
   },
   {
    "duration": 225,
    "start_time": "2023-05-24T11:38:25.893Z"
   },
   {
    "duration": 130,
    "start_time": "2023-05-24T11:38:26.120Z"
   },
   {
    "duration": 3,
    "start_time": "2023-05-24T11:38:26.252Z"
   },
   {
    "duration": 163,
    "start_time": "2023-05-24T11:38:26.257Z"
   },
   {
    "duration": 1206,
    "start_time": "2023-05-24T11:38:26.422Z"
   },
   {
    "duration": 62,
    "start_time": "2023-05-24T11:38:27.630Z"
   },
   {
    "duration": 29,
    "start_time": "2023-05-24T11:38:27.693Z"
   },
   {
    "duration": 1159,
    "start_time": "2023-05-24T11:38:27.724Z"
   },
   {
    "duration": 446,
    "start_time": "2023-05-24T11:38:28.886Z"
   },
   {
    "duration": 445,
    "start_time": "2023-05-24T11:38:29.334Z"
   },
   {
    "duration": 61,
    "start_time": "2023-05-24T11:38:29.781Z"
   },
   {
    "duration": 108,
    "start_time": "2023-05-24T11:38:29.844Z"
   },
   {
    "duration": 98,
    "start_time": "2023-05-24T11:38:29.953Z"
   },
   {
    "duration": 35,
    "start_time": "2023-05-24T11:41:35.042Z"
   },
   {
    "duration": 32,
    "start_time": "2023-05-24T11:42:00.788Z"
   },
   {
    "duration": 35,
    "start_time": "2023-05-24T11:42:15.462Z"
   },
   {
    "duration": 458,
    "start_time": "2023-05-24T11:43:04.618Z"
   },
   {
    "duration": 96,
    "start_time": "2023-05-24T11:45:52.110Z"
   },
   {
    "duration": 97,
    "start_time": "2023-05-24T11:45:52.909Z"
   },
   {
    "duration": 98,
    "start_time": "2023-05-24T11:45:53.487Z"
   },
   {
    "duration": 1290,
    "start_time": "2023-05-24T11:46:11.548Z"
   },
   {
    "duration": 3,
    "start_time": "2023-05-24T11:46:12.840Z"
   },
   {
    "duration": 12636,
    "start_time": "2023-05-24T11:46:12.844Z"
   },
   {
    "duration": 36,
    "start_time": "2023-05-24T11:46:25.482Z"
   },
   {
    "duration": 15,
    "start_time": "2023-05-24T11:46:25.520Z"
   },
   {
    "duration": 218,
    "start_time": "2023-05-24T11:46:25.537Z"
   },
   {
    "duration": 129,
    "start_time": "2023-05-24T11:46:25.756Z"
   },
   {
    "duration": 3,
    "start_time": "2023-05-24T11:46:25.887Z"
   },
   {
    "duration": 161,
    "start_time": "2023-05-24T11:46:25.892Z"
   },
   {
    "duration": 1263,
    "start_time": "2023-05-24T11:46:26.055Z"
   },
   {
    "duration": 62,
    "start_time": "2023-05-24T11:46:27.319Z"
   },
   {
    "duration": 29,
    "start_time": "2023-05-24T11:46:27.383Z"
   },
   {
    "duration": 1179,
    "start_time": "2023-05-24T11:46:27.414Z"
   },
   {
    "duration": 444,
    "start_time": "2023-05-24T11:46:28.596Z"
   },
   {
    "duration": 427,
    "start_time": "2023-05-24T11:46:29.042Z"
   },
   {
    "duration": 63,
    "start_time": "2023-05-24T11:46:29.471Z"
   },
   {
    "duration": 107,
    "start_time": "2023-05-24T11:46:29.536Z"
   },
   {
    "duration": 99,
    "start_time": "2023-05-24T11:46:29.645Z"
   },
   {
    "duration": 1485,
    "start_time": "2023-05-24T17:25:05.099Z"
   },
   {
    "duration": 3,
    "start_time": "2023-05-24T17:25:06.587Z"
   },
   {
    "duration": 5499,
    "start_time": "2023-05-24T17:25:06.593Z"
   },
   {
    "duration": 38,
    "start_time": "2023-05-24T17:25:12.094Z"
   },
   {
    "duration": 20,
    "start_time": "2023-05-24T17:25:12.133Z"
   },
   {
    "duration": 240,
    "start_time": "2023-05-24T17:25:12.155Z"
   },
   {
    "duration": 132,
    "start_time": "2023-05-24T17:25:12.397Z"
   },
   {
    "duration": 4,
    "start_time": "2023-05-24T17:25:12.530Z"
   },
   {
    "duration": 164,
    "start_time": "2023-05-24T17:25:12.536Z"
   },
   {
    "duration": 1282,
    "start_time": "2023-05-24T17:25:12.703Z"
   },
   {
    "duration": 70,
    "start_time": "2023-05-24T17:25:13.987Z"
   },
   {
    "duration": 32,
    "start_time": "2023-05-24T17:25:14.059Z"
   },
   {
    "duration": 31,
    "start_time": "2023-05-24T17:25:23.455Z"
   },
   {
    "duration": 31,
    "start_time": "2023-05-24T17:26:30.517Z"
   },
   {
    "duration": 31,
    "start_time": "2023-05-24T17:28:31.513Z"
   },
   {
    "duration": 31,
    "start_time": "2023-05-24T17:29:05.244Z"
   },
   {
    "duration": 33,
    "start_time": "2023-05-24T17:29:51.433Z"
   },
   {
    "duration": 31,
    "start_time": "2023-05-24T17:31:10.467Z"
   },
   {
    "duration": 455,
    "start_time": "2023-05-24T17:31:52.159Z"
   },
   {
    "duration": 1287,
    "start_time": "2023-05-24T17:42:16.844Z"
   },
   {
    "duration": 4,
    "start_time": "2023-05-24T17:42:18.133Z"
   },
   {
    "duration": 4968,
    "start_time": "2023-05-24T17:42:18.139Z"
   },
   {
    "duration": 35,
    "start_time": "2023-05-24T17:42:23.110Z"
   },
   {
    "duration": 14,
    "start_time": "2023-05-24T17:42:23.147Z"
   },
   {
    "duration": 832,
    "start_time": "2023-05-24T17:42:23.162Z"
   },
   {
    "duration": 130,
    "start_time": "2023-05-24T17:42:23.996Z"
   },
   {
    "duration": 5,
    "start_time": "2023-05-24T17:42:24.128Z"
   },
   {
    "duration": 165,
    "start_time": "2023-05-24T17:42:24.134Z"
   },
   {
    "duration": 1612,
    "start_time": "2023-05-24T17:42:24.302Z"
   },
   {
    "duration": 64,
    "start_time": "2023-05-24T17:42:25.916Z"
   },
   {
    "duration": 3,
    "start_time": "2023-05-24T17:42:25.982Z"
   },
   {
    "duration": 33,
    "start_time": "2023-05-24T17:42:25.987Z"
   },
   {
    "duration": 1122,
    "start_time": "2023-05-24T17:42:26.022Z"
   },
   {
    "duration": 443,
    "start_time": "2023-05-24T17:42:27.145Z"
   },
   {
    "duration": 400,
    "start_time": "2023-05-24T17:42:27.591Z"
   },
   {
    "duration": 64,
    "start_time": "2023-05-24T17:42:27.992Z"
   },
   {
    "duration": 116,
    "start_time": "2023-05-24T17:42:28.058Z"
   },
   {
    "duration": 98,
    "start_time": "2023-05-24T17:42:28.176Z"
   },
   {
    "duration": 1216,
    "start_time": "2023-05-24T21:25:24.459Z"
   },
   {
    "duration": 3,
    "start_time": "2023-05-24T21:25:25.677Z"
   },
   {
    "duration": 10339,
    "start_time": "2023-05-24T21:25:25.682Z"
   },
   {
    "duration": 211,
    "start_time": "2023-05-24T21:25:36.023Z"
   },
   {
    "duration": 12,
    "start_time": "2023-05-24T21:25:36.236Z"
   },
   {
    "duration": 247,
    "start_time": "2023-05-24T21:25:36.249Z"
   },
   {
    "duration": 156,
    "start_time": "2023-05-24T21:25:36.498Z"
   },
   {
    "duration": 4,
    "start_time": "2023-05-24T21:25:36.655Z"
   },
   {
    "duration": 184,
    "start_time": "2023-05-24T21:25:36.660Z"
   },
   {
    "duration": 1201,
    "start_time": "2023-05-24T21:25:36.846Z"
   },
   {
    "duration": 91,
    "start_time": "2023-05-24T21:25:38.048Z"
   },
   {
    "duration": 3,
    "start_time": "2023-05-24T21:25:38.140Z"
   },
   {
    "duration": 77,
    "start_time": "2023-05-24T21:25:38.144Z"
   },
   {
    "duration": 1130,
    "start_time": "2023-05-24T21:25:38.224Z"
   },
   {
    "duration": 484,
    "start_time": "2023-05-24T21:25:39.356Z"
   },
   {
    "duration": 358,
    "start_time": "2023-05-24T21:25:39.842Z"
   },
   {
    "duration": 91,
    "start_time": "2023-05-24T21:25:40.202Z"
   },
   {
    "duration": 93,
    "start_time": "2023-05-24T21:25:40.295Z"
   },
   {
    "duration": 131,
    "start_time": "2023-05-24T21:25:40.390Z"
   },
   {
    "duration": 62,
    "start_time": "2023-05-24T21:32:42.252Z"
   },
   {
    "duration": 1317,
    "start_time": "2023-05-24T21:34:16.456Z"
   },
   {
    "duration": 4,
    "start_time": "2023-05-24T21:34:17.775Z"
   },
   {
    "duration": 8244,
    "start_time": "2023-05-24T21:34:17.780Z"
   },
   {
    "duration": 213,
    "start_time": "2023-05-24T21:34:26.025Z"
   },
   {
    "duration": 14,
    "start_time": "2023-05-24T21:34:26.241Z"
   },
   {
    "duration": 257,
    "start_time": "2023-05-24T21:34:26.256Z"
   },
   {
    "duration": 157,
    "start_time": "2023-05-24T21:34:26.515Z"
   },
   {
    "duration": 5,
    "start_time": "2023-05-24T21:34:26.674Z"
   },
   {
    "duration": 193,
    "start_time": "2023-05-24T21:34:26.681Z"
   },
   {
    "duration": 1267,
    "start_time": "2023-05-24T21:34:26.876Z"
   },
   {
    "duration": 92,
    "start_time": "2023-05-24T21:34:28.144Z"
   },
   {
    "duration": 2,
    "start_time": "2023-05-24T21:34:28.237Z"
   },
   {
    "duration": 88,
    "start_time": "2023-05-24T21:34:28.241Z"
   },
   {
    "duration": 1190,
    "start_time": "2023-05-24T21:34:28.331Z"
   },
   {
    "duration": 473,
    "start_time": "2023-05-24T21:34:29.523Z"
   },
   {
    "duration": 375,
    "start_time": "2023-05-24T21:34:29.998Z"
   },
   {
    "duration": 93,
    "start_time": "2023-05-24T21:34:30.375Z"
   },
   {
    "duration": 100,
    "start_time": "2023-05-24T21:34:30.470Z"
   },
   {
    "duration": 126,
    "start_time": "2023-05-24T21:34:30.572Z"
   }
  ],
  "colab": {
   "provenance": []
  },
  "kernelspec": {
   "display_name": "Python 3 (ipykernel)",
   "language": "python",
   "name": "python3"
  },
  "language_info": {
   "codemirror_mode": {
    "name": "ipython",
    "version": 3
   },
   "file_extension": ".py",
   "mimetype": "text/x-python",
   "name": "python",
   "nbconvert_exporter": "python",
   "pygments_lexer": "ipython3",
   "version": "3.9.18"
  },
  "toc": {
   "base_numbering": 1,
   "nav_menu": {},
   "number_sections": true,
   "sideBar": true,
   "skip_h1_title": true,
   "title_cell": "Table of Contents",
   "title_sidebar": "Contents",
   "toc_cell": false,
   "toc_position": {},
   "toc_section_display": true,
   "toc_window_display": false
  }
 },
 "nbformat": 4,
 "nbformat_minor": 1
}
