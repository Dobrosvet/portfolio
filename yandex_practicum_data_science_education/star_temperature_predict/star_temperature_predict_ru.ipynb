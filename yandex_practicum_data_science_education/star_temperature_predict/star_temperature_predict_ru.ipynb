{
 "cells": [
  {
   "cell_type": "markdown",
   "id": "cb9ae69b",
   "metadata": {},
   "source": [
    "# Прогнозирование температуры звезды"
   ]
  },
  {
   "cell_type": "markdown",
   "id": "a31d2c1c",
   "metadata": {},
   "source": [
    "## Описание задачи"
   ]
  },
  {
   "cell_type": "markdown",
   "id": "a973bc4b",
   "metadata": {},
   "source": [
    "- Заказчик, обсерватория «Небо на ладони»\n",
    "- Придумать, как с помощью нейросети определять абсолютную температуру на поверхности обнаруженных звёзд. Улучшить точность предсказания температуры звёзд машинным обучением вместо других методов\n",
    "- Обычно использовались следующие методы (каждый из них имеет плюсы и минусы)\n",
    "    - Закон смещения Вина\n",
    "    - Закон Стефана-Больцмана\n",
    "    - Спектральный анализ\n",
    "- В базе обсерватории есть характеристики уже изученных 240 звёзд\n",
    "- Метрика RMSE должна быть менее 4500\n",
    "- Сделать Baseline и улушченную версию нейронной сети у которой оставить: количество слоёв, нейронов, вид функции активации — оставьте как в Baseline, чтобы сравнить результат"
   ]
  },
  {
   "cell_type": "markdown",
   "id": "10c5c3b0",
   "metadata": {},
   "source": [
    "## Описание данных"
   ]
  },
  {
   "cell_type": "markdown",
   "id": "612b86b0",
   "metadata": {},
   "source": [
    "- Обучающие признаки\n",
    "    - `Luminosity(L/Lo)` — относительная светимость, светимость звезды относительно Солнца\n",
    "    - `Radius(R/Ro)` — относительный радиус, радиус звезды относительно радиуса Солнца\n",
    "    - `Absolute magnitude(Mv)` — абсолютная звёздная величина, физическая величина, характеризующая блеск звезды\n",
    "    - `Star color` — звёздный цвет (`white`, `red`, `blue`, `yellow`, `yellow-orange` и др.), цвет звезды, который определяют на основе спектрального анализа\n",
    "    - `Star type` — Тип звезды\n",
    "        | Тип звезды | Номер, соответствующий типу |\n",
    "        | --- | --- |\n",
    "        | Коричневый карлик | 0 |\n",
    "        | Красный карлик | 1 |\n",
    "        | Белый карлик | 2 |\n",
    "        | Звёзды главной последовательности | 3 |\n",
    "        | Сверхгигант | 4 |\n",
    "        | Гипергигант | 5 |\n",
    "\n",
    "- Целевой признак\n",
    "    - `Temperature T(K)` — абсолютная температура, температура на поверхности звезды в Кельвинах.\n",
    "\n",
    "\n",
    "- Светимость Солнца (англ. *Average Luminosity of Sun*) — $L_0 = 3.828 \\cdot 10^{26}\\,Вт$\n",
    "- Радиус Солнца (англ. *Average Radius of Sun*) — $R_0 = 6.9551\\cdot 10^8\\,м$"
   ]
  },
  {
   "cell_type": "markdown",
   "id": "daf5b698",
   "metadata": {},
   "source": [
    "## Задача в терминах машинного обучения"
   ]
  },
  {
   "cell_type": "markdown",
   "id": "19923d26",
   "metadata": {},
   "source": [
    "- Регрессия\n",
    "- Полносвязная нейронная сеть прямого распространения\n",
    "- Метрика RMSE менее 4500"
   ]
  },
  {
   "cell_type": "markdown",
   "id": "3966990c",
   "metadata": {},
   "source": [
    "## Подключение библиотек"
   ]
  },
  {
   "cell_type": "code",
   "execution_count": 1,
   "id": "a9ce7089",
   "metadata": {},
   "outputs": [],
   "source": [
    "import numpy as np\n",
    "import pandas as pd\n",
    "\n",
    "import matplotlib.pyplot as plt\n",
    "import seaborn as sns\n",
    "\n",
    "import torch\n",
    "import copy\n",
    "import math\n",
    "import random\n",
    "import itertools\n",
    "\n",
    "from math import ceil\n",
    "from torch import nn\n",
    "\n",
    "from sklearn.model_selection import train_test_split\n",
    "from sklearn.preprocessing import OneHotEncoder, StandardScaler\n",
    "\n",
    "from IPython.display import display, Markdown"
   ]
  },
  {
   "cell_type": "code",
   "execution_count": 2,
   "id": "117fb125",
   "metadata": {},
   "outputs": [],
   "source": [
    "RANDOM_STATE = 12345\n",
    "random.seed(0)\n",
    "np.random.seed(0)\n",
    "torch.manual_seed(0)\n",
    "torch.use_deterministic_algorithms(True)"
   ]
  },
  {
   "cell_type": "code",
   "execution_count": 3,
   "id": "caccc871",
   "metadata": {},
   "outputs": [],
   "source": [
    "def rmse(prediction, target):\n",
    "    return ((prediction - target) ** 2).mean() ** 0.5"
   ]
  },
  {
   "cell_type": "markdown",
   "id": "corresponding-armstrong",
   "metadata": {
    "ExecuteTime": {
     "end_time": "2022-05-05T04:58:05.692448Z",
     "start_time": "2022-05-05T04:58:05.688565Z"
    }
   },
   "source": [
    "## Загрузка данных"
   ]
  },
  {
   "cell_type": "code",
   "execution_count": 4,
   "id": "spectacular-folder",
   "metadata": {},
   "outputs": [],
   "source": [
    "df = pd.read_csv('/datasets/6_class.csv', index_col=0)\n",
    "cdf = df.copy() # clear dataframe"
   ]
  },
  {
   "cell_type": "markdown",
   "id": "d9eab91b",
   "metadata": {},
   "source": [
    "## Изучение данных"
   ]
  },
  {
   "cell_type": "code",
   "execution_count": 5,
   "id": "bedca142",
   "metadata": {},
   "outputs": [
    {
     "data": {
      "text/html": [
       "<div>\n",
       "<style scoped>\n",
       "    .dataframe tbody tr th:only-of-type {\n",
       "        vertical-align: middle;\n",
       "    }\n",
       "\n",
       "    .dataframe tbody tr th {\n",
       "        vertical-align: top;\n",
       "    }\n",
       "\n",
       "    .dataframe thead th {\n",
       "        text-align: right;\n",
       "    }\n",
       "</style>\n",
       "<table border=\"1\" class=\"dataframe\">\n",
       "  <thead>\n",
       "    <tr style=\"text-align: right;\">\n",
       "      <th></th>\n",
       "      <th>Temperature (K)</th>\n",
       "      <th>Luminosity(L/Lo)</th>\n",
       "      <th>Radius(R/Ro)</th>\n",
       "      <th>Absolute magnitude(Mv)</th>\n",
       "      <th>Star type</th>\n",
       "      <th>Star color</th>\n",
       "    </tr>\n",
       "  </thead>\n",
       "  <tbody>\n",
       "    <tr>\n",
       "      <th>0</th>\n",
       "      <td>3068</td>\n",
       "      <td>0.002400</td>\n",
       "      <td>0.1700</td>\n",
       "      <td>16.12</td>\n",
       "      <td>0</td>\n",
       "      <td>Red</td>\n",
       "    </tr>\n",
       "    <tr>\n",
       "      <th>1</th>\n",
       "      <td>3042</td>\n",
       "      <td>0.000500</td>\n",
       "      <td>0.1542</td>\n",
       "      <td>16.60</td>\n",
       "      <td>0</td>\n",
       "      <td>Red</td>\n",
       "    </tr>\n",
       "    <tr>\n",
       "      <th>2</th>\n",
       "      <td>2600</td>\n",
       "      <td>0.000300</td>\n",
       "      <td>0.1020</td>\n",
       "      <td>18.70</td>\n",
       "      <td>0</td>\n",
       "      <td>Red</td>\n",
       "    </tr>\n",
       "    <tr>\n",
       "      <th>3</th>\n",
       "      <td>2800</td>\n",
       "      <td>0.000200</td>\n",
       "      <td>0.1600</td>\n",
       "      <td>16.65</td>\n",
       "      <td>0</td>\n",
       "      <td>Red</td>\n",
       "    </tr>\n",
       "    <tr>\n",
       "      <th>4</th>\n",
       "      <td>1939</td>\n",
       "      <td>0.000138</td>\n",
       "      <td>0.1030</td>\n",
       "      <td>20.06</td>\n",
       "      <td>0</td>\n",
       "      <td>Red</td>\n",
       "    </tr>\n",
       "  </tbody>\n",
       "</table>\n",
       "</div>"
      ],
      "text/plain": [
       "   Temperature (K)  Luminosity(L/Lo)  Radius(R/Ro)  Absolute magnitude(Mv)  \\\n",
       "0             3068          0.002400        0.1700                   16.12   \n",
       "1             3042          0.000500        0.1542                   16.60   \n",
       "2             2600          0.000300        0.1020                   18.70   \n",
       "3             2800          0.000200        0.1600                   16.65   \n",
       "4             1939          0.000138        0.1030                   20.06   \n",
       "\n",
       "   Star type Star color  \n",
       "0          0        Red  \n",
       "1          0        Red  \n",
       "2          0        Red  \n",
       "3          0        Red  \n",
       "4          0        Red  "
      ]
     },
     "execution_count": 5,
     "metadata": {},
     "output_type": "execute_result"
    }
   ],
   "source": [
    "df.head()"
   ]
  },
  {
   "cell_type": "code",
   "execution_count": 6,
   "id": "61182a18",
   "metadata": {},
   "outputs": [
    {
     "name": "stdout",
     "output_type": "stream",
     "text": [
      "<class 'pandas.core.frame.DataFrame'>\n",
      "Int64Index: 240 entries, 0 to 239\n",
      "Data columns (total 6 columns):\n",
      " #   Column                  Non-Null Count  Dtype  \n",
      "---  ------                  --------------  -----  \n",
      " 0   Temperature (K)         240 non-null    int64  \n",
      " 1   Luminosity(L/Lo)        240 non-null    float64\n",
      " 2   Radius(R/Ro)            240 non-null    float64\n",
      " 3   Absolute magnitude(Mv)  240 non-null    float64\n",
      " 4   Star type               240 non-null    int64  \n",
      " 5   Star color              240 non-null    object \n",
      "dtypes: float64(3), int64(2), object(1)\n",
      "memory usage: 13.1+ KB\n"
     ]
    }
   ],
   "source": [
    "df.info()"
   ]
  },
  {
   "cell_type": "markdown",
   "id": "simple-subdivision",
   "metadata": {},
   "source": [
    "## Предобработка данных"
   ]
  },
  {
   "cell_type": "code",
   "execution_count": 7,
   "id": "f1d20053",
   "metadata": {},
   "outputs": [
    {
     "data": {
      "text/plain": [
       "Index(['Temperature (K)', 'Luminosity(L/Lo)', 'Radius(R/Ro)',\n",
       "       'Absolute magnitude(Mv)', 'Star type', 'Star color'],\n",
       "      dtype='object')"
      ]
     },
     "execution_count": 7,
     "metadata": {},
     "output_type": "execute_result"
    }
   ],
   "source": [
    "cdf.columns"
   ]
  },
  {
   "cell_type": "markdown",
   "id": "7be8ccbf",
   "metadata": {},
   "source": [
    "Переименуем столбцы для единства стиля и простоты доступа"
   ]
  },
  {
   "cell_type": "code",
   "execution_count": 8,
   "id": "f16c5042",
   "metadata": {},
   "outputs": [],
   "source": [
    "cdf.columns = ['temperature', 'luminosity', 'radius', 'absolute_magnitude', 'star_type', 'star_color']"
   ]
  },
  {
   "cell_type": "code",
   "execution_count": 9,
   "id": "5e73bf56",
   "metadata": {},
   "outputs": [
    {
     "data": {
      "text/plain": [
       "array([0, 1, 2, 3, 4, 5])"
      ]
     },
     "execution_count": 9,
     "metadata": {},
     "output_type": "execute_result"
    }
   ],
   "source": [
    "cdf.star_type.unique()"
   ]
  },
  {
   "cell_type": "code",
   "execution_count": 10,
   "id": "2fab3f7d",
   "metadata": {},
   "outputs": [
    {
     "data": {
      "text/plain": [
       "array(['Red', 'Blue White', 'White', 'Yellowish White', 'Blue white',\n",
       "       'Pale yellow orange', 'Blue', 'Blue-white', 'Whitish',\n",
       "       'yellow-white', 'Orange', 'White-Yellow', 'white', 'Blue ',\n",
       "       'yellowish', 'Yellowish', 'Orange-Red', 'Blue white ',\n",
       "       'Blue-White'], dtype=object)"
      ]
     },
     "execution_count": 10,
     "metadata": {},
     "output_type": "execute_result"
    }
   ],
   "source": [
    "cdf.star_color.unique()"
   ]
  },
  {
   "cell_type": "markdown",
   "id": "9d87d173",
   "metadata": {},
   "source": [
    "В колонке цвета есть неявные дубликаты, исправим их"
   ]
  },
  {
   "cell_type": "code",
   "execution_count": 11,
   "id": "94cfcca1",
   "metadata": {},
   "outputs": [],
   "source": [
    "cdf.star_color = cdf.star_color.str.lower().str.replace('-', ' ').str.strip()"
   ]
  },
  {
   "cell_type": "code",
   "execution_count": 12,
   "id": "f2867085",
   "metadata": {},
   "outputs": [
    {
     "data": {
      "text/plain": [
       "array(['red', 'blue white', 'white', 'yellowish white',\n",
       "       'pale yellow orange', 'blue', 'whitish', 'yellow white', 'orange',\n",
       "       'white yellow', 'yellowish', 'orange red'], dtype=object)"
      ]
     },
     "execution_count": 12,
     "metadata": {},
     "output_type": "execute_result"
    }
   ],
   "source": [
    "cdf.star_color.unique()"
   ]
  },
  {
   "cell_type": "markdown",
   "id": "229f9c8d",
   "metadata": {},
   "source": [
    "После попыток обучения нейросети, обнаружилось что данные могут быть не в порядке в этих обозначениях цветов, они не соответствуют принятым [Stellar classification — Harvard spectral classification](https://en.wikipedia.org/wiki/Stellar_classification#Harvard_spectral_classification)"
   ]
  },
  {
   "cell_type": "code",
   "execution_count": 13,
   "id": "2baab38f",
   "metadata": {},
   "outputs": [],
   "source": [
    "def set_star_color(t):\n",
    "    if 30_000 <= t:\n",
    "        return 'blue'\n",
    "    elif 10_000 <= t < 30_000:\n",
    "        return 'blue white'\n",
    "    elif 7_500 <= t < 10_000:\n",
    "        return 'white'\n",
    "    elif 6_000 <= t < 7_500:\n",
    "        return 'yellow white'\n",
    "    elif 5_200 <= t < 6_000:\n",
    "        return 'yellow'\n",
    "    elif 3_700 <= t < 5_200:\n",
    "        return 'light orange'\n",
    "    else:\n",
    "        return 'orange red'"
   ]
  },
  {
   "cell_type": "code",
   "execution_count": 14,
   "id": "754743b7",
   "metadata": {},
   "outputs": [],
   "source": [
    "cdf.star_color = cdf.temperature.apply(set_star_color)"
   ]
  },
  {
   "cell_type": "code",
   "execution_count": 15,
   "id": "edafdde3",
   "metadata": {},
   "outputs": [
    {
     "data": {
      "text/plain": [
       "array(['orange red', 'blue white', 'white', 'yellow white', 'blue',\n",
       "       'yellow', 'light orange'], dtype=object)"
      ]
     },
     "execution_count": 15,
     "metadata": {},
     "output_type": "execute_result"
    }
   ],
   "source": [
    "cdf.star_color.unique()"
   ]
  },
  {
   "cell_type": "markdown",
   "id": "470f3b52",
   "metadata": {},
   "source": [
    "Проверка на пропуски"
   ]
  },
  {
   "cell_type": "code",
   "execution_count": 16,
   "id": "77d5a4fe",
   "metadata": {},
   "outputs": [
    {
     "data": {
      "text/html": [
       "<div>\n",
       "<style scoped>\n",
       "    .dataframe tbody tr th:only-of-type {\n",
       "        vertical-align: middle;\n",
       "    }\n",
       "\n",
       "    .dataframe tbody tr th {\n",
       "        vertical-align: top;\n",
       "    }\n",
       "\n",
       "    .dataframe thead th {\n",
       "        text-align: right;\n",
       "    }\n",
       "</style>\n",
       "<table border=\"1\" class=\"dataframe\">\n",
       "  <thead>\n",
       "    <tr style=\"text-align: right;\">\n",
       "      <th></th>\n",
       "      <th>0</th>\n",
       "    </tr>\n",
       "  </thead>\n",
       "  <tbody>\n",
       "    <tr>\n",
       "      <th>temperature</th>\n",
       "      <td>0</td>\n",
       "    </tr>\n",
       "    <tr>\n",
       "      <th>luminosity</th>\n",
       "      <td>0</td>\n",
       "    </tr>\n",
       "    <tr>\n",
       "      <th>radius</th>\n",
       "      <td>0</td>\n",
       "    </tr>\n",
       "    <tr>\n",
       "      <th>absolute_magnitude</th>\n",
       "      <td>0</td>\n",
       "    </tr>\n",
       "    <tr>\n",
       "      <th>star_type</th>\n",
       "      <td>0</td>\n",
       "    </tr>\n",
       "    <tr>\n",
       "      <th>star_color</th>\n",
       "      <td>0</td>\n",
       "    </tr>\n",
       "  </tbody>\n",
       "</table>\n",
       "</div>"
      ],
      "text/plain": [
       "                    0\n",
       "temperature         0\n",
       "luminosity          0\n",
       "radius              0\n",
       "absolute_magnitude  0\n",
       "star_type           0\n",
       "star_color          0"
      ]
     },
     "execution_count": 16,
     "metadata": {},
     "output_type": "execute_result"
    }
   ],
   "source": [
    "cdf.isna().sum().to_frame()"
   ]
  },
  {
   "cell_type": "markdown",
   "id": "0e54f6b7",
   "metadata": {},
   "source": [
    "Проверка на явные дубликаты"
   ]
  },
  {
   "cell_type": "code",
   "execution_count": 17,
   "id": "0c31ee68",
   "metadata": {},
   "outputs": [
    {
     "data": {
      "text/plain": [
       "0"
      ]
     },
     "execution_count": 17,
     "metadata": {},
     "output_type": "execute_result"
    }
   ],
   "source": [
    "df.duplicated().sum()"
   ]
  },
  {
   "cell_type": "markdown",
   "id": "c657427d",
   "metadata": {},
   "source": [
    "## Анализ данных"
   ]
  },
  {
   "cell_type": "code",
   "execution_count": 18,
   "id": "00b06fc1",
   "metadata": {},
   "outputs": [
    {
     "data": {
      "image/png": "[encoded data removed]",
      "text/plain": [
       "<Figure size 774.5x720 with 20 Axes>"
      ]
     },
     "metadata": {
      "needs_background": "light"
     },
     "output_type": "display_data"
    }
   ],
   "source": [
    "sns.pairplot(cdf, hue='star_type').fig.suptitle('Зависимость характеристик звёзд', y=1);"
   ]
  },
  {
   "cell_type": "markdown",
   "id": "87c5aa8b",
   "metadata": {},
   "source": [
    "- при уменьшении температуры увеличивается абсолютная звёздная величина\n",
    "- выделяются кластеры по температуре и абсолютной звёздной величине"
   ]
  },
  {
   "cell_type": "code",
   "execution_count": 19,
   "id": "74b237c1",
   "metadata": {},
   "outputs": [
    {
     "data": {
      "text/html": [
       "<div>\n",
       "<style scoped>\n",
       "    .dataframe tbody tr th:only-of-type {\n",
       "        vertical-align: middle;\n",
       "    }\n",
       "\n",
       "    .dataframe tbody tr th {\n",
       "        vertical-align: top;\n",
       "    }\n",
       "\n",
       "    .dataframe thead th {\n",
       "        text-align: right;\n",
       "    }\n",
       "</style>\n",
       "<table border=\"1\" class=\"dataframe\">\n",
       "  <thead>\n",
       "    <tr style=\"text-align: right;\">\n",
       "      <th></th>\n",
       "      <th>temperature</th>\n",
       "      <th>luminosity</th>\n",
       "      <th>radius</th>\n",
       "      <th>absolute_magnitude</th>\n",
       "      <th>star_type</th>\n",
       "    </tr>\n",
       "  </thead>\n",
       "  <tbody>\n",
       "    <tr>\n",
       "      <th>count</th>\n",
       "      <td>240.000000</td>\n",
       "      <td>240.000000</td>\n",
       "      <td>240.000000</td>\n",
       "      <td>240.000000</td>\n",
       "      <td>240.000000</td>\n",
       "    </tr>\n",
       "    <tr>\n",
       "      <th>mean</th>\n",
       "      <td>10497.462500</td>\n",
       "      <td>107188.361635</td>\n",
       "      <td>237.157781</td>\n",
       "      <td>4.382396</td>\n",
       "      <td>2.500000</td>\n",
       "    </tr>\n",
       "    <tr>\n",
       "      <th>std</th>\n",
       "      <td>9552.425037</td>\n",
       "      <td>179432.244940</td>\n",
       "      <td>517.155763</td>\n",
       "      <td>10.532512</td>\n",
       "      <td>1.711394</td>\n",
       "    </tr>\n",
       "    <tr>\n",
       "      <th>min</th>\n",
       "      <td>1939.000000</td>\n",
       "      <td>0.000080</td>\n",
       "      <td>0.008400</td>\n",
       "      <td>-11.920000</td>\n",
       "      <td>0.000000</td>\n",
       "    </tr>\n",
       "    <tr>\n",
       "      <th>25%</th>\n",
       "      <td>3344.250000</td>\n",
       "      <td>0.000865</td>\n",
       "      <td>0.102750</td>\n",
       "      <td>-6.232500</td>\n",
       "      <td>1.000000</td>\n",
       "    </tr>\n",
       "    <tr>\n",
       "      <th>50%</th>\n",
       "      <td>5776.000000</td>\n",
       "      <td>0.070500</td>\n",
       "      <td>0.762500</td>\n",
       "      <td>8.313000</td>\n",
       "      <td>2.500000</td>\n",
       "    </tr>\n",
       "    <tr>\n",
       "      <th>75%</th>\n",
       "      <td>15055.500000</td>\n",
       "      <td>198050.000000</td>\n",
       "      <td>42.750000</td>\n",
       "      <td>13.697500</td>\n",
       "      <td>4.000000</td>\n",
       "    </tr>\n",
       "    <tr>\n",
       "      <th>max</th>\n",
       "      <td>40000.000000</td>\n",
       "      <td>849420.000000</td>\n",
       "      <td>1948.500000</td>\n",
       "      <td>20.060000</td>\n",
       "      <td>5.000000</td>\n",
       "    </tr>\n",
       "  </tbody>\n",
       "</table>\n",
       "</div>"
      ],
      "text/plain": [
       "        temperature     luminosity       radius  absolute_magnitude  \\\n",
       "count    240.000000     240.000000   240.000000          240.000000   \n",
       "mean   10497.462500  107188.361635   237.157781            4.382396   \n",
       "std     9552.425037  179432.244940   517.155763           10.532512   \n",
       "min     1939.000000       0.000080     0.008400          -11.920000   \n",
       "25%     3344.250000       0.000865     0.102750           -6.232500   \n",
       "50%     5776.000000       0.070500     0.762500            8.313000   \n",
       "75%    15055.500000  198050.000000    42.750000           13.697500   \n",
       "max    40000.000000  849420.000000  1948.500000           20.060000   \n",
       "\n",
       "        star_type  \n",
       "count  240.000000  \n",
       "mean     2.500000  \n",
       "std      1.711394  \n",
       "min      0.000000  \n",
       "25%      1.000000  \n",
       "50%      2.500000  \n",
       "75%      4.000000  \n",
       "max      5.000000  "
      ]
     },
     "execution_count": 19,
     "metadata": {},
     "output_type": "execute_result"
    }
   ],
   "source": [
    "cdf.describe()"
   ]
  },
  {
   "cell_type": "code",
   "execution_count": 20,
   "id": "flush-dream",
   "metadata": {
    "scrolled": true
   },
   "outputs": [
    {
     "data": {
      "image/png": "[encoded data removed]",
      "text/plain": [
       "<Figure size 432x288 with 1 Axes>"
      ]
     },
     "metadata": {
      "needs_background": "light"
     },
     "output_type": "display_data"
    }
   ],
   "source": [
    "cdf.temperature.plot(kind='hist').set_title('Гистограмма температуры');"
   ]
  },
  {
   "cell_type": "code",
   "execution_count": 21,
   "id": "5c28cc23",
   "metadata": {},
   "outputs": [
    {
     "data": {
      "image/png": "[encoded data removed]",
      "text/plain": [
       "<Figure size 432x288 with 1 Axes>"
      ]
     },
     "metadata": {
      "needs_background": "light"
     },
     "output_type": "display_data"
    }
   ],
   "source": [
    "cdf.luminosity.plot(kind='hist').set_title('Гистограмма относительной светимости');"
   ]
  },
  {
   "cell_type": "code",
   "execution_count": 22,
   "id": "8947bbac",
   "metadata": {},
   "outputs": [
    {
     "data": {
      "image/png": "[encoded data removed]",
      "text/plain": [
       "<Figure size 432x288 with 1 Axes>"
      ]
     },
     "metadata": {
      "needs_background": "light"
     },
     "output_type": "display_data"
    }
   ],
   "source": [
    "cdf.radius.plot(kind='hist').set_title('Гистограмма радиуса');"
   ]
  },
  {
   "cell_type": "code",
   "execution_count": 23,
   "id": "4db9b9e2",
   "metadata": {
    "scrolled": true
   },
   "outputs": [
    {
     "data": {
      "image/png": "[encoded data removed]",
      "text/plain": [
       "<Figure size 432x288 with 1 Axes>"
      ]
     },
     "metadata": {
      "needs_background": "light"
     },
     "output_type": "display_data"
    }
   ],
   "source": [
    "cdf.absolute_magnitude.plot(kind='hist').set_title('Гистограмма абсолютной звёздной величины');"
   ]
  },
  {
   "cell_type": "markdown",
   "id": "accc036d",
   "metadata": {},
   "source": [
    "### Вывод"
   ]
  },
  {
   "cell_type": "markdown",
   "id": "8dfe38fb",
   "metadata": {},
   "source": [
    "- В датасете всго лишь 240 наблюдений\n",
    "- Температура звёзд находится в диапазоне от 1939 до 40000 по Кельвину, медиана 5776 градусов\n",
    "- Светимость звезды относительно Солнца от 0.00008 до 849420, медиана 0.0705\n",
    "- Радиус относительно Солнца от 0.0084 до 1948.5, медиана 0.7625\n",
    "- Абсолютная звёздная величина от -11.92 до 20.06, где чаще всего встречаются значения -7 и 13, а меньше всего 8\n",
    "- Количество звёзд каждого типа по 40, всего 6 типов"
   ]
  },
  {
   "cell_type": "markdown",
   "id": "90551ecf",
   "metadata": {},
   "source": [
    "## Предобработка признаков"
   ]
  },
  {
   "cell_type": "code",
   "execution_count": 24,
   "id": "b934f9cb",
   "metadata": {},
   "outputs": [],
   "source": [
    "categorial_columns = ['star_type', 'star_color']\n",
    "numerical_columns = ['luminosity', 'radius', 'absolute_magnitude']\n",
    "\n",
    "X_train, X_test, y_train, y_test = train_test_split(\n",
    "    cdf.drop(['temperature'], axis=1), \n",
    "    cdf.temperature, \n",
    "    test_size=0.3, \n",
    "    shuffle=True,\n",
    "    random_state=RANDOM_STATE\n",
    ")"
   ]
  },
  {
   "cell_type": "code",
   "execution_count": 25,
   "id": "a20276cc",
   "metadata": {},
   "outputs": [
    {
     "data": {
      "text/plain": [
       "Index(['temperature', 'luminosity', 'radius', 'absolute_magnitude',\n",
       "       'star_type', 'star_color'],\n",
       "      dtype='object')"
      ]
     },
     "execution_count": 25,
     "metadata": {},
     "output_type": "execute_result"
    }
   ],
   "source": [
    "cdf.columns"
   ]
  },
  {
   "cell_type": "code",
   "execution_count": 26,
   "id": "94e3bef1",
   "metadata": {},
   "outputs": [
    {
     "data": {
      "text/html": [
       "<div>\n",
       "<style scoped>\n",
       "    .dataframe tbody tr th:only-of-type {\n",
       "        vertical-align: middle;\n",
       "    }\n",
       "\n",
       "    .dataframe tbody tr th {\n",
       "        vertical-align: top;\n",
       "    }\n",
       "\n",
       "    .dataframe thead th {\n",
       "        text-align: right;\n",
       "    }\n",
       "</style>\n",
       "<table border=\"1\" class=\"dataframe\">\n",
       "  <thead>\n",
       "    <tr style=\"text-align: right;\">\n",
       "      <th></th>\n",
       "      <th>temperature</th>\n",
       "      <th>luminosity</th>\n",
       "      <th>radius</th>\n",
       "      <th>absolute_magnitude</th>\n",
       "      <th>star_type</th>\n",
       "      <th>star_color</th>\n",
       "    </tr>\n",
       "  </thead>\n",
       "  <tbody>\n",
       "    <tr>\n",
       "      <th>0</th>\n",
       "      <td>3068</td>\n",
       "      <td>0.002400</td>\n",
       "      <td>0.1700</td>\n",
       "      <td>16.12</td>\n",
       "      <td>0</td>\n",
       "      <td>orange red</td>\n",
       "    </tr>\n",
       "    <tr>\n",
       "      <th>1</th>\n",
       "      <td>3042</td>\n",
       "      <td>0.000500</td>\n",
       "      <td>0.1542</td>\n",
       "      <td>16.60</td>\n",
       "      <td>0</td>\n",
       "      <td>orange red</td>\n",
       "    </tr>\n",
       "    <tr>\n",
       "      <th>2</th>\n",
       "      <td>2600</td>\n",
       "      <td>0.000300</td>\n",
       "      <td>0.1020</td>\n",
       "      <td>18.70</td>\n",
       "      <td>0</td>\n",
       "      <td>orange red</td>\n",
       "    </tr>\n",
       "    <tr>\n",
       "      <th>3</th>\n",
       "      <td>2800</td>\n",
       "      <td>0.000200</td>\n",
       "      <td>0.1600</td>\n",
       "      <td>16.65</td>\n",
       "      <td>0</td>\n",
       "      <td>orange red</td>\n",
       "    </tr>\n",
       "    <tr>\n",
       "      <th>4</th>\n",
       "      <td>1939</td>\n",
       "      <td>0.000138</td>\n",
       "      <td>0.1030</td>\n",
       "      <td>20.06</td>\n",
       "      <td>0</td>\n",
       "      <td>orange red</td>\n",
       "    </tr>\n",
       "  </tbody>\n",
       "</table>\n",
       "</div>"
      ],
      "text/plain": [
       "   temperature  luminosity  radius  absolute_magnitude  star_type  star_color\n",
       "0         3068    0.002400  0.1700               16.12          0  orange red\n",
       "1         3042    0.000500  0.1542               16.60          0  orange red\n",
       "2         2600    0.000300  0.1020               18.70          0  orange red\n",
       "3         2800    0.000200  0.1600               16.65          0  orange red\n",
       "4         1939    0.000138  0.1030               20.06          0  orange red"
      ]
     },
     "execution_count": 26,
     "metadata": {},
     "output_type": "execute_result"
    }
   ],
   "source": [
    "cdf.head()"
   ]
  },
  {
   "cell_type": "markdown",
   "id": "57e64efb",
   "metadata": {},
   "source": [
    "### One-Hot Encoding"
   ]
  },
  {
   "cell_type": "code",
   "execution_count": 27,
   "id": "f04d564f",
   "metadata": {},
   "outputs": [
    {
     "data": {
      "text/plain": [
       "((168, 11), (72, 11))"
      ]
     },
     "execution_count": 27,
     "metadata": {},
     "output_type": "execute_result"
    }
   ],
   "source": [
    "# Применяем технику One-Hot Encoding\n",
    "# с удалением избыточных признаков\n",
    "ohe = OneHotEncoder(drop='first')\n",
    "\n",
    "X_train_ohe = pd.DataFrame(ohe.fit_transform(X_train[categorial_columns]).toarray(), columns=ohe.get_feature_names())\n",
    "X_test_ohe = pd.DataFrame(ohe.transform(X_test[categorial_columns]).toarray(), columns=ohe.get_feature_names())\n",
    "\n",
    "X_train_ohe.shape, X_test_ohe.shape"
   ]
  },
  {
   "cell_type": "markdown",
   "id": "7981aa55",
   "metadata": {},
   "source": [
    "### Standart Scaling"
   ]
  },
  {
   "cell_type": "code",
   "execution_count": 28,
   "id": "e77afb5c",
   "metadata": {},
   "outputs": [
    {
     "data": {
      "text/plain": [
       "((168, 3), (72, 3))"
      ]
     },
     "execution_count": 28,
     "metadata": {},
     "output_type": "execute_result"
    }
   ],
   "source": [
    "sc = StandardScaler()\n",
    "\n",
    "X_train_sc = pd.DataFrame(sc.fit_transform(X_train[numerical_columns]), columns=numerical_columns)\n",
    "X_test_sc = pd.DataFrame(sc.transform(X_test[numerical_columns]), columns=numerical_columns)\n",
    "\n",
    "X_train_sc.shape, X_test_sc.shape"
   ]
  },
  {
   "cell_type": "markdown",
   "id": "23cf33a9",
   "metadata": {},
   "source": [
    "### Объединение"
   ]
  },
  {
   "cell_type": "code",
   "execution_count": 29,
   "id": "9ef3e995",
   "metadata": {},
   "outputs": [],
   "source": [
    "X_train_ohe_sc_t = torch.FloatTensor(pd.concat([X_train_sc, X_train_ohe], axis=1).values)\n",
    "y_train_t = torch.FloatTensor(y_train.values)\n",
    "\n",
    "X_test_ohe_sc_t = torch.FloatTensor(pd.concat([X_test_sc, X_test_ohe], axis=1).values)\n",
    "y_test_t = torch.FloatTensor(y_test.values)"
   ]
  },
  {
   "cell_type": "markdown",
   "id": "4131da3f",
   "metadata": {},
   "source": [
    "### Проверка"
   ]
  },
  {
   "cell_type": "code",
   "execution_count": 30,
   "id": "9d9f8f11",
   "metadata": {},
   "outputs": [
    {
     "data": {
      "text/html": [
       "<div>\n",
       "<style scoped>\n",
       "    .dataframe tbody tr th:only-of-type {\n",
       "        vertical-align: middle;\n",
       "    }\n",
       "\n",
       "    .dataframe tbody tr th {\n",
       "        vertical-align: top;\n",
       "    }\n",
       "\n",
       "    .dataframe thead th {\n",
       "        text-align: right;\n",
       "    }\n",
       "</style>\n",
       "<table border=\"1\" class=\"dataframe\">\n",
       "  <thead>\n",
       "    <tr style=\"text-align: right;\">\n",
       "      <th></th>\n",
       "      <th>luminosity</th>\n",
       "      <th>radius</th>\n",
       "      <th>absolute_magnitude</th>\n",
       "      <th>x0_1</th>\n",
       "      <th>x0_2</th>\n",
       "      <th>x0_3</th>\n",
       "      <th>x0_4</th>\n",
       "      <th>x0_5</th>\n",
       "      <th>x1_blue white</th>\n",
       "      <th>x1_light orange</th>\n",
       "      <th>x1_orange red</th>\n",
       "      <th>x1_white</th>\n",
       "      <th>x1_yellow</th>\n",
       "      <th>x1_yellow white</th>\n",
       "    </tr>\n",
       "  </thead>\n",
       "  <tbody>\n",
       "    <tr>\n",
       "      <th>0</th>\n",
       "      <td>0.160953</td>\n",
       "      <td>-0.382081</td>\n",
       "      <td>-1.148865</td>\n",
       "      <td>0.0</td>\n",
       "      <td>0.0</td>\n",
       "      <td>0.0</td>\n",
       "      <td>1.0</td>\n",
       "      <td>0.0</td>\n",
       "      <td>0.0</td>\n",
       "      <td>0.0</td>\n",
       "      <td>0.0</td>\n",
       "      <td>0.0</td>\n",
       "      <td>0.0</td>\n",
       "      <td>1.0</td>\n",
       "    </tr>\n",
       "    <tr>\n",
       "      <th>1</th>\n",
       "      <td>1.736599</td>\n",
       "      <td>1.912754</td>\n",
       "      <td>-1.527235</td>\n",
       "      <td>0.0</td>\n",
       "      <td>0.0</td>\n",
       "      <td>0.0</td>\n",
       "      <td>0.0</td>\n",
       "      <td>1.0</td>\n",
       "      <td>0.0</td>\n",
       "      <td>0.0</td>\n",
       "      <td>0.0</td>\n",
       "      <td>1.0</td>\n",
       "      <td>0.0</td>\n",
       "      <td>0.0</td>\n",
       "    </tr>\n",
       "    <tr>\n",
       "      <th>2</th>\n",
       "      <td>-0.592531</td>\n",
       "      <td>-0.432492</td>\n",
       "      <td>1.105313</td>\n",
       "      <td>0.0</td>\n",
       "      <td>0.0</td>\n",
       "      <td>0.0</td>\n",
       "      <td>0.0</td>\n",
       "      <td>0.0</td>\n",
       "      <td>0.0</td>\n",
       "      <td>0.0</td>\n",
       "      <td>1.0</td>\n",
       "      <td>0.0</td>\n",
       "      <td>0.0</td>\n",
       "      <td>0.0</td>\n",
       "    </tr>\n",
       "    <tr>\n",
       "      <th>3</th>\n",
       "      <td>-0.592531</td>\n",
       "      <td>-0.432680</td>\n",
       "      <td>0.851494</td>\n",
       "      <td>0.0</td>\n",
       "      <td>1.0</td>\n",
       "      <td>0.0</td>\n",
       "      <td>0.0</td>\n",
       "      <td>0.0</td>\n",
       "      <td>0.0</td>\n",
       "      <td>0.0</td>\n",
       "      <td>0.0</td>\n",
       "      <td>1.0</td>\n",
       "      <td>0.0</td>\n",
       "      <td>0.0</td>\n",
       "    </tr>\n",
       "    <tr>\n",
       "      <th>4</th>\n",
       "      <td>2.007278</td>\n",
       "      <td>-0.257637</td>\n",
       "      <td>-0.997895</td>\n",
       "      <td>0.0</td>\n",
       "      <td>0.0</td>\n",
       "      <td>0.0</td>\n",
       "      <td>1.0</td>\n",
       "      <td>0.0</td>\n",
       "      <td>1.0</td>\n",
       "      <td>0.0</td>\n",
       "      <td>0.0</td>\n",
       "      <td>0.0</td>\n",
       "      <td>0.0</td>\n",
       "      <td>0.0</td>\n",
       "    </tr>\n",
       "    <tr>\n",
       "      <th>...</th>\n",
       "      <td>...</td>\n",
       "      <td>...</td>\n",
       "      <td>...</td>\n",
       "      <td>...</td>\n",
       "      <td>...</td>\n",
       "      <td>...</td>\n",
       "      <td>...</td>\n",
       "      <td>...</td>\n",
       "      <td>...</td>\n",
       "      <td>...</td>\n",
       "      <td>...</td>\n",
       "      <td>...</td>\n",
       "      <td>...</td>\n",
       "      <td>...</td>\n",
       "    </tr>\n",
       "    <tr>\n",
       "      <th>163</th>\n",
       "      <td>0.782147</td>\n",
       "      <td>-0.358880</td>\n",
       "      <td>-1.160188</td>\n",
       "      <td>0.0</td>\n",
       "      <td>0.0</td>\n",
       "      <td>0.0</td>\n",
       "      <td>1.0</td>\n",
       "      <td>0.0</td>\n",
       "      <td>0.0</td>\n",
       "      <td>0.0</td>\n",
       "      <td>0.0</td>\n",
       "      <td>1.0</td>\n",
       "      <td>0.0</td>\n",
       "      <td>0.0</td>\n",
       "    </tr>\n",
       "    <tr>\n",
       "      <th>164</th>\n",
       "      <td>-0.592531</td>\n",
       "      <td>-0.432522</td>\n",
       "      <td>1.239299</td>\n",
       "      <td>0.0</td>\n",
       "      <td>0.0</td>\n",
       "      <td>0.0</td>\n",
       "      <td>0.0</td>\n",
       "      <td>0.0</td>\n",
       "      <td>0.0</td>\n",
       "      <td>0.0</td>\n",
       "      <td>1.0</td>\n",
       "      <td>0.0</td>\n",
       "      <td>0.0</td>\n",
       "      <td>0.0</td>\n",
       "    </tr>\n",
       "    <tr>\n",
       "      <th>165</th>\n",
       "      <td>-0.592531</td>\n",
       "      <td>-0.432675</td>\n",
       "      <td>0.860929</td>\n",
       "      <td>0.0</td>\n",
       "      <td>1.0</td>\n",
       "      <td>0.0</td>\n",
       "      <td>0.0</td>\n",
       "      <td>0.0</td>\n",
       "      <td>0.0</td>\n",
       "      <td>0.0</td>\n",
       "      <td>0.0</td>\n",
       "      <td>0.0</td>\n",
       "      <td>0.0</td>\n",
       "      <td>1.0</td>\n",
       "    </tr>\n",
       "    <tr>\n",
       "      <th>166</th>\n",
       "      <td>3.714928</td>\n",
       "      <td>-0.238654</td>\n",
       "      <td>-1.160754</td>\n",
       "      <td>0.0</td>\n",
       "      <td>0.0</td>\n",
       "      <td>0.0</td>\n",
       "      <td>1.0</td>\n",
       "      <td>0.0</td>\n",
       "      <td>1.0</td>\n",
       "      <td>0.0</td>\n",
       "      <td>0.0</td>\n",
       "      <td>0.0</td>\n",
       "      <td>0.0</td>\n",
       "      <td>0.0</td>\n",
       "    </tr>\n",
       "    <tr>\n",
       "      <th>167</th>\n",
       "      <td>2.823458</td>\n",
       "      <td>-0.263965</td>\n",
       "      <td>-1.152828</td>\n",
       "      <td>0.0</td>\n",
       "      <td>0.0</td>\n",
       "      <td>0.0</td>\n",
       "      <td>1.0</td>\n",
       "      <td>0.0</td>\n",
       "      <td>0.0</td>\n",
       "      <td>0.0</td>\n",
       "      <td>0.0</td>\n",
       "      <td>1.0</td>\n",
       "      <td>0.0</td>\n",
       "      <td>0.0</td>\n",
       "    </tr>\n",
       "  </tbody>\n",
       "</table>\n",
       "<p>168 rows × 14 columns</p>\n",
       "</div>"
      ],
      "text/plain": [
       "     luminosity    radius  absolute_magnitude  x0_1  x0_2  x0_3  x0_4  x0_5  \\\n",
       "0      0.160953 -0.382081           -1.148865   0.0   0.0   0.0   1.0   0.0   \n",
       "1      1.736599  1.912754           -1.527235   0.0   0.0   0.0   0.0   1.0   \n",
       "2     -0.592531 -0.432492            1.105313   0.0   0.0   0.0   0.0   0.0   \n",
       "3     -0.592531 -0.432680            0.851494   0.0   1.0   0.0   0.0   0.0   \n",
       "4      2.007278 -0.257637           -0.997895   0.0   0.0   0.0   1.0   0.0   \n",
       "..          ...       ...                 ...   ...   ...   ...   ...   ...   \n",
       "163    0.782147 -0.358880           -1.160188   0.0   0.0   0.0   1.0   0.0   \n",
       "164   -0.592531 -0.432522            1.239299   0.0   0.0   0.0   0.0   0.0   \n",
       "165   -0.592531 -0.432675            0.860929   0.0   1.0   0.0   0.0   0.0   \n",
       "166    3.714928 -0.238654           -1.160754   0.0   0.0   0.0   1.0   0.0   \n",
       "167    2.823458 -0.263965           -1.152828   0.0   0.0   0.0   1.0   0.0   \n",
       "\n",
       "     x1_blue white  x1_light orange  x1_orange red  x1_white  x1_yellow  \\\n",
       "0              0.0              0.0            0.0       0.0        0.0   \n",
       "1              0.0              0.0            0.0       1.0        0.0   \n",
       "2              0.0              0.0            1.0       0.0        0.0   \n",
       "3              0.0              0.0            0.0       1.0        0.0   \n",
       "4              1.0              0.0            0.0       0.0        0.0   \n",
       "..             ...              ...            ...       ...        ...   \n",
       "163            0.0              0.0            0.0       1.0        0.0   \n",
       "164            0.0              0.0            1.0       0.0        0.0   \n",
       "165            0.0              0.0            0.0       0.0        0.0   \n",
       "166            1.0              0.0            0.0       0.0        0.0   \n",
       "167            0.0              0.0            0.0       1.0        0.0   \n",
       "\n",
       "     x1_yellow white  \n",
       "0                1.0  \n",
       "1                0.0  \n",
       "2                0.0  \n",
       "3                0.0  \n",
       "4                0.0  \n",
       "..               ...  \n",
       "163              0.0  \n",
       "164              0.0  \n",
       "165              1.0  \n",
       "166              0.0  \n",
       "167              0.0  \n",
       "\n",
       "[168 rows x 14 columns]"
      ]
     },
     "execution_count": 30,
     "metadata": {},
     "output_type": "execute_result"
    }
   ],
   "source": [
    "pd.concat([X_train_sc, X_train_ohe], axis=1)"
   ]
  },
  {
   "cell_type": "markdown",
   "id": "e6739e0b",
   "metadata": {},
   "source": [
    "## Общие функции для создания нейросети"
   ]
  },
  {
   "cell_type": "code",
   "execution_count": 31,
   "id": "4331cb3b",
   "metadata": {},
   "outputs": [],
   "source": [
    "def plot_predict(\n",
    "    net: torch.nn.modules.container.Sequential,\n",
    "    x_search: torch.Tensor,\n",
    "    true: torch.Tensor,\n",
    "    title: str\n",
    "):\n",
    "    \"\"\"Отрисовка графика реальных значений и предсказаний\"\"\"\n",
    "    y_predict = net.forward(x_search)\n",
    "    x = range(len(true))\n",
    "    y1 = true.numpy()\n",
    "    y2 = y_predict.flatten().detach().numpy()\n",
    "    plt.figure(figsize=(10, 8))\n",
    "    plt.title(title)\n",
    "    plt.plot(x, y1, label='Факт')\n",
    "    plt.plot(x, y2, label='Предсказание')\n",
    "    plt.legend(loc='upper right')\n",
    "    plt.show();"
   ]
  },
  {
   "cell_type": "code",
   "execution_count": 32,
   "id": "315e1158",
   "metadata": {
    "scrolled": false
   },
   "outputs": [],
   "source": [
    "def neuronet(X_train, y_train, learning_rate, num_epochs, batch_size, net_layers, init_weights_func, out=True):\n",
    "    \"\"\"\n",
    "    learning_rate — скорость обучения\n",
    "    слишком большая — можно проскочить минимум\n",
    "    слишком маленькая — алгоритм будет работать очень медленно\n",
    "\n",
    "    num_epochs — количество эпох обучения\n",
    "    \n",
    "    batch_size — размер батча\n",
    "    \n",
    "    net_layers — архитектура нейросети\n",
    "    \n",
    "    init_weights_func — функция предварительной инициализации нейросети\n",
    "    \"\"\"\n",
    "    \n",
    "    # Разделение на выборки\n",
    "    X_train, X_valid, y_train, y_valid = train_test_split(\n",
    "        X_train, \n",
    "        y_train, \n",
    "        test_size=0.3, \n",
    "        shuffle=True,\n",
    "        random_state=RANDOM_STATE\n",
    "    )\n",
    "    \n",
    "    # Преобразование в тензор\n",
    "    X_train_t = torch.FloatTensor(X_train)\n",
    "    X_valid_t = torch.FloatTensor(X_valid)\n",
    "\n",
    "    y_train_t = torch.FloatTensor(y_train.values)\n",
    "    y_valid_t = torch.FloatTensor(y_valid.values)\n",
    "    \n",
    "    # Конструирование архитектуры\n",
    "    net = nn.Sequential(*net_layers)\n",
    "    \n",
    "    # Для сохранения модели после каждой эпохи\n",
    "    estimators = []\n",
    "\n",
    "    # предварительная инициализация весов для ускорения и улучшения обучения\n",
    "    net.apply(init_weights_func)\n",
    "\n",
    "    # функция потерь\n",
    "    loss = nn.MSELoss()\n",
    "\n",
    "    # Оптимизатор ищет минимум для функции потерь\n",
    "    # Adaptive Moment Estimation, Adam\n",
    "#     optimizer = torch.optim.Adam(net.parameters(), lr=learning_rate)\n",
    "    optimizer = torch.optim.Adamax(net.parameters(), lr=learning_rate)\n",
    "\n",
    "    if out: plot_predict(net, X_train_t, y_train_t, \"Предсказания сети при начальной инициализации\")\n",
    "    \n",
    "    # Обучение нейросети\n",
    "    num_batches = ceil(len(X_train_t) / batch_size)\n",
    "    \n",
    "    \n",
    "    for epoch in range(num_epochs):\n",
    "        order = np.random.permutation(len(X_train_t))\n",
    "        \n",
    "        for batch_index in range(num_batches):\n",
    "            # PyTorch обладает свойством накапливать градиент, что может навредить обучению\n",
    "            # по этому перед каждым шагом нужно обнулять градиент\n",
    "            optimizer.zero_grad()\n",
    "            \n",
    "            start_index = batch_index * batch_size\n",
    "            batch_indexes = order[start_index:start_index + batch_size]\n",
    "            \n",
    "            X_batch = X_train_t[batch_indexes]\n",
    "            y_batch = y_train_t[batch_indexes]\n",
    "\n",
    "            # Вычисляем предсказания на текущем шаге\n",
    "            y_hat = net.forward(X_batch).flatten()\n",
    "\n",
    "            # Вычисляем функцию потерь\n",
    "            loss_value = loss(y_hat, y_batch)\n",
    "            # Вычисляем значение градиента функции потерь\n",
    "            loss_value.backward()\n",
    "\n",
    "            # выполняется шаг работы оптимизатора (обновление весов в сети)\n",
    "            optimizer.step()\n",
    "\n",
    "        if epoch % (num_epochs/10) == 0:\n",
    "            # Перевод режима сети с обучения на предсказание, что бы учитывать\n",
    "            # например батчи\n",
    "            net.eval()\n",
    "            \n",
    "            valid_predict = net.forward(X_valid_t)\n",
    "            metric = rmse(valid_predict, y_valid_t.reshape(-1, 1))\n",
    "            if out: print(metric.item())\n",
    "\n",
    "            # Сохраняем сеть на разных эпохах, что бы выбрать ту где\n",
    "            # ещё не началось переобучение — выбираем лучшую модель\n",
    "            estimators.append([metric, copy.deepcopy(net)])\n",
    "        \n",
    "    if out: plot_predict(net, X_train_t, y_train_t, \"Предсказания сети после обучения\")\n",
    "    \n",
    "    return estimators"
   ]
  },
  {
   "cell_type": "markdown",
   "id": "funded-electric",
   "metadata": {},
   "source": [
    "## Построение базовой нейронной сети"
   ]
  },
  {
   "cell_type": "code",
   "execution_count": 36,
   "id": "e80cd140",
   "metadata": {},
   "outputs": [
    {
     "data": {
      "image/png": "[encoded data removed]",
      "text/plain": [
       "<Figure size 720x576 with 1 Axes>"
      ]
     },
     "metadata": {
      "needs_background": "light"
     },
     "output_type": "display_data"
    },
    {
     "name": "stdout",
     "output_type": "stream",
     "text": [
      "10476.326171875\n",
      "3380.71337890625\n",
      "3486.42333984375\n",
      "3630.9033203125\n",
      "3581.708984375\n",
      "3685.64501953125\n",
      "3718.072021484375\n",
      "3809.547607421875\n",
      "3901.27392578125\n",
      "3918.651611328125\n"
     ]
    },
    {
     "data": {
      "image/png": "[encoded data removed]",
      "text/plain": [
       "<Figure size 720x576 with 1 Axes>"
      ]
     },
     "metadata": {
      "needs_background": "light"
     },
     "output_type": "display_data"
    }
   ],
   "source": [
    "def init_weights_base(layer):\n",
    "    # выбирает параметры распределений для инициализации\n",
    "    # это зависит от того, насколько функция активации сети симметрична относительно 0\n",
    "    if type(layer) == nn.Linear: # Проверка, что слой — полносвязный\n",
    "        nn.init.normal_(layer.weight, mean=0, std=1)\n",
    "        nn.init.normal_(layer.bias, mean=0, std=1)\n",
    "\n",
    "num_neurons_per_layer_base = [14, 29, 6, 1]\n",
    "net_layers_base = []\n",
    "\n",
    "for i in range(1, len(num_neurons_per_layer_base) - 1):\n",
    "    net_layers_base.append(nn.Linear(num_neurons_per_layer_base[i-1], num_neurons_per_layer_base[i]))\n",
    "    net_layers_base.append(nn.ReLU())\n",
    "net_layers_base.append(nn.Linear(num_neurons_per_layer_base[-2], num_neurons_per_layer_base[-1]))\n",
    "\n",
    "estimators_base = neuronet(\n",
    "    X_train = X_train_ohe_sc_t,\n",
    "    y_train = y_train,\n",
    "    learning_rate = 0.01,\n",
    "    num_epochs = 10000,\n",
    "    batch_size = 6,\n",
    "    net_layers=net_layers_base,\n",
    "    init_weights_func=init_weights_base,\n",
    ")"
   ]
  },
  {
   "cell_type": "markdown",
   "id": "a402d12c",
   "metadata": {},
   "source": [
    "Тестовая выборка"
   ]
  },
  {
   "cell_type": "code",
   "execution_count": 37,
   "id": "f2dcfee2",
   "metadata": {},
   "outputs": [
    {
     "name": "stdout",
     "output_type": "stream",
     "text": [
      "3826.451904296875\n"
     ]
    }
   ],
   "source": [
    "test_predict = min(estimators_base)[1].forward(X_test_ohe_sc_t)\n",
    "metric = rmse(test_predict, y_test_t.reshape(-1, 1))\n",
    "print(metric.item())"
   ]
  },
  {
   "cell_type": "markdown",
   "id": "c73ebf1d",
   "metadata": {},
   "source": [
    "### Вывод"
   ]
  },
  {
   "cell_type": "markdown",
   "id": "f189f597",
   "metadata": {},
   "source": [
    "- Функция оптимизации `Adamax` лучше чем `Adam`\n",
    "- Изменение предварительной инициализации весов под имеющееся распределение не всегда способствует лучшему обучению\n",
    "- Под конкретную задачу не удалось получить хорошее предсказание используя только 1 скрытый слой\n",
    "- Для задачи регрессии в последнем слое лучше использовать не функцию активации, а линейную\n",
    "- Иногда при одних и тех же плохих гиперпараметрах сеть перестаёт хорошо обучаться, может выдать хорошую метрику, а затем плохую, т.е. плохая стабильность модели\n",
    "- В целом нужно много экспериментов и опыт для успешного подбора гиперпарметров: архитектура_сети, скорость обучения, количество эпох, размер батча, предварительная инициализация\n",
    "- Лучшая метрика на валидационной выборке была **RMSE 6371.9111**\n",
    "- Метрика на тестовой выборке **12146.8710**"
   ]
  },
  {
   "cell_type": "markdown",
   "id": "growing-supply",
   "metadata": {},
   "source": [
    "## Улучшение нейронной сети"
   ]
  },
  {
   "cell_type": "code",
   "execution_count": 40,
   "id": "926cbbe4",
   "metadata": {
    "scrolled": false
   },
   "outputs": [
    {
     "name": "stdout",
     "output_type": "stream",
     "text": [
      "{'learning_rate': 1, 'num_epochs': 1000, 'dropout': True, 'batch_norm': True}\n",
      "{'learning_rate': 1, 'num_epochs': 1000, 'dropout': True, 'batch_norm': False}\n",
      "{'learning_rate': 1, 'num_epochs': 1000, 'dropout': False, 'batch_norm': True}\n",
      "{'learning_rate': 1, 'num_epochs': 1000, 'dropout': False, 'batch_norm': False}\n",
      "{'learning_rate': 1, 'num_epochs': 300, 'dropout': True, 'batch_norm': True}\n",
      "{'learning_rate': 1, 'num_epochs': 300, 'dropout': True, 'batch_norm': False}\n",
      "{'learning_rate': 1, 'num_epochs': 300, 'dropout': False, 'batch_norm': True}\n",
      "{'learning_rate': 1, 'num_epochs': 300, 'dropout': False, 'batch_norm': False}\n",
      "{'learning_rate': 1, 'num_epochs': 200, 'dropout': True, 'batch_norm': True}\n",
      "{'learning_rate': 1, 'num_epochs': 200, 'dropout': True, 'batch_norm': False}\n",
      "{'learning_rate': 1, 'num_epochs': 200, 'dropout': False, 'batch_norm': True}\n",
      "{'learning_rate': 1, 'num_epochs': 200, 'dropout': False, 'batch_norm': False}\n",
      "{'learning_rate': 0.1, 'num_epochs': 1000, 'dropout': True, 'batch_norm': True}\n",
      "{'learning_rate': 0.1, 'num_epochs': 1000, 'dropout': True, 'batch_norm': False}\n",
      "{'learning_rate': 0.1, 'num_epochs': 1000, 'dropout': False, 'batch_norm': True}\n",
      "{'learning_rate': 0.1, 'num_epochs': 1000, 'dropout': False, 'batch_norm': False}\n",
      "{'learning_rate': 0.1, 'num_epochs': 300, 'dropout': True, 'batch_norm': True}\n",
      "{'learning_rate': 0.1, 'num_epochs': 300, 'dropout': True, 'batch_norm': False}\n",
      "{'learning_rate': 0.1, 'num_epochs': 300, 'dropout': False, 'batch_norm': True}\n",
      "{'learning_rate': 0.1, 'num_epochs': 300, 'dropout': False, 'batch_norm': False}\n",
      "{'learning_rate': 0.1, 'num_epochs': 200, 'dropout': True, 'batch_norm': True}\n",
      "{'learning_rate': 0.1, 'num_epochs': 200, 'dropout': True, 'batch_norm': False}\n",
      "{'learning_rate': 0.1, 'num_epochs': 200, 'dropout': False, 'batch_norm': True}\n",
      "{'learning_rate': 0.1, 'num_epochs': 200, 'dropout': False, 'batch_norm': False}\n",
      "{'learning_rate': 0.01, 'num_epochs': 1000, 'dropout': True, 'batch_norm': True}\n",
      "{'learning_rate': 0.01, 'num_epochs': 1000, 'dropout': True, 'batch_norm': False}\n",
      "{'learning_rate': 0.01, 'num_epochs': 1000, 'dropout': False, 'batch_norm': True}\n",
      "{'learning_rate': 0.01, 'num_epochs': 1000, 'dropout': False, 'batch_norm': False}\n",
      "{'learning_rate': 0.01, 'num_epochs': 300, 'dropout': True, 'batch_norm': True}\n",
      "{'learning_rate': 0.01, 'num_epochs': 300, 'dropout': True, 'batch_norm': False}\n",
      "{'learning_rate': 0.01, 'num_epochs': 300, 'dropout': False, 'batch_norm': True}\n",
      "{'learning_rate': 0.01, 'num_epochs': 300, 'dropout': False, 'batch_norm': False}\n",
      "{'learning_rate': 0.01, 'num_epochs': 200, 'dropout': True, 'batch_norm': True}\n",
      "{'learning_rate': 0.01, 'num_epochs': 200, 'dropout': True, 'batch_norm': False}\n",
      "{'learning_rate': 0.01, 'num_epochs': 200, 'dropout': False, 'batch_norm': True}\n",
      "{'learning_rate': 0.01, 'num_epochs': 200, 'dropout': False, 'batch_norm': False}\n",
      "{'learning_rate': 0.001, 'num_epochs': 1000, 'dropout': True, 'batch_norm': True}\n",
      "{'learning_rate': 0.001, 'num_epochs': 1000, 'dropout': True, 'batch_norm': False}\n",
      "{'learning_rate': 0.001, 'num_epochs': 1000, 'dropout': False, 'batch_norm': True}\n",
      "{'learning_rate': 0.001, 'num_epochs': 1000, 'dropout': False, 'batch_norm': False}\n",
      "{'learning_rate': 0.001, 'num_epochs': 300, 'dropout': True, 'batch_norm': True}\n",
      "{'learning_rate': 0.001, 'num_epochs': 300, 'dropout': True, 'batch_norm': False}\n",
      "{'learning_rate': 0.001, 'num_epochs': 300, 'dropout': False, 'batch_norm': True}\n",
      "{'learning_rate': 0.001, 'num_epochs': 300, 'dropout': False, 'batch_norm': False}\n",
      "{'learning_rate': 0.001, 'num_epochs': 200, 'dropout': True, 'batch_norm': True}\n",
      "{'learning_rate': 0.001, 'num_epochs': 200, 'dropout': True, 'batch_norm': False}\n",
      "{'learning_rate': 0.001, 'num_epochs': 200, 'dropout': False, 'batch_norm': True}\n",
      "{'learning_rate': 0.001, 'num_epochs': 200, 'dropout': False, 'batch_norm': False}\n"
     ]
    },
    {
     "data": {
      "text/html": [
       "<div>\n",
       "<style scoped>\n",
       "    .dataframe tbody tr th:only-of-type {\n",
       "        vertical-align: middle;\n",
       "    }\n",
       "\n",
       "    .dataframe tbody tr th {\n",
       "        vertical-align: top;\n",
       "    }\n",
       "\n",
       "    .dataframe thead th {\n",
       "        text-align: right;\n",
       "    }\n",
       "</style>\n",
       "<table border=\"1\" class=\"dataframe\">\n",
       "  <thead>\n",
       "    <tr style=\"text-align: right;\">\n",
       "      <th></th>\n",
       "      <th>learning_rate</th>\n",
       "      <th>num_epochs</th>\n",
       "      <th>dropout</th>\n",
       "      <th>batch_norm</th>\n",
       "      <th>best_metric</th>\n",
       "      <th>best_model</th>\n",
       "    </tr>\n",
       "  </thead>\n",
       "  <tbody>\n",
       "    <tr>\n",
       "      <th>0</th>\n",
       "      <td>1.000</td>\n",
       "      <td>1000</td>\n",
       "      <td>True</td>\n",
       "      <td>True</td>\n",
       "      <td>tensor(3089.6123, grad_fn=&lt;PowBackward0&gt;)</td>\n",
       "      <td>[Linear(in_features=14, out_features=29, bias=...</td>\n",
       "    </tr>\n",
       "    <tr>\n",
       "      <th>1</th>\n",
       "      <td>1.000</td>\n",
       "      <td>1000</td>\n",
       "      <td>True</td>\n",
       "      <td>False</td>\n",
       "      <td>tensor(3208.3040, grad_fn=&lt;PowBackward0&gt;)</td>\n",
       "      <td>[Linear(in_features=14, out_features=29, bias=...</td>\n",
       "    </tr>\n",
       "    <tr>\n",
       "      <th>2</th>\n",
       "      <td>1.000</td>\n",
       "      <td>1000</td>\n",
       "      <td>False</td>\n",
       "      <td>True</td>\n",
       "      <td>tensor(3046.7542, grad_fn=&lt;PowBackward0&gt;)</td>\n",
       "      <td>[Linear(in_features=14, out_features=29, bias=...</td>\n",
       "    </tr>\n",
       "    <tr>\n",
       "      <th>3</th>\n",
       "      <td>1.000</td>\n",
       "      <td>1000</td>\n",
       "      <td>False</td>\n",
       "      <td>False</td>\n",
       "      <td>tensor(3030.8787, grad_fn=&lt;PowBackward0&gt;)</td>\n",
       "      <td>[Linear(in_features=14, out_features=29, bias=...</td>\n",
       "    </tr>\n",
       "    <tr>\n",
       "      <th>4</th>\n",
       "      <td>1.000</td>\n",
       "      <td>300</td>\n",
       "      <td>True</td>\n",
       "      <td>True</td>\n",
       "      <td>tensor(3009.4690, grad_fn=&lt;PowBackward0&gt;)</td>\n",
       "      <td>[Linear(in_features=14, out_features=29, bias=...</td>\n",
       "    </tr>\n",
       "    <tr>\n",
       "      <th>5</th>\n",
       "      <td>1.000</td>\n",
       "      <td>300</td>\n",
       "      <td>True</td>\n",
       "      <td>False</td>\n",
       "      <td>tensor(2784.6836, grad_fn=&lt;PowBackward0&gt;)</td>\n",
       "      <td>[Linear(in_features=14, out_features=29, bias=...</td>\n",
       "    </tr>\n",
       "    <tr>\n",
       "      <th>6</th>\n",
       "      <td>1.000</td>\n",
       "      <td>300</td>\n",
       "      <td>False</td>\n",
       "      <td>True</td>\n",
       "      <td>tensor(2596.6089, grad_fn=&lt;PowBackward0&gt;)</td>\n",
       "      <td>[Linear(in_features=14, out_features=29, bias=...</td>\n",
       "    </tr>\n",
       "    <tr>\n",
       "      <th>7</th>\n",
       "      <td>1.000</td>\n",
       "      <td>300</td>\n",
       "      <td>False</td>\n",
       "      <td>False</td>\n",
       "      <td>tensor(3003.3013, grad_fn=&lt;PowBackward0&gt;)</td>\n",
       "      <td>[Linear(in_features=14, out_features=29, bias=...</td>\n",
       "    </tr>\n",
       "    <tr>\n",
       "      <th>8</th>\n",
       "      <td>1.000</td>\n",
       "      <td>200</td>\n",
       "      <td>True</td>\n",
       "      <td>True</td>\n",
       "      <td>tensor(2919.3232, grad_fn=&lt;PowBackward0&gt;)</td>\n",
       "      <td>[Linear(in_features=14, out_features=29, bias=...</td>\n",
       "    </tr>\n",
       "    <tr>\n",
       "      <th>9</th>\n",
       "      <td>1.000</td>\n",
       "      <td>200</td>\n",
       "      <td>True</td>\n",
       "      <td>False</td>\n",
       "      <td>tensor(2823.4624, grad_fn=&lt;PowBackward0&gt;)</td>\n",
       "      <td>[Linear(in_features=14, out_features=29, bias=...</td>\n",
       "    </tr>\n",
       "    <tr>\n",
       "      <th>10</th>\n",
       "      <td>1.000</td>\n",
       "      <td>200</td>\n",
       "      <td>False</td>\n",
       "      <td>True</td>\n",
       "      <td>tensor(2555.4907, grad_fn=&lt;PowBackward0&gt;)</td>\n",
       "      <td>[Linear(in_features=14, out_features=29, bias=...</td>\n",
       "    </tr>\n",
       "    <tr>\n",
       "      <th>11</th>\n",
       "      <td>1.000</td>\n",
       "      <td>200</td>\n",
       "      <td>False</td>\n",
       "      <td>False</td>\n",
       "      <td>tensor(2715.6541, grad_fn=&lt;PowBackward0&gt;)</td>\n",
       "      <td>[Linear(in_features=14, out_features=29, bias=...</td>\n",
       "    </tr>\n",
       "    <tr>\n",
       "      <th>12</th>\n",
       "      <td>0.100</td>\n",
       "      <td>1000</td>\n",
       "      <td>True</td>\n",
       "      <td>True</td>\n",
       "      <td>tensor(2931.3267, grad_fn=&lt;PowBackward0&gt;)</td>\n",
       "      <td>[Linear(in_features=14, out_features=29, bias=...</td>\n",
       "    </tr>\n",
       "    <tr>\n",
       "      <th>13</th>\n",
       "      <td>0.100</td>\n",
       "      <td>1000</td>\n",
       "      <td>True</td>\n",
       "      <td>False</td>\n",
       "      <td>tensor(3285.2617, grad_fn=&lt;PowBackward0&gt;)</td>\n",
       "      <td>[Linear(in_features=14, out_features=29, bias=...</td>\n",
       "    </tr>\n",
       "    <tr>\n",
       "      <th>14</th>\n",
       "      <td>0.100</td>\n",
       "      <td>1000</td>\n",
       "      <td>False</td>\n",
       "      <td>True</td>\n",
       "      <td>tensor(2861.2871, grad_fn=&lt;PowBackward0&gt;)</td>\n",
       "      <td>[Linear(in_features=14, out_features=29, bias=...</td>\n",
       "    </tr>\n",
       "    <tr>\n",
       "      <th>15</th>\n",
       "      <td>0.100</td>\n",
       "      <td>1000</td>\n",
       "      <td>False</td>\n",
       "      <td>False</td>\n",
       "      <td>tensor(3346.3459, grad_fn=&lt;PowBackward0&gt;)</td>\n",
       "      <td>[Linear(in_features=14, out_features=29, bias=...</td>\n",
       "    </tr>\n",
       "    <tr>\n",
       "      <th>16</th>\n",
       "      <td>0.100</td>\n",
       "      <td>300</td>\n",
       "      <td>True</td>\n",
       "      <td>True</td>\n",
       "      <td>tensor(3219.8923, grad_fn=&lt;PowBackward0&gt;)</td>\n",
       "      <td>[Linear(in_features=14, out_features=29, bias=...</td>\n",
       "    </tr>\n",
       "    <tr>\n",
       "      <th>17</th>\n",
       "      <td>0.100</td>\n",
       "      <td>300</td>\n",
       "      <td>True</td>\n",
       "      <td>False</td>\n",
       "      <td>tensor(3248.1187, grad_fn=&lt;PowBackward0&gt;)</td>\n",
       "      <td>[Linear(in_features=14, out_features=29, bias=...</td>\n",
       "    </tr>\n",
       "    <tr>\n",
       "      <th>18</th>\n",
       "      <td>0.100</td>\n",
       "      <td>300</td>\n",
       "      <td>False</td>\n",
       "      <td>True</td>\n",
       "      <td>tensor(2540.1125, grad_fn=&lt;PowBackward0&gt;)</td>\n",
       "      <td>[Linear(in_features=14, out_features=29, bias=...</td>\n",
       "    </tr>\n",
       "    <tr>\n",
       "      <th>19</th>\n",
       "      <td>0.100</td>\n",
       "      <td>300</td>\n",
       "      <td>False</td>\n",
       "      <td>False</td>\n",
       "      <td>tensor(3196.1653, grad_fn=&lt;PowBackward0&gt;)</td>\n",
       "      <td>[Linear(in_features=14, out_features=29, bias=...</td>\n",
       "    </tr>\n",
       "    <tr>\n",
       "      <th>20</th>\n",
       "      <td>0.100</td>\n",
       "      <td>200</td>\n",
       "      <td>True</td>\n",
       "      <td>True</td>\n",
       "      <td>tensor(2904.7981, grad_fn=&lt;PowBackward0&gt;)</td>\n",
       "      <td>[Linear(in_features=14, out_features=29, bias=...</td>\n",
       "    </tr>\n",
       "    <tr>\n",
       "      <th>21</th>\n",
       "      <td>0.100</td>\n",
       "      <td>200</td>\n",
       "      <td>True</td>\n",
       "      <td>False</td>\n",
       "      <td>tensor(3357.0022, grad_fn=&lt;PowBackward0&gt;)</td>\n",
       "      <td>[Linear(in_features=14, out_features=29, bias=...</td>\n",
       "    </tr>\n",
       "    <tr>\n",
       "      <th>22</th>\n",
       "      <td>0.100</td>\n",
       "      <td>200</td>\n",
       "      <td>False</td>\n",
       "      <td>True</td>\n",
       "      <td>tensor(3098.5476, grad_fn=&lt;PowBackward0&gt;)</td>\n",
       "      <td>[Linear(in_features=14, out_features=29, bias=...</td>\n",
       "    </tr>\n",
       "    <tr>\n",
       "      <th>23</th>\n",
       "      <td>0.100</td>\n",
       "      <td>200</td>\n",
       "      <td>False</td>\n",
       "      <td>False</td>\n",
       "      <td>tensor(3147.1130, grad_fn=&lt;PowBackward0&gt;)</td>\n",
       "      <td>[Linear(in_features=14, out_features=29, bias=...</td>\n",
       "    </tr>\n",
       "    <tr>\n",
       "      <th>24</th>\n",
       "      <td>0.010</td>\n",
       "      <td>1000</td>\n",
       "      <td>True</td>\n",
       "      <td>True</td>\n",
       "      <td>tensor(3311.2959, grad_fn=&lt;PowBackward0&gt;)</td>\n",
       "      <td>[Linear(in_features=14, out_features=29, bias=...</td>\n",
       "    </tr>\n",
       "    <tr>\n",
       "      <th>25</th>\n",
       "      <td>0.010</td>\n",
       "      <td>1000</td>\n",
       "      <td>True</td>\n",
       "      <td>False</td>\n",
       "      <td>tensor(3315.4058, grad_fn=&lt;PowBackward0&gt;)</td>\n",
       "      <td>[Linear(in_features=14, out_features=29, bias=...</td>\n",
       "    </tr>\n",
       "    <tr>\n",
       "      <th>26</th>\n",
       "      <td>0.010</td>\n",
       "      <td>1000</td>\n",
       "      <td>False</td>\n",
       "      <td>True</td>\n",
       "      <td>tensor(3260.7637, grad_fn=&lt;PowBackward0&gt;)</td>\n",
       "      <td>[Linear(in_features=14, out_features=29, bias=...</td>\n",
       "    </tr>\n",
       "    <tr>\n",
       "      <th>27</th>\n",
       "      <td>0.010</td>\n",
       "      <td>1000</td>\n",
       "      <td>False</td>\n",
       "      <td>False</td>\n",
       "      <td>tensor(3268.6030, grad_fn=&lt;PowBackward0&gt;)</td>\n",
       "      <td>[Linear(in_features=14, out_features=29, bias=...</td>\n",
       "    </tr>\n",
       "    <tr>\n",
       "      <th>28</th>\n",
       "      <td>0.010</td>\n",
       "      <td>300</td>\n",
       "      <td>True</td>\n",
       "      <td>True</td>\n",
       "      <td>tensor(3418.8967, grad_fn=&lt;PowBackward0&gt;)</td>\n",
       "      <td>[Linear(in_features=14, out_features=29, bias=...</td>\n",
       "    </tr>\n",
       "    <tr>\n",
       "      <th>29</th>\n",
       "      <td>0.010</td>\n",
       "      <td>300</td>\n",
       "      <td>True</td>\n",
       "      <td>False</td>\n",
       "      <td>tensor(5993.6699, grad_fn=&lt;PowBackward0&gt;)</td>\n",
       "      <td>[Linear(in_features=14, out_features=29, bias=...</td>\n",
       "    </tr>\n",
       "    <tr>\n",
       "      <th>30</th>\n",
       "      <td>0.010</td>\n",
       "      <td>300</td>\n",
       "      <td>False</td>\n",
       "      <td>True</td>\n",
       "      <td>tensor(3361.7705, grad_fn=&lt;PowBackward0&gt;)</td>\n",
       "      <td>[Linear(in_features=14, out_features=29, bias=...</td>\n",
       "    </tr>\n",
       "    <tr>\n",
       "      <th>31</th>\n",
       "      <td>0.010</td>\n",
       "      <td>300</td>\n",
       "      <td>False</td>\n",
       "      <td>False</td>\n",
       "      <td>tensor(6140.0654, grad_fn=&lt;PowBackward0&gt;)</td>\n",
       "      <td>[Linear(in_features=14, out_features=29, bias=...</td>\n",
       "    </tr>\n",
       "    <tr>\n",
       "      <th>32</th>\n",
       "      <td>0.010</td>\n",
       "      <td>200</td>\n",
       "      <td>True</td>\n",
       "      <td>True</td>\n",
       "      <td>tensor(3340.2700, grad_fn=&lt;PowBackward0&gt;)</td>\n",
       "      <td>[Linear(in_features=14, out_features=29, bias=...</td>\n",
       "    </tr>\n",
       "    <tr>\n",
       "      <th>33</th>\n",
       "      <td>0.010</td>\n",
       "      <td>200</td>\n",
       "      <td>True</td>\n",
       "      <td>False</td>\n",
       "      <td>tensor(6206.6836, grad_fn=&lt;PowBackward0&gt;)</td>\n",
       "      <td>[Linear(in_features=14, out_features=29, bias=...</td>\n",
       "    </tr>\n",
       "    <tr>\n",
       "      <th>34</th>\n",
       "      <td>0.010</td>\n",
       "      <td>200</td>\n",
       "      <td>False</td>\n",
       "      <td>True</td>\n",
       "      <td>tensor(3926.4426, grad_fn=&lt;PowBackward0&gt;)</td>\n",
       "      <td>[Linear(in_features=14, out_features=29, bias=...</td>\n",
       "    </tr>\n",
       "    <tr>\n",
       "      <th>35</th>\n",
       "      <td>0.010</td>\n",
       "      <td>200</td>\n",
       "      <td>False</td>\n",
       "      <td>False</td>\n",
       "      <td>tensor(6149.3193, grad_fn=&lt;PowBackward0&gt;)</td>\n",
       "      <td>[Linear(in_features=14, out_features=29, bias=...</td>\n",
       "    </tr>\n",
       "    <tr>\n",
       "      <th>36</th>\n",
       "      <td>0.001</td>\n",
       "      <td>1000</td>\n",
       "      <td>True</td>\n",
       "      <td>True</td>\n",
       "      <td>tensor(6011.8535, grad_fn=&lt;PowBackward0&gt;)</td>\n",
       "      <td>[Linear(in_features=14, out_features=29, bias=...</td>\n",
       "    </tr>\n",
       "    <tr>\n",
       "      <th>37</th>\n",
       "      <td>0.001</td>\n",
       "      <td>1000</td>\n",
       "      <td>True</td>\n",
       "      <td>False</td>\n",
       "      <td>tensor(10501.7705, grad_fn=&lt;PowBackward0&gt;)</td>\n",
       "      <td>[Linear(in_features=14, out_features=29, bias=...</td>\n",
       "    </tr>\n",
       "    <tr>\n",
       "      <th>38</th>\n",
       "      <td>0.001</td>\n",
       "      <td>1000</td>\n",
       "      <td>False</td>\n",
       "      <td>True</td>\n",
       "      <td>tensor(5972.7773, grad_fn=&lt;PowBackward0&gt;)</td>\n",
       "      <td>[Linear(in_features=14, out_features=29, bias=...</td>\n",
       "    </tr>\n",
       "    <tr>\n",
       "      <th>39</th>\n",
       "      <td>0.001</td>\n",
       "      <td>1000</td>\n",
       "      <td>False</td>\n",
       "      <td>False</td>\n",
       "      <td>tensor(6237.4419, grad_fn=&lt;PowBackward0&gt;)</td>\n",
       "      <td>[Linear(in_features=14, out_features=29, bias=...</td>\n",
       "    </tr>\n",
       "    <tr>\n",
       "      <th>40</th>\n",
       "      <td>0.001</td>\n",
       "      <td>300</td>\n",
       "      <td>True</td>\n",
       "      <td>True</td>\n",
       "      <td>tensor(6038.2090, grad_fn=&lt;PowBackward0&gt;)</td>\n",
       "      <td>[Linear(in_features=14, out_features=29, bias=...</td>\n",
       "    </tr>\n",
       "    <tr>\n",
       "      <th>41</th>\n",
       "      <td>0.001</td>\n",
       "      <td>300</td>\n",
       "      <td>True</td>\n",
       "      <td>False</td>\n",
       "      <td>tensor(8812.0078, grad_fn=&lt;PowBackward0&gt;)</td>\n",
       "      <td>[Linear(in_features=14, out_features=29, bias=...</td>\n",
       "    </tr>\n",
       "    <tr>\n",
       "      <th>42</th>\n",
       "      <td>0.001</td>\n",
       "      <td>300</td>\n",
       "      <td>False</td>\n",
       "      <td>True</td>\n",
       "      <td>tensor(6225.9263, grad_fn=&lt;PowBackward0&gt;)</td>\n",
       "      <td>[Linear(in_features=14, out_features=29, bias=...</td>\n",
       "    </tr>\n",
       "    <tr>\n",
       "      <th>43</th>\n",
       "      <td>0.001</td>\n",
       "      <td>300</td>\n",
       "      <td>False</td>\n",
       "      <td>False</td>\n",
       "      <td>tensor(7424.0840, grad_fn=&lt;PowBackward0&gt;)</td>\n",
       "      <td>[Linear(in_features=14, out_features=29, bias=...</td>\n",
       "    </tr>\n",
       "    <tr>\n",
       "      <th>44</th>\n",
       "      <td>0.001</td>\n",
       "      <td>200</td>\n",
       "      <td>True</td>\n",
       "      <td>True</td>\n",
       "      <td>tensor(6109.4434, grad_fn=&lt;PowBackward0&gt;)</td>\n",
       "      <td>[Linear(in_features=14, out_features=29, bias=...</td>\n",
       "    </tr>\n",
       "    <tr>\n",
       "      <th>45</th>\n",
       "      <td>0.001</td>\n",
       "      <td>200</td>\n",
       "      <td>True</td>\n",
       "      <td>False</td>\n",
       "      <td>tensor(9534.5254, grad_fn=&lt;PowBackward0&gt;)</td>\n",
       "      <td>[Linear(in_features=14, out_features=29, bias=...</td>\n",
       "    </tr>\n",
       "    <tr>\n",
       "      <th>46</th>\n",
       "      <td>0.001</td>\n",
       "      <td>200</td>\n",
       "      <td>False</td>\n",
       "      <td>True</td>\n",
       "      <td>tensor(6245.0552, grad_fn=&lt;PowBackward0&gt;)</td>\n",
       "      <td>[Linear(in_features=14, out_features=29, bias=...</td>\n",
       "    </tr>\n",
       "    <tr>\n",
       "      <th>47</th>\n",
       "      <td>0.001</td>\n",
       "      <td>200</td>\n",
       "      <td>False</td>\n",
       "      <td>False</td>\n",
       "      <td>tensor(9229.7549, grad_fn=&lt;PowBackward0&gt;)</td>\n",
       "      <td>[Linear(in_features=14, out_features=29, bias=...</td>\n",
       "    </tr>\n",
       "  </tbody>\n",
       "</table>\n",
       "</div>"
      ],
      "text/plain": [
       "    learning_rate  num_epochs  dropout  batch_norm  \\\n",
       "0           1.000        1000     True        True   \n",
       "1           1.000        1000     True       False   \n",
       "2           1.000        1000    False        True   \n",
       "3           1.000        1000    False       False   \n",
       "4           1.000         300     True        True   \n",
       "5           1.000         300     True       False   \n",
       "6           1.000         300    False        True   \n",
       "7           1.000         300    False       False   \n",
       "8           1.000         200     True        True   \n",
       "9           1.000         200     True       False   \n",
       "10          1.000         200    False        True   \n",
       "11          1.000         200    False       False   \n",
       "12          0.100        1000     True        True   \n",
       "13          0.100        1000     True       False   \n",
       "14          0.100        1000    False        True   \n",
       "15          0.100        1000    False       False   \n",
       "16          0.100         300     True        True   \n",
       "17          0.100         300     True       False   \n",
       "18          0.100         300    False        True   \n",
       "19          0.100         300    False       False   \n",
       "20          0.100         200     True        True   \n",
       "21          0.100         200     True       False   \n",
       "22          0.100         200    False        True   \n",
       "23          0.100         200    False       False   \n",
       "24          0.010        1000     True        True   \n",
       "25          0.010        1000     True       False   \n",
       "26          0.010        1000    False        True   \n",
       "27          0.010        1000    False       False   \n",
       "28          0.010         300     True        True   \n",
       "29          0.010         300     True       False   \n",
       "30          0.010         300    False        True   \n",
       "31          0.010         300    False       False   \n",
       "32          0.010         200     True        True   \n",
       "33          0.010         200     True       False   \n",
       "34          0.010         200    False        True   \n",
       "35          0.010         200    False       False   \n",
       "36          0.001        1000     True        True   \n",
       "37          0.001        1000     True       False   \n",
       "38          0.001        1000    False        True   \n",
       "39          0.001        1000    False       False   \n",
       "40          0.001         300     True        True   \n",
       "41          0.001         300     True       False   \n",
       "42          0.001         300    False        True   \n",
       "43          0.001         300    False       False   \n",
       "44          0.001         200     True        True   \n",
       "45          0.001         200     True       False   \n",
       "46          0.001         200    False        True   \n",
       "47          0.001         200    False       False   \n",
       "\n",
       "                                   best_metric  \\\n",
       "0    tensor(3089.6123, grad_fn=<PowBackward0>)   \n",
       "1    tensor(3208.3040, grad_fn=<PowBackward0>)   \n",
       "2    tensor(3046.7542, grad_fn=<PowBackward0>)   \n",
       "3    tensor(3030.8787, grad_fn=<PowBackward0>)   \n",
       "4    tensor(3009.4690, grad_fn=<PowBackward0>)   \n",
       "5    tensor(2784.6836, grad_fn=<PowBackward0>)   \n",
       "6    tensor(2596.6089, grad_fn=<PowBackward0>)   \n",
       "7    tensor(3003.3013, grad_fn=<PowBackward0>)   \n",
       "8    tensor(2919.3232, grad_fn=<PowBackward0>)   \n",
       "9    tensor(2823.4624, grad_fn=<PowBackward0>)   \n",
       "10   tensor(2555.4907, grad_fn=<PowBackward0>)   \n",
       "11   tensor(2715.6541, grad_fn=<PowBackward0>)   \n",
       "12   tensor(2931.3267, grad_fn=<PowBackward0>)   \n",
       "13   tensor(3285.2617, grad_fn=<PowBackward0>)   \n",
       "14   tensor(2861.2871, grad_fn=<PowBackward0>)   \n",
       "15   tensor(3346.3459, grad_fn=<PowBackward0>)   \n",
       "16   tensor(3219.8923, grad_fn=<PowBackward0>)   \n",
       "17   tensor(3248.1187, grad_fn=<PowBackward0>)   \n",
       "18   tensor(2540.1125, grad_fn=<PowBackward0>)   \n",
       "19   tensor(3196.1653, grad_fn=<PowBackward0>)   \n",
       "20   tensor(2904.7981, grad_fn=<PowBackward0>)   \n",
       "21   tensor(3357.0022, grad_fn=<PowBackward0>)   \n",
       "22   tensor(3098.5476, grad_fn=<PowBackward0>)   \n",
       "23   tensor(3147.1130, grad_fn=<PowBackward0>)   \n",
       "24   tensor(3311.2959, grad_fn=<PowBackward0>)   \n",
       "25   tensor(3315.4058, grad_fn=<PowBackward0>)   \n",
       "26   tensor(3260.7637, grad_fn=<PowBackward0>)   \n",
       "27   tensor(3268.6030, grad_fn=<PowBackward0>)   \n",
       "28   tensor(3418.8967, grad_fn=<PowBackward0>)   \n",
       "29   tensor(5993.6699, grad_fn=<PowBackward0>)   \n",
       "30   tensor(3361.7705, grad_fn=<PowBackward0>)   \n",
       "31   tensor(6140.0654, grad_fn=<PowBackward0>)   \n",
       "32   tensor(3340.2700, grad_fn=<PowBackward0>)   \n",
       "33   tensor(6206.6836, grad_fn=<PowBackward0>)   \n",
       "34   tensor(3926.4426, grad_fn=<PowBackward0>)   \n",
       "35   tensor(6149.3193, grad_fn=<PowBackward0>)   \n",
       "36   tensor(6011.8535, grad_fn=<PowBackward0>)   \n",
       "37  tensor(10501.7705, grad_fn=<PowBackward0>)   \n",
       "38   tensor(5972.7773, grad_fn=<PowBackward0>)   \n",
       "39   tensor(6237.4419, grad_fn=<PowBackward0>)   \n",
       "40   tensor(6038.2090, grad_fn=<PowBackward0>)   \n",
       "41   tensor(8812.0078, grad_fn=<PowBackward0>)   \n",
       "42   tensor(6225.9263, grad_fn=<PowBackward0>)   \n",
       "43   tensor(7424.0840, grad_fn=<PowBackward0>)   \n",
       "44   tensor(6109.4434, grad_fn=<PowBackward0>)   \n",
       "45   tensor(9534.5254, grad_fn=<PowBackward0>)   \n",
       "46   tensor(6245.0552, grad_fn=<PowBackward0>)   \n",
       "47   tensor(9229.7549, grad_fn=<PowBackward0>)   \n",
       "\n",
       "                                           best_model  \n",
       "0   [Linear(in_features=14, out_features=29, bias=...  \n",
       "1   [Linear(in_features=14, out_features=29, bias=...  \n",
       "2   [Linear(in_features=14, out_features=29, bias=...  \n",
       "3   [Linear(in_features=14, out_features=29, bias=...  \n",
       "4   [Linear(in_features=14, out_features=29, bias=...  \n",
       "5   [Linear(in_features=14, out_features=29, bias=...  \n",
       "6   [Linear(in_features=14, out_features=29, bias=...  \n",
       "7   [Linear(in_features=14, out_features=29, bias=...  \n",
       "8   [Linear(in_features=14, out_features=29, bias=...  \n",
       "9   [Linear(in_features=14, out_features=29, bias=...  \n",
       "10  [Linear(in_features=14, out_features=29, bias=...  \n",
       "11  [Linear(in_features=14, out_features=29, bias=...  \n",
       "12  [Linear(in_features=14, out_features=29, bias=...  \n",
       "13  [Linear(in_features=14, out_features=29, bias=...  \n",
       "14  [Linear(in_features=14, out_features=29, bias=...  \n",
       "15  [Linear(in_features=14, out_features=29, bias=...  \n",
       "16  [Linear(in_features=14, out_features=29, bias=...  \n",
       "17  [Linear(in_features=14, out_features=29, bias=...  \n",
       "18  [Linear(in_features=14, out_features=29, bias=...  \n",
       "19  [Linear(in_features=14, out_features=29, bias=...  \n",
       "20  [Linear(in_features=14, out_features=29, bias=...  \n",
       "21  [Linear(in_features=14, out_features=29, bias=...  \n",
       "22  [Linear(in_features=14, out_features=29, bias=...  \n",
       "23  [Linear(in_features=14, out_features=29, bias=...  \n",
       "24  [Linear(in_features=14, out_features=29, bias=...  \n",
       "25  [Linear(in_features=14, out_features=29, bias=...  \n",
       "26  [Linear(in_features=14, out_features=29, bias=...  \n",
       "27  [Linear(in_features=14, out_features=29, bias=...  \n",
       "28  [Linear(in_features=14, out_features=29, bias=...  \n",
       "29  [Linear(in_features=14, out_features=29, bias=...  \n",
       "30  [Linear(in_features=14, out_features=29, bias=...  \n",
       "31  [Linear(in_features=14, out_features=29, bias=...  \n",
       "32  [Linear(in_features=14, out_features=29, bias=...  \n",
       "33  [Linear(in_features=14, out_features=29, bias=...  \n",
       "34  [Linear(in_features=14, out_features=29, bias=...  \n",
       "35  [Linear(in_features=14, out_features=29, bias=...  \n",
       "36  [Linear(in_features=14, out_features=29, bias=...  \n",
       "37  [Linear(in_features=14, out_features=29, bias=...  \n",
       "38  [Linear(in_features=14, out_features=29, bias=...  \n",
       "39  [Linear(in_features=14, out_features=29, bias=...  \n",
       "40  [Linear(in_features=14, out_features=29, bias=...  \n",
       "41  [Linear(in_features=14, out_features=29, bias=...  \n",
       "42  [Linear(in_features=14, out_features=29, bias=...  \n",
       "43  [Linear(in_features=14, out_features=29, bias=...  \n",
       "44  [Linear(in_features=14, out_features=29, bias=...  \n",
       "45  [Linear(in_features=14, out_features=29, bias=...  \n",
       "46  [Linear(in_features=14, out_features=29, bias=...  \n",
       "47  [Linear(in_features=14, out_features=29, bias=...  "
      ]
     },
     "execution_count": 40,
     "metadata": {},
     "output_type": "execute_result"
    }
   ],
   "source": [
    "grid_params = {\n",
    "    'learning_rate': [1, 0.1, 0.01, 0.001],\n",
    "    'num_epochs': [1000, 300, 200],\n",
    "    'dropout': [True, False],\n",
    "    'batch_norm': [True, False]\n",
    "}\n",
    "\n",
    "def grid_search(grid_params):\n",
    "    results = []\n",
    "    \n",
    "    # Генерируем все возможные сочетания параметров\n",
    "    # все возможные эксперименты из заданного набора\n",
    "    keys, values = zip(*grid_params.items())\n",
    "    experiments = [dict(zip(keys, v)) for v in itertools.product(*values)]\n",
    "    \n",
    "    for exp in experiments:\n",
    "        print(exp)\n",
    "        def init_weights(layer):\n",
    "            pass # без предварительной инициализации\n",
    "\n",
    "        num_neurons_per_layer = [14, 29, 6, 1]\n",
    "        net_layers = []\n",
    "\n",
    "        for i in range(1, len(num_neurons_per_layer) - 1):\n",
    "            net_layers.append(nn.Linear(num_neurons_per_layer[i-1], num_neurons_per_layer[i]))\n",
    "            if exp['batch_norm']:\n",
    "                net_layers.append(nn.BatchNorm1d(num_neurons_per_layer[i]))\n",
    "            net_layers.append(nn.ReLU())\n",
    "            if exp['dropout']:\n",
    "                if i in (1,2):\n",
    "                    net_layers.append(nn.Dropout(0.2))\n",
    "        net_layers.append(nn.Linear(num_neurons_per_layer[-2], num_neurons_per_layer[-1]))\n",
    "\n",
    "        estimators = neuronet(\n",
    "            X_train = X_train_ohe_sc_t,\n",
    "            y_train = y_train,\n",
    "            learning_rate = exp['learning_rate'],\n",
    "            num_epochs = exp['num_epochs'],\n",
    "            batch_size = 6,\n",
    "            net_layers=net_layers,\n",
    "            init_weights_func=init_weights,\n",
    "            out=False\n",
    "        )\n",
    "        \n",
    "        # Выбираем лучшую модель в рамках одного эксперимента\n",
    "        best_model = min(estimators)\n",
    "        exp['best_metric'] = best_model[0] #.item()\n",
    "        exp['best_model'] = best_model[1]\n",
    "        results.append(exp)\n",
    "    return results\n",
    "\n",
    "results = grid_search(grid_params)\n",
    "\n",
    "pd.DataFrame(results)"
   ]
  },
  {
   "cell_type": "markdown",
   "id": "26c42515",
   "metadata": {},
   "source": [
    "Лучшая модель по результатам перебора параметров"
   ]
  },
  {
   "cell_type": "code",
   "execution_count": 52,
   "id": "ffbede81",
   "metadata": {},
   "outputs": [
    {
     "data": {
      "text/html": [
       "<div>\n",
       "<style scoped>\n",
       "    .dataframe tbody tr th:only-of-type {\n",
       "        vertical-align: middle;\n",
       "    }\n",
       "\n",
       "    .dataframe tbody tr th {\n",
       "        vertical-align: top;\n",
       "    }\n",
       "\n",
       "    .dataframe thead th {\n",
       "        text-align: right;\n",
       "    }\n",
       "</style>\n",
       "<table border=\"1\" class=\"dataframe\">\n",
       "  <thead>\n",
       "    <tr style=\"text-align: right;\">\n",
       "      <th></th>\n",
       "      <th>learning_rate</th>\n",
       "      <th>num_epochs</th>\n",
       "      <th>dropout</th>\n",
       "      <th>batch_norm</th>\n",
       "      <th>best_metric</th>\n",
       "      <th>best_model</th>\n",
       "    </tr>\n",
       "  </thead>\n",
       "  <tbody>\n",
       "    <tr>\n",
       "      <th>18</th>\n",
       "      <td>0.1</td>\n",
       "      <td>300</td>\n",
       "      <td>False</td>\n",
       "      <td>True</td>\n",
       "      <td>2540.112549</td>\n",
       "      <td>[Linear(in_features=14, out_features=29, bias=...</td>\n",
       "    </tr>\n",
       "  </tbody>\n",
       "</table>\n",
       "</div>"
      ],
      "text/plain": [
       "    learning_rate  num_epochs  dropout  batch_norm  best_metric  \\\n",
       "18            0.1         300    False        True  2540.112549   \n",
       "\n",
       "                                           best_model  \n",
       "18  [Linear(in_features=14, out_features=29, bias=...  "
      ]
     },
     "execution_count": 52,
     "metadata": {},
     "output_type": "execute_result"
    }
   ],
   "source": [
    "t = pd.DataFrame(results)\n",
    "t.best_metric = t.best_metric.apply(lambda x: x.item())\n",
    "t[t.best_metric == t.best_metric.min()]"
   ]
  },
  {
   "cell_type": "markdown",
   "id": "0e35cc0d",
   "metadata": {},
   "source": [
    "На тестовой выборке"
   ]
  },
  {
   "cell_type": "code",
   "execution_count": 51,
   "id": "f0bfe8e8",
   "metadata": {},
   "outputs": [
    {
     "name": "stdout",
     "output_type": "stream",
     "text": [
      "4230.94287109375\n"
     ]
    }
   ],
   "source": [
    "test_predict = results[18]['best_model'].forward(X_test_ohe_sc_t)\n",
    "metric = rmse(test_predict, y_test_t.reshape(-1, 1))\n",
    "print(metric.item())"
   ]
  },
  {
   "cell_type": "code",
   "execution_count": 54,
   "id": "d02f2806",
   "metadata": {},
   "outputs": [
    {
     "data": {
      "text/html": [
       "<div>\n",
       "<style scoped>\n",
       "    .dataframe tbody tr th:only-of-type {\n",
       "        vertical-align: middle;\n",
       "    }\n",
       "\n",
       "    .dataframe tbody tr th {\n",
       "        vertical-align: top;\n",
       "    }\n",
       "\n",
       "    .dataframe thead th {\n",
       "        text-align: right;\n",
       "    }\n",
       "</style>\n",
       "<table border=\"1\" class=\"dataframe\">\n",
       "  <thead>\n",
       "    <tr style=\"text-align: right;\">\n",
       "      <th>dropout</th>\n",
       "      <th>False</th>\n",
       "      <th>True</th>\n",
       "    </tr>\n",
       "  </thead>\n",
       "  <tbody>\n",
       "    <tr>\n",
       "      <th>best_metric</th>\n",
       "      <td>4274.177643</td>\n",
       "      <td>4557.303569</td>\n",
       "    </tr>\n",
       "  </tbody>\n",
       "</table>\n",
       "</div>"
      ],
      "text/plain": [
       "dropout            False        True \n",
       "best_metric  4274.177643  4557.303569"
      ]
     },
     "execution_count": 54,
     "metadata": {},
     "output_type": "execute_result"
    }
   ],
   "source": [
    "t.pivot_table(columns='dropout', values='best_metric', aggfunc='mean')"
   ]
  },
  {
   "cell_type": "code",
   "execution_count": 55,
   "id": "ca1599f2",
   "metadata": {},
   "outputs": [
    {
     "data": {
      "text/html": [
       "<div>\n",
       "<style scoped>\n",
       "    .dataframe tbody tr th:only-of-type {\n",
       "        vertical-align: middle;\n",
       "    }\n",
       "\n",
       "    .dataframe tbody tr th {\n",
       "        vertical-align: top;\n",
       "    }\n",
       "\n",
       "    .dataframe thead th {\n",
       "        text-align: right;\n",
       "    }\n",
       "</style>\n",
       "<table border=\"1\" class=\"dataframe\">\n",
       "  <thead>\n",
       "    <tr style=\"text-align: right;\">\n",
       "      <th>batch_norm</th>\n",
       "      <th>False</th>\n",
       "      <th>True</th>\n",
       "    </tr>\n",
       "  </thead>\n",
       "  <tbody>\n",
       "    <tr>\n",
       "      <th>best_metric</th>\n",
       "      <td>4998.317596</td>\n",
       "      <td>3833.163615</td>\n",
       "    </tr>\n",
       "  </tbody>\n",
       "</table>\n",
       "</div>"
      ],
      "text/plain": [
       "batch_norm         False        True \n",
       "best_metric  4998.317596  3833.163615"
      ]
     },
     "execution_count": 55,
     "metadata": {},
     "output_type": "execute_result"
    }
   ],
   "source": [
    "t.pivot_table(columns='batch_norm', values='best_metric', aggfunc='mean')"
   ]
  },
  {
   "cell_type": "code",
   "execution_count": 57,
   "id": "a2ebd1a6",
   "metadata": {},
   "outputs": [
    {
     "data": {
      "text/plain": [
       "283"
      ]
     },
     "execution_count": 57,
     "metadata": {},
     "output_type": "execute_result"
    }
   ],
   "source": [
    "4557-4274"
   ]
  },
  {
   "cell_type": "markdown",
   "id": "27326058",
   "metadata": {},
   "source": [
    "### Вывод"
   ]
  },
  {
   "cell_type": "markdown",
   "id": "7d66df9c",
   "metadata": {},
   "source": [
    "- На экспериментах по улучшению модели было сделано предположение, что есть проблема в данных по тому что все возможные технихи были применены, но метрика оставалась низкой. Проблема оказалась в признаке цвета звёзд\n",
    "- Сильно улучшила метрику замена функции активации с `Tanh` на `ReLU`\n",
    "- Хорошего эффекта Batch Normalization не видно, если плохая функция активации\n",
    "- Модель работает чуть хуже лучше с Dropout в среднем с разницей 283 RMSE\n",
    "- Модель работает значительно лучше с Batch Normalization в среднем с разницей 1165 RMSE\n",
    "- Лучшей модели при переборе удалось достичь при **RMSE 2540** на валидационной выборке и таких параметрах\n",
    "    - `learning_rate = 0.1`\n",
    "    - `num_epochs = 300`\n",
    "    - `dropout = False`\n",
    "    - `batch_norm = True`\n",
    "- Метрика на тестовой выборке **RMSE 4230**"
   ]
  },
  {
   "cell_type": "markdown",
   "id": "accurate-infrastructure",
   "metadata": {},
   "source": [
    "## Выводы"
   ]
  },
  {
   "cell_type": "markdown",
   "id": "b176d1cd",
   "metadata": {},
   "source": [
    "**Анализ данных**\n",
    "\n",
    "- В датасете всго лишь 240 наблюдений\n",
    "- Температура звёзд находится в диапазоне от 1939 до 40000 по Кельвину, медиана 5776 градусов\n",
    "- Светимость звезды относительно Солнца от 0.00008 до 849420, медиана 0.0705\n",
    "- Радиус относительно Солнца от 0.0084 до 1948.5, медиана 0.7625\n",
    "- Абсолютная звёздная величина от -11.92 до 20.06, где чаще всего встречаются значения -7 и 13, а меньше всего 8\n",
    "- Количество звёзд каждого типа по 40, всего 6 типов\n",
    "\n",
    "**Результаты базовой модели**\n",
    "\n",
    "- Функция оптимизации `Adamax` лучше чем `Adam`\n",
    "- Изменение предварительной инициализации весов под имеющееся распределение не всегда способствует лучшему обучению\n",
    "- Под конкретную задачу не удалось получить хорошее предсказание используя только 1 скрытый слой\n",
    "- Для задачи регрессии в последнем слое лучше использовать не функцию активации, а линейную\n",
    "- Иногда при одних и тех же плохих гиперпараметрах сеть перестаёт хорошо обучаться, может выдать хорошую метрику, а затем плохую, т.е. плохая стабильность модели\n",
    "- В целом нужно много экспериментов и опыт для успешного подбора гиперпарметров: архитектура_сети, скорость обучения, количество эпох, размер батча, предварительная инициализация\n",
    "- Лучшая метрика на валидационной выборке была **RMSE 6371.9111**\n",
    "- Метрика на тестовой выборке **12146.8710**\n",
    "\n",
    "**Результаты улучшенной модели**\n",
    "\n",
    "- На экспериментах по улучшению модели было сделано предположение, что есть проблема в данных по тому что все возможные технихи были применены, но метрика оставалась низкой. Проблема оказалась в признаке цвета звёзд\n",
    "- Сильно улучшила метрику замена функции активации с `Tanh` на `ReLU`\n",
    "- Хорошего эффекта Batch Normalization не видно, если плохая функция активации\n",
    "- Модель работает чуть хуже лучше с Dropout в среднем с разницей 283 RMSE\n",
    "- Модель работает значительно лучше с Batch Normalization в среднем с разницей 1165 RMSE\n",
    "- Лучшей модели при переборе удалось достичь при **RMSE 2540** на валидационной выборке и таких параметрах\n",
    "    - `learning_rate = 0.1`\n",
    "    - `num_epochs = 300`\n",
    "    - `dropout = False`\n",
    "    - `batch_norm = True`\n",
    "- Метрика на тестовой выборке **RMSE 4230**"
   ]
  },
  {
   "cell_type": "code",
   "execution_count": 58,
   "id": "67fcd934",
   "metadata": {},
   "outputs": [
    {
     "data": {
      "image/png": "[encoded data removed]",
      "text/plain": [
       "<Figure size 720x576 with 1 Axes>"
      ]
     },
     "metadata": {
      "needs_background": "light"
     },
     "output_type": "display_data"
    }
   ],
   "source": [
    "plot_predict(results[18]['best_model'], X_train_ohe_sc_t, y_train_t, \"Предсказания лучшей модели\")"
   ]
  }
 ],
 "metadata": {
  "ExecuteTimeLog": [
   {
    "duration": 1396,
    "start_time": "2023-06-05T13:43:01.380Z"
   },
   {
    "duration": 131,
    "start_time": "2023-06-05T13:44:07.805Z"
   },
   {
    "duration": 65,
    "start_time": "2023-06-05T14:00:50.646Z"
   },
   {
    "duration": 32,
    "start_time": "2023-06-05T14:43:22.237Z"
   },
   {
    "duration": 37,
    "start_time": "2023-06-05T14:43:34.540Z"
   },
   {
    "duration": 11,
    "start_time": "2023-06-05T14:43:38.617Z"
   },
   {
    "duration": 33,
    "start_time": "2023-06-05T14:43:43.531Z"
   },
   {
    "duration": 33,
    "start_time": "2023-06-05T14:43:47.854Z"
   },
   {
    "duration": 34,
    "start_time": "2023-06-05T15:06:25.004Z"
   },
   {
    "duration": 10,
    "start_time": "2023-06-05T15:06:38.526Z"
   },
   {
    "duration": 5,
    "start_time": "2023-06-05T15:38:40.191Z"
   },
   {
    "duration": 183,
    "start_time": "2023-06-05T15:38:54.799Z"
   },
   {
    "duration": 140,
    "start_time": "2023-06-05T15:39:35.304Z"
   },
   {
    "duration": 4486,
    "start_time": "2023-06-05T15:39:45.185Z"
   },
   {
    "duration": 3733,
    "start_time": "2023-06-05T15:40:07.309Z"
   },
   {
    "duration": 4507,
    "start_time": "2023-06-05T15:40:18.309Z"
   },
   {
    "duration": 137,
    "start_time": "2023-06-05T15:40:25.133Z"
   },
   {
    "duration": 4322,
    "start_time": "2023-06-05T15:42:10.500Z"
   },
   {
    "duration": 9,
    "start_time": "2023-06-05T15:42:30.214Z"
   },
   {
    "duration": 4431,
    "start_time": "2023-06-05T15:42:53.091Z"
   },
   {
    "duration": 4457,
    "start_time": "2023-06-05T15:43:02.033Z"
   },
   {
    "duration": 4356,
    "start_time": "2023-06-05T15:43:37.391Z"
   },
   {
    "duration": 4365,
    "start_time": "2023-06-05T15:44:27.996Z"
   },
   {
    "duration": 4473,
    "start_time": "2023-06-05T15:44:49.759Z"
   },
   {
    "duration": 8,
    "start_time": "2023-06-05T15:45:30.299Z"
   },
   {
    "duration": 4337,
    "start_time": "2023-06-05T15:46:16.234Z"
   },
   {
    "duration": 4318,
    "start_time": "2023-06-05T15:46:38.253Z"
   },
   {
    "duration": 4489,
    "start_time": "2023-06-05T15:46:48.274Z"
   },
   {
    "duration": 4321,
    "start_time": "2023-06-05T15:47:58.190Z"
   },
   {
    "duration": 4608,
    "start_time": "2023-06-05T15:48:54.654Z"
   },
   {
    "duration": 141,
    "start_time": "2023-06-05T15:49:41.808Z"
   },
   {
    "duration": 141,
    "start_time": "2023-06-05T15:50:08.280Z"
   },
   {
    "duration": 6669,
    "start_time": "2023-06-05T15:50:36.549Z"
   },
   {
    "duration": 177,
    "start_time": "2023-06-05T15:51:09.416Z"
   },
   {
    "duration": 5,
    "start_time": "2023-06-05T15:51:27.834Z"
   },
   {
    "duration": 131,
    "start_time": "2023-06-05T15:51:38.396Z"
   },
   {
    "duration": 160,
    "start_time": "2023-06-05T15:52:04.558Z"
   },
   {
    "duration": 10,
    "start_time": "2023-06-05T15:52:16.146Z"
   },
   {
    "duration": 5,
    "start_time": "2023-06-05T15:52:26.191Z"
   },
   {
    "duration": 4,
    "start_time": "2023-06-05T15:52:43.694Z"
   },
   {
    "duration": 5,
    "start_time": "2023-06-05T15:53:57.391Z"
   },
   {
    "duration": 7,
    "start_time": "2023-06-05T15:58:19.430Z"
   },
   {
    "duration": 8,
    "start_time": "2023-06-05T15:58:24.291Z"
   },
   {
    "duration": 8,
    "start_time": "2023-06-05T15:58:28.199Z"
   },
   {
    "duration": 4,
    "start_time": "2023-06-05T15:58:31.997Z"
   },
   {
    "duration": 8,
    "start_time": "2023-06-05T15:58:39.347Z"
   },
   {
    "duration": 4,
    "start_time": "2023-06-05T15:58:42.507Z"
   },
   {
    "duration": 6,
    "start_time": "2023-06-05T15:58:51.978Z"
   },
   {
    "duration": 4,
    "start_time": "2023-06-05T15:59:03.526Z"
   },
   {
    "duration": 5,
    "start_time": "2023-06-05T16:00:43.873Z"
   },
   {
    "duration": 143,
    "start_time": "2023-06-05T16:00:51.792Z"
   },
   {
    "duration": 140,
    "start_time": "2023-06-05T16:00:59.436Z"
   },
   {
    "duration": 153,
    "start_time": "2023-06-05T16:01:05.924Z"
   },
   {
    "duration": 132,
    "start_time": "2023-06-05T16:01:12.988Z"
   },
   {
    "duration": 4,
    "start_time": "2023-06-05T16:01:23.663Z"
   },
   {
    "duration": 4,
    "start_time": "2023-06-05T16:01:29.804Z"
   },
   {
    "duration": 4,
    "start_time": "2023-06-05T16:01:35.758Z"
   },
   {
    "duration": 406,
    "start_time": "2023-06-05T16:01:56.729Z"
   },
   {
    "duration": 157,
    "start_time": "2023-06-05T16:02:05.737Z"
   },
   {
    "duration": 152,
    "start_time": "2023-06-05T16:02:53.160Z"
   },
   {
    "duration": 150,
    "start_time": "2023-06-05T16:03:13.206Z"
   },
   {
    "duration": 142,
    "start_time": "2023-06-05T16:03:40.852Z"
   },
   {
    "duration": 6,
    "start_time": "2023-06-05T16:04:50.422Z"
   },
   {
    "duration": 146,
    "start_time": "2023-06-05T16:04:56.460Z"
   },
   {
    "duration": 6,
    "start_time": "2023-06-05T16:05:05.019Z"
   },
   {
    "duration": 17,
    "start_time": "2023-06-05T16:05:55.139Z"
   },
   {
    "duration": 15,
    "start_time": "2023-06-05T16:06:02.994Z"
   },
   {
    "duration": 7,
    "start_time": "2023-06-05T16:07:36.011Z"
   },
   {
    "duration": 5,
    "start_time": "2023-06-05T16:07:41.412Z"
   },
   {
    "duration": 10,
    "start_time": "2023-06-05T16:08:11.260Z"
   },
   {
    "duration": 6,
    "start_time": "2023-06-05T16:08:16.264Z"
   },
   {
    "duration": 5,
    "start_time": "2023-06-05T16:10:39.235Z"
   },
   {
    "duration": 37,
    "start_time": "2023-06-05T16:15:09.318Z"
   },
   {
    "duration": 4,
    "start_time": "2023-06-05T16:15:41.720Z"
   },
   {
    "duration": 3,
    "start_time": "2023-06-05T16:15:52.698Z"
   },
   {
    "duration": 4,
    "start_time": "2023-06-05T16:45:03.442Z"
   },
   {
    "duration": 5,
    "start_time": "2023-06-05T16:45:19.875Z"
   },
   {
    "duration": 6,
    "start_time": "2023-06-05T17:01:13.834Z"
   },
   {
    "duration": 2388,
    "start_time": "2023-06-05T17:01:24.046Z"
   },
   {
    "duration": 6536,
    "start_time": "2023-06-05T17:02:09.086Z"
   },
   {
    "duration": 46,
    "start_time": "2023-06-05T19:02:40.081Z"
   },
   {
    "duration": 0,
    "start_time": "2023-06-05T19:02:40.129Z"
   },
   {
    "duration": 0,
    "start_time": "2023-06-05T19:02:40.130Z"
   },
   {
    "duration": 0,
    "start_time": "2023-06-05T19:02:40.132Z"
   },
   {
    "duration": 0,
    "start_time": "2023-06-05T19:02:40.133Z"
   },
   {
    "duration": 0,
    "start_time": "2023-06-05T19:02:40.135Z"
   },
   {
    "duration": 0,
    "start_time": "2023-06-05T19:02:40.136Z"
   },
   {
    "duration": 0,
    "start_time": "2023-06-05T19:02:40.138Z"
   },
   {
    "duration": 0,
    "start_time": "2023-06-05T19:02:40.139Z"
   },
   {
    "duration": 0,
    "start_time": "2023-06-05T19:02:40.140Z"
   },
   {
    "duration": 0,
    "start_time": "2023-06-05T19:02:40.141Z"
   },
   {
    "duration": 0,
    "start_time": "2023-06-05T19:02:40.143Z"
   },
   {
    "duration": 0,
    "start_time": "2023-06-05T19:02:40.175Z"
   },
   {
    "duration": 0,
    "start_time": "2023-06-05T19:02:40.176Z"
   },
   {
    "duration": 0,
    "start_time": "2023-06-05T19:02:40.178Z"
   },
   {
    "duration": 0,
    "start_time": "2023-06-05T19:02:40.179Z"
   },
   {
    "duration": 1147,
    "start_time": "2023-06-05T19:02:51.181Z"
   },
   {
    "duration": 28,
    "start_time": "2023-06-05T19:02:52.330Z"
   },
   {
    "duration": 20,
    "start_time": "2023-06-05T19:02:52.360Z"
   },
   {
    "duration": 13,
    "start_time": "2023-06-05T19:02:52.381Z"
   },
   {
    "duration": 6391,
    "start_time": "2023-06-05T19:02:52.396Z"
   },
   {
    "duration": 4,
    "start_time": "2023-06-05T19:02:58.788Z"
   },
   {
    "duration": 12,
    "start_time": "2023-06-05T19:02:58.793Z"
   },
   {
    "duration": 292,
    "start_time": "2023-06-05T19:02:58.806Z"
   },
   {
    "duration": 136,
    "start_time": "2023-06-05T19:02:59.100Z"
   },
   {
    "duration": 150,
    "start_time": "2023-06-05T19:02:59.238Z"
   },
   {
    "duration": 138,
    "start_time": "2023-06-05T19:02:59.390Z"
   },
   {
    "duration": 5,
    "start_time": "2023-06-05T19:02:59.529Z"
   },
   {
    "duration": 10,
    "start_time": "2023-06-05T19:02:59.535Z"
   },
   {
    "duration": 5,
    "start_time": "2023-06-05T19:02:59.547Z"
   },
   {
    "duration": 23,
    "start_time": "2023-06-05T19:02:59.553Z"
   },
   {
    "duration": 783,
    "start_time": "2023-06-05T19:04:57.296Z"
   },
   {
    "duration": 3,
    "start_time": "2023-06-05T19:05:02.400Z"
   },
   {
    "duration": 8,
    "start_time": "2023-06-06T07:50:10.933Z"
   },
   {
    "duration": 12,
    "start_time": "2023-06-06T17:14:54.780Z"
   },
   {
    "duration": 81,
    "start_time": "2023-06-06T17:14:58.680Z"
   },
   {
    "duration": 4,
    "start_time": "2023-06-06T17:15:03.381Z"
   },
   {
    "duration": 4,
    "start_time": "2023-06-06T17:15:12.652Z"
   },
   {
    "duration": 2154,
    "start_time": "2023-06-06T17:18:19.436Z"
   },
   {
    "duration": 4,
    "start_time": "2023-06-06T17:18:36.055Z"
   },
   {
    "duration": 3,
    "start_time": "2023-06-06T17:52:32.684Z"
   },
   {
    "duration": 139,
    "start_time": "2023-06-06T17:52:32.689Z"
   },
   {
    "duration": 0,
    "start_time": "2023-06-06T17:52:32.830Z"
   },
   {
    "duration": 0,
    "start_time": "2023-06-06T17:52:32.830Z"
   },
   {
    "duration": 0,
    "start_time": "2023-06-06T17:52:32.832Z"
   },
   {
    "duration": 0,
    "start_time": "2023-06-06T17:52:32.833Z"
   },
   {
    "duration": 0,
    "start_time": "2023-06-06T17:52:32.834Z"
   },
   {
    "duration": 0,
    "start_time": "2023-06-06T17:52:32.835Z"
   },
   {
    "duration": 0,
    "start_time": "2023-06-06T17:52:32.836Z"
   },
   {
    "duration": 0,
    "start_time": "2023-06-06T17:52:32.837Z"
   },
   {
    "duration": 0,
    "start_time": "2023-06-06T17:52:32.838Z"
   },
   {
    "duration": 0,
    "start_time": "2023-06-06T17:52:32.839Z"
   },
   {
    "duration": 0,
    "start_time": "2023-06-06T17:52:32.841Z"
   },
   {
    "duration": 0,
    "start_time": "2023-06-06T17:52:32.842Z"
   },
   {
    "duration": 0,
    "start_time": "2023-06-06T17:52:32.844Z"
   },
   {
    "duration": 0,
    "start_time": "2023-06-06T17:52:32.845Z"
   },
   {
    "duration": 3,
    "start_time": "2023-06-06T17:52:54.144Z"
   },
   {
    "duration": 18,
    "start_time": "2023-06-06T17:52:54.148Z"
   },
   {
    "duration": 0,
    "start_time": "2023-06-06T17:52:54.168Z"
   },
   {
    "duration": 0,
    "start_time": "2023-06-06T17:52:54.169Z"
   },
   {
    "duration": 0,
    "start_time": "2023-06-06T17:52:54.170Z"
   },
   {
    "duration": 0,
    "start_time": "2023-06-06T17:52:54.170Z"
   },
   {
    "duration": 0,
    "start_time": "2023-06-06T17:52:54.171Z"
   },
   {
    "duration": 0,
    "start_time": "2023-06-06T17:52:54.172Z"
   },
   {
    "duration": 0,
    "start_time": "2023-06-06T17:52:54.173Z"
   },
   {
    "duration": 0,
    "start_time": "2023-06-06T17:52:54.173Z"
   },
   {
    "duration": 0,
    "start_time": "2023-06-06T17:52:54.175Z"
   },
   {
    "duration": 0,
    "start_time": "2023-06-06T17:52:54.175Z"
   },
   {
    "duration": 0,
    "start_time": "2023-06-06T17:52:54.176Z"
   },
   {
    "duration": 0,
    "start_time": "2023-06-06T17:52:54.178Z"
   },
   {
    "duration": 0,
    "start_time": "2023-06-06T17:52:54.178Z"
   },
   {
    "duration": 0,
    "start_time": "2023-06-06T17:52:54.179Z"
   },
   {
    "duration": 4,
    "start_time": "2023-06-06T17:53:12.704Z"
   },
   {
    "duration": 3,
    "start_time": "2023-06-06T17:53:19.208Z"
   },
   {
    "duration": 7,
    "start_time": "2023-06-06T17:53:21.422Z"
   },
   {
    "duration": 3,
    "start_time": "2023-06-06T17:53:28.075Z"
   },
   {
    "duration": 5,
    "start_time": "2023-06-06T17:53:28.079Z"
   },
   {
    "duration": 6,
    "start_time": "2023-06-06T17:53:28.086Z"
   },
   {
    "duration": 132,
    "start_time": "2023-06-06T17:53:28.094Z"
   },
   {
    "duration": 10,
    "start_time": "2023-06-06T17:53:28.228Z"
   },
   {
    "duration": 13,
    "start_time": "2023-06-06T17:53:28.240Z"
   },
   {
    "duration": 11,
    "start_time": "2023-06-06T17:53:28.255Z"
   },
   {
    "duration": 7,
    "start_time": "2023-06-06T17:53:28.268Z"
   },
   {
    "duration": 4,
    "start_time": "2023-06-06T17:53:28.276Z"
   },
   {
    "duration": 141,
    "start_time": "2023-06-06T17:53:28.281Z"
   },
   {
    "duration": 128,
    "start_time": "2023-06-06T17:53:28.424Z"
   },
   {
    "duration": 135,
    "start_time": "2023-06-06T17:53:28.554Z"
   },
   {
    "duration": 121,
    "start_time": "2023-06-06T17:53:28.690Z"
   },
   {
    "duration": 4,
    "start_time": "2023-06-06T17:53:28.816Z"
   },
   {
    "duration": 19,
    "start_time": "2023-06-06T17:53:28.821Z"
   },
   {
    "duration": 12,
    "start_time": "2023-06-06T17:53:28.842Z"
   },
   {
    "duration": 11,
    "start_time": "2023-06-06T17:53:42.663Z"
   },
   {
    "duration": 10,
    "start_time": "2023-06-06T17:53:48.896Z"
   },
   {
    "duration": 4,
    "start_time": "2023-06-06T17:53:55.768Z"
   },
   {
    "duration": 4,
    "start_time": "2023-06-06T17:54:44.081Z"
   },
   {
    "duration": 9,
    "start_time": "2023-06-06T17:55:01.964Z"
   },
   {
    "duration": 16,
    "start_time": "2023-06-06T17:55:08.356Z"
   },
   {
    "duration": 11,
    "start_time": "2023-06-06T17:55:17.998Z"
   },
   {
    "duration": 13,
    "start_time": "2023-06-06T17:55:20.439Z"
   },
   {
    "duration": 10,
    "start_time": "2023-06-06T17:55:36.513Z"
   },
   {
    "duration": 9,
    "start_time": "2023-06-06T17:55:48.875Z"
   },
   {
    "duration": 11,
    "start_time": "2023-06-06T17:55:56.359Z"
   },
   {
    "duration": 10,
    "start_time": "2023-06-06T17:56:29.227Z"
   },
   {
    "duration": 12,
    "start_time": "2023-06-06T17:56:34.516Z"
   },
   {
    "duration": 52,
    "start_time": "2023-06-06T17:57:06.633Z"
   },
   {
    "duration": 23,
    "start_time": "2023-06-06T17:57:31.425Z"
   },
   {
    "duration": 36,
    "start_time": "2023-06-06T17:57:36.928Z"
   },
   {
    "duration": 18,
    "start_time": "2023-06-06T18:04:47.914Z"
   },
   {
    "duration": 8,
    "start_time": "2023-06-06T18:05:16.315Z"
   },
   {
    "duration": 8,
    "start_time": "2023-06-06T18:05:21.703Z"
   },
   {
    "duration": 4,
    "start_time": "2023-06-06T18:05:44.054Z"
   },
   {
    "duration": 7,
    "start_time": "2023-06-06T18:05:54.329Z"
   },
   {
    "duration": 5,
    "start_time": "2023-06-06T18:05:59.266Z"
   },
   {
    "duration": 11,
    "start_time": "2023-06-06T18:06:09.195Z"
   },
   {
    "duration": 9,
    "start_time": "2023-06-06T18:06:56.489Z"
   },
   {
    "duration": 10,
    "start_time": "2023-06-06T18:07:00.802Z"
   },
   {
    "duration": 12,
    "start_time": "2023-06-06T18:12:44.025Z"
   },
   {
    "duration": 3,
    "start_time": "2023-06-06T18:13:08.431Z"
   },
   {
    "duration": 104,
    "start_time": "2023-06-06T18:13:16.403Z"
   },
   {
    "duration": 7,
    "start_time": "2023-06-06T18:13:21.953Z"
   },
   {
    "duration": 10,
    "start_time": "2023-06-06T18:16:42.627Z"
   },
   {
    "duration": 10,
    "start_time": "2023-06-06T18:20:35.893Z"
   },
   {
    "duration": 39,
    "start_time": "2023-06-06T18:20:51.504Z"
   },
   {
    "duration": 9,
    "start_time": "2023-06-06T18:21:03.390Z"
   },
   {
    "duration": 21,
    "start_time": "2023-06-06T18:22:59.053Z"
   },
   {
    "duration": 9,
    "start_time": "2023-06-06T18:23:07.632Z"
   },
   {
    "duration": 9,
    "start_time": "2023-06-06T18:23:15.753Z"
   },
   {
    "duration": 9,
    "start_time": "2023-06-06T18:24:06.527Z"
   },
   {
    "duration": 11,
    "start_time": "2023-06-06T18:24:13.957Z"
   },
   {
    "duration": 11,
    "start_time": "2023-06-06T18:25:02.501Z"
   },
   {
    "duration": 1028,
    "start_time": "2023-06-06T18:30:09.310Z"
   },
   {
    "duration": 992,
    "start_time": "2023-06-06T18:32:46.647Z"
   },
   {
    "duration": 936,
    "start_time": "2023-06-06T18:33:50.101Z"
   },
   {
    "duration": 587,
    "start_time": "2023-06-06T18:34:08.744Z"
   },
   {
    "duration": 289,
    "start_time": "2023-06-06T18:34:43.546Z"
   },
   {
    "duration": 264,
    "start_time": "2023-06-06T18:34:52.561Z"
   },
   {
    "duration": 3359,
    "start_time": "2023-06-06T18:35:15.674Z"
   },
   {
    "duration": 3076,
    "start_time": "2023-06-06T18:35:27.054Z"
   },
   {
    "duration": 3010,
    "start_time": "2023-06-06T18:35:39.726Z"
   },
   {
    "duration": 315,
    "start_time": "2023-06-06T18:36:49.316Z"
   },
   {
    "duration": 229,
    "start_time": "2023-06-06T18:38:19.698Z"
   },
   {
    "duration": 179,
    "start_time": "2023-06-06T18:40:44.586Z"
   },
   {
    "duration": 17,
    "start_time": "2023-06-06T18:41:07.647Z"
   },
   {
    "duration": 389,
    "start_time": "2023-06-06T18:41:15.834Z"
   },
   {
    "duration": 4,
    "start_time": "2023-06-06T18:42:48.998Z"
   },
   {
    "duration": 16,
    "start_time": "2023-06-06T18:43:52.553Z"
   },
   {
    "duration": 317,
    "start_time": "2023-06-06T18:44:14.514Z"
   },
   {
    "duration": 301,
    "start_time": "2023-06-06T18:44:30.017Z"
   },
   {
    "duration": 273,
    "start_time": "2023-06-06T18:44:39.744Z"
   },
   {
    "duration": 231,
    "start_time": "2023-06-06T18:55:51.106Z"
   },
   {
    "duration": 4931,
    "start_time": "2023-06-06T18:56:22.803Z"
   },
   {
    "duration": 274,
    "start_time": "2023-06-06T19:00:26.949Z"
   },
   {
    "duration": 310,
    "start_time": "2023-06-06T19:03:06.910Z"
   },
   {
    "duration": 276,
    "start_time": "2023-06-06T19:03:30.558Z"
   },
   {
    "duration": 280,
    "start_time": "2023-06-06T19:04:49.342Z"
   },
   {
    "duration": 303,
    "start_time": "2023-06-06T19:05:05.416Z"
   },
   {
    "duration": 16,
    "start_time": "2023-06-06T19:05:25.834Z"
   },
   {
    "duration": 154,
    "start_time": "2023-06-06T19:05:37.575Z"
   },
   {
    "duration": 194,
    "start_time": "2023-06-06T19:05:57.034Z"
   },
   {
    "duration": 203,
    "start_time": "2023-06-06T19:06:15.826Z"
   },
   {
    "duration": 178,
    "start_time": "2023-06-06T19:06:24.145Z"
   },
   {
    "duration": 214,
    "start_time": "2023-06-06T19:06:34.417Z"
   },
   {
    "duration": 10,
    "start_time": "2023-06-06T19:09:32.318Z"
   },
   {
    "duration": 18,
    "start_time": "2023-06-06T19:12:22.948Z"
   },
   {
    "duration": 317,
    "start_time": "2023-06-06T19:12:45.813Z"
   },
   {
    "duration": 20,
    "start_time": "2023-06-06T19:14:06.674Z"
   },
   {
    "duration": 279,
    "start_time": "2023-06-06T19:14:12.949Z"
   },
   {
    "duration": 244,
    "start_time": "2023-06-06T19:15:14.085Z"
   },
   {
    "duration": 257,
    "start_time": "2023-06-06T19:15:36.679Z"
   },
   {
    "duration": 286,
    "start_time": "2023-06-06T19:16:03.053Z"
   },
   {
    "duration": 290,
    "start_time": "2023-06-06T19:16:13.941Z"
   },
   {
    "duration": 251,
    "start_time": "2023-06-06T19:16:22.380Z"
   },
   {
    "duration": 241,
    "start_time": "2023-06-06T19:16:37.885Z"
   },
   {
    "duration": 338,
    "start_time": "2023-06-06T19:16:50.581Z"
   },
   {
    "duration": 3508,
    "start_time": "2023-06-06T19:17:07.714Z"
   },
   {
    "duration": 3749,
    "start_time": "2023-06-06T19:18:08.385Z"
   },
   {
    "duration": 291,
    "start_time": "2023-06-06T19:18:24.748Z"
   },
   {
    "duration": 261,
    "start_time": "2023-06-06T19:18:37.180Z"
   },
   {
    "duration": 335,
    "start_time": "2023-06-06T19:18:53.805Z"
   },
   {
    "duration": 2502,
    "start_time": "2023-06-07T12:38:40.967Z"
   },
   {
    "duration": 0,
    "start_time": "2023-06-07T12:38:43.472Z"
   },
   {
    "duration": 0,
    "start_time": "2023-06-07T12:38:43.474Z"
   },
   {
    "duration": 0,
    "start_time": "2023-06-07T12:38:43.475Z"
   },
   {
    "duration": 0,
    "start_time": "2023-06-07T12:38:43.477Z"
   },
   {
    "duration": 0,
    "start_time": "2023-06-07T12:38:43.478Z"
   },
   {
    "duration": 0,
    "start_time": "2023-06-07T12:38:43.479Z"
   },
   {
    "duration": 0,
    "start_time": "2023-06-07T12:38:43.481Z"
   },
   {
    "duration": 0,
    "start_time": "2023-06-07T12:38:43.482Z"
   },
   {
    "duration": 0,
    "start_time": "2023-06-07T12:38:43.483Z"
   },
   {
    "duration": 0,
    "start_time": "2023-06-07T12:38:43.485Z"
   },
   {
    "duration": 0,
    "start_time": "2023-06-07T12:38:43.488Z"
   },
   {
    "duration": 0,
    "start_time": "2023-06-07T12:38:43.489Z"
   },
   {
    "duration": 0,
    "start_time": "2023-06-07T12:38:43.491Z"
   },
   {
    "duration": 0,
    "start_time": "2023-06-07T12:38:43.493Z"
   },
   {
    "duration": 0,
    "start_time": "2023-06-07T12:38:43.494Z"
   },
   {
    "duration": 0,
    "start_time": "2023-06-07T12:38:43.495Z"
   },
   {
    "duration": 0,
    "start_time": "2023-06-07T12:38:43.496Z"
   },
   {
    "duration": 0,
    "start_time": "2023-06-07T12:38:43.498Z"
   },
   {
    "duration": 0,
    "start_time": "2023-06-07T12:38:43.558Z"
   },
   {
    "duration": 0,
    "start_time": "2023-06-07T12:38:43.559Z"
   },
   {
    "duration": 0,
    "start_time": "2023-06-07T12:38:43.561Z"
   },
   {
    "duration": 0,
    "start_time": "2023-06-07T12:38:43.563Z"
   },
   {
    "duration": 13,
    "start_time": "2023-06-07T12:39:08.157Z"
   },
   {
    "duration": 0,
    "start_time": "2023-06-07T12:39:08.171Z"
   },
   {
    "duration": 0,
    "start_time": "2023-06-07T12:39:08.173Z"
   },
   {
    "duration": 0,
    "start_time": "2023-06-07T12:39:08.174Z"
   },
   {
    "duration": 0,
    "start_time": "2023-06-07T12:39:08.175Z"
   },
   {
    "duration": 0,
    "start_time": "2023-06-07T12:39:08.176Z"
   },
   {
    "duration": 0,
    "start_time": "2023-06-07T12:39:08.177Z"
   },
   {
    "duration": 0,
    "start_time": "2023-06-07T12:39:08.178Z"
   },
   {
    "duration": 0,
    "start_time": "2023-06-07T12:39:08.180Z"
   },
   {
    "duration": 0,
    "start_time": "2023-06-07T12:39:08.181Z"
   },
   {
    "duration": 0,
    "start_time": "2023-06-07T12:39:08.182Z"
   },
   {
    "duration": 0,
    "start_time": "2023-06-07T12:39:08.183Z"
   },
   {
    "duration": 0,
    "start_time": "2023-06-07T12:39:08.185Z"
   },
   {
    "duration": 0,
    "start_time": "2023-06-07T12:39:08.186Z"
   },
   {
    "duration": 0,
    "start_time": "2023-06-07T12:39:08.187Z"
   },
   {
    "duration": 66,
    "start_time": "2023-06-07T12:39:08.191Z"
   },
   {
    "duration": 0,
    "start_time": "2023-06-07T12:39:08.259Z"
   },
   {
    "duration": 0,
    "start_time": "2023-06-07T12:39:08.260Z"
   },
   {
    "duration": 0,
    "start_time": "2023-06-07T12:39:08.261Z"
   },
   {
    "duration": 153,
    "start_time": "2023-06-07T12:39:08.307Z"
   },
   {
    "duration": 0,
    "start_time": "2023-06-07T12:39:08.462Z"
   },
   {
    "duration": 0,
    "start_time": "2023-06-07T12:39:08.463Z"
   },
   {
    "duration": 0,
    "start_time": "2023-06-07T12:39:08.464Z"
   },
   {
    "duration": 3,
    "start_time": "2023-06-07T12:39:33.131Z"
   },
   {
    "duration": 4,
    "start_time": "2023-06-07T12:39:36.104Z"
   },
   {
    "duration": 11,
    "start_time": "2023-06-07T12:39:36.110Z"
   },
   {
    "duration": 9,
    "start_time": "2023-06-07T12:39:36.122Z"
   },
   {
    "duration": 74,
    "start_time": "2023-06-07T12:39:36.133Z"
   },
   {
    "duration": 16,
    "start_time": "2023-06-07T12:39:36.210Z"
   },
   {
    "duration": 13,
    "start_time": "2023-06-07T12:39:36.227Z"
   },
   {
    "duration": 4,
    "start_time": "2023-06-07T12:39:36.242Z"
   },
   {
    "duration": 6,
    "start_time": "2023-06-07T12:39:36.248Z"
   },
   {
    "duration": 4,
    "start_time": "2023-06-07T12:39:36.256Z"
   },
   {
    "duration": 168,
    "start_time": "2023-06-07T12:39:36.262Z"
   },
   {
    "duration": 186,
    "start_time": "2023-06-07T12:39:36.432Z"
   },
   {
    "duration": 180,
    "start_time": "2023-06-07T12:39:36.620Z"
   },
   {
    "duration": 169,
    "start_time": "2023-06-07T12:39:36.802Z"
   },
   {
    "duration": 6,
    "start_time": "2023-06-07T12:39:36.973Z"
   },
   {
    "duration": 16,
    "start_time": "2023-06-07T12:39:36.980Z"
   },
   {
    "duration": 31,
    "start_time": "2023-06-07T12:39:36.997Z"
   },
   {
    "duration": 6,
    "start_time": "2023-06-07T12:39:37.030Z"
   },
   {
    "duration": 24,
    "start_time": "2023-06-07T12:39:37.038Z"
   },
   {
    "duration": 15,
    "start_time": "2023-06-07T12:39:37.064Z"
   },
   {
    "duration": 693,
    "start_time": "2023-06-07T12:39:37.081Z"
   },
   {
    "duration": 4,
    "start_time": "2023-06-07T12:39:37.776Z"
   },
   {
    "duration": 8,
    "start_time": "2023-06-07T12:39:37.782Z"
   },
   {
    "duration": 100,
    "start_time": "2023-06-07T12:39:37.791Z"
   },
   {
    "duration": 2,
    "start_time": "2023-06-07T12:40:04.490Z"
   },
   {
    "duration": 4,
    "start_time": "2023-06-07T12:40:41.123Z"
   },
   {
    "duration": 16,
    "start_time": "2023-06-07T12:41:31.031Z"
   },
   {
    "duration": 35,
    "start_time": "2023-06-07T12:43:37.867Z"
   },
   {
    "duration": 14,
    "start_time": "2023-06-07T12:43:58.621Z"
   },
   {
    "duration": 7,
    "start_time": "2023-06-07T12:44:28.045Z"
   },
   {
    "duration": 12,
    "start_time": "2023-06-07T12:46:08.423Z"
   },
   {
    "duration": 16,
    "start_time": "2023-06-07T12:47:16.131Z"
   },
   {
    "duration": 5,
    "start_time": "2023-06-07T12:48:30.936Z"
   },
   {
    "duration": 18,
    "start_time": "2023-06-07T12:48:35.474Z"
   },
   {
    "duration": 10,
    "start_time": "2023-06-07T12:48:53.889Z"
   },
   {
    "duration": 6,
    "start_time": "2023-06-07T12:49:02.453Z"
   },
   {
    "duration": 8,
    "start_time": "2023-06-07T12:49:06.375Z"
   },
   {
    "duration": 10,
    "start_time": "2023-06-07T12:49:58.459Z"
   },
   {
    "duration": 12,
    "start_time": "2023-06-07T12:52:39.570Z"
   },
   {
    "duration": 12,
    "start_time": "2023-06-07T12:52:46.811Z"
   },
   {
    "duration": 10,
    "start_time": "2023-06-07T12:52:59.203Z"
   },
   {
    "duration": 5,
    "start_time": "2023-06-07T12:53:04.229Z"
   },
   {
    "duration": 12,
    "start_time": "2023-06-07T12:53:15.181Z"
   },
   {
    "duration": 30,
    "start_time": "2023-06-07T12:53:31.842Z"
   },
   {
    "duration": 13,
    "start_time": "2023-06-07T12:53:46.378Z"
   },
   {
    "duration": 12,
    "start_time": "2023-06-07T12:53:50.898Z"
   },
   {
    "duration": 14,
    "start_time": "2023-06-07T13:11:23.939Z"
   },
   {
    "duration": 17,
    "start_time": "2023-06-07T13:11:36.268Z"
   },
   {
    "duration": 9,
    "start_time": "2023-06-07T13:11:40.422Z"
   },
   {
    "duration": 5,
    "start_time": "2023-06-07T13:11:48.449Z"
   },
   {
    "duration": 12,
    "start_time": "2023-06-07T13:12:31.708Z"
   },
   {
    "duration": 13,
    "start_time": "2023-06-07T13:13:21.850Z"
   },
   {
    "duration": 11,
    "start_time": "2023-06-07T13:13:37.518Z"
   },
   {
    "duration": 4,
    "start_time": "2023-06-07T13:13:53.603Z"
   },
   {
    "duration": 16,
    "start_time": "2023-06-07T13:14:10.266Z"
   },
   {
    "duration": 6,
    "start_time": "2023-06-07T13:14:20.533Z"
   },
   {
    "duration": 16,
    "start_time": "2023-06-07T13:16:19.726Z"
   },
   {
    "duration": 11,
    "start_time": "2023-06-07T13:16:48.737Z"
   },
   {
    "duration": 30,
    "start_time": "2023-06-07T13:16:58.095Z"
   },
   {
    "duration": 16,
    "start_time": "2023-06-07T13:17:08.676Z"
   },
   {
    "duration": 11,
    "start_time": "2023-06-07T13:17:18.795Z"
   },
   {
    "duration": 19,
    "start_time": "2023-06-07T13:17:28.545Z"
   },
   {
    "duration": 24,
    "start_time": "2023-06-07T13:17:35.450Z"
   },
   {
    "duration": 18,
    "start_time": "2023-06-07T13:17:36.925Z"
   },
   {
    "duration": 6,
    "start_time": "2023-06-07T13:20:53.595Z"
   },
   {
    "duration": 7,
    "start_time": "2023-06-07T13:20:59.091Z"
   },
   {
    "duration": 4,
    "start_time": "2023-06-07T13:21:04.889Z"
   },
   {
    "duration": 4,
    "start_time": "2023-06-07T13:21:08.948Z"
   },
   {
    "duration": 4,
    "start_time": "2023-06-07T13:21:29.044Z"
   },
   {
    "duration": 597,
    "start_time": "2023-06-07T13:23:12.987Z"
   },
   {
    "duration": 466,
    "start_time": "2023-06-07T13:23:47.118Z"
   },
   {
    "duration": 484,
    "start_time": "2023-06-07T13:23:57.304Z"
   },
   {
    "duration": 516,
    "start_time": "2023-06-07T13:24:16.274Z"
   },
   {
    "duration": 511,
    "start_time": "2023-06-07T13:24:36.077Z"
   },
   {
    "duration": 671,
    "start_time": "2023-06-07T13:24:49.588Z"
   },
   {
    "duration": 1712,
    "start_time": "2023-06-07T13:25:30.280Z"
   },
   {
    "duration": 575,
    "start_time": "2023-06-07T13:26:43.500Z"
   },
   {
    "duration": 3761,
    "start_time": "2023-06-07T13:28:35.913Z"
   },
   {
    "duration": 3725,
    "start_time": "2023-06-07T13:34:52.954Z"
   },
   {
    "duration": 2987,
    "start_time": "2023-06-07T13:35:27.874Z"
   },
   {
    "duration": 3440,
    "start_time": "2023-06-07T13:35:43.623Z"
   },
   {
    "duration": 3423,
    "start_time": "2023-06-07T13:35:52.652Z"
   },
   {
    "duration": 4580,
    "start_time": "2023-06-07T13:36:08.484Z"
   },
   {
    "duration": 4440,
    "start_time": "2023-06-07T13:36:19.136Z"
   },
   {
    "duration": 5887,
    "start_time": "2023-06-07T13:37:06.777Z"
   },
   {
    "duration": 17708,
    "start_time": "2023-06-07T13:37:26.375Z"
   },
   {
    "duration": 2465,
    "start_time": "2023-06-07T13:38:10.430Z"
   },
   {
    "duration": 4,
    "start_time": "2023-06-07T13:38:12.897Z"
   },
   {
    "duration": 4,
    "start_time": "2023-06-07T13:38:12.902Z"
   },
   {
    "duration": 42,
    "start_time": "2023-06-07T13:38:12.960Z"
   },
   {
    "duration": 180,
    "start_time": "2023-06-07T13:38:13.004Z"
   },
   {
    "duration": 72,
    "start_time": "2023-06-07T13:38:13.186Z"
   },
   {
    "duration": 4,
    "start_time": "2023-06-07T13:38:13.260Z"
   },
   {
    "duration": 11,
    "start_time": "2023-06-07T13:38:13.266Z"
   },
   {
    "duration": 11,
    "start_time": "2023-06-07T13:38:13.279Z"
   },
   {
    "duration": 399,
    "start_time": "2023-06-07T13:38:13.291Z"
   },
   {
    "duration": 303,
    "start_time": "2023-06-07T13:38:13.691Z"
   },
   {
    "duration": 349,
    "start_time": "2023-06-07T13:38:13.996Z"
   },
   {
    "duration": 140,
    "start_time": "2023-06-07T13:38:14.347Z"
   },
   {
    "duration": 5,
    "start_time": "2023-06-07T13:38:14.490Z"
   },
   {
    "duration": 7,
    "start_time": "2023-06-07T13:38:14.497Z"
   },
   {
    "duration": 18,
    "start_time": "2023-06-07T13:38:14.505Z"
   },
   {
    "duration": 32,
    "start_time": "2023-06-07T13:38:14.524Z"
   },
   {
    "duration": 7,
    "start_time": "2023-06-07T13:38:14.558Z"
   },
   {
    "duration": 17,
    "start_time": "2023-06-07T13:38:14.567Z"
   },
   {
    "duration": 25,
    "start_time": "2023-06-07T13:38:14.586Z"
   },
   {
    "duration": 17,
    "start_time": "2023-06-07T13:38:14.612Z"
   },
   {
    "duration": 21,
    "start_time": "2023-06-07T13:38:14.631Z"
   },
   {
    "duration": 22,
    "start_time": "2023-06-07T13:38:14.653Z"
   },
   {
    "duration": 148,
    "start_time": "2023-06-07T13:38:14.677Z"
   },
   {
    "duration": 0,
    "start_time": "2023-06-07T13:38:14.826Z"
   },
   {
    "duration": 0,
    "start_time": "2023-06-07T13:38:14.827Z"
   },
   {
    "duration": 0,
    "start_time": "2023-06-07T13:38:14.828Z"
   },
   {
    "duration": 0,
    "start_time": "2023-06-07T13:38:14.829Z"
   },
   {
    "duration": 0,
    "start_time": "2023-06-07T13:38:14.830Z"
   },
   {
    "duration": 0,
    "start_time": "2023-06-07T13:38:14.831Z"
   },
   {
    "duration": 7,
    "start_time": "2023-06-07T13:38:26.692Z"
   },
   {
    "duration": 6,
    "start_time": "2023-06-07T13:38:28.461Z"
   },
   {
    "duration": 64166,
    "start_time": "2023-06-07T13:38:30.392Z"
   },
   {
    "duration": 1806,
    "start_time": "2023-06-09T10:07:48.486Z"
   },
   {
    "duration": 4,
    "start_time": "2023-06-09T10:07:50.294Z"
   },
   {
    "duration": 8,
    "start_time": "2023-06-09T10:07:50.300Z"
   },
   {
    "duration": 66,
    "start_time": "2023-06-09T10:07:50.309Z"
   },
   {
    "duration": 82,
    "start_time": "2023-06-09T10:07:50.377Z"
   },
   {
    "duration": 13,
    "start_time": "2023-06-09T10:07:50.460Z"
   },
   {
    "duration": 5,
    "start_time": "2023-06-09T10:07:50.474Z"
   },
   {
    "duration": 7,
    "start_time": "2023-06-09T10:07:50.480Z"
   },
   {
    "duration": 3,
    "start_time": "2023-06-09T10:07:50.506Z"
   },
   {
    "duration": 164,
    "start_time": "2023-06-09T10:07:50.511Z"
   },
   {
    "duration": 146,
    "start_time": "2023-06-09T10:07:50.677Z"
   },
   {
    "duration": 147,
    "start_time": "2023-06-09T10:07:50.824Z"
   },
   {
    "duration": 137,
    "start_time": "2023-06-09T10:07:50.973Z"
   },
   {
    "duration": 4,
    "start_time": "2023-06-09T10:07:51.112Z"
   },
   {
    "duration": 15,
    "start_time": "2023-06-09T10:07:51.118Z"
   },
   {
    "duration": 8,
    "start_time": "2023-06-09T10:07:51.134Z"
   },
   {
    "duration": 26,
    "start_time": "2023-06-09T10:07:51.143Z"
   },
   {
    "duration": 4,
    "start_time": "2023-06-09T10:07:51.171Z"
   },
   {
    "duration": 33,
    "start_time": "2023-06-09T10:07:51.177Z"
   },
   {
    "duration": 16,
    "start_time": "2023-06-09T10:07:51.212Z"
   },
   {
    "duration": 27,
    "start_time": "2023-06-09T10:07:51.230Z"
   },
   {
    "duration": 52,
    "start_time": "2023-06-09T10:07:51.259Z"
   },
   {
    "duration": 11,
    "start_time": "2023-06-09T10:07:51.312Z"
   },
   {
    "duration": 13,
    "start_time": "2023-06-09T10:07:51.325Z"
   },
   {
    "duration": 7,
    "start_time": "2023-06-09T10:07:51.340Z"
   },
   {
    "duration": 37970,
    "start_time": "2023-06-09T10:07:51.348Z"
   },
   {
    "duration": 3,
    "start_time": "2023-06-09T10:08:29.320Z"
   },
   {
    "duration": 97,
    "start_time": "2023-06-09T10:08:29.324Z"
   },
   {
    "duration": 38321,
    "start_time": "2023-06-09T10:08:44.187Z"
   },
   {
    "duration": 37045,
    "start_time": "2023-06-09T10:09:56.677Z"
   },
   {
    "duration": 35792,
    "start_time": "2023-06-09T10:14:00.219Z"
   },
   {
    "duration": 67534,
    "start_time": "2023-06-09T10:17:03.510Z"
   },
   {
    "duration": 3,
    "start_time": "2023-06-09T10:18:25.767Z"
   },
   {
    "duration": 14,
    "start_time": "2023-06-09T10:18:25.772Z"
   },
   {
    "duration": 9,
    "start_time": "2023-06-09T10:18:25.787Z"
   },
   {
    "duration": 44,
    "start_time": "2023-06-09T10:18:25.798Z"
   },
   {
    "duration": 8,
    "start_time": "2023-06-09T10:18:25.844Z"
   },
   {
    "duration": 19,
    "start_time": "2023-06-09T10:18:25.853Z"
   },
   {
    "duration": 7,
    "start_time": "2023-06-09T10:18:25.874Z"
   },
   {
    "duration": 6,
    "start_time": "2023-06-09T10:18:25.882Z"
   },
   {
    "duration": 4,
    "start_time": "2023-06-09T10:18:25.889Z"
   },
   {
    "duration": 138,
    "start_time": "2023-06-09T10:18:25.894Z"
   },
   {
    "duration": 117,
    "start_time": "2023-06-09T10:18:26.034Z"
   },
   {
    "duration": 133,
    "start_time": "2023-06-09T10:18:26.153Z"
   },
   {
    "duration": 122,
    "start_time": "2023-06-09T10:18:26.288Z"
   },
   {
    "duration": 4,
    "start_time": "2023-06-09T10:18:26.412Z"
   },
   {
    "duration": 13,
    "start_time": "2023-06-09T10:18:26.417Z"
   },
   {
    "duration": 33,
    "start_time": "2023-06-09T10:18:26.431Z"
   },
   {
    "duration": 24,
    "start_time": "2023-06-09T10:18:26.465Z"
   },
   {
    "duration": 27,
    "start_time": "2023-06-09T10:18:26.490Z"
   },
   {
    "duration": 32,
    "start_time": "2023-06-09T10:18:26.518Z"
   },
   {
    "duration": 14,
    "start_time": "2023-06-09T10:18:26.552Z"
   },
   {
    "duration": 27,
    "start_time": "2023-06-09T10:18:26.567Z"
   },
   {
    "duration": 29,
    "start_time": "2023-06-09T10:18:26.595Z"
   },
   {
    "duration": 22,
    "start_time": "2023-06-09T10:18:26.625Z"
   },
   {
    "duration": 8,
    "start_time": "2023-06-09T10:18:26.648Z"
   },
   {
    "duration": 8,
    "start_time": "2023-06-09T10:18:26.657Z"
   },
   {
    "duration": 36059,
    "start_time": "2023-06-09T10:18:26.666Z"
   },
   {
    "duration": 4,
    "start_time": "2023-06-09T10:19:02.726Z"
   },
   {
    "duration": 75,
    "start_time": "2023-06-09T10:19:02.731Z"
   },
   {
    "duration": 30478,
    "start_time": "2023-06-09T10:19:20.144Z"
   },
   {
    "duration": 23011,
    "start_time": "2023-06-09T10:20:37.812Z"
   },
   {
    "duration": 22188,
    "start_time": "2023-06-09T10:22:56.943Z"
   },
   {
    "duration": 6,
    "start_time": "2023-06-09T10:27:08.568Z"
   },
   {
    "duration": 6,
    "start_time": "2023-06-09T10:27:30.018Z"
   },
   {
    "duration": 6,
    "start_time": "2023-06-09T10:28:19.041Z"
   },
   {
    "duration": 10,
    "start_time": "2023-06-09T10:30:31.544Z"
   },
   {
    "duration": 3,
    "start_time": "2023-06-09T10:31:36.121Z"
   },
   {
    "duration": 200,
    "start_time": "2023-06-09T10:31:41.881Z"
   },
   {
    "duration": 11,
    "start_time": "2023-06-09T10:32:12.820Z"
   },
   {
    "duration": 10,
    "start_time": "2023-06-09T10:32:18.131Z"
   },
   {
    "duration": 8,
    "start_time": "2023-06-09T10:32:25.024Z"
   },
   {
    "duration": 95,
    "start_time": "2023-06-09T10:32:36.735Z"
   },
   {
    "duration": 2,
    "start_time": "2023-06-09T10:33:08.683Z"
   },
   {
    "duration": 4,
    "start_time": "2023-06-09T10:33:13.547Z"
   },
   {
    "duration": 6,
    "start_time": "2023-06-09T10:34:06.220Z"
   },
   {
    "duration": 6,
    "start_time": "2023-06-09T10:34:11.429Z"
   },
   {
    "duration": 96,
    "start_time": "2023-06-09T10:34:30.514Z"
   },
   {
    "duration": 132,
    "start_time": "2023-06-09T10:35:09.439Z"
   },
   {
    "duration": 211,
    "start_time": "2023-06-09T10:35:33.211Z"
   },
   {
    "duration": 121,
    "start_time": "2023-06-09T10:35:41.868Z"
   },
   {
    "duration": 129,
    "start_time": "2023-06-09T10:35:53.442Z"
   },
   {
    "duration": 5,
    "start_time": "2023-06-09T10:36:03.271Z"
   },
   {
    "duration": 9,
    "start_time": "2023-06-09T10:36:10.811Z"
   },
   {
    "duration": 8,
    "start_time": "2023-06-09T10:36:13.994Z"
   },
   {
    "duration": 5,
    "start_time": "2023-06-09T10:36:18.679Z"
   },
   {
    "duration": 4,
    "start_time": "2023-06-09T10:36:32.273Z"
   },
   {
    "duration": 4,
    "start_time": "2023-06-09T10:36:38.218Z"
   },
   {
    "duration": 5,
    "start_time": "2023-06-09T10:36:40.679Z"
   },
   {
    "duration": 7,
    "start_time": "2023-06-09T10:36:47.614Z"
   },
   {
    "duration": 9,
    "start_time": "2023-06-09T10:37:08.877Z"
   },
   {
    "duration": 9,
    "start_time": "2023-06-09T10:37:12.662Z"
   },
   {
    "duration": 8,
    "start_time": "2023-06-09T10:37:18.393Z"
   },
   {
    "duration": 9,
    "start_time": "2023-06-09T10:37:20.385Z"
   },
   {
    "duration": 9,
    "start_time": "2023-06-09T10:37:25.352Z"
   },
   {
    "duration": 7,
    "start_time": "2023-06-09T10:38:01.534Z"
   },
   {
    "duration": 7,
    "start_time": "2023-06-09T10:38:20.619Z"
   },
   {
    "duration": 9,
    "start_time": "2023-06-09T10:38:24.672Z"
   },
   {
    "duration": 6,
    "start_time": "2023-06-09T10:38:30.924Z"
   },
   {
    "duration": 115,
    "start_time": "2023-06-09T10:39:11.803Z"
   },
   {
    "duration": 9,
    "start_time": "2023-06-09T10:39:47.962Z"
   },
   {
    "duration": 145,
    "start_time": "2023-06-09T10:40:24.561Z"
   },
   {
    "duration": 140,
    "start_time": "2023-06-09T10:40:31.455Z"
   },
   {
    "duration": 157,
    "start_time": "2023-06-09T10:40:53.205Z"
   },
   {
    "duration": 21430,
    "start_time": "2023-06-09T10:41:12.996Z"
   },
   {
    "duration": 136,
    "start_time": "2023-06-09T10:41:53.142Z"
   },
   {
    "duration": 9,
    "start_time": "2023-06-09T10:48:20.938Z"
   },
   {
    "duration": 8,
    "start_time": "2023-06-09T10:48:26.288Z"
   },
   {
    "duration": 143,
    "start_time": "2023-06-09T10:49:21.810Z"
   },
   {
    "duration": 143,
    "start_time": "2023-06-09T10:49:31.478Z"
   },
   {
    "duration": 23735,
    "start_time": "2023-06-09T10:49:34.988Z"
   },
   {
    "duration": 142,
    "start_time": "2023-06-09T10:50:24.986Z"
   },
   {
    "duration": 146,
    "start_time": "2023-06-09T10:52:34.682Z"
   },
   {
    "duration": 146,
    "start_time": "2023-06-09T10:52:46.633Z"
   },
   {
    "duration": 168,
    "start_time": "2023-06-09T11:01:51.465Z"
   },
   {
    "duration": 145,
    "start_time": "2023-06-09T11:02:29.261Z"
   },
   {
    "duration": 224,
    "start_time": "2023-06-09T11:02:40.973Z"
   },
   {
    "duration": 156,
    "start_time": "2023-06-09T11:02:50.266Z"
   },
   {
    "duration": 141,
    "start_time": "2023-06-09T11:02:59.100Z"
   },
   {
    "duration": 145,
    "start_time": "2023-06-09T11:03:14.626Z"
   },
   {
    "duration": 144,
    "start_time": "2023-06-09T11:03:25.494Z"
   },
   {
    "duration": 140,
    "start_time": "2023-06-09T11:03:43.111Z"
   },
   {
    "duration": 4,
    "start_time": "2023-06-09T14:34:52.317Z"
   },
   {
    "duration": 9,
    "start_time": "2023-06-09T14:43:54.948Z"
   },
   {
    "duration": 14,
    "start_time": "2023-06-09T14:44:00.921Z"
   },
   {
    "duration": 28573,
    "start_time": "2023-06-09T14:44:11.446Z"
   },
   {
    "duration": 10,
    "start_time": "2023-06-09T14:45:01.005Z"
   },
   {
    "duration": 8,
    "start_time": "2023-06-09T14:45:07.605Z"
   },
   {
    "duration": 26923,
    "start_time": "2023-06-09T14:45:11.982Z"
   },
   {
    "duration": 4,
    "start_time": "2023-06-09T14:47:44.874Z"
   },
   {
    "duration": 19,
    "start_time": "2023-06-09T14:47:50.096Z"
   },
   {
    "duration": 7,
    "start_time": "2023-06-09T14:48:21.462Z"
   },
   {
    "duration": 40421,
    "start_time": "2023-06-09T14:48:23.266Z"
   },
   {
    "duration": 13,
    "start_time": "2023-06-09T14:49:26.403Z"
   },
   {
    "duration": 138,
    "start_time": "2023-06-09T14:49:29.358Z"
   },
   {
    "duration": 5,
    "start_time": "2023-06-09T14:50:09.134Z"
   },
   {
    "duration": 30995,
    "start_time": "2023-06-09T14:50:11.484Z"
   },
   {
    "duration": 3,
    "start_time": "2023-06-09T14:50:59.420Z"
   },
   {
    "duration": 4,
    "start_time": "2023-06-09T14:51:30.950Z"
   },
   {
    "duration": 32239,
    "start_time": "2023-06-09T14:51:33.697Z"
   },
   {
    "duration": 5,
    "start_time": "2023-06-09T14:52:05.938Z"
   },
   {
    "duration": 4,
    "start_time": "2023-06-09T14:52:26.390Z"
   },
   {
    "duration": 4,
    "start_time": "2023-06-09T14:53:05.066Z"
   },
   {
    "duration": 31050,
    "start_time": "2023-06-09T14:53:05.072Z"
   },
   {
    "duration": 28094,
    "start_time": "2023-06-09T14:55:27.355Z"
   },
   {
    "duration": 26692,
    "start_time": "2023-06-09T14:56:15.737Z"
   },
   {
    "duration": 7,
    "start_time": "2023-06-09T15:01:01.322Z"
   },
   {
    "duration": 174,
    "start_time": "2023-06-09T15:01:21.272Z"
   },
   {
    "duration": 7,
    "start_time": "2023-06-09T15:01:32.567Z"
   },
   {
    "duration": 22658,
    "start_time": "2023-06-09T15:01:35.377Z"
   },
   {
    "duration": 3,
    "start_time": "2023-06-09T15:02:11.727Z"
   },
   {
    "duration": 6,
    "start_time": "2023-06-09T15:02:39.192Z"
   },
   {
    "duration": 12,
    "start_time": "2023-06-09T15:03:48.974Z"
   },
   {
    "duration": 165,
    "start_time": "2023-06-09T15:04:06.638Z"
   },
   {
    "duration": 159,
    "start_time": "2023-06-09T15:04:16.637Z"
   },
   {
    "duration": 260,
    "start_time": "2023-06-09T15:04:24.252Z"
   },
   {
    "duration": 166,
    "start_time": "2023-06-09T15:04:28.552Z"
   },
   {
    "duration": 7,
    "start_time": "2023-06-09T15:04:47.194Z"
   },
   {
    "duration": 188,
    "start_time": "2023-06-09T15:04:50.990Z"
   },
   {
    "duration": 6,
    "start_time": "2023-06-09T15:06:28.065Z"
   },
   {
    "duration": 2,
    "start_time": "2023-06-09T15:06:42.053Z"
   },
   {
    "duration": 9,
    "start_time": "2023-06-09T15:06:54.392Z"
   },
   {
    "duration": 10,
    "start_time": "2023-06-09T15:09:58.314Z"
   },
   {
    "duration": 2,
    "start_time": "2023-06-09T15:10:52.907Z"
   },
   {
    "duration": 7,
    "start_time": "2023-06-09T15:12:18.857Z"
   },
   {
    "duration": 22843,
    "start_time": "2023-06-09T15:12:24.219Z"
   },
   {
    "duration": 14,
    "start_time": "2023-06-09T15:13:01.662Z"
   },
   {
    "duration": 3,
    "start_time": "2023-06-09T15:13:13.126Z"
   },
   {
    "duration": 7,
    "start_time": "2023-06-09T15:15:31.143Z"
   },
   {
    "duration": 23228,
    "start_time": "2023-06-09T15:15:33.407Z"
   },
   {
    "duration": 3,
    "start_time": "2023-06-09T15:16:13.183Z"
   },
   {
    "duration": 3,
    "start_time": "2023-06-09T15:16:14.965Z"
   },
   {
    "duration": 9,
    "start_time": "2023-06-09T15:16:32.072Z"
   },
   {
    "duration": 4,
    "start_time": "2023-06-09T15:16:45.110Z"
   },
   {
    "duration": 6,
    "start_time": "2023-06-09T15:17:41.737Z"
   },
   {
    "duration": 23393,
    "start_time": "2023-06-09T15:17:43.413Z"
   },
   {
    "duration": 4,
    "start_time": "2023-06-09T15:18:14.812Z"
   },
   {
    "duration": 158,
    "start_time": "2023-06-09T15:18:31.022Z"
   },
   {
    "duration": 161,
    "start_time": "2023-06-09T15:18:36.716Z"
   },
   {
    "duration": 159,
    "start_time": "2023-06-09T15:18:40.359Z"
   },
   {
    "duration": 7,
    "start_time": "2023-06-09T15:19:43.918Z"
   },
   {
    "duration": 6,
    "start_time": "2023-06-09T15:20:37.176Z"
   },
   {
    "duration": 6,
    "start_time": "2023-06-09T15:20:41.819Z"
   },
   {
    "duration": 8,
    "start_time": "2023-06-09T15:20:44.716Z"
   },
   {
    "duration": 6,
    "start_time": "2023-06-09T15:20:48.254Z"
   },
   {
    "duration": 10,
    "start_time": "2023-06-09T15:23:04.757Z"
   },
   {
    "duration": 10,
    "start_time": "2023-06-09T15:23:18.508Z"
   },
   {
    "duration": 10,
    "start_time": "2023-06-09T15:23:22.245Z"
   },
   {
    "duration": 8,
    "start_time": "2023-06-09T15:24:08.279Z"
   },
   {
    "duration": 9,
    "start_time": "2023-06-09T15:24:40.221Z"
   },
   {
    "duration": 3,
    "start_time": "2023-06-09T15:25:27.288Z"
   },
   {
    "duration": 7,
    "start_time": "2023-06-09T15:25:37.659Z"
   },
   {
    "duration": 6,
    "start_time": "2023-06-09T15:26:06.222Z"
   },
   {
    "duration": 22725,
    "start_time": "2023-06-09T15:26:07.581Z"
   },
   {
    "duration": 260,
    "start_time": "2023-06-09T15:26:37.131Z"
   },
   {
    "duration": 206,
    "start_time": "2023-06-09T15:26:42.378Z"
   },
   {
    "duration": 167,
    "start_time": "2023-06-09T15:26:45.122Z"
   },
   {
    "duration": 22922,
    "start_time": "2023-06-09T15:30:07.037Z"
   },
   {
    "duration": 7,
    "start_time": "2023-06-09T15:31:06.600Z"
   },
   {
    "duration": 22008,
    "start_time": "2023-06-09T15:31:09.910Z"
   },
   {
    "duration": 6,
    "start_time": "2023-06-09T15:33:24.664Z"
   },
   {
    "duration": 2525,
    "start_time": "2023-06-09T15:33:39.542Z"
   },
   {
    "duration": 6,
    "start_time": "2023-06-09T15:35:17.184Z"
   },
   {
    "duration": 6,
    "start_time": "2023-06-09T15:37:19.479Z"
   },
   {
    "duration": 7,
    "start_time": "2023-06-09T15:37:37.471Z"
   },
   {
    "duration": 25187,
    "start_time": "2023-06-09T15:37:41.353Z"
   },
   {
    "duration": 2626,
    "start_time": "2023-06-09T15:38:12.993Z"
   },
   {
    "duration": 2786,
    "start_time": "2023-06-09T15:38:37.083Z"
   },
   {
    "duration": 3197,
    "start_time": "2023-06-09T15:38:48.436Z"
   },
   {
    "duration": 2777,
    "start_time": "2023-06-09T15:38:52.682Z"
   },
   {
    "duration": 2768,
    "start_time": "2023-06-09T15:39:01.895Z"
   },
   {
    "duration": 2574,
    "start_time": "2023-06-09T15:39:08.149Z"
   },
   {
    "duration": 2759,
    "start_time": "2023-06-09T15:39:12.384Z"
   },
   {
    "duration": 6,
    "start_time": "2023-06-09T15:39:51.610Z"
   },
   {
    "duration": 5,
    "start_time": "2023-06-09T15:39:57.903Z"
   },
   {
    "duration": 5,
    "start_time": "2023-06-09T15:40:18.532Z"
   },
   {
    "duration": 2683,
    "start_time": "2023-06-09T15:40:25.879Z"
   },
   {
    "duration": 6,
    "start_time": "2023-06-09T15:40:41.764Z"
   },
   {
    "duration": 2891,
    "start_time": "2023-06-09T15:41:03.638Z"
   },
   {
    "duration": 101,
    "start_time": "2023-06-09T15:41:44.975Z"
   },
   {
    "duration": 2875,
    "start_time": "2023-06-09T15:41:51.717Z"
   },
   {
    "duration": 2565,
    "start_time": "2023-06-09T15:42:09.696Z"
   },
   {
    "duration": 2751,
    "start_time": "2023-06-09T15:42:22.101Z"
   },
   {
    "duration": 2714,
    "start_time": "2023-06-09T15:42:58.935Z"
   },
   {
    "duration": 2579,
    "start_time": "2023-06-09T15:43:05.959Z"
   },
   {
    "duration": 2776,
    "start_time": "2023-06-09T15:43:12.882Z"
   },
   {
    "duration": 2729,
    "start_time": "2023-06-09T15:43:22.586Z"
   },
   {
    "duration": 2906,
    "start_time": "2023-06-09T15:43:41.875Z"
   },
   {
    "duration": 2857,
    "start_time": "2023-06-09T15:43:56.889Z"
   },
   {
    "duration": 2645,
    "start_time": "2023-06-09T15:44:06.004Z"
   },
   {
    "duration": 2662,
    "start_time": "2023-06-09T15:44:16.871Z"
   },
   {
    "duration": 2918,
    "start_time": "2023-06-09T15:44:25.987Z"
   },
   {
    "duration": 3009,
    "start_time": "2023-06-09T15:44:50.788Z"
   },
   {
    "duration": 3370,
    "start_time": "2023-06-09T15:44:59.554Z"
   },
   {
    "duration": 2810,
    "start_time": "2023-06-09T15:45:15.266Z"
   },
   {
    "duration": 24973,
    "start_time": "2023-06-09T15:46:43.843Z"
   },
   {
    "duration": 24488,
    "start_time": "2023-06-09T15:47:30.310Z"
   },
   {
    "duration": 31134,
    "start_time": "2023-06-09T15:48:28.076Z"
   },
   {
    "duration": 31932,
    "start_time": "2023-06-09T15:49:16.621Z"
   },
   {
    "duration": 31610,
    "start_time": "2023-06-09T15:50:16.533Z"
   },
   {
    "duration": 30469,
    "start_time": "2023-06-09T15:51:00.151Z"
   },
   {
    "duration": 30184,
    "start_time": "2023-06-09T15:51:48.932Z"
   },
   {
    "duration": 32086,
    "start_time": "2023-06-09T15:52:37.912Z"
   },
   {
    "duration": 32462,
    "start_time": "2023-06-09T15:53:29.555Z"
   },
   {
    "duration": 36455,
    "start_time": "2023-06-09T15:58:15.725Z"
   },
   {
    "duration": 6,
    "start_time": "2023-06-09T16:03:54.088Z"
   },
   {
    "duration": 37430,
    "start_time": "2023-06-09T16:04:07.024Z"
   },
   {
    "duration": 7228,
    "start_time": "2023-06-12T08:52:20.552Z"
   },
   {
    "duration": 24,
    "start_time": "2023-06-12T08:52:27.782Z"
   },
   {
    "duration": 28,
    "start_time": "2023-06-12T08:52:27.807Z"
   },
   {
    "duration": 98,
    "start_time": "2023-06-12T08:52:27.836Z"
   },
   {
    "duration": 16,
    "start_time": "2023-06-12T08:52:27.936Z"
   },
   {
    "duration": 22,
    "start_time": "2023-06-12T08:52:27.954Z"
   },
   {
    "duration": 33,
    "start_time": "2023-06-12T08:52:27.978Z"
   },
   {
    "duration": 12,
    "start_time": "2023-06-12T08:52:28.012Z"
   },
   {
    "duration": 13,
    "start_time": "2023-06-12T08:52:28.025Z"
   },
   {
    "duration": 141,
    "start_time": "2023-06-12T08:52:28.040Z"
   },
   {
    "duration": 140,
    "start_time": "2023-06-12T08:52:28.183Z"
   },
   {
    "duration": 157,
    "start_time": "2023-06-12T08:52:28.325Z"
   },
   {
    "duration": 129,
    "start_time": "2023-06-12T08:52:28.489Z"
   },
   {
    "duration": 5,
    "start_time": "2023-06-12T08:52:28.620Z"
   },
   {
    "duration": 12,
    "start_time": "2023-06-12T08:52:28.626Z"
   },
   {
    "duration": 11,
    "start_time": "2023-06-12T08:52:28.639Z"
   },
   {
    "duration": 10,
    "start_time": "2023-06-12T08:52:28.651Z"
   },
   {
    "duration": 13,
    "start_time": "2023-06-12T08:52:28.663Z"
   },
   {
    "duration": 12,
    "start_time": "2023-06-12T08:52:28.677Z"
   },
   {
    "duration": 41,
    "start_time": "2023-06-12T08:52:28.691Z"
   },
   {
    "duration": 18,
    "start_time": "2023-06-12T08:52:28.734Z"
   },
   {
    "duration": 40,
    "start_time": "2023-06-12T08:52:28.754Z"
   },
   {
    "duration": 29,
    "start_time": "2023-06-12T08:52:28.795Z"
   },
   {
    "duration": 107,
    "start_time": "2023-06-12T08:52:28.826Z"
   },
   {
    "duration": 4,
    "start_time": "2023-06-12T08:52:28.936Z"
   },
   {
    "duration": 22,
    "start_time": "2023-06-12T08:52:28.941Z"
   },
   {
    "duration": 42,
    "start_time": "2023-06-12T08:52:28.964Z"
   },
   {
    "duration": 268,
    "start_time": "2023-06-12T08:52:29.009Z"
   },
   {
    "duration": 0,
    "start_time": "2023-06-12T08:52:29.278Z"
   },
   {
    "duration": 0,
    "start_time": "2023-06-12T08:52:29.280Z"
   },
   {
    "duration": 0,
    "start_time": "2023-06-12T08:52:29.281Z"
   },
   {
    "duration": 0,
    "start_time": "2023-06-12T08:52:29.281Z"
   },
   {
    "duration": 0,
    "start_time": "2023-06-12T08:52:29.282Z"
   },
   {
    "duration": 172,
    "start_time": "2023-06-12T08:52:45.567Z"
   },
   {
    "duration": 7,
    "start_time": "2023-06-12T08:53:29.629Z"
   },
   {
    "duration": 11471,
    "start_time": "2023-06-12T08:53:31.610Z"
   },
   {
    "duration": 10704,
    "start_time": "2023-06-12T08:53:55.547Z"
   },
   {
    "duration": 11,
    "start_time": "2023-06-12T08:57:09.399Z"
   },
   {
    "duration": 7,
    "start_time": "2023-06-12T08:57:41.076Z"
   },
   {
    "duration": 10393,
    "start_time": "2023-06-12T08:57:44.226Z"
   },
   {
    "duration": 294,
    "start_time": "2023-06-12T08:57:55.825Z"
   },
   {
    "duration": 199,
    "start_time": "2023-06-12T08:58:03.693Z"
   },
   {
    "duration": 164,
    "start_time": "2023-06-12T08:58:06.794Z"
   },
   {
    "duration": 172,
    "start_time": "2023-06-12T08:58:08.984Z"
   },
   {
    "duration": 178,
    "start_time": "2023-06-12T08:58:12.060Z"
   },
   {
    "duration": 186,
    "start_time": "2023-06-12T08:58:14.574Z"
   },
   {
    "duration": 175,
    "start_time": "2023-06-12T08:58:18.553Z"
   },
   {
    "duration": 191,
    "start_time": "2023-06-12T08:58:23.598Z"
   },
   {
    "duration": 183,
    "start_time": "2023-06-12T08:58:28.693Z"
   },
   {
    "duration": 181,
    "start_time": "2023-06-12T08:58:37.704Z"
   },
   {
    "duration": 10,
    "start_time": "2023-06-12T09:00:06.920Z"
   },
   {
    "duration": 10654,
    "start_time": "2023-06-12T09:00:09.345Z"
   },
   {
    "duration": 6,
    "start_time": "2023-06-12T09:01:28.617Z"
   },
   {
    "duration": 8,
    "start_time": "2023-06-12T09:02:04.544Z"
   },
   {
    "duration": 11260,
    "start_time": "2023-06-12T09:02:06.250Z"
   },
   {
    "duration": 7,
    "start_time": "2023-06-12T09:03:19.147Z"
   },
   {
    "duration": 11542,
    "start_time": "2023-06-12T09:03:20.811Z"
   },
   {
    "duration": 8,
    "start_time": "2023-06-12T09:04:00.556Z"
   },
   {
    "duration": 11222,
    "start_time": "2023-06-12T09:04:01.846Z"
   },
   {
    "duration": 7,
    "start_time": "2023-06-12T09:04:24.980Z"
   },
   {
    "duration": 11326,
    "start_time": "2023-06-12T09:04:27.037Z"
   },
   {
    "duration": 21879,
    "start_time": "2023-06-12T09:05:00.967Z"
   },
   {
    "duration": 21481,
    "start_time": "2023-06-12T09:05:33.826Z"
   },
   {
    "duration": 0,
    "start_time": "2023-06-12T09:09:21.635Z"
   },
   {
    "duration": 4,
    "start_time": "2023-06-12T09:09:58.630Z"
   },
   {
    "duration": 13,
    "start_time": "2023-06-12T09:09:58.636Z"
   },
   {
    "duration": 8,
    "start_time": "2023-06-12T09:09:58.651Z"
   },
   {
    "duration": 32,
    "start_time": "2023-06-12T09:09:58.661Z"
   },
   {
    "duration": 10,
    "start_time": "2023-06-12T09:09:58.695Z"
   },
   {
    "duration": 20,
    "start_time": "2023-06-12T09:09:58.708Z"
   },
   {
    "duration": 14,
    "start_time": "2023-06-12T09:09:58.730Z"
   },
   {
    "duration": 21,
    "start_time": "2023-06-12T09:09:58.745Z"
   },
   {
    "duration": 15,
    "start_time": "2023-06-12T09:09:58.767Z"
   },
   {
    "duration": 162,
    "start_time": "2023-06-12T09:09:58.784Z"
   },
   {
    "duration": 126,
    "start_time": "2023-06-12T09:09:58.947Z"
   },
   {
    "duration": 155,
    "start_time": "2023-06-12T09:09:59.075Z"
   },
   {
    "duration": 136,
    "start_time": "2023-06-12T09:09:59.232Z"
   },
   {
    "duration": 7,
    "start_time": "2023-06-12T09:09:59.371Z"
   },
   {
    "duration": 61,
    "start_time": "2023-06-12T09:09:59.380Z"
   },
   {
    "duration": 8,
    "start_time": "2023-06-12T09:09:59.443Z"
   },
   {
    "duration": 12,
    "start_time": "2023-06-12T09:09:59.453Z"
   },
   {
    "duration": 5,
    "start_time": "2023-06-12T09:09:59.467Z"
   },
   {
    "duration": 9,
    "start_time": "2023-06-12T09:09:59.474Z"
   },
   {
    "duration": 38,
    "start_time": "2023-06-12T09:09:59.484Z"
   },
   {
    "duration": 14,
    "start_time": "2023-06-12T09:09:59.524Z"
   },
   {
    "duration": 14,
    "start_time": "2023-06-12T09:09:59.539Z"
   },
   {
    "duration": 12,
    "start_time": "2023-06-12T09:09:59.554Z"
   },
   {
    "duration": 18,
    "start_time": "2023-06-12T09:09:59.568Z"
   },
   {
    "duration": 11,
    "start_time": "2023-06-12T09:09:59.589Z"
   },
   {
    "duration": 26,
    "start_time": "2023-06-12T09:09:59.603Z"
   },
   {
    "duration": 27,
    "start_time": "2023-06-12T09:09:59.631Z"
   },
   {
    "duration": 250691,
    "start_time": "2023-06-12T09:09:59.659Z"
   },
   {
    "duration": 188,
    "start_time": "2023-06-12T09:14:10.351Z"
   },
   {
    "duration": 7,
    "start_time": "2023-06-12T09:14:10.541Z"
   },
   {
    "duration": 36,
    "start_time": "2023-06-12T09:14:10.550Z"
   },
   {
    "duration": 0,
    "start_time": "2023-06-12T09:14:10.588Z"
   },
   {
    "duration": 0,
    "start_time": "2023-06-12T09:14:10.589Z"
   },
   {
    "duration": 129905,
    "start_time": "2023-06-12T09:20:39.805Z"
   },
   {
    "duration": 123918,
    "start_time": "2023-06-12T09:23:26.537Z"
   },
   {
    "duration": 269,
    "start_time": "2023-06-12T09:25:56.468Z"
   },
   {
    "duration": 251923,
    "start_time": "2023-06-12T10:27:33.223Z"
   },
   {
    "duration": 3074,
    "start_time": "2023-06-12T10:31:49.742Z"
   },
   {
    "duration": 26038,
    "start_time": "2023-06-12T10:31:56.482Z"
   },
   {
    "duration": 2109,
    "start_time": "2023-06-17T11:17:24.320Z"
   },
   {
    "duration": 7,
    "start_time": "2023-06-17T11:17:26.432Z"
   },
   {
    "duration": 3,
    "start_time": "2023-06-17T11:17:26.441Z"
   },
   {
    "duration": 70,
    "start_time": "2023-06-17T11:17:26.445Z"
   },
   {
    "duration": 14,
    "start_time": "2023-06-17T11:17:26.518Z"
   },
   {
    "duration": 29,
    "start_time": "2023-06-17T11:17:26.533Z"
   },
   {
    "duration": 25,
    "start_time": "2023-06-17T11:17:26.563Z"
   },
   {
    "duration": 18,
    "start_time": "2023-06-17T11:17:26.590Z"
   },
   {
    "duration": 9,
    "start_time": "2023-06-17T11:17:26.610Z"
   },
   {
    "duration": 177,
    "start_time": "2023-06-17T11:17:26.621Z"
   },
   {
    "duration": 275,
    "start_time": "2023-06-17T11:17:26.800Z"
   },
   {
    "duration": 333,
    "start_time": "2023-06-17T11:17:27.077Z"
   },
   {
    "duration": 301,
    "start_time": "2023-06-17T11:17:27.412Z"
   },
   {
    "duration": 4,
    "start_time": "2023-06-17T11:17:27.769Z"
   },
   {
    "duration": 9,
    "start_time": "2023-06-17T11:17:27.775Z"
   },
   {
    "duration": 8,
    "start_time": "2023-06-17T11:17:27.786Z"
   },
   {
    "duration": 6,
    "start_time": "2023-06-17T11:17:27.795Z"
   },
   {
    "duration": 6,
    "start_time": "2023-06-17T11:17:27.803Z"
   },
   {
    "duration": 56,
    "start_time": "2023-06-17T11:17:27.812Z"
   },
   {
    "duration": 5,
    "start_time": "2023-06-17T11:17:27.870Z"
   },
   {
    "duration": 13,
    "start_time": "2023-06-17T11:17:27.877Z"
   },
   {
    "duration": 14,
    "start_time": "2023-06-17T11:17:27.892Z"
   },
   {
    "duration": 74,
    "start_time": "2023-06-17T11:17:27.908Z"
   },
   {
    "duration": 8,
    "start_time": "2023-06-17T11:17:27.984Z"
   },
   {
    "duration": 5,
    "start_time": "2023-06-17T11:17:27.994Z"
   },
   {
    "duration": 5,
    "start_time": "2023-06-17T11:17:28.001Z"
   },
   {
    "duration": 67,
    "start_time": "2023-06-17T11:17:28.008Z"
   },
   {
    "duration": 38019,
    "start_time": "2023-06-17T11:17:28.077Z"
   },
   {
    "duration": 218,
    "start_time": "2023-06-17T11:18:06.098Z"
   },
   {
    "duration": 8,
    "start_time": "2023-06-17T11:18:06.318Z"
   },
   {
    "duration": 173,
    "start_time": "2023-06-17T11:18:06.329Z"
   },
   {
    "duration": 0,
    "start_time": "2023-06-17T11:18:06.504Z"
   },
   {
    "duration": 0,
    "start_time": "2023-06-17T11:18:06.505Z"
   },
   {
    "duration": 15,
    "start_time": "2023-06-17T11:18:30.179Z"
   },
   {
    "duration": 0,
    "start_time": "2023-06-17T11:18:30.195Z"
   },
   {
    "duration": 0,
    "start_time": "2023-06-17T11:18:30.197Z"
   },
   {
    "duration": 150077,
    "start_time": "2023-06-17T11:18:55.708Z"
   },
   {
    "duration": 4,
    "start_time": "2023-06-17T11:21:31.509Z"
   },
   {
    "duration": 26,
    "start_time": "2023-06-17T11:21:31.514Z"
   },
   {
    "duration": 14,
    "start_time": "2023-06-17T11:21:31.541Z"
   },
   {
    "duration": 47,
    "start_time": "2023-06-17T11:21:31.557Z"
   },
   {
    "duration": 9,
    "start_time": "2023-06-17T11:21:31.606Z"
   },
   {
    "duration": 32,
    "start_time": "2023-06-17T11:21:31.617Z"
   },
   {
    "duration": 18,
    "start_time": "2023-06-17T11:21:31.651Z"
   },
   {
    "duration": 13,
    "start_time": "2023-06-17T11:21:31.670Z"
   },
   {
    "duration": 27,
    "start_time": "2023-06-17T11:21:31.684Z"
   },
   {
    "duration": 144,
    "start_time": "2023-06-17T11:21:31.713Z"
   },
   {
    "duration": 131,
    "start_time": "2023-06-17T11:21:31.859Z"
   },
   {
    "duration": 237,
    "start_time": "2023-06-17T11:21:31.992Z"
   },
   {
    "duration": 142,
    "start_time": "2023-06-17T11:21:32.231Z"
   },
   {
    "duration": 8,
    "start_time": "2023-06-17T11:21:32.376Z"
   },
   {
    "duration": 6,
    "start_time": "2023-06-17T11:21:32.387Z"
   },
   {
    "duration": 16,
    "start_time": "2023-06-17T11:21:32.394Z"
   },
   {
    "duration": 6,
    "start_time": "2023-06-17T11:21:32.411Z"
   },
   {
    "duration": 4,
    "start_time": "2023-06-17T11:21:32.418Z"
   },
   {
    "duration": 7,
    "start_time": "2023-06-17T11:21:32.423Z"
   },
   {
    "duration": 9,
    "start_time": "2023-06-17T11:21:32.431Z"
   },
   {
    "duration": 9,
    "start_time": "2023-06-17T11:21:32.441Z"
   },
   {
    "duration": 24,
    "start_time": "2023-06-17T11:21:32.451Z"
   },
   {
    "duration": 10,
    "start_time": "2023-06-17T11:21:32.476Z"
   },
   {
    "duration": 5,
    "start_time": "2023-06-17T11:21:32.487Z"
   },
   {
    "duration": 4,
    "start_time": "2023-06-17T11:21:32.493Z"
   },
   {
    "duration": 5,
    "start_time": "2023-06-17T11:21:32.498Z"
   },
   {
    "duration": 7,
    "start_time": "2023-06-17T11:21:32.504Z"
   },
   {
    "duration": 32678,
    "start_time": "2023-06-17T11:21:32.512Z"
   },
   {
    "duration": 192,
    "start_time": "2023-06-17T11:22:05.192Z"
   },
   {
    "duration": 5,
    "start_time": "2023-06-17T11:22:05.385Z"
   },
   {
    "duration": 253408,
    "start_time": "2023-06-17T11:22:05.392Z"
   },
   {
    "duration": 0,
    "start_time": "2023-06-17T11:26:18.802Z"
   },
   {
    "duration": 0,
    "start_time": "2023-06-17T11:26:18.804Z"
   },
   {
    "duration": 0,
    "start_time": "2023-06-17T11:26:18.806Z"
   },
   {
    "duration": 15,
    "start_time": "2023-06-17T11:26:20.947Z"
   },
   {
    "duration": 4,
    "start_time": "2023-06-17T11:26:27.106Z"
   },
   {
    "duration": 7,
    "start_time": "2023-06-17T11:26:27.113Z"
   },
   {
    "duration": 6,
    "start_time": "2023-06-17T11:26:27.121Z"
   },
   {
    "duration": 29,
    "start_time": "2023-06-17T11:26:27.128Z"
   },
   {
    "duration": 15,
    "start_time": "2023-06-17T11:26:27.161Z"
   },
   {
    "duration": 16,
    "start_time": "2023-06-17T11:26:27.178Z"
   },
   {
    "duration": 3,
    "start_time": "2023-06-17T11:26:27.196Z"
   },
   {
    "duration": 10,
    "start_time": "2023-06-17T11:26:27.201Z"
   },
   {
    "duration": 6,
    "start_time": "2023-06-17T11:26:27.213Z"
   },
   {
    "duration": 192,
    "start_time": "2023-06-17T11:26:27.220Z"
   },
   {
    "duration": 141,
    "start_time": "2023-06-17T11:26:27.414Z"
   },
   {
    "duration": 158,
    "start_time": "2023-06-17T11:26:27.556Z"
   },
   {
    "duration": 142,
    "start_time": "2023-06-17T11:26:27.717Z"
   },
   {
    "duration": 4,
    "start_time": "2023-06-17T11:26:27.861Z"
   },
   {
    "duration": 21,
    "start_time": "2023-06-17T11:26:27.870Z"
   },
   {
    "duration": 10,
    "start_time": "2023-06-17T11:26:27.892Z"
   },
   {
    "duration": 7,
    "start_time": "2023-06-17T11:26:27.904Z"
   },
   {
    "duration": 4,
    "start_time": "2023-06-17T11:26:27.913Z"
   },
   {
    "duration": 17,
    "start_time": "2023-06-17T11:26:27.919Z"
   },
   {
    "duration": 9,
    "start_time": "2023-06-17T11:26:27.938Z"
   },
   {
    "duration": 24,
    "start_time": "2023-06-17T11:26:27.949Z"
   },
   {
    "duration": 16,
    "start_time": "2023-06-17T11:26:30.341Z"
   },
   {
    "duration": 14,
    "start_time": "2023-06-17T11:26:43.458Z"
   },
   {
    "duration": 12,
    "start_time": "2023-06-17T11:26:57.625Z"
   },
   {
    "duration": 8,
    "start_time": "2023-06-17T11:26:59.302Z"
   },
   {
    "duration": 27,
    "start_time": "2023-06-17T11:27:01.110Z"
   },
   {
    "duration": 17,
    "start_time": "2023-06-17T11:27:13.267Z"
   },
   {
    "duration": 12,
    "start_time": "2023-06-17T11:27:14.850Z"
   },
   {
    "duration": 15,
    "start_time": "2023-06-17T11:27:16.557Z"
   },
   {
    "duration": 4,
    "start_time": "2023-06-17T11:27:28.919Z"
   },
   {
    "duration": 63,
    "start_time": "2023-06-17T11:27:33.744Z"
   },
   {
    "duration": 6,
    "start_time": "2023-06-17T11:27:40.520Z"
   },
   {
    "duration": 5,
    "start_time": "2023-06-17T11:27:49.016Z"
   },
   {
    "duration": 10,
    "start_time": "2023-06-17T11:28:02.305Z"
   },
   {
    "duration": 9,
    "start_time": "2023-06-17T11:28:04.191Z"
   },
   {
    "duration": 12,
    "start_time": "2023-06-17T11:29:14.004Z"
   },
   {
    "duration": 12,
    "start_time": "2023-06-17T11:29:16.207Z"
   },
   {
    "duration": 6,
    "start_time": "2023-06-17T11:29:18.029Z"
   },
   {
    "duration": 4,
    "start_time": "2023-06-17T11:29:20.401Z"
   },
   {
    "duration": 6,
    "start_time": "2023-06-17T11:29:24.156Z"
   },
   {
    "duration": 16,
    "start_time": "2023-06-17T11:29:24.164Z"
   },
   {
    "duration": 15,
    "start_time": "2023-06-17T11:29:24.182Z"
   },
   {
    "duration": 34880,
    "start_time": "2023-06-17T11:29:24.200Z"
   },
   {
    "duration": 300,
    "start_time": "2023-06-17T11:29:59.087Z"
   },
   {
    "duration": 6,
    "start_time": "2023-06-17T11:29:59.389Z"
   },
   {
    "duration": 89,
    "start_time": "2023-06-17T11:29:59.397Z"
   },
   {
    "duration": 0,
    "start_time": "2023-06-17T11:29:59.488Z"
   },
   {
    "duration": 0,
    "start_time": "2023-06-17T11:29:59.490Z"
   },
   {
    "duration": 82,
    "start_time": "2023-06-17T11:31:25.242Z"
   },
   {
    "duration": 2605,
    "start_time": "2023-06-17T11:31:36.202Z"
   },
   {
    "duration": 59,
    "start_time": "2023-06-17T11:31:38.809Z"
   },
   {
    "duration": 4,
    "start_time": "2023-06-17T11:31:38.869Z"
   },
   {
    "duration": 52,
    "start_time": "2023-06-17T11:31:38.886Z"
   },
   {
    "duration": 51,
    "start_time": "2023-06-17T11:31:38.940Z"
   },
   {
    "duration": 12,
    "start_time": "2023-06-17T11:31:38.993Z"
   },
   {
    "duration": 5,
    "start_time": "2023-06-17T11:31:39.008Z"
   },
   {
    "duration": 5,
    "start_time": "2023-06-17T11:31:39.070Z"
   },
   {
    "duration": 10,
    "start_time": "2023-06-17T11:31:39.077Z"
   },
   {
    "duration": 318,
    "start_time": "2023-06-17T11:31:39.090Z"
   },
   {
    "duration": 146,
    "start_time": "2023-06-17T11:31:39.410Z"
   },
   {
    "duration": 167,
    "start_time": "2023-06-17T11:31:39.558Z"
   },
   {
    "duration": 151,
    "start_time": "2023-06-17T11:31:39.727Z"
   },
   {
    "duration": 4,
    "start_time": "2023-06-17T11:31:39.882Z"
   },
   {
    "duration": 15,
    "start_time": "2023-06-17T11:31:39.889Z"
   },
   {
    "duration": 12,
    "start_time": "2023-06-17T11:31:39.906Z"
   },
   {
    "duration": 16,
    "start_time": "2023-06-17T11:31:39.920Z"
   },
   {
    "duration": 16,
    "start_time": "2023-06-17T11:31:39.938Z"
   },
   {
    "duration": 17,
    "start_time": "2023-06-17T11:31:39.956Z"
   },
   {
    "duration": 17,
    "start_time": "2023-06-17T11:31:39.978Z"
   },
   {
    "duration": 29,
    "start_time": "2023-06-17T11:31:39.997Z"
   },
   {
    "duration": 18,
    "start_time": "2023-06-17T11:31:40.028Z"
   },
   {
    "duration": 16,
    "start_time": "2023-06-17T11:31:40.047Z"
   },
   {
    "duration": 154,
    "start_time": "2023-06-17T11:31:40.065Z"
   },
   {
    "duration": 0,
    "start_time": "2023-06-17T11:31:40.221Z"
   },
   {
    "duration": 0,
    "start_time": "2023-06-17T11:31:40.222Z"
   },
   {
    "duration": 0,
    "start_time": "2023-06-17T11:31:40.223Z"
   },
   {
    "duration": 0,
    "start_time": "2023-06-17T11:31:40.224Z"
   },
   {
    "duration": 0,
    "start_time": "2023-06-17T11:31:40.225Z"
   },
   {
    "duration": 0,
    "start_time": "2023-06-17T11:31:40.226Z"
   },
   {
    "duration": 0,
    "start_time": "2023-06-17T11:31:40.227Z"
   },
   {
    "duration": 0,
    "start_time": "2023-06-17T11:31:40.228Z"
   },
   {
    "duration": 11,
    "start_time": "2023-06-17T11:32:31.584Z"
   },
   {
    "duration": 5,
    "start_time": "2023-06-17T11:32:51.707Z"
   },
   {
    "duration": 5,
    "start_time": "2023-06-17T11:32:54.039Z"
   },
   {
    "duration": 6,
    "start_time": "2023-06-17T11:33:06.698Z"
   },
   {
    "duration": 34,
    "start_time": "2023-06-17T11:33:06.706Z"
   },
   {
    "duration": 12,
    "start_time": "2023-06-17T11:33:06.742Z"
   },
   {
    "duration": 22,
    "start_time": "2023-06-17T11:33:06.757Z"
   },
   {
    "duration": 283,
    "start_time": "2023-06-17T11:33:06.785Z"
   },
   {
    "duration": 0,
    "start_time": "2023-06-17T11:33:07.070Z"
   },
   {
    "duration": 0,
    "start_time": "2023-06-17T11:33:07.071Z"
   },
   {
    "duration": 0,
    "start_time": "2023-06-17T11:33:07.072Z"
   },
   {
    "duration": 0,
    "start_time": "2023-06-17T11:33:07.073Z"
   },
   {
    "duration": 14,
    "start_time": "2023-06-17T11:33:47.927Z"
   },
   {
    "duration": 5,
    "start_time": "2023-06-17T11:34:17.148Z"
   },
   {
    "duration": 4,
    "start_time": "2023-06-17T11:34:19.123Z"
   },
   {
    "duration": 11,
    "start_time": "2023-06-17T11:34:39.581Z"
   },
   {
    "duration": 24,
    "start_time": "2023-06-17T11:34:52.762Z"
   },
   {
    "duration": 11,
    "start_time": "2023-06-17T11:35:01.192Z"
   },
   {
    "duration": 2053,
    "start_time": "2023-06-17T11:35:24.094Z"
   },
   {
    "duration": 5,
    "start_time": "2023-06-17T11:35:26.149Z"
   },
   {
    "duration": 4,
    "start_time": "2023-06-17T11:35:26.156Z"
   },
   {
    "duration": 32,
    "start_time": "2023-06-17T11:35:26.170Z"
   },
   {
    "duration": 15,
    "start_time": "2023-06-17T11:35:26.204Z"
   },
   {
    "duration": 18,
    "start_time": "2023-06-17T11:35:26.220Z"
   },
   {
    "duration": 8,
    "start_time": "2023-06-17T11:35:26.240Z"
   },
   {
    "duration": 5,
    "start_time": "2023-06-17T11:35:26.250Z"
   },
   {
    "duration": 18,
    "start_time": "2023-06-17T11:35:26.257Z"
   },
   {
    "duration": 171,
    "start_time": "2023-06-17T11:35:26.280Z"
   },
   {
    "duration": 149,
    "start_time": "2023-06-17T11:35:26.453Z"
   },
   {
    "duration": 165,
    "start_time": "2023-06-17T11:35:26.604Z"
   },
   {
    "duration": 402,
    "start_time": "2023-06-17T11:35:26.770Z"
   },
   {
    "duration": 8,
    "start_time": "2023-06-17T11:35:27.177Z"
   },
   {
    "duration": 5,
    "start_time": "2023-06-17T11:35:27.192Z"
   },
   {
    "duration": 12,
    "start_time": "2023-06-17T11:35:27.198Z"
   },
   {
    "duration": 58,
    "start_time": "2023-06-17T11:35:27.212Z"
   },
   {
    "duration": 7,
    "start_time": "2023-06-17T11:35:27.274Z"
   },
   {
    "duration": 19,
    "start_time": "2023-06-17T11:35:27.284Z"
   },
   {
    "duration": 7,
    "start_time": "2023-06-17T11:35:27.305Z"
   },
   {
    "duration": 55,
    "start_time": "2023-06-17T11:35:27.314Z"
   },
   {
    "duration": 19,
    "start_time": "2023-06-17T11:35:27.375Z"
   },
   {
    "duration": 13,
    "start_time": "2023-06-17T11:35:27.396Z"
   },
   {
    "duration": 60,
    "start_time": "2023-06-17T11:35:27.411Z"
   },
   {
    "duration": 17,
    "start_time": "2023-06-17T11:35:27.473Z"
   },
   {
    "duration": 9,
    "start_time": "2023-06-17T11:35:27.491Z"
   },
   {
    "duration": 20,
    "start_time": "2023-06-17T11:35:27.503Z"
   },
   {
    "duration": 55,
    "start_time": "2023-06-17T11:35:27.525Z"
   },
   {
    "duration": 316,
    "start_time": "2023-06-17T11:35:27.582Z"
   },
   {
    "duration": 0,
    "start_time": "2023-06-17T11:35:27.901Z"
   },
   {
    "duration": 0,
    "start_time": "2023-06-17T11:35:27.902Z"
   },
   {
    "duration": 0,
    "start_time": "2023-06-17T11:35:27.903Z"
   },
   {
    "duration": 0,
    "start_time": "2023-06-17T11:35:27.905Z"
   },
   {
    "duration": 11,
    "start_time": "2023-06-17T11:35:47.969Z"
   },
   {
    "duration": 11,
    "start_time": "2023-06-17T11:35:49.401Z"
   },
   {
    "duration": 24,
    "start_time": "2023-06-17T11:35:52.635Z"
   },
   {
    "duration": 8,
    "start_time": "2023-06-17T11:36:28.528Z"
   },
   {
    "duration": 7,
    "start_time": "2023-06-17T11:37:15.086Z"
   },
   {
    "duration": 6,
    "start_time": "2023-06-17T11:37:22.337Z"
   },
   {
    "duration": 14,
    "start_time": "2023-06-17T11:37:44.441Z"
   },
   {
    "duration": 6,
    "start_time": "2023-06-17T11:37:54.610Z"
   },
   {
    "duration": 8,
    "start_time": "2023-06-17T11:38:24.759Z"
   },
   {
    "duration": 2090,
    "start_time": "2023-06-17T11:39:05.979Z"
   },
   {
    "duration": 8,
    "start_time": "2023-06-17T11:39:08.074Z"
   },
   {
    "duration": 8,
    "start_time": "2023-06-17T11:39:08.083Z"
   },
   {
    "duration": 42,
    "start_time": "2023-06-17T11:39:08.094Z"
   },
   {
    "duration": 50,
    "start_time": "2023-06-17T11:39:08.138Z"
   },
   {
    "duration": 17,
    "start_time": "2023-06-17T11:39:08.190Z"
   },
   {
    "duration": 5,
    "start_time": "2023-06-17T11:39:08.209Z"
   },
   {
    "duration": 17,
    "start_time": "2023-06-17T11:39:08.269Z"
   },
   {
    "duration": 9,
    "start_time": "2023-06-17T11:39:08.288Z"
   },
   {
    "duration": 310,
    "start_time": "2023-06-17T11:39:08.299Z"
   },
   {
    "duration": 298,
    "start_time": "2023-06-17T11:39:08.611Z"
   },
   {
    "duration": 367,
    "start_time": "2023-06-17T11:39:08.910Z"
   },
   {
    "duration": 416,
    "start_time": "2023-06-17T11:39:09.286Z"
   },
   {
    "duration": 5,
    "start_time": "2023-06-17T11:39:09.703Z"
   },
   {
    "duration": 9,
    "start_time": "2023-06-17T11:39:09.709Z"
   },
   {
    "duration": 6,
    "start_time": "2023-06-17T11:39:09.721Z"
   },
   {
    "duration": 43,
    "start_time": "2023-06-17T11:39:09.728Z"
   },
   {
    "duration": 3,
    "start_time": "2023-06-17T11:39:09.779Z"
   },
   {
    "duration": 8,
    "start_time": "2023-06-17T11:39:09.784Z"
   },
   {
    "duration": 6,
    "start_time": "2023-06-17T11:39:09.794Z"
   },
   {
    "duration": 11,
    "start_time": "2023-06-17T11:39:09.802Z"
   },
   {
    "duration": 10,
    "start_time": "2023-06-17T11:39:09.814Z"
   },
   {
    "duration": 12,
    "start_time": "2023-06-17T11:39:09.826Z"
   },
   {
    "duration": 177,
    "start_time": "2023-06-17T11:39:09.840Z"
   },
   {
    "duration": 0,
    "start_time": "2023-06-17T11:39:10.019Z"
   },
   {
    "duration": 0,
    "start_time": "2023-06-17T11:39:10.021Z"
   },
   {
    "duration": 0,
    "start_time": "2023-06-17T11:39:10.022Z"
   },
   {
    "duration": 0,
    "start_time": "2023-06-17T11:39:10.024Z"
   },
   {
    "duration": 0,
    "start_time": "2023-06-17T11:39:10.026Z"
   },
   {
    "duration": 0,
    "start_time": "2023-06-17T11:39:10.027Z"
   },
   {
    "duration": 0,
    "start_time": "2023-06-17T11:39:10.028Z"
   },
   {
    "duration": 0,
    "start_time": "2023-06-17T11:39:10.030Z"
   },
   {
    "duration": 0,
    "start_time": "2023-06-17T11:39:10.032Z"
   },
   {
    "duration": 20,
    "start_time": "2023-06-17T11:39:50.588Z"
   },
   {
    "duration": 19,
    "start_time": "2023-06-17T11:40:06.591Z"
   },
   {
    "duration": 0,
    "start_time": "2023-06-17T11:40:06.613Z"
   },
   {
    "duration": 0,
    "start_time": "2023-06-17T11:40:06.614Z"
   },
   {
    "duration": 0,
    "start_time": "2023-06-17T11:40:06.616Z"
   },
   {
    "duration": 0,
    "start_time": "2023-06-17T11:40:06.618Z"
   },
   {
    "duration": 0,
    "start_time": "2023-06-17T11:40:06.619Z"
   },
   {
    "duration": 0,
    "start_time": "2023-06-17T11:40:06.621Z"
   },
   {
    "duration": 0,
    "start_time": "2023-06-17T11:40:06.622Z"
   },
   {
    "duration": 0,
    "start_time": "2023-06-17T11:40:06.624Z"
   },
   {
    "duration": 0,
    "start_time": "2023-06-17T11:40:06.625Z"
   },
   {
    "duration": 13,
    "start_time": "2023-06-17T11:40:13.310Z"
   },
   {
    "duration": 6,
    "start_time": "2023-06-17T11:40:32.918Z"
   },
   {
    "duration": 13,
    "start_time": "2023-06-17T11:40:48.392Z"
   },
   {
    "duration": 2071,
    "start_time": "2023-06-17T11:41:02.512Z"
   },
   {
    "duration": 4,
    "start_time": "2023-06-17T11:41:04.585Z"
   },
   {
    "duration": 11,
    "start_time": "2023-06-17T11:41:04.593Z"
   },
   {
    "duration": 31,
    "start_time": "2023-06-17T11:41:04.606Z"
   },
   {
    "duration": 14,
    "start_time": "2023-06-17T11:41:04.640Z"
   },
   {
    "duration": 11,
    "start_time": "2023-06-17T11:41:04.656Z"
   },
   {
    "duration": 6,
    "start_time": "2023-06-17T11:41:04.670Z"
   },
   {
    "duration": 12,
    "start_time": "2023-06-17T11:41:04.677Z"
   },
   {
    "duration": 14,
    "start_time": "2023-06-17T11:41:04.690Z"
   },
   {
    "duration": 172,
    "start_time": "2023-06-17T11:41:04.706Z"
   },
   {
    "duration": 144,
    "start_time": "2023-06-17T11:41:04.882Z"
   },
   {
    "duration": 167,
    "start_time": "2023-06-17T11:41:05.028Z"
   },
   {
    "duration": 141,
    "start_time": "2023-06-17T11:41:05.196Z"
   },
   {
    "duration": 4,
    "start_time": "2023-06-17T11:41:05.341Z"
   },
   {
    "duration": 37,
    "start_time": "2023-06-17T11:41:05.347Z"
   },
   {
    "duration": 22,
    "start_time": "2023-06-17T11:41:05.386Z"
   },
   {
    "duration": 8,
    "start_time": "2023-06-17T11:41:05.409Z"
   },
   {
    "duration": 9,
    "start_time": "2023-06-17T11:41:05.419Z"
   },
   {
    "duration": 17,
    "start_time": "2023-06-17T11:41:05.430Z"
   },
   {
    "duration": 14,
    "start_time": "2023-06-17T11:41:05.449Z"
   },
   {
    "duration": 25,
    "start_time": "2023-06-17T11:41:05.464Z"
   },
   {
    "duration": 14,
    "start_time": "2023-06-17T11:41:05.491Z"
   },
   {
    "duration": 16,
    "start_time": "2023-06-17T11:41:05.507Z"
   },
   {
    "duration": 21,
    "start_time": "2023-06-17T11:41:05.525Z"
   },
   {
    "duration": 25,
    "start_time": "2023-06-17T11:41:05.547Z"
   },
   {
    "duration": 20,
    "start_time": "2023-06-17T11:41:05.575Z"
   },
   {
    "duration": 15,
    "start_time": "2023-06-17T11:41:05.597Z"
   },
   {
    "duration": 25,
    "start_time": "2023-06-17T11:41:05.613Z"
   },
   {
    "duration": 29,
    "start_time": "2023-06-17T11:41:05.640Z"
   },
   {
    "duration": 36188,
    "start_time": "2023-06-17T11:41:05.673Z"
   },
   {
    "duration": 205,
    "start_time": "2023-06-17T11:41:41.867Z"
   },
   {
    "duration": 20,
    "start_time": "2023-06-17T11:41:42.075Z"
   },
   {
    "duration": 217375,
    "start_time": "2023-06-17T11:41:42.097Z"
   },
   {
    "duration": 69,
    "start_time": "2023-06-17T11:45:19.484Z"
   },
   {
    "duration": 74629,
    "start_time": "2023-06-17T11:48:35.418Z"
   },
   {
    "duration": 65131,
    "start_time": "2023-06-17T11:49:57.311Z"
   },
   {
    "duration": 118595,
    "start_time": "2023-06-17T11:51:20.513Z"
   },
   {
    "duration": 106,
    "start_time": "2023-06-17T12:16:17.994Z"
   },
   {
    "duration": 67625,
    "start_time": "2023-06-17T12:16:22.409Z"
   },
   {
    "duration": 59032,
    "start_time": "2023-06-17T12:19:31.382Z"
   },
   {
    "duration": 66819,
    "start_time": "2023-06-17T12:20:47.592Z"
   },
   {
    "duration": 72,
    "start_time": "2023-06-17T12:22:28.157Z"
   },
   {
    "duration": 61008,
    "start_time": "2023-06-17T12:22:38.892Z"
   },
   {
    "duration": 65046,
    "start_time": "2023-06-17T12:27:25.133Z"
   },
   {
    "duration": 61505,
    "start_time": "2023-06-17T12:28:48.258Z"
   },
   {
    "duration": 31841,
    "start_time": "2023-06-17T12:30:23.397Z"
   },
   {
    "duration": 76985,
    "start_time": "2023-06-17T12:31:12.803Z"
   },
   {
    "duration": 56623,
    "start_time": "2023-06-17T12:32:33.211Z"
   },
   {
    "duration": 116,
    "start_time": "2023-06-17T12:33:56.713Z"
   },
   {
    "duration": 62303,
    "start_time": "2023-06-17T12:34:03.636Z"
   },
   {
    "duration": 6,
    "start_time": "2023-06-17T12:38:02.535Z"
   },
   {
    "duration": 42,
    "start_time": "2023-06-17T12:38:26.659Z"
   },
   {
    "duration": 129,
    "start_time": "2023-06-17T12:39:09.490Z"
   },
   {
    "duration": 1805,
    "start_time": "2023-06-17T12:39:18.307Z"
   },
   {
    "duration": 4,
    "start_time": "2023-06-17T12:39:20.113Z"
   },
   {
    "duration": 8,
    "start_time": "2023-06-17T12:39:20.118Z"
   },
   {
    "duration": 34,
    "start_time": "2023-06-17T12:39:20.127Z"
   },
   {
    "duration": 22,
    "start_time": "2023-06-17T12:39:20.163Z"
   },
   {
    "duration": 10,
    "start_time": "2023-06-17T12:39:20.187Z"
   },
   {
    "duration": 6,
    "start_time": "2023-06-17T12:39:20.199Z"
   },
   {
    "duration": 25,
    "start_time": "2023-06-17T12:39:20.207Z"
   },
   {
    "duration": 13,
    "start_time": "2023-06-17T12:39:20.234Z"
   },
   {
    "duration": 148,
    "start_time": "2023-06-17T12:39:20.248Z"
   },
   {
    "duration": 137,
    "start_time": "2023-06-17T12:39:20.398Z"
   },
   {
    "duration": 153,
    "start_time": "2023-06-17T12:39:20.537Z"
   },
   {
    "duration": 130,
    "start_time": "2023-06-17T12:39:20.692Z"
   },
   {
    "duration": 4,
    "start_time": "2023-06-17T12:39:20.826Z"
   },
   {
    "duration": 13,
    "start_time": "2023-06-17T12:39:20.831Z"
   },
   {
    "duration": 9,
    "start_time": "2023-06-17T12:39:20.845Z"
   },
   {
    "duration": 17,
    "start_time": "2023-06-17T12:39:20.855Z"
   },
   {
    "duration": 14,
    "start_time": "2023-06-17T12:39:20.873Z"
   },
   {
    "duration": 9,
    "start_time": "2023-06-17T12:39:20.889Z"
   },
   {
    "duration": 17,
    "start_time": "2023-06-17T12:39:20.899Z"
   },
   {
    "duration": 21,
    "start_time": "2023-06-17T12:39:20.917Z"
   },
   {
    "duration": 20,
    "start_time": "2023-06-17T12:39:20.940Z"
   },
   {
    "duration": 23,
    "start_time": "2023-06-17T12:39:20.962Z"
   },
   {
    "duration": 10,
    "start_time": "2023-06-17T12:39:20.986Z"
   },
   {
    "duration": 19,
    "start_time": "2023-06-17T12:39:20.997Z"
   },
   {
    "duration": 34,
    "start_time": "2023-06-17T12:39:21.018Z"
   },
   {
    "duration": 5,
    "start_time": "2023-06-17T12:39:21.054Z"
   },
   {
    "duration": 37,
    "start_time": "2023-06-17T12:39:21.061Z"
   },
   {
    "duration": 34708,
    "start_time": "2023-06-17T12:39:21.100Z"
   },
   {
    "duration": 214,
    "start_time": "2023-06-17T12:39:55.810Z"
   },
   {
    "duration": 4,
    "start_time": "2023-06-17T12:39:56.026Z"
   },
   {
    "duration": 76603,
    "start_time": "2023-06-17T12:39:56.032Z"
   },
   {
    "duration": 75,
    "start_time": "2023-06-17T12:41:12.636Z"
   },
   {
    "duration": 0,
    "start_time": "2023-06-17T12:41:12.713Z"
   },
   {
    "duration": 27,
    "start_time": "2023-06-17T12:41:16.806Z"
   },
   {
    "duration": 4,
    "start_time": "2023-06-17T12:44:31.718Z"
   },
   {
    "duration": 5,
    "start_time": "2023-06-17T13:05:47.599Z"
   },
   {
    "duration": 16,
    "start_time": "2023-06-17T13:07:03.121Z"
   },
   {
    "duration": 6,
    "start_time": "2023-06-17T13:07:15.502Z"
   },
   {
    "duration": 6,
    "start_time": "2023-06-17T13:07:19.519Z"
   },
   {
    "duration": 6,
    "start_time": "2023-06-17T13:07:35.941Z"
   },
   {
    "duration": 6,
    "start_time": "2023-06-17T13:07:38.605Z"
   },
   {
    "duration": 7,
    "start_time": "2023-06-17T13:08:02.801Z"
   },
   {
    "duration": 6,
    "start_time": "2023-06-17T13:08:05.756Z"
   },
   {
    "duration": 5,
    "start_time": "2023-06-17T13:09:57.005Z"
   },
   {
    "duration": 441,
    "start_time": "2023-06-17T13:09:59.719Z"
   },
   {
    "duration": 6,
    "start_time": "2023-06-17T13:10:41.011Z"
   },
   {
    "duration": 12,
    "start_time": "2023-06-17T13:10:57.508Z"
   },
   {
    "duration": 5,
    "start_time": "2023-06-17T13:11:05.680Z"
   },
   {
    "duration": 4,
    "start_time": "2023-06-17T13:11:25.739Z"
   },
   {
    "duration": 4,
    "start_time": "2023-06-17T13:11:27.430Z"
   },
   {
    "duration": 6,
    "start_time": "2023-06-17T13:12:30.709Z"
   },
   {
    "duration": 6,
    "start_time": "2023-06-17T13:12:32.522Z"
   },
   {
    "duration": 3,
    "start_time": "2023-06-17T13:12:32.923Z"
   },
   {
    "duration": 9,
    "start_time": "2023-06-17T13:12:33.505Z"
   },
   {
    "duration": 9,
    "start_time": "2023-06-17T13:12:34.818Z"
   },
   {
    "duration": 10,
    "start_time": "2023-06-17T13:12:38.202Z"
   },
   {
    "duration": 5,
    "start_time": "2023-06-17T13:12:41.113Z"
   },
   {
    "duration": 4,
    "start_time": "2023-06-17T13:12:41.693Z"
   },
   {
    "duration": 22,
    "start_time": "2023-06-17T13:12:43.836Z"
   },
   {
    "duration": 31153,
    "start_time": "2023-06-17T13:13:04.181Z"
   },
   {
    "duration": 6,
    "start_time": "2023-06-17T13:17:02.041Z"
   },
   {
    "duration": 31,
    "start_time": "2023-06-17T13:17:06.125Z"
   },
   {
    "duration": 98220,
    "start_time": "2023-06-17T13:17:11.373Z"
   },
   {
    "duration": 69241,
    "start_time": "2023-06-17T13:19:25.849Z"
   },
   {
    "duration": 90951,
    "start_time": "2023-06-17T13:21:37.311Z"
   },
   {
    "duration": 1895,
    "start_time": "2023-06-17T14:18:28.942Z"
   },
   {
    "duration": 4,
    "start_time": "2023-06-17T14:18:30.839Z"
   },
   {
    "duration": 37,
    "start_time": "2023-06-17T14:18:30.844Z"
   },
   {
    "duration": 66,
    "start_time": "2023-06-17T14:18:30.884Z"
   },
   {
    "duration": 13,
    "start_time": "2023-06-17T14:18:30.952Z"
   },
   {
    "duration": 63,
    "start_time": "2023-06-17T14:18:30.966Z"
   },
   {
    "duration": 34,
    "start_time": "2023-06-17T14:18:31.030Z"
   },
   {
    "duration": 21,
    "start_time": "2023-06-17T14:18:31.066Z"
   },
   {
    "duration": 50,
    "start_time": "2023-06-17T14:18:31.089Z"
   },
   {
    "duration": 194,
    "start_time": "2023-06-17T14:18:31.141Z"
   },
   {
    "duration": 146,
    "start_time": "2023-06-17T14:18:31.336Z"
   },
   {
    "duration": 149,
    "start_time": "2023-06-17T14:18:31.484Z"
   },
   {
    "duration": 133,
    "start_time": "2023-06-17T14:18:31.635Z"
   },
   {
    "duration": 6,
    "start_time": "2023-06-17T14:18:31.780Z"
   },
   {
    "duration": 36,
    "start_time": "2023-06-17T14:18:31.789Z"
   },
   {
    "duration": 31,
    "start_time": "2023-06-17T14:18:31.827Z"
   },
   {
    "duration": 35,
    "start_time": "2023-06-17T14:18:31.859Z"
   },
   {
    "duration": 20,
    "start_time": "2023-06-17T14:18:31.895Z"
   },
   {
    "duration": 25,
    "start_time": "2023-06-17T14:18:31.916Z"
   },
   {
    "duration": 23,
    "start_time": "2023-06-17T14:18:31.942Z"
   },
   {
    "duration": 14,
    "start_time": "2023-06-17T14:18:31.966Z"
   },
   {
    "duration": 28,
    "start_time": "2023-06-17T14:18:31.982Z"
   },
   {
    "duration": 12,
    "start_time": "2023-06-17T14:18:32.012Z"
   },
   {
    "duration": 17,
    "start_time": "2023-06-17T14:18:32.026Z"
   },
   {
    "duration": 21,
    "start_time": "2023-06-17T14:18:32.044Z"
   },
   {
    "duration": 22,
    "start_time": "2023-06-17T14:18:32.067Z"
   },
   {
    "duration": 12,
    "start_time": "2023-06-17T14:18:32.090Z"
   },
   {
    "duration": 3,
    "start_time": "2023-06-17T14:18:32.105Z"
   },
   {
    "duration": 24,
    "start_time": "2023-06-17T14:18:32.109Z"
   },
   {
    "duration": 7,
    "start_time": "2023-06-17T14:18:32.134Z"
   },
   {
    "duration": 37,
    "start_time": "2023-06-17T14:18:32.142Z"
   },
   {
    "duration": 46329,
    "start_time": "2023-06-17T14:18:32.180Z"
   },
   {
    "duration": 221,
    "start_time": "2023-06-17T14:19:18.511Z"
   },
   {
    "duration": 5,
    "start_time": "2023-06-17T14:19:18.734Z"
   },
   {
    "duration": 51654,
    "start_time": "2023-06-17T14:19:18.740Z"
   },
   {
    "duration": 226839,
    "start_time": "2023-06-17T14:20:46.496Z"
   },
   {
    "duration": 5891,
    "start_time": "2023-06-17T14:36:02.575Z"
   },
   {
    "duration": 21,
    "start_time": "2023-06-17T14:37:41.978Z"
   },
   {
    "duration": 129,
    "start_time": "2023-06-17T14:43:55.108Z"
   },
   {
    "duration": 18,
    "start_time": "2023-06-17T14:44:00.364Z"
   },
   {
    "duration": 9,
    "start_time": "2023-06-17T14:44:06.606Z"
   },
   {
    "duration": 10,
    "start_time": "2023-06-17T14:44:11.204Z"
   },
   {
    "duration": 9,
    "start_time": "2023-06-17T14:44:22.440Z"
   },
   {
    "duration": 19,
    "start_time": "2023-06-17T14:45:11.071Z"
   },
   {
    "duration": 9,
    "start_time": "2023-06-17T14:45:19.229Z"
   },
   {
    "duration": 6,
    "start_time": "2023-06-17T14:45:24.278Z"
   },
   {
    "duration": 7,
    "start_time": "2023-06-17T14:48:43.852Z"
   },
   {
    "duration": 7,
    "start_time": "2023-06-17T14:48:50.331Z"
   },
   {
    "duration": 7,
    "start_time": "2023-06-17T14:48:54.490Z"
   },
   {
    "duration": 8,
    "start_time": "2023-06-17T14:48:58.716Z"
   },
   {
    "duration": 7,
    "start_time": "2023-06-17T14:49:21.476Z"
   },
   {
    "duration": 353,
    "start_time": "2023-06-17T14:57:22.751Z"
   },
   {
    "duration": 140,
    "start_time": "2023-06-17T14:57:25.187Z"
   },
   {
    "duration": 165,
    "start_time": "2023-06-17T14:57:25.837Z"
   },
   {
    "duration": 142,
    "start_time": "2023-06-17T14:57:26.652Z"
   },
   {
    "duration": 234,
    "start_time": "2023-06-17T14:57:59.796Z"
   },
   {
    "duration": 135,
    "start_time": "2023-06-17T14:58:05.540Z"
   },
   {
    "duration": 12,
    "start_time": "2023-06-17T15:01:41.343Z"
   },
   {
    "duration": 6,
    "start_time": "2023-06-17T15:01:48.685Z"
   },
   {
    "duration": 157,
    "start_time": "2023-06-17T15:01:58.742Z"
   },
   {
    "duration": 10,
    "start_time": "2023-06-17T15:10:36.720Z"
   },
   {
    "duration": 10,
    "start_time": "2023-06-17T15:10:42.129Z"
   },
   {
    "duration": 6,
    "start_time": "2023-06-17T15:10:45.061Z"
   },
   {
    "duration": 128,
    "start_time": "2023-06-17T15:11:47.687Z"
   },
   {
    "duration": 126,
    "start_time": "2023-06-17T15:11:58.160Z"
   },
   {
    "duration": 148,
    "start_time": "2023-06-17T15:12:19.253Z"
   },
   {
    "duration": 118,
    "start_time": "2023-06-17T15:12:46.490Z"
   },
   {
    "duration": 110,
    "start_time": "2023-06-17T15:14:49.824Z"
   },
   {
    "duration": 236,
    "start_time": "2023-06-17T15:15:12.382Z"
   },
   {
    "duration": 171,
    "start_time": "2023-06-17T15:54:40.725Z"
   },
   {
    "duration": 1965,
    "start_time": "2023-06-17T16:07:15.636Z"
   },
   {
    "duration": 4,
    "start_time": "2023-06-17T16:07:17.603Z"
   },
   {
    "duration": 9,
    "start_time": "2023-06-17T16:07:17.608Z"
   },
   {
    "duration": 30,
    "start_time": "2023-06-17T16:07:17.618Z"
   },
   {
    "duration": 14,
    "start_time": "2023-06-17T16:07:17.650Z"
   },
   {
    "duration": 12,
    "start_time": "2023-06-17T16:07:17.666Z"
   },
   {
    "duration": 6,
    "start_time": "2023-06-17T16:07:17.680Z"
   },
   {
    "duration": 4,
    "start_time": "2023-06-17T16:07:17.688Z"
   },
   {
    "duration": 7,
    "start_time": "2023-06-17T16:07:17.694Z"
   },
   {
    "duration": 7,
    "start_time": "2023-06-17T16:07:17.704Z"
   },
   {
    "duration": 6,
    "start_time": "2023-06-17T16:07:17.713Z"
   },
   {
    "duration": 9,
    "start_time": "2023-06-17T16:07:17.720Z"
   },
   {
    "duration": 5,
    "start_time": "2023-06-17T16:07:17.731Z"
   },
   {
    "duration": 8,
    "start_time": "2023-06-17T16:07:17.738Z"
   },
   {
    "duration": 21,
    "start_time": "2023-06-17T16:07:17.747Z"
   },
   {
    "duration": 7,
    "start_time": "2023-06-17T16:07:17.770Z"
   },
   {
    "duration": 11,
    "start_time": "2023-06-17T16:07:17.778Z"
   },
   {
    "duration": 4174,
    "start_time": "2023-06-17T16:07:17.790Z"
   },
   {
    "duration": 22,
    "start_time": "2023-06-17T16:07:21.966Z"
   },
   {
    "duration": 259,
    "start_time": "2023-06-17T16:07:21.990Z"
   },
   {
    "duration": 151,
    "start_time": "2023-06-17T16:07:22.251Z"
   },
   {
    "duration": 170,
    "start_time": "2023-06-17T16:07:22.404Z"
   },
   {
    "duration": 152,
    "start_time": "2023-06-17T16:07:22.576Z"
   },
   {
    "duration": 7,
    "start_time": "2023-06-17T16:07:22.730Z"
   },
   {
    "duration": 29,
    "start_time": "2023-06-17T16:07:22.738Z"
   },
   {
    "duration": 21,
    "start_time": "2023-06-17T16:07:22.769Z"
   },
   {
    "duration": 11,
    "start_time": "2023-06-17T16:07:22.792Z"
   },
   {
    "duration": 11,
    "start_time": "2023-06-17T16:07:22.806Z"
   },
   {
    "duration": 15,
    "start_time": "2023-06-17T16:07:22.819Z"
   },
   {
    "duration": 21,
    "start_time": "2023-06-17T16:07:22.835Z"
   },
   {
    "duration": 28,
    "start_time": "2023-06-17T16:07:22.858Z"
   },
   {
    "duration": 9,
    "start_time": "2023-06-17T16:07:22.887Z"
   },
   {
    "duration": 17,
    "start_time": "2023-06-17T16:07:22.897Z"
   },
   {
    "duration": 211608,
    "start_time": "2023-06-17T16:07:22.915Z"
   },
   {
    "duration": 186,
    "start_time": "2023-06-17T16:10:54.524Z"
   },
   {
    "duration": 50335,
    "start_time": "2023-06-17T16:10:54.712Z"
   },
   {
    "duration": 210,
    "start_time": "2023-06-17T16:11:45.049Z"
   },
   {
    "duration": 199,
    "start_time": "2023-06-17T16:14:15.088Z"
   },
   {
    "duration": 274,
    "start_time": "2023-06-17T16:14:36.465Z"
   },
   {
    "duration": 188,
    "start_time": "2023-06-17T16:14:59.896Z"
   },
   {
    "duration": 17,
    "start_time": "2023-06-17T16:17:03.666Z"
   },
   {
    "duration": 5,
    "start_time": "2023-06-17T16:18:13.647Z"
   },
   {
    "duration": 8,
    "start_time": "2023-06-17T16:23:10.621Z"
   },
   {
    "duration": 32,
    "start_time": "2023-06-17T16:23:13.795Z"
   },
   {
    "duration": 13,
    "start_time": "2023-06-17T16:24:17.223Z"
   },
   {
    "duration": 7,
    "start_time": "2023-06-17T16:24:22.846Z"
   },
   {
    "duration": 9,
    "start_time": "2023-06-17T16:24:33.019Z"
   },
   {
    "duration": 11,
    "start_time": "2023-06-17T16:24:37.294Z"
   },
   {
    "duration": 20,
    "start_time": "2023-06-17T16:24:40.019Z"
   },
   {
    "duration": 11,
    "start_time": "2023-06-17T16:24:47.210Z"
   },
   {
    "duration": 10,
    "start_time": "2023-06-17T16:24:50.238Z"
   },
   {
    "duration": 9,
    "start_time": "2023-06-17T16:25:11.234Z"
   },
   {
    "duration": 6,
    "start_time": "2023-06-17T16:25:34.893Z"
   },
   {
    "duration": 39,
    "start_time": "2023-06-17T16:25:59.444Z"
   },
   {
    "duration": 26,
    "start_time": "2023-06-17T16:26:15.427Z"
   },
   {
    "duration": 35,
    "start_time": "2023-06-17T16:26:48.081Z"
   },
   {
    "duration": 27,
    "start_time": "2023-06-17T16:26:56.216Z"
   },
   {
    "duration": 14,
    "start_time": "2023-06-17T16:36:23.872Z"
   },
   {
    "duration": 4,
    "start_time": "2023-06-17T16:37:20.344Z"
   },
   {
    "duration": 8,
    "start_time": "2023-06-17T16:39:30.339Z"
   },
   {
    "duration": 27,
    "start_time": "2023-06-17T16:39:35.367Z"
   },
   {
    "duration": 15,
    "start_time": "2023-06-17T16:40:22.248Z"
   },
   {
    "duration": 6,
    "start_time": "2023-06-17T16:40:26.359Z"
   },
   {
    "duration": 13,
    "start_time": "2023-06-17T16:40:53.211Z"
   },
   {
    "duration": 16,
    "start_time": "2023-06-17T16:41:00.862Z"
   },
   {
    "duration": 10,
    "start_time": "2023-06-17T16:41:09.627Z"
   },
   {
    "duration": 11,
    "start_time": "2023-06-17T16:41:43.193Z"
   },
   {
    "duration": 10,
    "start_time": "2023-06-17T16:42:19.014Z"
   },
   {
    "duration": 9,
    "start_time": "2023-06-17T16:42:41.903Z"
   },
   {
    "duration": 6,
    "start_time": "2023-06-17T16:42:47.918Z"
   },
   {
    "duration": 10,
    "start_time": "2023-06-17T16:43:12.507Z"
   },
   {
    "duration": 135,
    "start_time": "2023-06-17T16:43:14.680Z"
   },
   {
    "duration": 4,
    "start_time": "2023-06-17T16:45:07.795Z"
   },
   {
    "duration": 22666,
    "start_time": "2023-06-17T16:45:13.725Z"
   },
   {
    "duration": 10,
    "start_time": "2023-06-17T16:46:46.290Z"
   },
   {
    "duration": 9,
    "start_time": "2023-06-17T16:47:01.005Z"
   },
   {
    "duration": 217,
    "start_time": "2023-06-17T16:47:12.421Z"
   },
   {
    "duration": 10,
    "start_time": "2023-06-17T16:47:54.144Z"
   },
   {
    "duration": 195,
    "start_time": "2023-06-17T16:47:56.684Z"
   },
   {
    "duration": 8,
    "start_time": "2023-06-17T16:49:41.423Z"
   },
   {
    "duration": 205,
    "start_time": "2023-06-17T16:49:43.529Z"
   },
   {
    "duration": 144,
    "start_time": "2023-06-17T16:50:19.554Z"
   },
   {
    "duration": 205,
    "start_time": "2023-06-17T16:50:22.331Z"
   },
   {
    "duration": 8,
    "start_time": "2023-06-17T16:50:29.448Z"
   },
   {
    "duration": 157887,
    "start_time": "2023-06-17T16:50:32.460Z"
   },
   {
    "duration": 14,
    "start_time": "2023-06-17T16:53:35.052Z"
   },
   {
    "duration": 4,
    "start_time": "2023-06-17T16:53:57.795Z"
   },
   {
    "duration": 5,
    "start_time": "2023-06-17T16:54:01.920Z"
   },
   {
    "duration": 5,
    "start_time": "2023-06-17T16:54:04.819Z"
   },
   {
    "duration": 33495,
    "start_time": "2023-06-17T16:54:34.722Z"
   },
   {
    "duration": 4,
    "start_time": "2023-06-17T16:55:31.249Z"
   },
   {
    "duration": 5,
    "start_time": "2023-06-17T16:56:18.367Z"
   },
   {
    "duration": 6,
    "start_time": "2023-06-17T17:06:48.322Z"
   },
   {
    "duration": 4,
    "start_time": "2023-06-17T17:06:55.095Z"
   },
   {
    "duration": 5,
    "start_time": "2023-06-17T17:07:25.295Z"
   },
   {
    "duration": 34,
    "start_time": "2023-06-17T17:07:26.993Z"
   },
   {
    "duration": 6,
    "start_time": "2023-06-17T17:07:46.346Z"
   },
   {
    "duration": 23,
    "start_time": "2023-06-17T17:07:48.989Z"
   },
   {
    "duration": 5,
    "start_time": "2023-06-17T17:07:52.601Z"
   },
   {
    "duration": 8,
    "start_time": "2023-06-17T17:07:54.623Z"
   },
   {
    "duration": 18,
    "start_time": "2023-06-17T17:07:59.578Z"
   },
   {
    "duration": 11,
    "start_time": "2023-06-17T17:08:31.995Z"
   },
   {
    "duration": 5,
    "start_time": "2023-06-17T17:08:49.724Z"
   },
   {
    "duration": 19,
    "start_time": "2023-06-17T17:09:13.663Z"
   },
   {
    "duration": 153470,
    "start_time": "2023-06-17T17:09:24.595Z"
   },
   {
    "duration": 17,
    "start_time": "2023-06-17T17:15:50.254Z"
   },
   {
    "duration": 195,
    "start_time": "2023-06-17T17:15:56.150Z"
   },
   {
    "duration": 10,
    "start_time": "2023-06-17T17:16:03.551Z"
   },
   {
    "duration": 186,
    "start_time": "2023-06-17T17:16:07.400Z"
   },
   {
    "duration": 5,
    "start_time": "2023-06-17T17:16:12.097Z"
   },
   {
    "duration": 30199,
    "start_time": "2023-06-17T17:16:23.394Z"
   },
   {
    "duration": 4,
    "start_time": "2023-06-17T17:16:53.595Z"
   },
   {
    "duration": 4,
    "start_time": "2023-06-17T17:17:05.103Z"
   },
   {
    "duration": 1846,
    "start_time": "2023-06-17T17:46:03.923Z"
   },
   {
    "duration": 4,
    "start_time": "2023-06-17T17:46:05.771Z"
   },
   {
    "duration": 4,
    "start_time": "2023-06-17T17:46:05.776Z"
   },
   {
    "duration": 30,
    "start_time": "2023-06-17T17:46:05.782Z"
   },
   {
    "duration": 14,
    "start_time": "2023-06-17T17:46:05.813Z"
   },
   {
    "duration": 11,
    "start_time": "2023-06-17T17:46:05.829Z"
   },
   {
    "duration": 6,
    "start_time": "2023-06-17T17:46:05.841Z"
   },
   {
    "duration": 7,
    "start_time": "2023-06-17T17:46:05.848Z"
   },
   {
    "duration": 12,
    "start_time": "2023-06-17T17:46:05.857Z"
   },
   {
    "duration": 4,
    "start_time": "2023-06-17T17:46:05.872Z"
   },
   {
    "duration": 11,
    "start_time": "2023-06-17T17:46:05.878Z"
   },
   {
    "duration": 27,
    "start_time": "2023-06-17T17:46:05.890Z"
   },
   {
    "duration": 5,
    "start_time": "2023-06-17T17:46:05.918Z"
   },
   {
    "duration": 8,
    "start_time": "2023-06-17T17:46:05.924Z"
   },
   {
    "duration": 7,
    "start_time": "2023-06-17T17:46:05.933Z"
   },
   {
    "duration": 12,
    "start_time": "2023-06-17T17:46:05.941Z"
   },
   {
    "duration": 8,
    "start_time": "2023-06-17T17:46:05.954Z"
   },
   {
    "duration": 3673,
    "start_time": "2023-06-17T17:46:05.963Z"
   },
   {
    "duration": 22,
    "start_time": "2023-06-17T17:46:09.637Z"
   },
   {
    "duration": 223,
    "start_time": "2023-06-17T17:46:09.660Z"
   },
   {
    "duration": 126,
    "start_time": "2023-06-17T17:46:09.885Z"
   },
   {
    "duration": 143,
    "start_time": "2023-06-17T17:46:10.013Z"
   },
   {
    "duration": 122,
    "start_time": "2023-06-17T17:46:10.157Z"
   },
   {
    "duration": 6,
    "start_time": "2023-06-17T17:46:10.280Z"
   },
   {
    "duration": 7,
    "start_time": "2023-06-17T17:46:10.287Z"
   },
   {
    "duration": 12,
    "start_time": "2023-06-17T17:46:10.295Z"
   },
   {
    "duration": 13,
    "start_time": "2023-06-17T17:46:10.308Z"
   },
   {
    "duration": 11,
    "start_time": "2023-06-17T17:46:10.323Z"
   },
   {
    "duration": 144,
    "start_time": "2023-06-17T17:46:10.335Z"
   },
   {
    "duration": 0,
    "start_time": "2023-06-17T17:46:10.480Z"
   },
   {
    "duration": 0,
    "start_time": "2023-06-17T17:46:10.481Z"
   },
   {
    "duration": 0,
    "start_time": "2023-06-17T17:46:10.482Z"
   },
   {
    "duration": 5,
    "start_time": "2023-06-17T17:46:36.068Z"
   },
   {
    "duration": 1815,
    "start_time": "2023-06-17T17:47:49.446Z"
   },
   {
    "duration": 6,
    "start_time": "2023-06-17T17:47:51.263Z"
   },
   {
    "duration": 3,
    "start_time": "2023-06-17T17:47:51.272Z"
   },
   {
    "duration": 29,
    "start_time": "2023-06-17T17:47:51.276Z"
   },
   {
    "duration": 14,
    "start_time": "2023-06-17T17:47:51.306Z"
   },
   {
    "duration": 11,
    "start_time": "2023-06-17T17:47:51.321Z"
   },
   {
    "duration": 11,
    "start_time": "2023-06-17T17:47:51.333Z"
   },
   {
    "duration": 14,
    "start_time": "2023-06-17T17:47:51.345Z"
   },
   {
    "duration": 6,
    "start_time": "2023-06-17T17:47:51.360Z"
   },
   {
    "duration": 6,
    "start_time": "2023-06-17T17:47:51.368Z"
   },
   {
    "duration": 5,
    "start_time": "2023-06-17T17:47:51.375Z"
   },
   {
    "duration": 5,
    "start_time": "2023-06-17T17:47:51.381Z"
   },
   {
    "duration": 6,
    "start_time": "2023-06-17T17:47:51.389Z"
   },
   {
    "duration": 7,
    "start_time": "2023-06-17T17:47:51.396Z"
   },
   {
    "duration": 6,
    "start_time": "2023-06-17T17:47:51.404Z"
   },
   {
    "duration": 8,
    "start_time": "2023-06-17T17:47:51.411Z"
   },
   {
    "duration": 5,
    "start_time": "2023-06-17T17:47:51.420Z"
   },
   {
    "duration": 3696,
    "start_time": "2023-06-17T17:47:51.427Z"
   },
   {
    "duration": 22,
    "start_time": "2023-06-17T17:47:55.125Z"
   },
   {
    "duration": 225,
    "start_time": "2023-06-17T17:47:55.149Z"
   },
   {
    "duration": 127,
    "start_time": "2023-06-17T17:47:55.376Z"
   },
   {
    "duration": 139,
    "start_time": "2023-06-17T17:47:55.505Z"
   },
   {
    "duration": 130,
    "start_time": "2023-06-17T17:47:55.645Z"
   },
   {
    "duration": 6,
    "start_time": "2023-06-17T17:47:55.776Z"
   },
   {
    "duration": 7,
    "start_time": "2023-06-17T17:47:55.783Z"
   },
   {
    "duration": 13,
    "start_time": "2023-06-17T17:47:55.791Z"
   },
   {
    "duration": 11,
    "start_time": "2023-06-17T17:47:55.806Z"
   },
   {
    "duration": 14,
    "start_time": "2023-06-17T17:47:55.818Z"
   },
   {
    "duration": 6,
    "start_time": "2023-06-17T17:47:55.834Z"
   },
   {
    "duration": 129,
    "start_time": "2023-06-17T17:47:55.869Z"
   },
   {
    "duration": 22,
    "start_time": "2023-06-17T17:48:06.438Z"
   },
   {
    "duration": 1778,
    "start_time": "2023-06-17T17:48:28.471Z"
   },
   {
    "duration": 4,
    "start_time": "2023-06-17T17:48:30.251Z"
   },
   {
    "duration": 21,
    "start_time": "2023-06-17T17:48:30.258Z"
   },
   {
    "duration": 55,
    "start_time": "2023-06-17T17:48:30.281Z"
   },
   {
    "duration": 15,
    "start_time": "2023-06-17T17:48:30.337Z"
   },
   {
    "duration": 45,
    "start_time": "2023-06-17T17:48:30.354Z"
   },
   {
    "duration": 35,
    "start_time": "2023-06-17T17:48:30.401Z"
   },
   {
    "duration": 49,
    "start_time": "2023-06-17T17:48:30.437Z"
   },
   {
    "duration": 40,
    "start_time": "2023-06-17T17:48:30.488Z"
   },
   {
    "duration": 26,
    "start_time": "2023-06-17T17:48:30.530Z"
   },
   {
    "duration": 30,
    "start_time": "2023-06-17T17:48:30.558Z"
   },
   {
    "duration": 32,
    "start_time": "2023-06-17T17:48:30.590Z"
   },
   {
    "duration": 27,
    "start_time": "2023-06-17T17:48:30.624Z"
   },
   {
    "duration": 30,
    "start_time": "2023-06-17T17:48:30.652Z"
   },
   {
    "duration": 82,
    "start_time": "2023-06-17T17:48:30.684Z"
   },
   {
    "duration": 61,
    "start_time": "2023-06-17T17:48:30.767Z"
   },
   {
    "duration": 34,
    "start_time": "2023-06-17T17:48:30.830Z"
   },
   {
    "duration": 3758,
    "start_time": "2023-06-17T17:48:30.865Z"
   },
   {
    "duration": 20,
    "start_time": "2023-06-17T17:48:34.625Z"
   },
   {
    "duration": 220,
    "start_time": "2023-06-17T17:48:34.646Z"
   },
   {
    "duration": 124,
    "start_time": "2023-06-17T17:48:34.868Z"
   },
   {
    "duration": 147,
    "start_time": "2023-06-17T17:48:34.993Z"
   },
   {
    "duration": 127,
    "start_time": "2023-06-17T17:48:35.142Z"
   },
   {
    "duration": 6,
    "start_time": "2023-06-17T17:48:35.270Z"
   },
   {
    "duration": 6,
    "start_time": "2023-06-17T17:48:35.277Z"
   },
   {
    "duration": 10,
    "start_time": "2023-06-17T17:48:35.284Z"
   },
   {
    "duration": 12,
    "start_time": "2023-06-17T17:48:35.295Z"
   },
   {
    "duration": 12,
    "start_time": "2023-06-17T17:48:35.308Z"
   },
   {
    "duration": 17,
    "start_time": "2023-06-17T17:48:35.322Z"
   },
   {
    "duration": 36,
    "start_time": "2023-06-17T17:48:35.343Z"
   },
   {
    "duration": 5,
    "start_time": "2023-06-17T17:48:40.513Z"
   },
   {
    "duration": 9,
    "start_time": "2023-06-17T17:48:42.872Z"
   },
   {
    "duration": 127,
    "start_time": "2023-06-17T17:48:46.193Z"
   },
   {
    "duration": 8,
    "start_time": "2023-06-17T17:49:32.982Z"
   },
   {
    "duration": 7,
    "start_time": "2023-06-17T17:49:35.963Z"
   },
   {
    "duration": 16,
    "start_time": "2023-06-17T17:49:38.054Z"
   },
   {
    "duration": 7,
    "start_time": "2023-06-17T17:49:48.791Z"
   },
   {
    "duration": 3923,
    "start_time": "2023-06-17T17:49:51.249Z"
   },
   {
    "duration": 1825,
    "start_time": "2023-06-17T17:50:08.983Z"
   },
   {
    "duration": 4,
    "start_time": "2023-06-17T17:50:10.810Z"
   },
   {
    "duration": 5,
    "start_time": "2023-06-17T17:50:10.815Z"
   },
   {
    "duration": 32,
    "start_time": "2023-06-17T17:50:10.822Z"
   },
   {
    "duration": 16,
    "start_time": "2023-06-17T17:50:10.855Z"
   },
   {
    "duration": 13,
    "start_time": "2023-06-17T17:50:10.873Z"
   },
   {
    "duration": 6,
    "start_time": "2023-06-17T17:50:10.888Z"
   },
   {
    "duration": 4,
    "start_time": "2023-06-17T17:50:10.895Z"
   },
   {
    "duration": 16,
    "start_time": "2023-06-17T17:50:10.900Z"
   },
   {
    "duration": 20,
    "start_time": "2023-06-17T17:50:10.919Z"
   },
   {
    "duration": 8,
    "start_time": "2023-06-17T17:50:10.940Z"
   },
   {
    "duration": 12,
    "start_time": "2023-06-17T17:50:10.949Z"
   },
   {
    "duration": 6,
    "start_time": "2023-06-17T17:50:10.963Z"
   },
   {
    "duration": 11,
    "start_time": "2023-06-17T17:50:10.971Z"
   },
   {
    "duration": 5,
    "start_time": "2023-06-17T17:50:10.984Z"
   },
   {
    "duration": 9,
    "start_time": "2023-06-17T17:50:10.990Z"
   },
   {
    "duration": 6,
    "start_time": "2023-06-17T17:50:11.000Z"
   },
   {
    "duration": 4435,
    "start_time": "2023-06-17T17:50:11.008Z"
   },
   {
    "duration": 22,
    "start_time": "2023-06-17T17:50:15.445Z"
   },
   {
    "duration": 272,
    "start_time": "2023-06-17T17:50:15.468Z"
   },
   {
    "duration": 154,
    "start_time": "2023-06-17T17:50:15.742Z"
   },
   {
    "duration": 143,
    "start_time": "2023-06-17T17:50:15.897Z"
   },
   {
    "duration": 127,
    "start_time": "2023-06-17T17:50:16.041Z"
   },
   {
    "duration": 290,
    "start_time": "2023-06-17T17:50:16.169Z"
   },
   {
    "duration": 6,
    "start_time": "2023-06-17T17:50:16.461Z"
   },
   {
    "duration": 10,
    "start_time": "2023-06-17T17:50:16.468Z"
   },
   {
    "duration": 10,
    "start_time": "2023-06-17T17:50:16.479Z"
   },
   {
    "duration": 10,
    "start_time": "2023-06-17T17:50:16.492Z"
   },
   {
    "duration": 18,
    "start_time": "2023-06-17T17:50:16.503Z"
   },
   {
    "duration": 22,
    "start_time": "2023-06-17T17:50:16.522Z"
   },
   {
    "duration": 5,
    "start_time": "2023-06-17T17:50:16.545Z"
   },
   {
    "duration": 21,
    "start_time": "2023-06-17T17:50:16.551Z"
   },
   {
    "duration": 150330,
    "start_time": "2023-06-17T17:50:16.574Z"
   },
   {
    "duration": 132,
    "start_time": "2023-06-17T17:53:04.952Z"
   },
   {
    "duration": 11,
    "start_time": "2023-06-17T17:53:13.464Z"
   },
   {
    "duration": 11,
    "start_time": "2023-06-17T17:53:22.038Z"
   },
   {
    "duration": 6,
    "start_time": "2023-06-17T17:54:01.553Z"
   },
   {
    "duration": 182,
    "start_time": "2023-06-17T17:54:06.997Z"
   },
   {
    "duration": 4,
    "start_time": "2023-06-17T17:54:16.071Z"
   },
   {
    "duration": 1806,
    "start_time": "2023-06-17T17:54:25.849Z"
   },
   {
    "duration": 3,
    "start_time": "2023-06-17T17:54:27.657Z"
   },
   {
    "duration": 7,
    "start_time": "2023-06-17T17:54:27.661Z"
   },
   {
    "duration": 29,
    "start_time": "2023-06-17T17:54:27.669Z"
   },
   {
    "duration": 12,
    "start_time": "2023-06-17T17:54:27.700Z"
   },
   {
    "duration": 10,
    "start_time": "2023-06-17T17:54:27.714Z"
   },
   {
    "duration": 9,
    "start_time": "2023-06-17T17:54:27.726Z"
   },
   {
    "duration": 6,
    "start_time": "2023-06-17T17:54:27.736Z"
   },
   {
    "duration": 10,
    "start_time": "2023-06-17T17:54:27.743Z"
   },
   {
    "duration": 5,
    "start_time": "2023-06-17T17:54:27.754Z"
   },
   {
    "duration": 5,
    "start_time": "2023-06-17T17:54:27.760Z"
   },
   {
    "duration": 4,
    "start_time": "2023-06-17T17:54:27.768Z"
   },
   {
    "duration": 4,
    "start_time": "2023-06-17T17:54:27.773Z"
   },
   {
    "duration": 5,
    "start_time": "2023-06-17T17:54:27.779Z"
   },
   {
    "duration": 6,
    "start_time": "2023-06-17T17:54:27.785Z"
   },
   {
    "duration": 8,
    "start_time": "2023-06-17T17:54:27.792Z"
   },
   {
    "duration": 6,
    "start_time": "2023-06-17T17:54:27.802Z"
   },
   {
    "duration": 3723,
    "start_time": "2023-06-17T17:54:27.809Z"
   },
   {
    "duration": 20,
    "start_time": "2023-06-17T17:54:31.534Z"
   },
   {
    "duration": 262,
    "start_time": "2023-06-17T17:54:31.556Z"
   },
   {
    "duration": 124,
    "start_time": "2023-06-17T17:54:31.820Z"
   },
   {
    "duration": 149,
    "start_time": "2023-06-17T17:54:31.946Z"
   },
   {
    "duration": 130,
    "start_time": "2023-06-17T17:54:32.096Z"
   },
   {
    "duration": 6,
    "start_time": "2023-06-17T17:54:32.227Z"
   },
   {
    "duration": 8,
    "start_time": "2023-06-17T17:54:32.235Z"
   },
   {
    "duration": 32,
    "start_time": "2023-06-17T17:54:32.244Z"
   },
   {
    "duration": 10,
    "start_time": "2023-06-17T17:54:32.278Z"
   },
   {
    "duration": 25,
    "start_time": "2023-06-17T17:54:32.290Z"
   },
   {
    "duration": 7,
    "start_time": "2023-06-17T17:54:32.317Z"
   },
   {
    "duration": 24,
    "start_time": "2023-06-17T17:54:32.325Z"
   },
   {
    "duration": 17,
    "start_time": "2023-06-17T17:54:32.351Z"
   },
   {
    "duration": 15,
    "start_time": "2023-06-17T17:54:32.370Z"
   },
   {
    "duration": 149861,
    "start_time": "2023-06-17T17:54:32.387Z"
   },
   {
    "duration": 192,
    "start_time": "2023-06-17T17:57:02.249Z"
   },
   {
    "duration": 5,
    "start_time": "2023-06-17T17:57:02.444Z"
   },
   {
    "duration": 29418,
    "start_time": "2023-06-17T17:57:37.314Z"
   },
   {
    "duration": 4,
    "start_time": "2023-06-17T17:58:06.734Z"
   },
   {
    "duration": 5,
    "start_time": "2023-06-17T17:58:55.970Z"
   },
   {
    "duration": 126,
    "start_time": "2023-06-17T17:59:34.948Z"
   },
   {
    "duration": 16,
    "start_time": "2023-06-17T17:59:41.232Z"
   },
   {
    "duration": 13,
    "start_time": "2023-06-17T17:59:47.273Z"
   },
   {
    "duration": 199,
    "start_time": "2023-06-17T17:59:53.784Z"
   },
   {
    "duration": 2197,
    "start_time": "2023-06-19T09:05:08.778Z"
   },
   {
    "duration": 11,
    "start_time": "2023-06-19T09:05:10.977Z"
   },
   {
    "duration": 3,
    "start_time": "2023-06-19T09:05:10.989Z"
   },
   {
    "duration": 68,
    "start_time": "2023-06-19T09:05:10.993Z"
   },
   {
    "duration": 16,
    "start_time": "2023-06-19T09:05:11.063Z"
   },
   {
    "duration": 19,
    "start_time": "2023-06-19T09:05:11.080Z"
   },
   {
    "duration": 13,
    "start_time": "2023-06-19T09:05:11.101Z"
   },
   {
    "duration": 15,
    "start_time": "2023-06-19T09:05:11.115Z"
   },
   {
    "duration": 20,
    "start_time": "2023-06-19T09:05:11.132Z"
   },
   {
    "duration": 22,
    "start_time": "2023-06-19T09:05:11.154Z"
   },
   {
    "duration": 26,
    "start_time": "2023-06-19T09:05:11.178Z"
   },
   {
    "duration": 12,
    "start_time": "2023-06-19T09:05:11.206Z"
   },
   {
    "duration": 10,
    "start_time": "2023-06-19T09:05:11.219Z"
   },
   {
    "duration": 26,
    "start_time": "2023-06-19T09:05:11.233Z"
   },
   {
    "duration": 12,
    "start_time": "2023-06-19T09:05:11.261Z"
   },
   {
    "duration": 16,
    "start_time": "2023-06-19T09:05:11.275Z"
   },
   {
    "duration": 8,
    "start_time": "2023-06-19T09:05:11.292Z"
   },
   {
    "duration": 4303,
    "start_time": "2023-06-19T09:05:11.302Z"
   },
   {
    "duration": 24,
    "start_time": "2023-06-19T09:05:15.607Z"
   },
   {
    "duration": 270,
    "start_time": "2023-06-19T09:05:15.633Z"
   },
   {
    "duration": 152,
    "start_time": "2023-06-19T09:05:15.904Z"
   },
   {
    "duration": 166,
    "start_time": "2023-06-19T09:05:16.058Z"
   },
   {
    "duration": 142,
    "start_time": "2023-06-19T09:05:16.226Z"
   },
   {
    "duration": 7,
    "start_time": "2023-06-19T09:05:16.369Z"
   },
   {
    "duration": 24,
    "start_time": "2023-06-19T09:05:16.378Z"
   },
   {
    "duration": 19,
    "start_time": "2023-06-19T09:05:16.404Z"
   },
   {
    "duration": 18,
    "start_time": "2023-06-19T09:05:16.425Z"
   },
   {
    "duration": 19,
    "start_time": "2023-06-19T09:05:16.445Z"
   },
   {
    "duration": 77,
    "start_time": "2023-06-19T09:05:16.466Z"
   },
   {
    "duration": 33,
    "start_time": "2023-06-19T09:05:16.545Z"
   },
   {
    "duration": 4,
    "start_time": "2023-06-19T09:05:16.582Z"
   },
   {
    "duration": 18,
    "start_time": "2023-06-19T09:05:16.588Z"
   },
   {
    "duration": 172971,
    "start_time": "2023-06-19T09:05:16.608Z"
   },
   {
    "duration": 207,
    "start_time": "2023-06-19T09:08:09.580Z"
   },
   {
    "duration": 5,
    "start_time": "2023-06-19T09:08:09.789Z"
   },
   {
    "duration": 177582,
    "start_time": "2023-06-19T09:08:09.796Z"
   },
   {
    "duration": 9,
    "start_time": "2023-06-19T09:18:33.745Z"
   },
   {
    "duration": 177334,
    "start_time": "2023-06-19T09:27:52.903Z"
   },
   {
    "duration": 181869,
    "start_time": "2023-06-19T09:32:46.305Z"
   },
   {
    "duration": 185207,
    "start_time": "2023-06-19T09:35:48.177Z"
   },
   {
    "duration": 73,
    "start_time": "2023-06-19T09:38:53.385Z"
   },
   {
    "duration": 205,
    "start_time": "2023-06-19T09:39:03.484Z"
   },
   {
    "duration": 204,
    "start_time": "2023-06-19T09:39:24.004Z"
   },
   {
    "duration": 182055,
    "start_time": "2023-06-19T09:44:19.933Z"
   },
   {
    "duration": 65,
    "start_time": "2023-06-19T09:47:56.981Z"
   },
   {
    "duration": 419760,
    "start_time": "2023-06-19T09:48:28.992Z"
   },
   {
    "duration": 0,
    "start_time": "2023-06-19T09:55:28.754Z"
   },
   {
    "duration": 10,
    "start_time": "2023-06-19T09:56:43.332Z"
   },
   {
    "duration": 4,
    "start_time": "2023-06-19T09:57:13.162Z"
   },
   {
    "duration": 5,
    "start_time": "2023-06-19T09:57:13.190Z"
   },
   {
    "duration": 7,
    "start_time": "2023-06-19T09:57:13.198Z"
   },
   {
    "duration": 39,
    "start_time": "2023-06-19T09:57:13.206Z"
   },
   {
    "duration": 11,
    "start_time": "2023-06-19T09:57:13.247Z"
   },
   {
    "duration": 18,
    "start_time": "2023-06-19T09:57:13.261Z"
   },
   {
    "duration": 11,
    "start_time": "2023-06-19T09:57:13.281Z"
   },
   {
    "duration": 6,
    "start_time": "2023-06-19T09:57:13.293Z"
   },
   {
    "duration": 7,
    "start_time": "2023-06-19T09:57:13.301Z"
   },
   {
    "duration": 6,
    "start_time": "2023-06-19T09:57:13.310Z"
   },
   {
    "duration": 11,
    "start_time": "2023-06-19T09:57:13.318Z"
   },
   {
    "duration": 27,
    "start_time": "2023-06-19T09:57:13.331Z"
   },
   {
    "duration": 5,
    "start_time": "2023-06-19T09:57:13.359Z"
   },
   {
    "duration": 11,
    "start_time": "2023-06-19T09:57:13.366Z"
   },
   {
    "duration": 7,
    "start_time": "2023-06-19T09:57:13.380Z"
   },
   {
    "duration": 10,
    "start_time": "2023-06-19T09:57:13.389Z"
   },
   {
    "duration": 12,
    "start_time": "2023-06-19T09:57:13.400Z"
   },
   {
    "duration": 4442,
    "start_time": "2023-06-19T09:57:13.414Z"
   },
   {
    "duration": 24,
    "start_time": "2023-06-19T09:57:17.858Z"
   },
   {
    "duration": 162,
    "start_time": "2023-06-19T09:57:17.884Z"
   },
   {
    "duration": 162,
    "start_time": "2023-06-19T09:57:18.048Z"
   },
   {
    "duration": 183,
    "start_time": "2023-06-19T09:57:18.213Z"
   },
   {
    "duration": 170,
    "start_time": "2023-06-19T09:57:18.398Z"
   },
   {
    "duration": 9,
    "start_time": "2023-06-19T09:57:18.571Z"
   },
   {
    "duration": 6,
    "start_time": "2023-06-19T09:57:18.582Z"
   },
   {
    "duration": 11,
    "start_time": "2023-06-19T09:57:18.590Z"
   },
   {
    "duration": 15,
    "start_time": "2023-06-19T09:57:18.603Z"
   },
   {
    "duration": 38,
    "start_time": "2023-06-19T09:57:18.620Z"
   },
   {
    "duration": 14,
    "start_time": "2023-06-19T09:57:18.660Z"
   },
   {
    "duration": 25,
    "start_time": "2023-06-19T09:57:18.676Z"
   },
   {
    "duration": 17,
    "start_time": "2023-06-19T09:57:18.703Z"
   },
   {
    "duration": 11,
    "start_time": "2023-06-19T09:57:18.722Z"
   },
   {
    "duration": 178810,
    "start_time": "2023-06-19T09:57:19.303Z"
   },
   {
    "duration": 370,
    "start_time": "2023-06-19T10:00:18.115Z"
   },
   {
    "duration": 182,
    "start_time": "2023-06-19T10:02:54.510Z"
   },
   {
    "duration": 256,
    "start_time": "2023-06-19T10:03:12.702Z"
   },
   {
    "duration": 11,
    "start_time": "2023-06-19T10:03:18.422Z"
   },
   {
    "duration": 192,
    "start_time": "2023-06-19T10:03:24.508Z"
   },
   {
    "duration": 5,
    "start_time": "2023-06-19T10:03:46.693Z"
   },
   {
    "duration": 177690,
    "start_time": "2023-06-19T10:04:11.735Z"
   },
   {
    "duration": 5,
    "start_time": "2023-06-19T10:07:39.761Z"
   },
   {
    "duration": 14,
    "start_time": "2023-06-19T10:09:51.479Z"
   },
   {
    "duration": 13,
    "start_time": "2023-06-19T10:10:03.318Z"
   },
   {
    "duration": 4,
    "start_time": "2023-06-19T10:10:14.638Z"
   },
   {
    "duration": 4,
    "start_time": "2023-06-19T10:10:26.233Z"
   },
   {
    "duration": 5,
    "start_time": "2023-06-19T10:10:44.498Z"
   },
   {
    "duration": 5,
    "start_time": "2023-06-19T10:11:11.448Z"
   },
   {
    "duration": 5,
    "start_time": "2023-06-19T10:12:19.177Z"
   },
   {
    "duration": 5,
    "start_time": "2023-06-19T10:12:38.139Z"
   },
   {
    "duration": 18,
    "start_time": "2023-06-19T10:13:48.592Z"
   },
   {
    "duration": 59,
    "start_time": "2023-06-19T10:17:17.795Z"
   },
   {
    "duration": 7,
    "start_time": "2023-06-19T10:17:26.299Z"
   },
   {
    "duration": 7,
    "start_time": "2023-06-19T10:18:23.296Z"
   },
   {
    "duration": 6,
    "start_time": "2023-06-19T10:18:42.610Z"
   },
   {
    "duration": 6,
    "start_time": "2023-06-19T10:18:52.407Z"
   },
   {
    "duration": 6,
    "start_time": "2023-06-19T10:19:03.567Z"
   },
   {
    "duration": 13,
    "start_time": "2023-06-19T10:19:08.389Z"
   },
   {
    "duration": 8,
    "start_time": "2023-06-19T10:21:40.422Z"
   },
   {
    "duration": 9,
    "start_time": "2023-06-19T10:21:48.489Z"
   },
   {
    "duration": 10,
    "start_time": "2023-06-19T10:22:01.522Z"
   },
   {
    "duration": 12,
    "start_time": "2023-06-19T10:22:08.844Z"
   },
   {
    "duration": 6,
    "start_time": "2023-06-19T10:22:21.413Z"
   },
   {
    "duration": 6,
    "start_time": "2023-06-19T10:22:33.589Z"
   },
   {
    "duration": 105,
    "start_time": "2023-06-19T10:22:37.992Z"
   },
   {
    "duration": 6,
    "start_time": "2023-06-19T10:22:46.000Z"
   },
   {
    "duration": 6,
    "start_time": "2023-06-19T10:23:27.053Z"
   },
   {
    "duration": 6,
    "start_time": "2023-06-19T10:29:36.524Z"
   },
   {
    "duration": 5,
    "start_time": "2023-06-19T10:29:48.089Z"
   },
   {
    "duration": 5,
    "start_time": "2023-06-19T10:30:07.094Z"
   },
   {
    "duration": 4,
    "start_time": "2023-06-19T10:30:27.494Z"
   },
   {
    "duration": 27,
    "start_time": "2023-06-19T10:34:24.558Z"
   },
   {
    "duration": 19,
    "start_time": "2023-06-19T10:34:33.098Z"
   },
   {
    "duration": 7,
    "start_time": "2023-06-19T10:34:42.118Z"
   },
   {
    "duration": 12,
    "start_time": "2023-06-19T10:35:14.285Z"
   },
   {
    "duration": 20,
    "start_time": "2023-06-19T10:35:31.693Z"
   },
   {
    "duration": 23,
    "start_time": "2023-06-19T10:36:18.898Z"
   },
   {
    "duration": 20,
    "start_time": "2023-06-19T10:36:37.090Z"
   },
   {
    "duration": 24,
    "start_time": "2023-06-19T10:37:36.206Z"
   },
   {
    "duration": 45,
    "start_time": "2023-06-19T10:37:47.230Z"
   },
   {
    "duration": 25,
    "start_time": "2023-06-19T10:38:02.230Z"
   },
   {
    "duration": 36,
    "start_time": "2023-06-19T10:38:06.059Z"
   },
   {
    "duration": 36,
    "start_time": "2023-06-19T10:38:24.808Z"
   },
   {
    "duration": 25,
    "start_time": "2023-06-19T10:38:55.019Z"
   },
   {
    "duration": 24,
    "start_time": "2023-06-19T10:39:03.900Z"
   },
   {
    "duration": 25,
    "start_time": "2023-06-19T10:40:25.510Z"
   },
   {
    "duration": 104,
    "start_time": "2023-06-19T10:45:07.932Z"
   },
   {
    "duration": 2101,
    "start_time": "2023-06-19T11:46:25.458Z"
   },
   {
    "duration": 8,
    "start_time": "2023-06-19T11:46:27.564Z"
   },
   {
    "duration": 6,
    "start_time": "2023-06-19T11:46:27.575Z"
   },
   {
    "duration": 32,
    "start_time": "2023-06-19T11:46:27.584Z"
   },
   {
    "duration": 20,
    "start_time": "2023-06-19T11:46:27.618Z"
   },
   {
    "duration": 19,
    "start_time": "2023-06-19T11:46:27.641Z"
   },
   {
    "duration": 15,
    "start_time": "2023-06-19T11:46:27.662Z"
   },
   {
    "duration": 5,
    "start_time": "2023-06-19T11:46:27.679Z"
   },
   {
    "duration": 8,
    "start_time": "2023-06-19T11:46:27.686Z"
   },
   {
    "duration": 5,
    "start_time": "2023-06-19T11:46:27.698Z"
   },
   {
    "duration": 9,
    "start_time": "2023-06-19T11:46:27.704Z"
   },
   {
    "duration": 13,
    "start_time": "2023-06-19T11:46:27.715Z"
   },
   {
    "duration": 5,
    "start_time": "2023-06-19T11:46:27.730Z"
   },
   {
    "duration": 21,
    "start_time": "2023-06-19T11:46:27.737Z"
   },
   {
    "duration": 14,
    "start_time": "2023-06-19T11:46:27.761Z"
   },
   {
    "duration": 18,
    "start_time": "2023-06-19T11:46:27.777Z"
   },
   {
    "duration": 16,
    "start_time": "2023-06-19T11:46:27.797Z"
   },
   {
    "duration": 4722,
    "start_time": "2023-06-19T11:46:27.815Z"
   },
   {
    "duration": 34,
    "start_time": "2023-06-19T11:46:32.539Z"
   },
   {
    "duration": 289,
    "start_time": "2023-06-19T11:46:32.575Z"
   },
   {
    "duration": 157,
    "start_time": "2023-06-19T11:46:32.872Z"
   },
   {
    "duration": 182,
    "start_time": "2023-06-19T11:46:33.031Z"
   },
   {
    "duration": 164,
    "start_time": "2023-06-19T11:46:33.215Z"
   },
   {
    "duration": 8,
    "start_time": "2023-06-19T11:46:33.380Z"
   },
   {
    "duration": 9,
    "start_time": "2023-06-19T11:46:33.389Z"
   },
   {
    "duration": 57,
    "start_time": "2023-06-19T11:46:33.400Z"
   },
   {
    "duration": 16,
    "start_time": "2023-06-19T11:46:33.459Z"
   },
   {
    "duration": 17,
    "start_time": "2023-06-19T11:46:33.480Z"
   },
   {
    "duration": 70,
    "start_time": "2023-06-19T11:46:33.499Z"
   },
   {
    "duration": 87,
    "start_time": "2023-06-19T11:46:33.575Z"
   },
   {
    "duration": 9,
    "start_time": "2023-06-19T11:46:33.665Z"
   },
   {
    "duration": 13,
    "start_time": "2023-06-19T11:46:33.676Z"
   },
   {
    "duration": 179059,
    "start_time": "2023-06-19T11:46:33.691Z"
   },
   {
    "duration": 224,
    "start_time": "2023-06-19T11:49:32.756Z"
   },
   {
    "duration": 4,
    "start_time": "2023-06-19T11:49:32.982Z"
   },
   {
    "duration": 179220,
    "start_time": "2023-06-19T11:49:32.988Z"
   },
   {
    "duration": 4,
    "start_time": "2023-06-19T11:52:32.211Z"
   },
   {
    "duration": 56806,
    "start_time": "2023-06-19T11:52:32.217Z"
   },
   {
    "duration": 41,
    "start_time": "2023-06-19T11:53:29.025Z"
   },
   {
    "duration": 2329192,
    "start_time": "2023-06-19T11:53:29.068Z"
   },
   {
    "duration": 158,
    "start_time": "2023-06-19T12:32:18.267Z"
   },
   {
    "duration": 103,
    "start_time": "2023-06-19T12:49:53.709Z"
   },
   {
    "duration": 39,
    "start_time": "2023-06-19T12:50:31.382Z"
   },
   {
    "duration": 11,
    "start_time": "2023-06-19T12:50:45.129Z"
   },
   {
    "duration": 1341,
    "start_time": "2023-06-19T12:50:56.858Z"
   },
   {
    "duration": 10,
    "start_time": "2023-06-19T12:51:22.918Z"
   },
   {
    "duration": 8,
    "start_time": "2023-06-19T12:51:41.521Z"
   },
   {
    "duration": 19,
    "start_time": "2023-06-19T12:51:55.177Z"
   },
   {
    "duration": 11,
    "start_time": "2023-06-19T12:52:53.036Z"
   },
   {
    "duration": 4,
    "start_time": "2023-06-19T12:53:03.816Z"
   },
   {
    "duration": 7,
    "start_time": "2023-06-19T12:53:20.802Z"
   },
   {
    "duration": 17,
    "start_time": "2023-06-19T12:56:21.603Z"
   },
   {
    "duration": 70,
    "start_time": "2023-06-19T12:59:52.822Z"
   },
   {
    "duration": 22,
    "start_time": "2023-06-19T12:59:57.528Z"
   },
   {
    "duration": 24,
    "start_time": "2023-06-19T13:01:18.546Z"
   },
   {
    "duration": 5,
    "start_time": "2023-06-19T13:04:53.328Z"
   },
   {
    "duration": 9,
    "start_time": "2023-06-19T13:07:12.057Z"
   },
   {
    "duration": 230,
    "start_time": "2023-06-19T13:12:57.389Z"
   }
  ],
  "kernelspec": {
   "display_name": "Python 3 (ipykernel)",
   "language": "python",
   "name": "python3"
  },
  "language_info": {
   "codemirror_mode": {
    "name": "ipython",
    "version": 3
   },
   "file_extension": ".py",
   "mimetype": "text/x-python",
   "name": "python",
   "nbconvert_exporter": "python",
   "pygments_lexer": "ipython3",
   "version": "3.9.5"
  },
  "toc": {
   "base_numbering": 1,
   "nav_menu": {},
   "number_sections": false,
   "sideBar": true,
   "skip_h1_title": false,
   "title_cell": "Table of Contents",
   "title_sidebar": "Contents",
   "toc_cell": false,
   "toc_position": {},
   "toc_section_display": true,
   "toc_window_display": false
  },
  "varInspector": {
   "cols": {
    "lenName": 16,
    "lenType": 16,
    "lenVar": 40
   },
   "kernels_config": {
    "python": {
     "delete_cmd_postfix": "",
     "delete_cmd_prefix": "del ",
     "library": "var_list.py",
     "varRefreshCmd": "print(var_dic_list())"
    },
    "r": {
     "delete_cmd_postfix": ") ",
     "delete_cmd_prefix": "rm(",
     "library": "var_list.r",
     "varRefreshCmd": "cat(var_dic_list()) "
    }
   },
   "types_to_exclude": [
    "module",
    "function",
    "builtin_function_or_method",
    "instance",
    "_Feature"
   ],
   "window_display": false
  }
 },
 "nbformat": 4,
 "nbformat_minor": 5
}
