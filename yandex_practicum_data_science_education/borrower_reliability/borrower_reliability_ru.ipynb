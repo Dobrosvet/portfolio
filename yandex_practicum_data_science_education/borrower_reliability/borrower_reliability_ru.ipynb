{
 "cells": [
  {
   "attachments": {},
   "cell_type": "markdown",
   "id": "c81daeeb",
   "metadata": {
    "deletable": false,
    "id": "c81daeeb"
   },
   "source": [
    "# Исследование надежности заемщиков"
   ]
  },
  {
   "attachments": {},
   "cell_type": "markdown",
   "id": "3f8e2ed5",
   "metadata": {},
   "source": [
    "## Подключение библиотек"
   ]
  },
  {
   "cell_type": "code",
   "execution_count": 2,
   "id": "7bcf75c9",
   "metadata": {
    "deletable": false,
    "id": "7bcf75c9"
   },
   "outputs": [],
   "source": [
    "import pandas as pd\n",
    "import seaborn as sb\n",
    "from math import sqrt"
   ]
  },
  {
   "cell_type": "markdown",
   "id": "16faae3b",
   "metadata": {},
   "source": [
    "## Получение данных"
   ]
  },
  {
   "cell_type": "code",
   "execution_count": 3,
   "id": "3055fe1c",
   "metadata": {},
   "outputs": [],
   "source": [
    "try:\n",
    "    data = pd.read_csv('/datasets/data.csv')\n",
    "except:\n",
    "    data = pd.read_csv('https://code.s3.yandex.net/datasets/data.csv')"
   ]
  },
  {
   "attachments": {},
   "cell_type": "markdown",
   "id": "744d7639",
   "metadata": {
    "deletable": false,
    "id": "744d7639"
   },
   "source": [
    "## Изучение данных"
   ]
  },
  {
   "cell_type": "code",
   "execution_count": 4,
   "id": "2a7cab99",
   "metadata": {
    "deletable": false,
    "id": "2a7cab99",
    "outputId": "1a8f3ef2-d323-4ec2-ddf7-89670b5944c4"
   },
   "outputs": [
    {
     "data": {
      "text/html": [
       "<div>\n",
       "<style scoped>\n",
       "    .dataframe tbody tr th:only-of-type {\n",
       "        vertical-align: middle;\n",
       "    }\n",
       "\n",
       "    .dataframe tbody tr th {\n",
       "        vertical-align: top;\n",
       "    }\n",
       "\n",
       "    .dataframe thead th {\n",
       "        text-align: right;\n",
       "    }\n",
       "</style>\n",
       "<table border=\"1\" class=\"dataframe\">\n",
       "  <thead>\n",
       "    <tr style=\"text-align: right;\">\n",
       "      <th></th>\n",
       "      <th>children</th>\n",
       "      <th>days_employed</th>\n",
       "      <th>dob_years</th>\n",
       "      <th>education</th>\n",
       "      <th>education_id</th>\n",
       "      <th>family_status</th>\n",
       "      <th>family_status_id</th>\n",
       "      <th>gender</th>\n",
       "      <th>income_type</th>\n",
       "      <th>debt</th>\n",
       "      <th>total_income</th>\n",
       "      <th>purpose</th>\n",
       "    </tr>\n",
       "  </thead>\n",
       "  <tbody>\n",
       "    <tr>\n",
       "      <th>0</th>\n",
       "      <td>1</td>\n",
       "      <td>-8437.673028</td>\n",
       "      <td>42</td>\n",
       "      <td>высшее</td>\n",
       "      <td>0</td>\n",
       "      <td>женат / замужем</td>\n",
       "      <td>0</td>\n",
       "      <td>F</td>\n",
       "      <td>сотрудник</td>\n",
       "      <td>0</td>\n",
       "      <td>253875.639453</td>\n",
       "      <td>покупка жилья</td>\n",
       "    </tr>\n",
       "    <tr>\n",
       "      <th>1</th>\n",
       "      <td>1</td>\n",
       "      <td>-4024.803754</td>\n",
       "      <td>36</td>\n",
       "      <td>среднее</td>\n",
       "      <td>1</td>\n",
       "      <td>женат / замужем</td>\n",
       "      <td>0</td>\n",
       "      <td>F</td>\n",
       "      <td>сотрудник</td>\n",
       "      <td>0</td>\n",
       "      <td>112080.014102</td>\n",
       "      <td>приобретение автомобиля</td>\n",
       "    </tr>\n",
       "    <tr>\n",
       "      <th>2</th>\n",
       "      <td>0</td>\n",
       "      <td>-5623.422610</td>\n",
       "      <td>33</td>\n",
       "      <td>Среднее</td>\n",
       "      <td>1</td>\n",
       "      <td>женат / замужем</td>\n",
       "      <td>0</td>\n",
       "      <td>M</td>\n",
       "      <td>сотрудник</td>\n",
       "      <td>0</td>\n",
       "      <td>145885.952297</td>\n",
       "      <td>покупка жилья</td>\n",
       "    </tr>\n",
       "    <tr>\n",
       "      <th>3</th>\n",
       "      <td>3</td>\n",
       "      <td>-4124.747207</td>\n",
       "      <td>32</td>\n",
       "      <td>среднее</td>\n",
       "      <td>1</td>\n",
       "      <td>женат / замужем</td>\n",
       "      <td>0</td>\n",
       "      <td>M</td>\n",
       "      <td>сотрудник</td>\n",
       "      <td>0</td>\n",
       "      <td>267628.550329</td>\n",
       "      <td>дополнительное образование</td>\n",
       "    </tr>\n",
       "    <tr>\n",
       "      <th>4</th>\n",
       "      <td>0</td>\n",
       "      <td>340266.072047</td>\n",
       "      <td>53</td>\n",
       "      <td>среднее</td>\n",
       "      <td>1</td>\n",
       "      <td>гражданский брак</td>\n",
       "      <td>1</td>\n",
       "      <td>F</td>\n",
       "      <td>пенсионер</td>\n",
       "      <td>0</td>\n",
       "      <td>158616.077870</td>\n",
       "      <td>сыграть свадьбу</td>\n",
       "    </tr>\n",
       "    <tr>\n",
       "      <th>5</th>\n",
       "      <td>0</td>\n",
       "      <td>-926.185831</td>\n",
       "      <td>27</td>\n",
       "      <td>высшее</td>\n",
       "      <td>0</td>\n",
       "      <td>гражданский брак</td>\n",
       "      <td>1</td>\n",
       "      <td>M</td>\n",
       "      <td>компаньон</td>\n",
       "      <td>0</td>\n",
       "      <td>255763.565419</td>\n",
       "      <td>покупка жилья</td>\n",
       "    </tr>\n",
       "    <tr>\n",
       "      <th>6</th>\n",
       "      <td>0</td>\n",
       "      <td>-2879.202052</td>\n",
       "      <td>43</td>\n",
       "      <td>высшее</td>\n",
       "      <td>0</td>\n",
       "      <td>женат / замужем</td>\n",
       "      <td>0</td>\n",
       "      <td>F</td>\n",
       "      <td>компаньон</td>\n",
       "      <td>0</td>\n",
       "      <td>240525.971920</td>\n",
       "      <td>операции с жильем</td>\n",
       "    </tr>\n",
       "    <tr>\n",
       "      <th>7</th>\n",
       "      <td>0</td>\n",
       "      <td>-152.779569</td>\n",
       "      <td>50</td>\n",
       "      <td>СРЕДНЕЕ</td>\n",
       "      <td>1</td>\n",
       "      <td>женат / замужем</td>\n",
       "      <td>0</td>\n",
       "      <td>M</td>\n",
       "      <td>сотрудник</td>\n",
       "      <td>0</td>\n",
       "      <td>135823.934197</td>\n",
       "      <td>образование</td>\n",
       "    </tr>\n",
       "    <tr>\n",
       "      <th>8</th>\n",
       "      <td>2</td>\n",
       "      <td>-6929.865299</td>\n",
       "      <td>35</td>\n",
       "      <td>ВЫСШЕЕ</td>\n",
       "      <td>0</td>\n",
       "      <td>гражданский брак</td>\n",
       "      <td>1</td>\n",
       "      <td>F</td>\n",
       "      <td>сотрудник</td>\n",
       "      <td>0</td>\n",
       "      <td>95856.832424</td>\n",
       "      <td>на проведение свадьбы</td>\n",
       "    </tr>\n",
       "    <tr>\n",
       "      <th>9</th>\n",
       "      <td>0</td>\n",
       "      <td>-2188.756445</td>\n",
       "      <td>41</td>\n",
       "      <td>среднее</td>\n",
       "      <td>1</td>\n",
       "      <td>женат / замужем</td>\n",
       "      <td>0</td>\n",
       "      <td>M</td>\n",
       "      <td>сотрудник</td>\n",
       "      <td>0</td>\n",
       "      <td>144425.938277</td>\n",
       "      <td>покупка жилья для семьи</td>\n",
       "    </tr>\n",
       "    <tr>\n",
       "      <th>10</th>\n",
       "      <td>2</td>\n",
       "      <td>-4171.483647</td>\n",
       "      <td>36</td>\n",
       "      <td>высшее</td>\n",
       "      <td>0</td>\n",
       "      <td>женат / замужем</td>\n",
       "      <td>0</td>\n",
       "      <td>M</td>\n",
       "      <td>компаньон</td>\n",
       "      <td>0</td>\n",
       "      <td>113943.491460</td>\n",
       "      <td>покупка недвижимости</td>\n",
       "    </tr>\n",
       "    <tr>\n",
       "      <th>11</th>\n",
       "      <td>0</td>\n",
       "      <td>-792.701887</td>\n",
       "      <td>40</td>\n",
       "      <td>среднее</td>\n",
       "      <td>1</td>\n",
       "      <td>женат / замужем</td>\n",
       "      <td>0</td>\n",
       "      <td>F</td>\n",
       "      <td>сотрудник</td>\n",
       "      <td>0</td>\n",
       "      <td>77069.234271</td>\n",
       "      <td>покупка коммерческой недвижимости</td>\n",
       "    </tr>\n",
       "    <tr>\n",
       "      <th>12</th>\n",
       "      <td>0</td>\n",
       "      <td>NaN</td>\n",
       "      <td>65</td>\n",
       "      <td>среднее</td>\n",
       "      <td>1</td>\n",
       "      <td>гражданский брак</td>\n",
       "      <td>1</td>\n",
       "      <td>M</td>\n",
       "      <td>пенсионер</td>\n",
       "      <td>0</td>\n",
       "      <td>NaN</td>\n",
       "      <td>сыграть свадьбу</td>\n",
       "    </tr>\n",
       "    <tr>\n",
       "      <th>13</th>\n",
       "      <td>0</td>\n",
       "      <td>-1846.641941</td>\n",
       "      <td>54</td>\n",
       "      <td>неоконченное высшее</td>\n",
       "      <td>2</td>\n",
       "      <td>женат / замужем</td>\n",
       "      <td>0</td>\n",
       "      <td>F</td>\n",
       "      <td>сотрудник</td>\n",
       "      <td>0</td>\n",
       "      <td>130458.228857</td>\n",
       "      <td>приобретение автомобиля</td>\n",
       "    </tr>\n",
       "    <tr>\n",
       "      <th>14</th>\n",
       "      <td>0</td>\n",
       "      <td>-1844.956182</td>\n",
       "      <td>56</td>\n",
       "      <td>высшее</td>\n",
       "      <td>0</td>\n",
       "      <td>гражданский брак</td>\n",
       "      <td>1</td>\n",
       "      <td>F</td>\n",
       "      <td>компаньон</td>\n",
       "      <td>1</td>\n",
       "      <td>165127.911772</td>\n",
       "      <td>покупка жилой недвижимости</td>\n",
       "    </tr>\n",
       "    <tr>\n",
       "      <th>15</th>\n",
       "      <td>1</td>\n",
       "      <td>-972.364419</td>\n",
       "      <td>26</td>\n",
       "      <td>среднее</td>\n",
       "      <td>1</td>\n",
       "      <td>женат / замужем</td>\n",
       "      <td>0</td>\n",
       "      <td>F</td>\n",
       "      <td>сотрудник</td>\n",
       "      <td>0</td>\n",
       "      <td>116820.904450</td>\n",
       "      <td>строительство собственной недвижимости</td>\n",
       "    </tr>\n",
       "    <tr>\n",
       "      <th>16</th>\n",
       "      <td>0</td>\n",
       "      <td>-1719.934226</td>\n",
       "      <td>35</td>\n",
       "      <td>среднее</td>\n",
       "      <td>1</td>\n",
       "      <td>женат / замужем</td>\n",
       "      <td>0</td>\n",
       "      <td>F</td>\n",
       "      <td>сотрудник</td>\n",
       "      <td>0</td>\n",
       "      <td>289202.704229</td>\n",
       "      <td>недвижимость</td>\n",
       "    </tr>\n",
       "    <tr>\n",
       "      <th>17</th>\n",
       "      <td>0</td>\n",
       "      <td>-2369.999720</td>\n",
       "      <td>33</td>\n",
       "      <td>высшее</td>\n",
       "      <td>0</td>\n",
       "      <td>гражданский брак</td>\n",
       "      <td>1</td>\n",
       "      <td>M</td>\n",
       "      <td>сотрудник</td>\n",
       "      <td>0</td>\n",
       "      <td>90410.586745</td>\n",
       "      <td>строительство недвижимости</td>\n",
       "    </tr>\n",
       "    <tr>\n",
       "      <th>18</th>\n",
       "      <td>0</td>\n",
       "      <td>400281.136913</td>\n",
       "      <td>53</td>\n",
       "      <td>среднее</td>\n",
       "      <td>1</td>\n",
       "      <td>вдовец / вдова</td>\n",
       "      <td>2</td>\n",
       "      <td>F</td>\n",
       "      <td>пенсионер</td>\n",
       "      <td>0</td>\n",
       "      <td>56823.777243</td>\n",
       "      <td>на покупку подержанного автомобиля</td>\n",
       "    </tr>\n",
       "    <tr>\n",
       "      <th>19</th>\n",
       "      <td>0</td>\n",
       "      <td>-10038.818549</td>\n",
       "      <td>48</td>\n",
       "      <td>СРЕДНЕЕ</td>\n",
       "      <td>1</td>\n",
       "      <td>в разводе</td>\n",
       "      <td>3</td>\n",
       "      <td>F</td>\n",
       "      <td>сотрудник</td>\n",
       "      <td>0</td>\n",
       "      <td>242831.107982</td>\n",
       "      <td>на покупку своего автомобиля</td>\n",
       "    </tr>\n",
       "  </tbody>\n",
       "</table>\n",
       "</div>"
      ],
      "text/plain": [
       "    children  days_employed  dob_years            education  education_id  \\\n",
       "0          1   -8437.673028         42               высшее             0   \n",
       "1          1   -4024.803754         36              среднее             1   \n",
       "2          0   -5623.422610         33              Среднее             1   \n",
       "3          3   -4124.747207         32              среднее             1   \n",
       "4          0  340266.072047         53              среднее             1   \n",
       "5          0    -926.185831         27               высшее             0   \n",
       "6          0   -2879.202052         43               высшее             0   \n",
       "7          0    -152.779569         50              СРЕДНЕЕ             1   \n",
       "8          2   -6929.865299         35               ВЫСШЕЕ             0   \n",
       "9          0   -2188.756445         41              среднее             1   \n",
       "10         2   -4171.483647         36               высшее             0   \n",
       "11         0    -792.701887         40              среднее             1   \n",
       "12         0            NaN         65              среднее             1   \n",
       "13         0   -1846.641941         54  неоконченное высшее             2   \n",
       "14         0   -1844.956182         56               высшее             0   \n",
       "15         1    -972.364419         26              среднее             1   \n",
       "16         0   -1719.934226         35              среднее             1   \n",
       "17         0   -2369.999720         33               высшее             0   \n",
       "18         0  400281.136913         53              среднее             1   \n",
       "19         0  -10038.818549         48              СРЕДНЕЕ             1   \n",
       "\n",
       "       family_status  family_status_id gender income_type  debt  \\\n",
       "0    женат / замужем                 0      F   сотрудник     0   \n",
       "1    женат / замужем                 0      F   сотрудник     0   \n",
       "2    женат / замужем                 0      M   сотрудник     0   \n",
       "3    женат / замужем                 0      M   сотрудник     0   \n",
       "4   гражданский брак                 1      F   пенсионер     0   \n",
       "5   гражданский брак                 1      M   компаньон     0   \n",
       "6    женат / замужем                 0      F   компаньон     0   \n",
       "7    женат / замужем                 0      M   сотрудник     0   \n",
       "8   гражданский брак                 1      F   сотрудник     0   \n",
       "9    женат / замужем                 0      M   сотрудник     0   \n",
       "10   женат / замужем                 0      M   компаньон     0   \n",
       "11   женат / замужем                 0      F   сотрудник     0   \n",
       "12  гражданский брак                 1      M   пенсионер     0   \n",
       "13   женат / замужем                 0      F   сотрудник     0   \n",
       "14  гражданский брак                 1      F   компаньон     1   \n",
       "15   женат / замужем                 0      F   сотрудник     0   \n",
       "16   женат / замужем                 0      F   сотрудник     0   \n",
       "17  гражданский брак                 1      M   сотрудник     0   \n",
       "18    вдовец / вдова                 2      F   пенсионер     0   \n",
       "19         в разводе                 3      F   сотрудник     0   \n",
       "\n",
       "     total_income                                 purpose  \n",
       "0   253875.639453                           покупка жилья  \n",
       "1   112080.014102                 приобретение автомобиля  \n",
       "2   145885.952297                           покупка жилья  \n",
       "3   267628.550329              дополнительное образование  \n",
       "4   158616.077870                         сыграть свадьбу  \n",
       "5   255763.565419                           покупка жилья  \n",
       "6   240525.971920                       операции с жильем  \n",
       "7   135823.934197                             образование  \n",
       "8    95856.832424                   на проведение свадьбы  \n",
       "9   144425.938277                 покупка жилья для семьи  \n",
       "10  113943.491460                    покупка недвижимости  \n",
       "11   77069.234271       покупка коммерческой недвижимости  \n",
       "12            NaN                         сыграть свадьбу  \n",
       "13  130458.228857                 приобретение автомобиля  \n",
       "14  165127.911772              покупка жилой недвижимости  \n",
       "15  116820.904450  строительство собственной недвижимости  \n",
       "16  289202.704229                            недвижимость  \n",
       "17   90410.586745              строительство недвижимости  \n",
       "18   56823.777243      на покупку подержанного автомобиля  \n",
       "19  242831.107982            на покупку своего автомобиля  "
      ]
     },
     "execution_count": 4,
     "metadata": {},
     "output_type": "execute_result"
    }
   ],
   "source": [
    "data.head(20)"
   ]
  },
  {
   "cell_type": "code",
   "execution_count": 3,
   "id": "2b757bca",
   "metadata": {
    "deletable": false,
    "id": "2b757bca",
    "outputId": "15376089-8dad-46c9-b520-c05248d43158"
   },
   "outputs": [
    {
     "name": "stdout",
     "output_type": "stream",
     "text": [
      "<class 'pandas.core.frame.DataFrame'>\n",
      "RangeIndex: 21525 entries, 0 to 21524\n",
      "Data columns (total 12 columns):\n",
      " #   Column            Non-Null Count  Dtype  \n",
      "---  ------            --------------  -----  \n",
      " 0   children          21525 non-null  int64  \n",
      " 1   days_employed     19351 non-null  float64\n",
      " 2   dob_years         21525 non-null  int64  \n",
      " 3   education         21525 non-null  object \n",
      " 4   education_id      21525 non-null  int64  \n",
      " 5   family_status     21525 non-null  object \n",
      " 6   family_status_id  21525 non-null  int64  \n",
      " 7   gender            21525 non-null  object \n",
      " 8   income_type       21525 non-null  object \n",
      " 9   debt              21525 non-null  int64  \n",
      " 10  total_income      19351 non-null  float64\n",
      " 11  purpose           21525 non-null  object \n",
      "dtypes: float64(2), int64(5), object(5)\n",
      "memory usage: 2.0+ MB\n"
     ]
    }
   ],
   "source": [
    "data.info()"
   ]
  },
  {
   "cell_type": "markdown",
   "id": "333ec665",
   "metadata": {
    "deletable": false,
    "id": "333ec665"
   },
   "source": [
    "## Предобработка данных"
   ]
  },
  {
   "cell_type": "markdown",
   "id": "02d92d53",
   "metadata": {
    "deletable": false,
    "id": "02d92d53"
   },
   "source": [
    "### Удаление пропусков"
   ]
  },
  {
   "attachments": {},
   "cell_type": "markdown",
   "id": "cd84967c",
   "metadata": {
    "deletable": false,
    "id": "cd84967c"
   },
   "source": [
    "Количество пропущенных значений для каждого столбца, комбинацией двух методов"
   ]
  },
  {
   "cell_type": "code",
   "execution_count": 4,
   "id": "7f9b2309",
   "metadata": {
    "deletable": false,
    "id": "7f9b2309",
    "outputId": "81f4d817-781c-465c-ed15-91ce4446810d"
   },
   "outputs": [
    {
     "data": {
      "text/plain": [
       "children               0\n",
       "days_employed       2174\n",
       "dob_years              0\n",
       "education              0\n",
       "education_id           0\n",
       "family_status          0\n",
       "family_status_id       0\n",
       "gender                 0\n",
       "income_type            0\n",
       "debt                   0\n",
       "total_income        2174\n",
       "purpose                0\n",
       "dtype: int64"
      ]
     },
     "execution_count": 4,
     "metadata": {},
     "output_type": "execute_result"
    }
   ],
   "source": [
    "data.isna().sum()"
   ]
  },
  {
   "cell_type": "markdown",
   "id": "db86e27b",
   "metadata": {
    "deletable": false,
    "id": "db86e27b"
   },
   "source": [
    "**Задание 5. В двух столбцах есть пропущенные значения. Один из них — `days_employed`. Пропуски в этом столбце вы обработаете на следующем этапе. Другой столбец с пропущенными значениями — `total_income` — хранит данные о доходах. На сумму дохода сильнее всего влияет тип занятости, поэтому заполнить пропуски в этом столбце нужно медианным значением по каждому типу из столбца `income_type`. Например, у человека с типом занятости `сотрудник` пропуск в столбце `total_income` должен быть заполнен медианным доходом среди всех записей с тем же типом.**"
   ]
  },
  {
   "cell_type": "code",
   "execution_count": 5,
   "id": "39ea09a5",
   "metadata": {
    "deletable": false,
    "id": "42006a93"
   },
   "outputs": [],
   "source": [
    "# Изменил на свой вариант\n",
    "data['total_income'] = data['total_income'].fillna(data.groupby('income_type')['total_income'].transform('median'))"
   ]
  },
  {
   "cell_type": "markdown",
   "id": "89da5ece",
   "metadata": {
    "deletable": false,
    "id": "89da5ece"
   },
   "source": [
    "### Обработка аномальных значений"
   ]
  },
  {
   "cell_type": "markdown",
   "id": "57964554",
   "metadata": {
    "deletable": false,
    "id": "57964554"
   },
   "source": [
    "**Задание 6. В данных могут встречаться артефакты (аномалии) — значения, которые не отражают действительность и появились по какой-то ошибке. таким артефактом будет отрицательное количество дней трудового стажа в столбце `days_employed`. Для реальных данных это нормально. Обработайте значения в этом столбце: замените все отрицательные значения положительными с помощью метода `abs()`.**"
   ]
  },
  {
   "cell_type": "code",
   "execution_count": 6,
   "id": "f6f055bf",
   "metadata": {
    "deletable": false,
    "id": "f6f055bf"
   },
   "outputs": [],
   "source": [
    "data['days_employed'] = data['days_employed'].abs()"
   ]
  },
  {
   "cell_type": "markdown",
   "id": "6107dd2f",
   "metadata": {
    "deletable": false,
    "id": "6107dd2f"
   },
   "source": [
    "**Задание 7. Для каждого типа занятости выведите медианное значение трудового стажа `days_employed` в днях.**"
   ]
  },
  {
   "cell_type": "code",
   "execution_count": 7,
   "id": "85a5faf6",
   "metadata": {
    "deletable": false,
    "id": "85a5faf6",
    "outputId": "801ef80e-522b-4668-f34e-565af7432bcf"
   },
   "outputs": [
    {
     "data": {
      "text/plain": [
       "income_type\n",
       "безработный        366413.652744\n",
       "в декрете            3296.759962\n",
       "госслужащий          2689.368353\n",
       "компаньон            1547.382223\n",
       "пенсионер          365213.306266\n",
       "предприниматель       520.848083\n",
       "сотрудник            1574.202821\n",
       "студент               578.751554\n",
       "Name: days_employed, dtype: float64"
      ]
     },
     "execution_count": 7,
     "metadata": {},
     "output_type": "execute_result"
    }
   ],
   "source": [
    "data.groupby('income_type')['days_employed'].median()"
   ]
  },
  {
   "cell_type": "markdown",
   "id": "38d1a030",
   "metadata": {
    "deletable": false,
    "id": "38d1a030"
   },
   "source": [
    "У двух типов (безработные и пенсионеры) получатся аномально большие значения. Исправить такие значения сложно, поэтому оставьте их как есть. Тем более этот столбец не понадобится вам для исследования."
   ]
  },
  {
   "cell_type": "markdown",
   "id": "d8a9f147",
   "metadata": {
    "deletable": false,
    "id": "d8a9f147"
   },
   "source": [
    "**Задание 8. Выведите перечень уникальных значений столбца `children`.**"
   ]
  },
  {
   "cell_type": "code",
   "execution_count": 8,
   "id": "ef5056eb",
   "metadata": {
    "deletable": false,
    "id": "ef5056eb",
    "outputId": "6975b15c-7f95-4697-d16d-a0c79b657b03"
   },
   "outputs": [
    {
     "data": {
      "text/plain": [
       "array([ 1,  0,  3,  2, -1,  4, 20,  5])"
      ]
     },
     "execution_count": 8,
     "metadata": {},
     "output_type": "execute_result"
    }
   ],
   "source": [
    "data['children'].unique()"
   ]
  },
  {
   "cell_type": "markdown",
   "id": "40b9ebf2",
   "metadata": {
    "deletable": false,
    "id": "40b9ebf2"
   },
   "source": [
    "**Задание 9. В столбце `children` есть два аномальных значения. Удалите строки, в которых встречаются такие аномальные значения из датафрейма `data`.**"
   ]
  },
  {
   "cell_type": "code",
   "execution_count": 9,
   "id": "3ff9801d",
   "metadata": {
    "deletable": false,
    "id": "3ff9801d"
   },
   "outputs": [],
   "source": [
    "data = data[(data['children'] != -1) & (data['children'] != 20)]"
   ]
  },
  {
   "cell_type": "markdown",
   "id": "bbc4d0ce",
   "metadata": {
    "deletable": false,
    "id": "bbc4d0ce"
   },
   "source": [
    "**Задание 10. Ещё раз выведите перечень уникальных значений столбца `children`, чтобы убедиться, что артефакты удалены.**"
   ]
  },
  {
   "cell_type": "code",
   "execution_count": 10,
   "id": "ad4fa8b7",
   "metadata": {
    "deletable": false,
    "id": "ad4fa8b7",
    "outputId": "b2097101-d49d-44d9-901b-32a65c9463d1"
   },
   "outputs": [
    {
     "data": {
      "text/plain": [
       "array([1, 0, 3, 2, 4, 5])"
      ]
     },
     "execution_count": 10,
     "metadata": {},
     "output_type": "execute_result"
    }
   ],
   "source": [
    "data['children'].unique()"
   ]
  },
  {
   "cell_type": "markdown",
   "id": "75440b63",
   "metadata": {
    "deletable": false,
    "id": "75440b63"
   },
   "source": [
    "### Удаление пропусков (продолжение)"
   ]
  },
  {
   "cell_type": "markdown",
   "id": "f4ea573f",
   "metadata": {
    "deletable": false,
    "id": "f4ea573f"
   },
   "source": [
    "**Задание 11. Заполните пропуски в столбце `days_employed` медианными значениями по каждого типа занятости `income_type`.**"
   ]
  },
  {
   "cell_type": "code",
   "execution_count": 11,
   "id": "af6b1a7e",
   "metadata": {
    "deletable": false,
    "id": "af6b1a7e"
   },
   "outputs": [],
   "source": [
    "# Изменил на свой вариант\n",
    "data['days_employed'] = data['days_employed'].fillna(data.groupby('income_type')['days_employed'].transform('median'))"
   ]
  },
  {
   "cell_type": "markdown",
   "id": "2753f40d",
   "metadata": {
    "deletable": false,
    "id": "2753f40d"
   },
   "source": [
    "**Задание 12. Убедитесь, что все пропуски заполнены. Проверьте себя и ещё раз выведите количество пропущенных значений для каждого столбца с помощью двух методов.**"
   ]
  },
  {
   "cell_type": "code",
   "execution_count": 12,
   "id": "55f78bc2",
   "metadata": {
    "deletable": false,
    "id": "55f78bc2",
    "outputId": "8da1e4e1-358e-4e87-98c9-f261bce0a7b2"
   },
   "outputs": [
    {
     "data": {
      "text/plain": [
       "children            0\n",
       "days_employed       0\n",
       "dob_years           0\n",
       "education           0\n",
       "education_id        0\n",
       "family_status       0\n",
       "family_status_id    0\n",
       "gender              0\n",
       "income_type         0\n",
       "debt                0\n",
       "total_income        0\n",
       "purpose             0\n",
       "dtype: int64"
      ]
     },
     "execution_count": 12,
     "metadata": {},
     "output_type": "execute_result"
    }
   ],
   "source": [
    "data.isna().sum()"
   ]
  },
  {
   "cell_type": "markdown",
   "id": "ddc81e43",
   "metadata": {
    "deletable": false,
    "id": "ddc81e43"
   },
   "source": [
    "### Изменение типов данных"
   ]
  },
  {
   "cell_type": "markdown",
   "id": "42d19d24",
   "metadata": {
    "deletable": false,
    "id": "42d19d24"
   },
   "source": [
    "**Задание 13. Замените вещественный тип данных в столбце `total_income` на целочисленный с помощью метода `astype()`.**"
   ]
  },
  {
   "cell_type": "code",
   "execution_count": 13,
   "id": "920b65ad",
   "metadata": {
    "deletable": false,
    "id": "920b65ad"
   },
   "outputs": [],
   "source": [
    "data['total_income'] = data['total_income'].astype(int)"
   ]
  },
  {
   "cell_type": "markdown",
   "id": "80c420ba",
   "metadata": {
    "deletable": false,
    "id": "80c420ba"
   },
   "source": [
    "### Обработка дубликатов"
   ]
  },
  {
   "cell_type": "markdown",
   "id": "dc587695",
   "metadata": {
    "deletable": false,
    "id": "dc587695"
   },
   "source": [
    "**Задание 14. Выведите на экран количество строк-дубликатов в данных. Если такие строки присутствуют, удалите их.**"
   ]
  },
  {
   "cell_type": "code",
   "execution_count": 14,
   "id": "3ee445e4",
   "metadata": {
    "deletable": false,
    "id": "3ee445e4",
    "outputId": "9684deba-1934-42d1-99e1-cda61740f822"
   },
   "outputs": [
    {
     "data": {
      "text/plain": [
       "54"
      ]
     },
     "execution_count": 14,
     "metadata": {},
     "output_type": "execute_result"
    }
   ],
   "source": [
    "data.duplicated().sum()"
   ]
  },
  {
   "cell_type": "code",
   "execution_count": 15,
   "id": "8575fe05",
   "metadata": {
    "deletable": false,
    "id": "8575fe05"
   },
   "outputs": [],
   "source": [
    "data = data.drop_duplicates()"
   ]
  },
  {
   "cell_type": "markdown",
   "id": "9771a76c",
   "metadata": {
    "deletable": false,
    "id": "9771a76c"
   },
   "source": [
    "**Задание 15. Обработайте неявные дубликаты в столбце `education`. В этом столбце есть одни и те же значения, но записанные по-разному: с использованием заглавных и строчных букв. Приведите их к нижнему регистру. Проверьте остальные столбцы.**"
   ]
  },
  {
   "cell_type": "code",
   "execution_count": 16,
   "id": "a9f8e2bf",
   "metadata": {
    "deletable": false,
    "id": "a9f8e2bf"
   },
   "outputs": [],
   "source": [
    "data['education'] = data['education'].str.lower()"
   ]
  },
  {
   "cell_type": "markdown",
   "id": "9904cf55",
   "metadata": {
    "deletable": false,
    "id": "9904cf55"
   },
   "source": [
    "### Категоризация данных"
   ]
  },
  {
   "cell_type": "markdown",
   "id": "72fcc8a2",
   "metadata": {
    "deletable": false,
    "id": "72fcc8a2"
   },
   "source": [
    "**Задание 16. На основании диапазонов, указанных ниже, создайте в датафрейме `data` столбец `total_income_category` с категориями:**\n",
    "\n",
    "- 0–30000 — `'E'`;\n",
    "- 30001–50000 — `'D'`;\n",
    "- 50001–200000 — `'C'`;\n",
    "- 200001–1000000 — `'B'`;\n",
    "- 1000001 и выше — `'A'`.\n",
    "\n",
    "\n",
    "**Например, кредитополучателю с доходом 25000 нужно назначить категорию `'E'`, а клиенту, получающему 235000, — `'B'`. Используйте собственную функцию с именем `categorize_income()` и метод `apply()`.**"
   ]
  },
  {
   "cell_type": "code",
   "execution_count": 17,
   "id": "e1771346",
   "metadata": {
    "deletable": false,
    "id": "e1771346"
   },
   "outputs": [],
   "source": [
    "def categorize_income(income):\n",
    "    try:\n",
    "        if 0 <= income <= 30000:\n",
    "            return 'E'\n",
    "        elif 30001 <= income <= 50000:\n",
    "            return 'D'\n",
    "        elif 50001 <= income <= 200000:\n",
    "            return 'C'\n",
    "        elif 200001 <= income <= 1000000:\n",
    "            return 'B'\n",
    "        elif income >= 1000001:\n",
    "            return 'A'\n",
    "    except:\n",
    "        pass"
   ]
  },
  {
   "cell_type": "code",
   "execution_count": 18,
   "id": "d5f3586d",
   "metadata": {
    "deletable": false,
    "id": "d5f3586d"
   },
   "outputs": [],
   "source": [
    "data['total_income_category'] = data['total_income'].apply(categorize_income)"
   ]
  },
  {
   "cell_type": "markdown",
   "id": "dde49b5c",
   "metadata": {
    "deletable": false,
    "id": "dde49b5c"
   },
   "source": [
    "**Задание 17. Выведите на экран перечень уникальных целей взятия кредита из столбца `purpose`.**"
   ]
  },
  {
   "cell_type": "code",
   "execution_count": 19,
   "id": "f67ce9b3",
   "metadata": {
    "deletable": false,
    "id": "f67ce9b3",
    "outputId": "673c12d9-7d7e-4ae0-9812-c622c89dd244"
   },
   "outputs": [
    {
     "data": {
      "text/plain": [
       "array(['покупка жилья', 'приобретение автомобиля',\n",
       "       'дополнительное образование', 'сыграть свадьбу',\n",
       "       'операции с жильем', 'образование', 'на проведение свадьбы',\n",
       "       'покупка жилья для семьи', 'покупка недвижимости',\n",
       "       'покупка коммерческой недвижимости', 'покупка жилой недвижимости',\n",
       "       'строительство собственной недвижимости', 'недвижимость',\n",
       "       'строительство недвижимости', 'на покупку подержанного автомобиля',\n",
       "       'на покупку своего автомобиля',\n",
       "       'операции с коммерческой недвижимостью',\n",
       "       'строительство жилой недвижимости', 'жилье',\n",
       "       'операции со своей недвижимостью', 'автомобили',\n",
       "       'заняться образованием', 'сделка с подержанным автомобилем',\n",
       "       'получение образования', 'автомобиль', 'свадьба',\n",
       "       'получение дополнительного образования', 'покупка своего жилья',\n",
       "       'операции с недвижимостью', 'получение высшего образования',\n",
       "       'свой автомобиль', 'сделка с автомобилем',\n",
       "       'профильное образование', 'высшее образование',\n",
       "       'покупка жилья для сдачи', 'на покупку автомобиля', 'ремонт жилью',\n",
       "       'заняться высшим образованием'], dtype=object)"
      ]
     },
     "execution_count": 19,
     "metadata": {},
     "output_type": "execute_result"
    }
   ],
   "source": [
    "data['purpose'].unique()"
   ]
  },
  {
   "cell_type": "markdown",
   "id": "85d0aef0",
   "metadata": {
    "deletable": false,
    "id": "85d0aef0"
   },
   "source": [
    "**Задание 18. Создайте функцию, которая на основании данных из столбца `purpose` сформирует новый столбец `purpose_category`, в который войдут следующие категории:**\n",
    "\n",
    "- `'операции с автомобилем'`,\n",
    "- `'операции с недвижимостью'`,\n",
    "- `'проведение свадьбы'`,\n",
    "- `'получение образования'`.\n",
    "\n",
    "**Например, если в столбце `purpose` находится подстрока `'на покупку автомобиля'`, то в столбце `purpose_category` должна появиться строка `'операции с автомобилем'`.**\n",
    "\n",
    "**Используйте собственную функцию с именем `categorize_purpose()` и метод `apply()`. Изучите данные в столбце `purpose` и определите, какие подстроки помогут вам правильно определить категорию.**"
   ]
  },
  {
   "cell_type": "code",
   "execution_count": 20,
   "id": "e149fab4",
   "metadata": {
    "deletable": false,
    "id": "e149fab4"
   },
   "outputs": [],
   "source": [
    "def categorize_purpose(row):\n",
    "    try:\n",
    "        if 'автом' in row:\n",
    "            return 'операции с автомобилем'\n",
    "        elif 'жил' in row or 'недвиж' in row:\n",
    "            return 'операции с недвижимостью'\n",
    "        elif 'свад' in row:\n",
    "            return 'проведение свадьбы'\n",
    "        elif 'образов' in row:\n",
    "            return 'получение образования'\n",
    "    except:\n",
    "        return 'нет категории'"
   ]
  },
  {
   "cell_type": "code",
   "execution_count": 21,
   "id": "bf36e69b",
   "metadata": {
    "deletable": false,
    "id": "bf36e69b"
   },
   "outputs": [],
   "source": [
    "data['purpose_category'] = data['purpose'].apply(categorize_purpose)"
   ]
  },
  {
   "cell_type": "markdown",
   "id": "09b242bf",
   "metadata": {
    "deletable": false,
    "editable": false,
    "id": "09b242bf"
   },
   "source": [
    "## Исследуйте данные и ответьте на вопросы"
   ]
  },
  {
   "cell_type": "markdown",
   "id": "5679d7bd",
   "metadata": {},
   "source": [
    "Для каждого задания 19-22 разделим выборку на 2 группы, тех кто \"вернул кредит в срок\" (`not_debt`) и \"не вернул кредит в срок\" (`debt`), посчитаем количество наблюдений в каждой группе."
   ]
  },
  {
   "cell_type": "markdown",
   "id": "2b72c1d1",
   "metadata": {},
   "source": [
    "### Делим на группы по задолжности"
   ]
  },
  {
   "cell_type": "code",
   "execution_count": 22,
   "id": "1bacf9bd",
   "metadata": {},
   "outputs": [
    {
     "name": "stdout",
     "output_type": "stream",
     "text": [
      "С задолженностью: 1732\n",
      "Без задолженности: 19616\n"
     ]
    }
   ],
   "source": [
    "debt = data[data['debt'] == 1]\n",
    "not_debt = data[data['debt'] == 0]\n",
    "\n",
    "# Количество наблюдений каждой из групп\n",
    "len_debt = len(debt)\n",
    "len_not_debt = len(not_debt)\n",
    "\n",
    "print('С задолженностью:', len_debt)\n",
    "print('Без задолженности:', len_not_debt)"
   ]
  },
  {
   "cell_type": "markdown",
   "id": "c97edd54",
   "metadata": {},
   "source": [
    "Далее сгруппируем по нужному признаку, получатся категории по выбранному признаку, посчитаем количество наблюдений в каждой. Затем, рассчитаем относительные величины от общего количества наблюдений в группе. Полученные проценты сравним между собой на графиках. Убедимся что отличия статистически значимые."
   ]
  },
  {
   "cell_type": "markdown",
   "id": "cac78eb6",
   "metadata": {},
   "source": [
    "### Вспомогательные функции"
   ]
  },
  {
   "cell_type": "code",
   "execution_count": 23,
   "id": "76abbe21",
   "metadata": {},
   "outputs": [],
   "source": [
    "# https://help.surveymonkey.com/ru/analyze/significant-differences/\n",
    "def students_t_test(n1, n2, p1, p2) -> bool:\n",
    "    \"\"\"\n",
    "    t-критерий Стьюдента\n",
    "    Является ли отличие статистически значимым?\n",
    "    n1, n2 — абсолютные значения в группе\n",
    "    p1, p2 — процент от общего количества в группе\n",
    "    \n",
    "    Пример:\n",
    "    n1 = 1063\n",
    "    n2 = 13044\n",
    "    p1 = 0.6137\n",
    "    p2 = 0.6649\n",
    "    students_t_test(n1, n2, p1, p2)\n",
    "    // True (t_abs=3.3910)\n",
    "    \"\"\"\n",
    "    a1 = p1 * n1\n",
    "    b1 = p2 * n2\n",
    "    if n1 != 0 and n2 != 0:\n",
    "        p = (a1 + b1) / (n1 + n2)\n",
    "        se = sqrt((p*(1-p))*(1/n1+1/n2))\n",
    "        t = (p1 - p2) / se\n",
    "        t_abs = abs(t)\n",
    "        r = t_abs > 1.96\n",
    "        return r\n",
    "    return False"
   ]
  },
  {
   "cell_type": "code",
   "execution_count": 24,
   "id": "447f592d",
   "metadata": {},
   "outputs": [],
   "source": [
    "def t_test_for_lists(row) -> list:\n",
    "    \"\"\"\n",
    "    Тест на t-критерий Стюдента по спискам\n",
    "    \"\"\"\n",
    "    return students_t_test(row['debt_count'], row['not_debt_count'], row['relative_debt'], row['relative_not_debt'])"
   ]
  },
  {
   "cell_type": "code",
   "execution_count": 25,
   "id": "061b3ed4",
   "metadata": {},
   "outputs": [],
   "source": [
    "def bar_labels(plot, labels):\n",
    "    \"\"\"\n",
    "    Подписи к столбцам столбчатой диаграммы\n",
    "    \"\"\"\n",
    "    for i, j in zip(plot.ax.patches, range(len(labels))):\n",
    "        plot.ax.text(i.get_width()+0.005, i.get_y()+.49, f'{labels[j]:.2%}', fontsize=15)"
   ]
  },
  {
   "cell_type": "markdown",
   "id": "c5d66278",
   "metadata": {
    "deletable": false,
    "editable": false,
    "id": "c5d66278"
   },
   "source": [
    "**Задание 19. Есть ли зависимость между количеством детей и возвратом кредита в срок?**"
   ]
  },
  {
   "cell_type": "markdown",
   "id": "936bf202",
   "metadata": {},
   "source": [
    "### Зависимость между количеством детей и возвратом кредита в срок"
   ]
  },
  {
   "cell_type": "markdown",
   "id": "2f3b6422",
   "metadata": {
    "id": "2cacfc4a",
    "scrolled": true
   },
   "source": [
    "#### Получаем относительные величины"
   ]
  },
  {
   "cell_type": "code",
   "execution_count": 26,
   "id": "d14b50a8",
   "metadata": {
    "id": "2cacfc4a"
   },
   "outputs": [],
   "source": [
    "debt_by_children = debt.groupby('children').count()['debt'] / len_debt\n",
    "not_debt_by_children = not_debt.groupby('children').count()['debt'] / len_not_debt"
   ]
  },
  {
   "cell_type": "markdown",
   "id": "9e70cedb",
   "metadata": {
    "id": "2cacfc4a",
    "scrolled": true
   },
   "source": [
    "#### Проверяем значения"
   ]
  },
  {
   "cell_type": "code",
   "execution_count": 27,
   "id": "2cacfc4a",
   "metadata": {
    "id": "2cacfc4a",
    "scrolled": true
   },
   "outputs": [
    {
     "data": {
      "text/html": [
       "<div>\n",
       "<style scoped>\n",
       "    .dataframe tbody tr th:only-of-type {\n",
       "        vertical-align: middle;\n",
       "    }\n",
       "\n",
       "    .dataframe tbody tr th {\n",
       "        vertical-align: top;\n",
       "    }\n",
       "\n",
       "    .dataframe thead th {\n",
       "        text-align: right;\n",
       "    }\n",
       "</style>\n",
       "<table border=\"1\" class=\"dataframe\">\n",
       "  <thead>\n",
       "    <tr style=\"text-align: right;\">\n",
       "      <th></th>\n",
       "      <th>debt</th>\n",
       "      <th>not_debt</th>\n",
       "    </tr>\n",
       "    <tr>\n",
       "      <th>children</th>\n",
       "      <th></th>\n",
       "      <th></th>\n",
       "    </tr>\n",
       "  </thead>\n",
       "  <tbody>\n",
       "    <tr>\n",
       "      <th>0</th>\n",
       "      <td>1063.0</td>\n",
       "      <td>13044</td>\n",
       "    </tr>\n",
       "    <tr>\n",
       "      <th>1</th>\n",
       "      <td>444.0</td>\n",
       "      <td>4365</td>\n",
       "    </tr>\n",
       "    <tr>\n",
       "      <th>2</th>\n",
       "      <td>194.0</td>\n",
       "      <td>1858</td>\n",
       "    </tr>\n",
       "    <tr>\n",
       "      <th>3</th>\n",
       "      <td>27.0</td>\n",
       "      <td>303</td>\n",
       "    </tr>\n",
       "    <tr>\n",
       "      <th>4</th>\n",
       "      <td>4.0</td>\n",
       "      <td>37</td>\n",
       "    </tr>\n",
       "    <tr>\n",
       "      <th>5</th>\n",
       "      <td>NaN</td>\n",
       "      <td>9</td>\n",
       "    </tr>\n",
       "  </tbody>\n",
       "</table>\n",
       "</div>"
      ],
      "text/plain": [
       "            debt  not_debt\n",
       "children                  \n",
       "0         1063.0     13044\n",
       "1          444.0      4365\n",
       "2          194.0      1858\n",
       "3           27.0       303\n",
       "4            4.0        37\n",
       "5            NaN         9"
      ]
     },
     "execution_count": 27,
     "metadata": {},
     "output_type": "execute_result"
    }
   ],
   "source": [
    "pd.DataFrame({\n",
    "    'debt': debt.groupby('children').count()['debt'],\n",
    "    'not_debt': not_debt.groupby('children').count()['debt']\n",
    "})"
   ]
  },
  {
   "cell_type": "markdown",
   "id": "c41626ca",
   "metadata": {},
   "source": [
    "Дополняем нулём недостающие данные (должников с 5-ю детьми нету)"
   ]
  },
  {
   "cell_type": "code",
   "execution_count": 28,
   "id": "7f8ec803",
   "metadata": {},
   "outputs": [],
   "source": [
    "debt_by_children[5] = 0"
   ]
  },
  {
   "cell_type": "markdown",
   "id": "8ae8febc",
   "metadata": {},
   "source": [
    "#### Формируем таблицу"
   ]
  },
  {
   "cell_type": "code",
   "execution_count": 51,
   "id": "5353c48a",
   "metadata": {},
   "outputs": [
    {
     "data": {
      "text/html": [
       "<style  type=\"text/css\" >\n",
       "</style><table id=\"T_dc32f_\" ><thead>    <tr>        <th class=\"blank level0\" ></th>        <th class=\"col_heading level0 col0\" >Кол-во пользователей</th>        <th class=\"col_heading level0 col1\" >Кол-во должников</th>        <th class=\"col_heading level0 col2\" >% должников</th>        <th class=\"col_heading level0 col3\" >% НЕдолжников</th>    </tr>    <tr>        <th class=\"index_name level0\" >children_group</th>        <th class=\"blank\" ></th>        <th class=\"blank\" ></th>        <th class=\"blank\" ></th>        <th class=\"blank\" ></th>    </tr></thead><tbody>\n",
       "                <tr>\n",
       "                        <th id=\"T_dc32f_level0_row0\" class=\"row_heading level0 row0\" >Дети есть</th>\n",
       "                        <td id=\"T_dc32f_row0_col0\" class=\"data row0 col0\" >7241</td>\n",
       "                        <td id=\"T_dc32f_row0_col1\" class=\"data row0 col1\" >669</td>\n",
       "                        <td id=\"T_dc32f_row0_col2\" class=\"data row0 col2\" >9.24%</td>\n",
       "                        <td id=\"T_dc32f_row0_col3\" class=\"data row0 col3\" >90.76%</td>\n",
       "            </tr>\n",
       "            <tr>\n",
       "                        <th id=\"T_dc32f_level0_row1\" class=\"row_heading level0 row1\" >Нет детей</th>\n",
       "                        <td id=\"T_dc32f_row1_col0\" class=\"data row1 col0\" >14107</td>\n",
       "                        <td id=\"T_dc32f_row1_col1\" class=\"data row1 col1\" >1063</td>\n",
       "                        <td id=\"T_dc32f_row1_col2\" class=\"data row1 col2\" >7.54%</td>\n",
       "                        <td id=\"T_dc32f_row1_col3\" class=\"data row1 col3\" >92.46%</td>\n",
       "            </tr>\n",
       "    </tbody></table>"
      ],
      "text/plain": [
       "<pandas.io.formats.style.Styler at 0x7f783283bac0>"
      ]
     },
     "execution_count": 51,
     "metadata": {},
     "output_type": "execute_result"
    }
   ],
   "source": [
    "data['children_group'] = data['children'].apply(lambda x: 'Нет детей' if x == 0 else 'Дети есть')\n",
    "\n",
    "df_example = data.groupby('children_group')['debt'].agg(['count', 'sum', 'mean', lambda x: 1 - x.mean()])\n",
    "df_example.columns = ['Кол-во пользователей', 'Кол-во должников', '% должников', '% НЕдолжников']\n",
    "df_example.style.format({'% должников': '{:.2%}', '% НЕдолжников': '{:.2%}'})"
   ]
  },
  {
   "cell_type": "code",
   "execution_count": 30,
   "id": "ad20556e",
   "metadata": {},
   "outputs": [
    {
     "data": {
      "text/html": [
       "<div>\n",
       "<style scoped>\n",
       "    .dataframe tbody tr th:only-of-type {\n",
       "        vertical-align: middle;\n",
       "    }\n",
       "\n",
       "    .dataframe tbody tr th {\n",
       "        vertical-align: top;\n",
       "    }\n",
       "\n",
       "    .dataframe thead th {\n",
       "        text-align: right;\n",
       "    }\n",
       "</style>\n",
       "<table border=\"1\" class=\"dataframe\">\n",
       "  <thead>\n",
       "    <tr style=\"text-align: right;\">\n",
       "      <th></th>\n",
       "      <th>childrens</th>\n",
       "      <th>debt_count</th>\n",
       "      <th>not_debt_count</th>\n",
       "      <th>debitors_count</th>\n",
       "      <th>relative_debt</th>\n",
       "    </tr>\n",
       "  </thead>\n",
       "  <tbody>\n",
       "    <tr>\n",
       "      <th>4</th>\n",
       "      <td>4</td>\n",
       "      <td>4</td>\n",
       "      <td>37</td>\n",
       "      <td>41</td>\n",
       "      <td>0.097561</td>\n",
       "    </tr>\n",
       "    <tr>\n",
       "      <th>2</th>\n",
       "      <td>2</td>\n",
       "      <td>194</td>\n",
       "      <td>1858</td>\n",
       "      <td>2052</td>\n",
       "      <td>0.094542</td>\n",
       "    </tr>\n",
       "    <tr>\n",
       "      <th>1</th>\n",
       "      <td>1</td>\n",
       "      <td>444</td>\n",
       "      <td>4365</td>\n",
       "      <td>4809</td>\n",
       "      <td>0.092327</td>\n",
       "    </tr>\n",
       "    <tr>\n",
       "      <th>3</th>\n",
       "      <td>3</td>\n",
       "      <td>27</td>\n",
       "      <td>303</td>\n",
       "      <td>330</td>\n",
       "      <td>0.081818</td>\n",
       "    </tr>\n",
       "    <tr>\n",
       "      <th>0</th>\n",
       "      <td>0</td>\n",
       "      <td>1063</td>\n",
       "      <td>13044</td>\n",
       "      <td>14107</td>\n",
       "      <td>0.075353</td>\n",
       "    </tr>\n",
       "    <tr>\n",
       "      <th>5</th>\n",
       "      <td>5</td>\n",
       "      <td>0</td>\n",
       "      <td>9</td>\n",
       "      <td>9</td>\n",
       "      <td>0.000000</td>\n",
       "    </tr>\n",
       "  </tbody>\n",
       "</table>\n",
       "</div>"
      ],
      "text/plain": [
       "   childrens  debt_count  not_debt_count  debitors_count  relative_debt\n",
       "4          4           4              37              41       0.097561\n",
       "2          2         194            1858            2052       0.094542\n",
       "1          1         444            4365            4809       0.092327\n",
       "3          3          27             303             330       0.081818\n",
       "0          0        1063           13044           14107       0.075353\n",
       "5          5           0               9               9       0.000000"
      ]
     },
     "execution_count": 30,
     "metadata": {},
     "output_type": "execute_result"
    }
   ],
   "source": [
    "children2 = pd.DataFrame({\n",
    "    'childrens': debt_by_children.index,\n",
    "    'debt_count': list(debt.groupby('children').count()['debt'].values) + [0],\n",
    "    'not_debt_count': not_debt.groupby('children').count()['debt'].values,\n",
    "})\n",
    "\n",
    "# Количество заёмщиков в группе\n",
    "children2['debitors_count'] = children2['debt_count'] + children2['not_debt_count']\n",
    "\n",
    "# Получаем относительные величины в группе — процент должников\n",
    "children2['relative_debt'] = children2['debt_count'] / children2['debitors_count']\n",
    "\n",
    "# Сортируем по убыванию процента должников\n",
    "children2 = children2.sort_values(by='relative_debt', ascending=False)\n",
    "\n",
    "children2"
   ]
  },
  {
   "cell_type": "markdown",
   "id": "171363ac",
   "metadata": {},
   "source": [
    "#### График"
   ]
  },
  {
   "cell_type": "code",
   "execution_count": 32,
   "id": "8bccf9e9",
   "metadata": {},
   "outputs": [
    {
     "data": {
      "image/png": "[encoded data removed]",
      "text/plain": [
       "<Figure size 360x360 with 1 Axes>"
      ]
     },
     "metadata": {
      "needs_background": "light"
     },
     "output_type": "display_data"
    }
   ],
   "source": [
    "children2_plot = sb.catplot(\n",
    "    kind=\"bar\",\n",
    "    data=pd.DataFrame({\n",
    "        'количество детей': children2.index,\n",
    "        'процент должников': children2['relative_debt'],\n",
    "    }),\n",
    "    x='процент должников', y='количество детей', orient='h', order=children2.index \n",
    ");\n",
    "\n",
    "# Подписываем столбцы\n",
    "bar_labels(children2_plot, list(children2['relative_debt']))"
   ]
  },
  {
   "cell_type": "markdown",
   "id": "f40caa41",
   "metadata": {},
   "source": [
    "#### Вывод"
   ]
  },
  {
   "cell_type": "markdown",
   "id": "b5300469",
   "metadata": {},
   "source": [
    "Выгода убывает по количеству детей в таком порядке: `5`, `0`, `3`, `1`, `4`. Группа c `5` детьми очень мала."
   ]
  },
  {
   "cell_type": "markdown",
   "id": "97be82ca",
   "metadata": {
    "deletable": false,
    "editable": false,
    "id": "97be82ca"
   },
   "source": [
    "**Задание 20. Есть ли зависимость между семейным положением и возвратом кредита в срок?**"
   ]
  },
  {
   "cell_type": "markdown",
   "id": "22429c36",
   "metadata": {},
   "source": [
    "### Зависимость между семейным положением и возвратом кредита в срок"
   ]
  },
  {
   "cell_type": "markdown",
   "id": "326ff964",
   "metadata": {},
   "source": [
    "#### Формируем таблицу"
   ]
  },
  {
   "cell_type": "code",
   "execution_count": 34,
   "id": "aa2840b6",
   "metadata": {
    "scrolled": true
   },
   "outputs": [
    {
     "data": {
      "text/html": [
       "<div>\n",
       "<style scoped>\n",
       "    .dataframe tbody tr th:only-of-type {\n",
       "        vertical-align: middle;\n",
       "    }\n",
       "\n",
       "    .dataframe tbody tr th {\n",
       "        vertical-align: top;\n",
       "    }\n",
       "\n",
       "    .dataframe thead th {\n",
       "        text-align: right;\n",
       "    }\n",
       "</style>\n",
       "<table border=\"1\" class=\"dataframe\">\n",
       "  <thead>\n",
       "    <tr style=\"text-align: right;\">\n",
       "      <th>debt</th>\n",
       "      <th>0</th>\n",
       "      <th>1</th>\n",
       "      <th>debitors_count</th>\n",
       "      <th>relative_debt</th>\n",
       "    </tr>\n",
       "    <tr>\n",
       "      <th>family_status</th>\n",
       "      <th></th>\n",
       "      <th></th>\n",
       "      <th></th>\n",
       "      <th></th>\n",
       "    </tr>\n",
       "  </thead>\n",
       "  <tbody>\n",
       "    <tr>\n",
       "      <th>Не женат / не замужем</th>\n",
       "      <td>2523</td>\n",
       "      <td>273</td>\n",
       "      <td>2796</td>\n",
       "      <td>0.097639</td>\n",
       "    </tr>\n",
       "    <tr>\n",
       "      <th>гражданский брак</th>\n",
       "      <td>3761</td>\n",
       "      <td>385</td>\n",
       "      <td>4146</td>\n",
       "      <td>0.092861</td>\n",
       "    </tr>\n",
       "    <tr>\n",
       "      <th>женат / замужем</th>\n",
       "      <td>11339</td>\n",
       "      <td>927</td>\n",
       "      <td>12266</td>\n",
       "      <td>0.075575</td>\n",
       "    </tr>\n",
       "    <tr>\n",
       "      <th>в разводе</th>\n",
       "      <td>1105</td>\n",
       "      <td>84</td>\n",
       "      <td>1189</td>\n",
       "      <td>0.070648</td>\n",
       "    </tr>\n",
       "    <tr>\n",
       "      <th>вдовец / вдова</th>\n",
       "      <td>888</td>\n",
       "      <td>63</td>\n",
       "      <td>951</td>\n",
       "      <td>0.066246</td>\n",
       "    </tr>\n",
       "  </tbody>\n",
       "</table>\n",
       "</div>"
      ],
      "text/plain": [
       "debt                       0    1  debitors_count  relative_debt\n",
       "family_status                                                   \n",
       "Не женат / не замужем   2523  273            2796       0.097639\n",
       "гражданский брак        3761  385            4146       0.092861\n",
       "женат / замужем        11339  927           12266       0.075575\n",
       "в разводе               1105   84            1189       0.070648\n",
       "вдовец / вдова           888   63             951       0.066246"
      ]
     },
     "execution_count": 34,
     "metadata": {},
     "output_type": "execute_result"
    }
   ],
   "source": [
    "family_status2 = data.pivot_table(index=['family_status'], columns='debt', values='children', aggfunc='count')\n",
    "\n",
    "# Количество заёмщиков в группе\n",
    "family_status2['debitors_count'] = family_status2[0] + family_status2[1]\n",
    "\n",
    "# Получаем относительные величины в группе — процент должников\n",
    "family_status2['relative_debt'] = family_status2[1] / family_status2['debitors_count']\n",
    "\n",
    "# Сортируем по убыванию процента должников\n",
    "family_status2 = family_status2.sort_values(by='relative_debt', ascending=False)\n",
    "\n",
    "family_status2"
   ]
  },
  {
   "cell_type": "markdown",
   "id": "236875bf",
   "metadata": {},
   "source": [
    "#### График"
   ]
  },
  {
   "cell_type": "code",
   "execution_count": 38,
   "id": "3fe8f2c7",
   "metadata": {},
   "outputs": [
    {
     "data": {
      "image/png": "[encoded data removed]",
      "text/plain": [
       "<Figure size 360x360 with 1 Axes>"
      ]
     },
     "metadata": {
      "needs_background": "light"
     },
     "output_type": "display_data"
    }
   ],
   "source": [
    "family_status2_plot = sb.catplot(\n",
    "    kind=\"bar\",\n",
    "    data=pd.DataFrame({\n",
    "        'семейный статус': family_status2.index,\n",
    "        'процент должников': family_status2['relative_debt'],\n",
    "    }),\n",
    "    x='процент должников', y='семейный статус', orient='h', order=family_status2.index \n",
    ");\n",
    "\n",
    "# Подписываем столбцы\n",
    "bar_labels(family_status2_plot, list(family_status2['relative_debt']))"
   ]
  },
  {
   "cell_type": "markdown",
   "id": "0459c792",
   "metadata": {},
   "source": [
    "#### Вывод"
   ]
  },
  {
   "cell_type": "markdown",
   "id": "68b11989",
   "metadata": {},
   "source": [
    "Выгода убывает по семейному статусу в таком порядке: `вдовец / вдова`, `в разводе`, `женат / замужем`, `гражданский брак`, `не женат / не замужем`."
   ]
  },
  {
   "cell_type": "markdown",
   "id": "1e8b2fca",
   "metadata": {
    "deletable": false,
    "editable": false,
    "id": "1e8b2fca"
   },
   "source": [
    "**Задание 21. Есть ли зависимость между уровнем дохода и возвратом кредита в срок?**"
   ]
  },
  {
   "cell_type": "markdown",
   "id": "4d0e26af",
   "metadata": {},
   "source": [
    "### Зависимость между уровнем дохода и возвратом кредита в срок"
   ]
  },
  {
   "cell_type": "markdown",
   "id": "0e15df56",
   "metadata": {},
   "source": [
    "#### Формируем таблицу"
   ]
  },
  {
   "cell_type": "code",
   "execution_count": 40,
   "id": "9ec99059",
   "metadata": {},
   "outputs": [
    {
     "data": {
      "text/html": [
       "<div>\n",
       "<style scoped>\n",
       "    .dataframe tbody tr th:only-of-type {\n",
       "        vertical-align: middle;\n",
       "    }\n",
       "\n",
       "    .dataframe tbody tr th {\n",
       "        vertical-align: top;\n",
       "    }\n",
       "\n",
       "    .dataframe thead th {\n",
       "        text-align: right;\n",
       "    }\n",
       "</style>\n",
       "<table border=\"1\" class=\"dataframe\">\n",
       "  <thead>\n",
       "    <tr style=\"text-align: right;\">\n",
       "      <th>debt</th>\n",
       "      <th>0</th>\n",
       "      <th>1</th>\n",
       "      <th>debitors_count</th>\n",
       "      <th>relative_debt</th>\n",
       "    </tr>\n",
       "    <tr>\n",
       "      <th>total_income_category</th>\n",
       "      <th></th>\n",
       "      <th></th>\n",
       "      <th></th>\n",
       "      <th></th>\n",
       "    </tr>\n",
       "  </thead>\n",
       "  <tbody>\n",
       "    <tr>\n",
       "      <th>E</th>\n",
       "      <td>20</td>\n",
       "      <td>2</td>\n",
       "      <td>22</td>\n",
       "      <td>0.090909</td>\n",
       "    </tr>\n",
       "    <tr>\n",
       "      <th>C</th>\n",
       "      <td>14585</td>\n",
       "      <td>1353</td>\n",
       "      <td>15938</td>\n",
       "      <td>0.084891</td>\n",
       "    </tr>\n",
       "    <tr>\n",
       "      <th>A</th>\n",
       "      <td>23</td>\n",
       "      <td>2</td>\n",
       "      <td>25</td>\n",
       "      <td>0.080000</td>\n",
       "    </tr>\n",
       "    <tr>\n",
       "      <th>B</th>\n",
       "      <td>4660</td>\n",
       "      <td>354</td>\n",
       "      <td>5014</td>\n",
       "      <td>0.070602</td>\n",
       "    </tr>\n",
       "    <tr>\n",
       "      <th>D</th>\n",
       "      <td>328</td>\n",
       "      <td>21</td>\n",
       "      <td>349</td>\n",
       "      <td>0.060172</td>\n",
       "    </tr>\n",
       "  </tbody>\n",
       "</table>\n",
       "</div>"
      ],
      "text/plain": [
       "debt                       0     1  debitors_count  relative_debt\n",
       "total_income_category                                            \n",
       "E                         20     2              22       0.090909\n",
       "C                      14585  1353           15938       0.084891\n",
       "A                         23     2              25       0.080000\n",
       "B                       4660   354            5014       0.070602\n",
       "D                        328    21             349       0.060172"
      ]
     },
     "execution_count": 40,
     "metadata": {},
     "output_type": "execute_result"
    }
   ],
   "source": [
    "total_income_category2 = data.pivot_table(index=['total_income_category'], columns='debt', values='children', aggfunc='count')\n",
    "\n",
    "# Количество заёмщиков в группе\n",
    "total_income_category2['debitors_count'] = total_income_category2[0] + total_income_category2[1]\n",
    "\n",
    "# Получаем относительные величины в группе — процент должников\n",
    "total_income_category2['relative_debt'] = total_income_category2[1] / total_income_category2['debitors_count']\n",
    "\n",
    "# Сортируем по убыванию процента должников\n",
    "total_income_category2 = total_income_category2.sort_values(by='relative_debt', ascending=False)\n",
    "\n",
    "total_income_category2"
   ]
  },
  {
   "cell_type": "markdown",
   "id": "08048668",
   "metadata": {},
   "source": [
    "#### График"
   ]
  },
  {
   "cell_type": "code",
   "execution_count": 44,
   "id": "800a4509",
   "metadata": {},
   "outputs": [
    {
     "data": {
      "image/png": "[encoded data removed]",
      "text/plain": [
       "<Figure size 360x360 with 1 Axes>"
      ]
     },
     "metadata": {
      "needs_background": "light"
     },
     "output_type": "display_data"
    }
   ],
   "source": [
    "total_income_category2_plot = sb.catplot(\n",
    "    kind=\"bar\",\n",
    "    data=pd.DataFrame({\n",
    "        'категория дохода': total_income_category2.index,\n",
    "        'процент должников': total_income_category2['relative_debt'],\n",
    "    }),\n",
    "    x='процент должников', y='категория дохода', orient='h', order=total_income_category2.index \n",
    ");\n",
    "\n",
    "# Подписываем столбцы\n",
    "bar_labels(total_income_category2_plot, list(total_income_category2['relative_debt']))"
   ]
  },
  {
   "cell_type": "markdown",
   "id": "14ad5e9d",
   "metadata": {},
   "source": [
    "#### Вывод"
   ]
  },
  {
   "cell_type": "markdown",
   "id": "f303d8b3",
   "metadata": {},
   "source": [
    "Выгода убывает по категории дохода в таком порядке: `D` (`30001–50000`), `B` (`200001–1000000`), `A` (`1000001 и выше`), `C` (`50001–200000`), `E` (`0–30000`)."
   ]
  },
  {
   "cell_type": "markdown",
   "id": "99ecbd1f",
   "metadata": {
    "deletable": false,
    "editable": false,
    "id": "99ecbd1f"
   },
   "source": [
    "**Задание 22. Как разные цели кредита влияют на его возврат в срок?**"
   ]
  },
  {
   "cell_type": "markdown",
   "id": "412340a9",
   "metadata": {},
   "source": [
    "### Влияние целей кредита на его возврат в срок"
   ]
  },
  {
   "cell_type": "markdown",
   "id": "ef28869d",
   "metadata": {},
   "source": [
    "#### Формируем таблицу"
   ]
  },
  {
   "cell_type": "code",
   "execution_count": 46,
   "id": "229b55c7",
   "metadata": {},
   "outputs": [
    {
     "data": {
      "text/html": [
       "<div>\n",
       "<style scoped>\n",
       "    .dataframe tbody tr th:only-of-type {\n",
       "        vertical-align: middle;\n",
       "    }\n",
       "\n",
       "    .dataframe tbody tr th {\n",
       "        vertical-align: top;\n",
       "    }\n",
       "\n",
       "    .dataframe thead th {\n",
       "        text-align: right;\n",
       "    }\n",
       "</style>\n",
       "<table border=\"1\" class=\"dataframe\">\n",
       "  <thead>\n",
       "    <tr style=\"text-align: right;\">\n",
       "      <th>debt</th>\n",
       "      <th>0</th>\n",
       "      <th>1</th>\n",
       "      <th>debitors_count</th>\n",
       "      <th>relative_debt</th>\n",
       "    </tr>\n",
       "    <tr>\n",
       "      <th>purpose_category</th>\n",
       "      <th></th>\n",
       "      <th></th>\n",
       "      <th></th>\n",
       "      <th></th>\n",
       "    </tr>\n",
       "  </thead>\n",
       "  <tbody>\n",
       "    <tr>\n",
       "      <th>операции с автомобилем</th>\n",
       "      <td>3881</td>\n",
       "      <td>400</td>\n",
       "      <td>4281</td>\n",
       "      <td>0.093436</td>\n",
       "    </tr>\n",
       "    <tr>\n",
       "      <th>получение образования</th>\n",
       "      <td>3620</td>\n",
       "      <td>369</td>\n",
       "      <td>3989</td>\n",
       "      <td>0.092504</td>\n",
       "    </tr>\n",
       "    <tr>\n",
       "      <th>проведение свадьбы</th>\n",
       "      <td>2141</td>\n",
       "      <td>183</td>\n",
       "      <td>2324</td>\n",
       "      <td>0.078744</td>\n",
       "    </tr>\n",
       "    <tr>\n",
       "      <th>операции с недвижимостью</th>\n",
       "      <td>9974</td>\n",
       "      <td>780</td>\n",
       "      <td>10754</td>\n",
       "      <td>0.072531</td>\n",
       "    </tr>\n",
       "  </tbody>\n",
       "</table>\n",
       "</div>"
      ],
      "text/plain": [
       "debt                         0    1  debitors_count  relative_debt\n",
       "purpose_category                                                  \n",
       "операции с автомобилем    3881  400            4281       0.093436\n",
       "получение образования     3620  369            3989       0.092504\n",
       "проведение свадьбы        2141  183            2324       0.078744\n",
       "операции с недвижимостью  9974  780           10754       0.072531"
      ]
     },
     "execution_count": 46,
     "metadata": {},
     "output_type": "execute_result"
    }
   ],
   "source": [
    "purpose2 = data.pivot_table(index=['purpose_category'], columns='debt', values='children', aggfunc='count')\n",
    "\n",
    "# Количество заёмщиков в группе\n",
    "purpose2['debitors_count'] = purpose2[0] + purpose2[1]\n",
    "\n",
    "# Получаем относительные величины в группе — процент должников\n",
    "purpose2['relative_debt'] = purpose2[1] / purpose2['debitors_count']\n",
    "\n",
    "# Сортируем по убыванию процента должников\n",
    "purpose2 = purpose2.sort_values(by='relative_debt', ascending=False)\n",
    "\n",
    "purpose2"
   ]
  },
  {
   "cell_type": "markdown",
   "id": "44c87222",
   "metadata": {},
   "source": [
    "#### График"
   ]
  },
  {
   "cell_type": "code",
   "execution_count": 50,
   "id": "cb8630ae",
   "metadata": {},
   "outputs": [
    {
     "data": {
      "image/png": "[encoded data removed]",
      "text/plain": [
       "<Figure size 360x360 with 1 Axes>"
      ]
     },
     "metadata": {
      "needs_background": "light"
     },
     "output_type": "display_data"
    }
   ],
   "source": [
    "purpose2_plot = sb.catplot(\n",
    "    kind=\"bar\",\n",
    "    data=pd.DataFrame({\n",
    "        'цель': purpose2.index,\n",
    "        'процент должников': purpose2['relative_debt'],\n",
    "    }),\n",
    "    x='процент должников', y='цель', orient='h', order=purpose2.index \n",
    ");\n",
    "\n",
    "# Подписываем столбцы\n",
    "bar_labels(purpose2_plot, list(purpose2['relative_debt']))"
   ]
  },
  {
   "cell_type": "markdown",
   "id": "1d2318ed",
   "metadata": {},
   "source": [
    "#### Вывод"
   ]
  },
  {
   "cell_type": "markdown",
   "id": "434bc107",
   "metadata": {},
   "source": [
    "Выгода убывает по категории дохода в таком порядке: `операции с недвижимостью`, `проведение свадьбы`, `получение образования`, `операции с автомобилем`."
   ]
  },
  {
   "cell_type": "markdown",
   "id": "09c3ac4c",
   "metadata": {
    "deletable": false,
    "editable": false,
    "id": "09c3ac4c"
   },
   "source": [
    "**Задание 23. Приведите возможные причины появления пропусков в исходных данных.**"
   ]
  },
  {
   "cell_type": "markdown",
   "id": "9da2ceda",
   "metadata": {
    "deletable": false,
    "id": "9da2ceda"
   },
   "source": [
    "*Ответ:*  \n",
    "Человеческий фактор или технические причины:\n",
    "- нет проверки значений при вводе в форму\n",
    "- нет установленного формата ввода каждого значения\n",
    "- не указаны обязательные поля формы\n",
    "- человек мог ошибиться с вводом значения\n",
    "- программа выдала пустое, некорректное или другое подобное значение"
   ]
  },
  {
   "cell_type": "markdown",
   "id": "7b0487d6",
   "metadata": {
    "deletable": false,
    "editable": false,
    "id": "7b0487d6"
   },
   "source": [
    "**Задание 24. Объясните, почему заполнить пропуски медианным значением — лучшее решение для количественных переменных.**"
   ]
  },
  {
   "cell_type": "markdown",
   "id": "7ecf2b8e",
   "metadata": {
    "deletable": false,
    "id": "7ecf2b8e"
   },
   "source": [
    "*Ответ:* Медиана в отличии от среднего более корректна если в данных находятся сильно выбивающиеся значения относительно остальных."
   ]
  },
  {
   "cell_type": "markdown",
   "id": "6db5255a",
   "metadata": {
    "deletable": false,
    "editable": false,
    "id": "6db5255a"
   },
   "source": [
    "## Общий вывод."
   ]
  },
  {
   "cell_type": "markdown",
   "id": "57dc2674",
   "metadata": {},
   "source": [
    "Для построения модели *кредитного скоринга* для оценки способности потенциального заёмщика вернуть кредит банку следует учитывать что:\n",
    "- Выгода убывает по количеству детей в таком порядке: `5`, `0`, `3`, `1`, `4`. Группа c `5` детьми очень мала.\n",
    "- Выгода убывает по семейному статусу в таком порядке: `вдовец / вдова`, `в разводе`, `женат / замужем`, `гражданский брак`, `не женат / не замужем`.\n",
    "- Выгода убывает по категории дохода в таком порядке: `D` (`30001–50000`), `B` (`200001–1000000`), `A` (`1000001 и выше`), `C` (`50001–200000`), `E` (`0–30000`).\n",
    "- Выгода убывает по цели в таком порядке: `операции с недвижимостью`, `проведение свадьбы`, `получение образования`, `операции с автомобилем`.\n",
    "\n",
    "Таким образом портрет заёмщика который вернёт кредит в срок с наибольшей вероятностью такой: с 5-ю или без детей, вдовец / вдова, находится в категории \"D\" с доходом `30001–50000`, цель кредита \"операции с недвижимостью\".  \n",
    "А для наименьшей вероятности вернуть кредит в срок такой: с 4-мя детьми, не женат / не замужем, находится в категории \"E\" с доходом 30001–50000, операции с автомобилем."
   ]
  }
 ],
 "metadata": {
  "ExecuteTimeLog": [
   {
    "duration": 480,
    "start_time": "2022-07-13T20:59:09.159Z"
   },
   {
    "duration": 28,
    "start_time": "2022-07-13T20:59:09.644Z"
   },
   {
    "duration": 21,
    "start_time": "2022-07-13T20:59:09.673Z"
   },
   {
    "duration": 8,
    "start_time": "2022-07-13T20:59:09.696Z"
   },
   {
    "duration": 57,
    "start_time": "2022-07-13T20:59:09.707Z"
   },
   {
    "duration": 4,
    "start_time": "2022-07-13T20:59:09.769Z"
   },
   {
    "duration": 22,
    "start_time": "2022-07-13T20:59:09.774Z"
   },
   {
    "duration": 8,
    "start_time": "2022-07-13T20:59:09.797Z"
   },
   {
    "duration": 12,
    "start_time": "2022-07-13T20:59:09.806Z"
   },
   {
    "duration": 14,
    "start_time": "2022-07-13T20:59:09.820Z"
   },
   {
    "duration": 73,
    "start_time": "2022-07-13T20:59:09.835Z"
   },
   {
    "duration": 9,
    "start_time": "2022-07-13T20:59:09.910Z"
   },
   {
    "duration": 24,
    "start_time": "2022-07-13T20:59:09.921Z"
   },
   {
    "duration": 45,
    "start_time": "2022-07-13T20:59:09.952Z"
   },
   {
    "duration": 16,
    "start_time": "2022-07-13T20:59:09.999Z"
   },
   {
    "duration": 21,
    "start_time": "2022-07-13T20:59:10.017Z"
   },
   {
    "duration": 41,
    "start_time": "2022-07-13T20:59:10.040Z"
   },
   {
    "duration": 14,
    "start_time": "2022-07-13T20:59:10.083Z"
   },
   {
    "duration": 5,
    "start_time": "2022-07-13T20:59:10.099Z"
   },
   {
    "duration": 3,
    "start_time": "2022-07-13T20:59:10.105Z"
   },
   {
    "duration": 12,
    "start_time": "2022-07-13T20:59:10.109Z"
   },
   {
    "duration": 40,
    "start_time": "2022-07-13T20:59:10.123Z"
   },
   {
    "duration": 19,
    "start_time": "2022-07-13T20:59:10.165Z"
   },
   {
    "duration": 6,
    "start_time": "2022-07-13T20:59:10.185Z"
   },
   {
    "duration": 5,
    "start_time": "2022-07-13T20:59:10.192Z"
   },
   {
    "duration": 13,
    "start_time": "2022-07-13T20:59:51.792Z"
   },
   {
    "duration": 73,
    "start_time": "2022-07-13T21:00:33.873Z"
   },
   {
    "duration": 10,
    "start_time": "2022-07-13T21:00:42.980Z"
   },
   {
    "duration": 1716,
    "start_time": "2022-07-13T21:00:53.674Z"
   },
   {
    "duration": 1239,
    "start_time": "2022-07-13T21:00:58.653Z"
   },
   {
    "duration": 1021,
    "start_time": "2022-07-13T21:01:04.910Z"
   },
   {
    "duration": 1406,
    "start_time": "2022-07-13T21:01:15.299Z"
   },
   {
    "duration": 1356,
    "start_time": "2022-07-13T21:01:20.844Z"
   },
   {
    "duration": 6,
    "start_time": "2022-07-13T21:02:26.076Z"
   },
   {
    "duration": 1439,
    "start_time": "2022-07-13T21:02:41.183Z"
   },
   {
    "duration": 8,
    "start_time": "2022-07-13T21:03:13.589Z"
   },
   {
    "duration": 26,
    "start_time": "2022-07-13T21:03:38.909Z"
   },
   {
    "duration": 1055,
    "start_time": "2022-07-13T21:03:56.750Z"
   },
   {
    "duration": 4,
    "start_time": "2022-07-13T21:04:03.900Z"
   },
   {
    "duration": 11,
    "start_time": "2022-07-13T21:04:09.169Z"
   },
   {
    "duration": 1553,
    "start_time": "2022-07-13T21:04:22.254Z"
   },
   {
    "duration": 45,
    "start_time": "2022-07-13T21:04:41.310Z"
   },
   {
    "duration": 19,
    "start_time": "2022-07-13T21:05:07.388Z"
   },
   {
    "duration": 1684,
    "start_time": "2022-07-13T21:05:21.306Z"
   },
   {
    "duration": 12,
    "start_time": "2022-07-13T21:05:28.204Z"
   },
   {
    "duration": 78,
    "start_time": "2022-07-13T21:06:05.975Z"
   },
   {
    "duration": 22,
    "start_time": "2022-07-13T21:06:06.060Z"
   },
   {
    "duration": 15,
    "start_time": "2022-07-13T21:06:06.084Z"
   },
   {
    "duration": 10,
    "start_time": "2022-07-13T21:06:06.101Z"
   },
   {
    "duration": 64,
    "start_time": "2022-07-13T21:06:06.112Z"
   },
   {
    "duration": 5,
    "start_time": "2022-07-13T21:06:06.180Z"
   },
   {
    "duration": 11,
    "start_time": "2022-07-13T21:06:06.186Z"
   },
   {
    "duration": 4,
    "start_time": "2022-07-13T21:06:06.199Z"
   },
   {
    "duration": 8,
    "start_time": "2022-07-13T21:06:06.204Z"
   },
   {
    "duration": 19,
    "start_time": "2022-07-13T21:06:06.215Z"
   },
   {
    "duration": 59,
    "start_time": "2022-07-13T21:06:06.236Z"
   },
   {
    "duration": 12,
    "start_time": "2022-07-13T21:06:06.297Z"
   },
   {
    "duration": 23,
    "start_time": "2022-07-13T21:06:06.310Z"
   },
   {
    "duration": 46,
    "start_time": "2022-07-13T21:06:06.342Z"
   },
   {
    "duration": 18,
    "start_time": "2022-07-13T21:06:06.390Z"
   },
   {
    "duration": 12,
    "start_time": "2022-07-13T21:06:06.410Z"
   },
   {
    "duration": 57,
    "start_time": "2022-07-13T21:06:06.426Z"
   },
   {
    "duration": 16,
    "start_time": "2022-07-13T21:06:06.484Z"
   },
   {
    "duration": 8,
    "start_time": "2022-07-13T21:06:06.502Z"
   },
   {
    "duration": 7,
    "start_time": "2022-07-13T21:06:06.511Z"
   },
   {
    "duration": 40,
    "start_time": "2022-07-13T21:06:06.520Z"
   },
   {
    "duration": 36,
    "start_time": "2022-07-13T21:06:06.562Z"
   },
   {
    "duration": 2,
    "start_time": "2022-07-13T21:06:06.600Z"
   },
   {
    "duration": 9,
    "start_time": "2022-07-13T21:06:06.603Z"
   },
   {
    "duration": 9,
    "start_time": "2022-07-13T21:06:06.614Z"
   },
   {
    "duration": 18,
    "start_time": "2022-07-13T21:06:26.789Z"
   },
   {
    "duration": 28,
    "start_time": "2022-07-13T21:06:53.263Z"
   },
   {
    "duration": 25,
    "start_time": "2022-07-13T21:07:00.352Z"
   },
   {
    "duration": 17,
    "start_time": "2022-07-13T21:07:26.044Z"
   },
   {
    "duration": 21,
    "start_time": "2022-07-13T21:07:28.038Z"
   },
   {
    "duration": 29,
    "start_time": "2022-07-13T21:08:37.913Z"
   },
   {
    "duration": 12,
    "start_time": "2022-07-13T21:08:43.617Z"
   },
   {
    "duration": 9,
    "start_time": "2022-07-13T21:12:42.344Z"
   },
   {
    "duration": 9,
    "start_time": "2022-07-13T21:12:48.472Z"
   },
   {
    "duration": 7,
    "start_time": "2022-07-13T21:13:14.012Z"
   },
   {
    "duration": 9,
    "start_time": "2022-07-13T21:14:18.273Z"
   },
   {
    "duration": 18,
    "start_time": "2022-07-13T21:14:27.885Z"
   },
   {
    "duration": 2138,
    "start_time": "2022-07-13T21:16:40.905Z"
   },
   {
    "duration": 8,
    "start_time": "2022-07-13T21:17:12.107Z"
   },
   {
    "duration": 21,
    "start_time": "2022-07-13T21:17:35.873Z"
   },
   {
    "duration": 12,
    "start_time": "2022-07-13T21:17:53.421Z"
   },
   {
    "duration": 76,
    "start_time": "2022-07-13T21:18:31.595Z"
   },
   {
    "duration": 15,
    "start_time": "2022-07-13T21:18:31.673Z"
   },
   {
    "duration": 24,
    "start_time": "2022-07-13T21:18:31.689Z"
   },
   {
    "duration": 57,
    "start_time": "2022-07-13T21:18:31.715Z"
   },
   {
    "duration": 34,
    "start_time": "2022-07-13T21:18:31.773Z"
   },
   {
    "duration": 3,
    "start_time": "2022-07-13T21:18:31.809Z"
   },
   {
    "duration": 20,
    "start_time": "2022-07-13T21:18:31.813Z"
   },
   {
    "duration": 43,
    "start_time": "2022-07-13T21:18:31.836Z"
   },
   {
    "duration": 22,
    "start_time": "2022-07-13T21:18:31.880Z"
   },
   {
    "duration": 11,
    "start_time": "2022-07-13T21:18:31.904Z"
   },
   {
    "duration": 74,
    "start_time": "2022-07-13T21:18:31.917Z"
   },
   {
    "duration": 9,
    "start_time": "2022-07-13T21:18:31.993Z"
   },
   {
    "duration": 52,
    "start_time": "2022-07-13T21:18:32.004Z"
   },
   {
    "duration": 28,
    "start_time": "2022-07-13T21:18:32.058Z"
   },
   {
    "duration": 16,
    "start_time": "2022-07-13T21:18:32.088Z"
   },
   {
    "duration": 37,
    "start_time": "2022-07-13T21:18:32.106Z"
   },
   {
    "duration": 23,
    "start_time": "2022-07-13T21:18:32.145Z"
   },
   {
    "duration": 15,
    "start_time": "2022-07-13T21:18:32.170Z"
   },
   {
    "duration": 12,
    "start_time": "2022-07-13T21:18:32.186Z"
   },
   {
    "duration": 8,
    "start_time": "2022-07-13T21:18:32.199Z"
   },
   {
    "duration": 26,
    "start_time": "2022-07-13T21:18:32.208Z"
   },
   {
    "duration": 56,
    "start_time": "2022-07-13T21:18:32.236Z"
   },
   {
    "duration": 10,
    "start_time": "2022-07-13T21:18:32.294Z"
   },
   {
    "duration": 7,
    "start_time": "2022-07-13T21:18:32.306Z"
   },
   {
    "duration": 31,
    "start_time": "2022-07-13T21:18:32.315Z"
   },
   {
    "duration": 25,
    "start_time": "2022-07-13T21:18:32.348Z"
   },
   {
    "duration": 9,
    "start_time": "2022-07-13T21:18:32.375Z"
   },
   {
    "duration": 9,
    "start_time": "2022-07-13T21:18:32.386Z"
   },
   {
    "duration": 143,
    "start_time": "2022-07-13T21:20:29.401Z"
   },
   {
    "duration": 239,
    "start_time": "2022-07-13T21:20:54.967Z"
   },
   {
    "duration": 144,
    "start_time": "2022-07-13T21:21:06.695Z"
   },
   {
    "duration": 144,
    "start_time": "2022-07-13T21:21:12.678Z"
   },
   {
    "duration": 45,
    "start_time": "2022-07-13T21:23:49.646Z"
   },
   {
    "duration": 24,
    "start_time": "2022-07-13T21:24:36.558Z"
   },
   {
    "duration": 158,
    "start_time": "2022-07-13T21:25:34.499Z"
   },
   {
    "duration": 135,
    "start_time": "2022-07-13T21:27:09.177Z"
   },
   {
    "duration": 9,
    "start_time": "2022-07-13T21:28:13.398Z"
   },
   {
    "duration": 6,
    "start_time": "2022-07-13T21:28:28.588Z"
   },
   {
    "duration": 127,
    "start_time": "2022-07-13T21:28:32.983Z"
   },
   {
    "duration": 23,
    "start_time": "2022-07-13T21:28:37.353Z"
   },
   {
    "duration": 6,
    "start_time": "2022-07-13T21:29:10.752Z"
   },
   {
    "duration": 28,
    "start_time": "2022-07-13T21:31:47.619Z"
   },
   {
    "duration": 211,
    "start_time": "2022-07-13T21:32:00.781Z"
   },
   {
    "duration": 8,
    "start_time": "2022-07-13T21:34:02.210Z"
   },
   {
    "duration": 20,
    "start_time": "2022-07-13T21:34:13.122Z"
   },
   {
    "duration": 509,
    "start_time": "2022-07-13T21:34:15.682Z"
   },
   {
    "duration": 19,
    "start_time": "2022-07-13T21:50:13.790Z"
   },
   {
    "duration": 9,
    "start_time": "2022-07-13T21:51:33.052Z"
   },
   {
    "duration": 10,
    "start_time": "2022-07-13T21:52:07.879Z"
   },
   {
    "duration": 9,
    "start_time": "2022-07-13T21:52:44.199Z"
   },
   {
    "duration": 9,
    "start_time": "2022-07-13T21:53:20.378Z"
   },
   {
    "duration": 24,
    "start_time": "2022-07-13T21:53:58.343Z"
   },
   {
    "duration": 9,
    "start_time": "2022-07-13T21:54:41.188Z"
   },
   {
    "duration": 176,
    "start_time": "2022-07-13T21:54:53.632Z"
   },
   {
    "duration": 22,
    "start_time": "2022-07-13T21:56:03.569Z"
   },
   {
    "duration": 12,
    "start_time": "2022-07-13T21:56:07.359Z"
   },
   {
    "duration": 171,
    "start_time": "2022-07-13T21:56:09.838Z"
   },
   {
    "duration": 14,
    "start_time": "2022-07-13T21:56:19.326Z"
   },
   {
    "duration": 29,
    "start_time": "2022-07-13T21:56:21.708Z"
   },
   {
    "duration": 8,
    "start_time": "2022-07-13T21:56:25.397Z"
   },
   {
    "duration": 170,
    "start_time": "2022-07-13T21:56:28.512Z"
   },
   {
    "duration": 10,
    "start_time": "2022-07-13T21:59:59.658Z"
   },
   {
    "duration": 25,
    "start_time": "2022-07-13T22:00:22.265Z"
   },
   {
    "duration": 11,
    "start_time": "2022-07-13T22:00:24.361Z"
   },
   {
    "duration": 186,
    "start_time": "2022-07-13T22:00:26.904Z"
   },
   {
    "duration": 46,
    "start_time": "2022-07-14T10:39:14.512Z"
   },
   {
    "duration": 1511,
    "start_time": "2022-07-14T10:39:19.624Z"
   },
   {
    "duration": 19,
    "start_time": "2022-07-14T10:39:21.137Z"
   },
   {
    "duration": 23,
    "start_time": "2022-07-14T10:39:21.157Z"
   },
   {
    "duration": 10,
    "start_time": "2022-07-14T10:39:21.182Z"
   },
   {
    "duration": 41,
    "start_time": "2022-07-14T10:39:21.193Z"
   },
   {
    "duration": 4,
    "start_time": "2022-07-14T10:39:21.236Z"
   },
   {
    "duration": 9,
    "start_time": "2022-07-14T10:39:21.241Z"
   },
   {
    "duration": 5,
    "start_time": "2022-07-14T10:39:21.253Z"
   },
   {
    "duration": 12,
    "start_time": "2022-07-14T10:39:21.260Z"
   },
   {
    "duration": 4,
    "start_time": "2022-07-14T10:39:21.276Z"
   },
   {
    "duration": 51,
    "start_time": "2022-07-14T10:39:21.282Z"
   },
   {
    "duration": 9,
    "start_time": "2022-07-14T10:39:21.334Z"
   },
   {
    "duration": 15,
    "start_time": "2022-07-14T10:39:21.344Z"
   },
   {
    "duration": 21,
    "start_time": "2022-07-14T10:39:21.361Z"
   },
   {
    "duration": 17,
    "start_time": "2022-07-14T10:39:21.400Z"
   },
   {
    "duration": 10,
    "start_time": "2022-07-14T10:39:21.419Z"
   },
   {
    "duration": 6,
    "start_time": "2022-07-14T10:39:21.430Z"
   },
   {
    "duration": 12,
    "start_time": "2022-07-14T10:39:21.437Z"
   },
   {
    "duration": 5,
    "start_time": "2022-07-14T10:39:21.450Z"
   },
   {
    "duration": 3,
    "start_time": "2022-07-14T10:39:21.457Z"
   },
   {
    "duration": 13,
    "start_time": "2022-07-14T10:39:21.462Z"
   },
   {
    "duration": 32,
    "start_time": "2022-07-14T10:39:21.476Z"
   },
   {
    "duration": 17,
    "start_time": "2022-07-14T10:39:21.509Z"
   },
   {
    "duration": 8,
    "start_time": "2022-07-14T10:39:21.528Z"
   },
   {
    "duration": 203,
    "start_time": "2022-07-14T10:39:21.537Z"
   },
   {
    "duration": 5,
    "start_time": "2022-07-14T10:39:21.741Z"
   },
   {
    "duration": 22,
    "start_time": "2022-07-14T10:39:21.748Z"
   },
   {
    "duration": 8,
    "start_time": "2022-07-14T10:39:21.773Z"
   },
   {
    "duration": 154,
    "start_time": "2022-07-14T10:39:21.782Z"
   },
   {
    "duration": 2,
    "start_time": "2022-07-14T10:39:21.938Z"
   },
   {
    "duration": 14,
    "start_time": "2022-07-14T10:39:21.941Z"
   },
   {
    "duration": 134,
    "start_time": "2022-07-14T10:39:54.266Z"
   },
   {
    "duration": 305,
    "start_time": "2022-07-14T10:41:23.224Z"
   },
   {
    "duration": 72,
    "start_time": "2022-07-14T10:46:06.667Z"
   },
   {
    "duration": 16,
    "start_time": "2022-07-14T10:46:06.741Z"
   },
   {
    "duration": 18,
    "start_time": "2022-07-14T10:46:06.758Z"
   },
   {
    "duration": 24,
    "start_time": "2022-07-14T10:46:06.777Z"
   },
   {
    "duration": 32,
    "start_time": "2022-07-14T10:46:06.804Z"
   },
   {
    "duration": 4,
    "start_time": "2022-07-14T10:46:06.838Z"
   },
   {
    "duration": 14,
    "start_time": "2022-07-14T10:46:06.843Z"
   },
   {
    "duration": 11,
    "start_time": "2022-07-14T10:46:06.859Z"
   },
   {
    "duration": 6,
    "start_time": "2022-07-14T10:46:06.872Z"
   },
   {
    "duration": 5,
    "start_time": "2022-07-14T10:46:06.900Z"
   },
   {
    "duration": 35,
    "start_time": "2022-07-14T10:46:06.907Z"
   },
   {
    "duration": 10,
    "start_time": "2022-07-14T10:46:06.943Z"
   },
   {
    "duration": 10,
    "start_time": "2022-07-14T10:46:06.954Z"
   },
   {
    "duration": 42,
    "start_time": "2022-07-14T10:46:06.967Z"
   },
   {
    "duration": 16,
    "start_time": "2022-07-14T10:46:07.011Z"
   },
   {
    "duration": 11,
    "start_time": "2022-07-14T10:46:07.029Z"
   },
   {
    "duration": 14,
    "start_time": "2022-07-14T10:46:07.042Z"
   },
   {
    "duration": 15,
    "start_time": "2022-07-14T10:46:07.057Z"
   },
   {
    "duration": 16,
    "start_time": "2022-07-14T10:46:07.073Z"
   },
   {
    "duration": 4,
    "start_time": "2022-07-14T10:46:07.091Z"
   },
   {
    "duration": 14,
    "start_time": "2022-07-14T10:46:07.100Z"
   },
   {
    "duration": 22,
    "start_time": "2022-07-14T10:46:07.116Z"
   },
   {
    "duration": 17,
    "start_time": "2022-07-14T10:46:07.140Z"
   },
   {
    "duration": 8,
    "start_time": "2022-07-14T10:46:07.158Z"
   },
   {
    "duration": 167,
    "start_time": "2022-07-14T10:46:07.168Z"
   },
   {
    "duration": 5,
    "start_time": "2022-07-14T10:46:07.337Z"
   },
   {
    "duration": 23,
    "start_time": "2022-07-14T10:46:07.344Z"
   },
   {
    "duration": 8,
    "start_time": "2022-07-14T10:46:07.368Z"
   },
   {
    "duration": 5,
    "start_time": "2022-07-14T10:46:07.377Z"
   },
   {
    "duration": 8,
    "start_time": "2022-07-14T10:46:07.401Z"
   },
   {
    "duration": 16,
    "start_time": "2022-07-14T10:49:50.544Z"
   },
   {
    "duration": 135,
    "start_time": "2022-07-14T10:50:14.458Z"
   },
   {
    "duration": 138,
    "start_time": "2022-07-14T10:50:27.705Z"
   },
   {
    "duration": 215,
    "start_time": "2022-07-14T11:39:15.517Z"
   },
   {
    "duration": 281,
    "start_time": "2022-07-14T11:39:37.412Z"
   },
   {
    "duration": 323,
    "start_time": "2022-07-14T11:40:40.435Z"
   },
   {
    "duration": 207,
    "start_time": "2022-07-14T11:40:54.744Z"
   },
   {
    "duration": 12,
    "start_time": "2022-07-14T11:42:30.701Z"
   },
   {
    "duration": 252,
    "start_time": "2022-07-14T11:42:37.072Z"
   },
   {
    "duration": 16,
    "start_time": "2022-07-14T11:43:45.708Z"
   },
   {
    "duration": 239,
    "start_time": "2022-07-14T11:45:13.103Z"
   },
   {
    "duration": 309,
    "start_time": "2022-07-14T11:45:21.712Z"
   },
   {
    "duration": 207,
    "start_time": "2022-07-14T11:45:28.837Z"
   },
   {
    "duration": 258,
    "start_time": "2022-07-14T11:45:37.914Z"
   },
   {
    "duration": 271,
    "start_time": "2022-07-14T11:45:57.975Z"
   },
   {
    "duration": 292,
    "start_time": "2022-07-14T11:46:05.589Z"
   },
   {
    "duration": 9,
    "start_time": "2022-07-14T11:46:12.187Z"
   },
   {
    "duration": 285,
    "start_time": "2022-07-14T11:46:18.489Z"
   },
   {
    "duration": 253,
    "start_time": "2022-07-14T11:46:26.549Z"
   },
   {
    "duration": 267,
    "start_time": "2022-07-14T11:46:37.190Z"
   },
   {
    "duration": 1348,
    "start_time": "2022-07-14T11:47:39.485Z"
   },
   {
    "duration": 5,
    "start_time": "2022-07-14T11:47:54.583Z"
   },
   {
    "duration": 925,
    "start_time": "2022-07-14T11:48:02.470Z"
   },
   {
    "duration": 5,
    "start_time": "2022-07-14T11:48:07.712Z"
   },
   {
    "duration": 9,
    "start_time": "2022-07-14T11:48:17.739Z"
   },
   {
    "duration": 4,
    "start_time": "2022-07-14T11:48:20.402Z"
   },
   {
    "duration": 6,
    "start_time": "2022-07-14T11:48:25.815Z"
   },
   {
    "duration": 11,
    "start_time": "2022-07-14T11:48:33.042Z"
   },
   {
    "duration": 8,
    "start_time": "2022-07-14T11:49:12.538Z"
   },
   {
    "duration": 287,
    "start_time": "2022-07-14T11:49:23.137Z"
   },
   {
    "duration": 374,
    "start_time": "2022-07-14T11:49:41.828Z"
   },
   {
    "duration": 297,
    "start_time": "2022-07-14T11:49:48.540Z"
   },
   {
    "duration": 328,
    "start_time": "2022-07-14T11:49:56.049Z"
   },
   {
    "duration": 76,
    "start_time": "2022-07-14T12:03:17.102Z"
   },
   {
    "duration": 17,
    "start_time": "2022-07-14T12:03:17.180Z"
   },
   {
    "duration": 20,
    "start_time": "2022-07-14T12:03:17.201Z"
   },
   {
    "duration": 13,
    "start_time": "2022-07-14T12:03:17.224Z"
   },
   {
    "duration": 43,
    "start_time": "2022-07-14T12:03:17.240Z"
   },
   {
    "duration": 17,
    "start_time": "2022-07-14T12:03:17.285Z"
   },
   {
    "duration": 17,
    "start_time": "2022-07-14T12:03:17.304Z"
   },
   {
    "duration": 11,
    "start_time": "2022-07-14T12:03:17.323Z"
   },
   {
    "duration": 16,
    "start_time": "2022-07-14T12:03:17.335Z"
   },
   {
    "duration": 10,
    "start_time": "2022-07-14T12:03:17.352Z"
   },
   {
    "duration": 43,
    "start_time": "2022-07-14T12:03:17.364Z"
   },
   {
    "duration": 10,
    "start_time": "2022-07-14T12:03:17.409Z"
   },
   {
    "duration": 5,
    "start_time": "2022-07-14T12:03:17.421Z"
   },
   {
    "duration": 20,
    "start_time": "2022-07-14T12:03:17.429Z"
   },
   {
    "duration": 19,
    "start_time": "2022-07-14T12:03:17.451Z"
   },
   {
    "duration": 42,
    "start_time": "2022-07-14T12:03:17.472Z"
   },
   {
    "duration": 17,
    "start_time": "2022-07-14T12:03:17.516Z"
   },
   {
    "duration": 15,
    "start_time": "2022-07-14T12:03:17.535Z"
   },
   {
    "duration": 13,
    "start_time": "2022-07-14T12:03:17.552Z"
   },
   {
    "duration": 5,
    "start_time": "2022-07-14T12:03:17.566Z"
   },
   {
    "duration": 18,
    "start_time": "2022-07-14T12:03:17.572Z"
   },
   {
    "duration": 12,
    "start_time": "2022-07-14T12:03:17.600Z"
   },
   {
    "duration": 24,
    "start_time": "2022-07-14T12:03:17.614Z"
   },
   {
    "duration": 11,
    "start_time": "2022-07-14T12:03:17.640Z"
   },
   {
    "duration": 207,
    "start_time": "2022-07-14T12:03:17.654Z"
   },
   {
    "duration": 6,
    "start_time": "2022-07-14T12:03:17.863Z"
   },
   {
    "duration": 40,
    "start_time": "2022-07-14T12:03:17.870Z"
   },
   {
    "duration": 8,
    "start_time": "2022-07-14T12:03:17.911Z"
   },
   {
    "duration": 12,
    "start_time": "2022-07-14T12:03:17.921Z"
   },
   {
    "duration": 316,
    "start_time": "2022-07-14T12:03:17.935Z"
   },
   {
    "duration": 3,
    "start_time": "2022-07-14T12:03:18.253Z"
   },
   {
    "duration": 20,
    "start_time": "2022-07-14T12:03:18.258Z"
   },
   {
    "duration": 314,
    "start_time": "2022-07-14T12:03:38.997Z"
   },
   {
    "duration": 64,
    "start_time": "2022-07-14T12:12:14.903Z"
   },
   {
    "duration": 5,
    "start_time": "2022-07-14T12:12:26.089Z"
   },
   {
    "duration": 5,
    "start_time": "2022-07-14T12:12:35.685Z"
   },
   {
    "duration": 52,
    "start_time": "2022-07-14T12:12:51.073Z"
   },
   {
    "duration": 15,
    "start_time": "2022-07-14T12:12:56.004Z"
   },
   {
    "duration": 654,
    "start_time": "2022-07-14T12:13:14.931Z"
   },
   {
    "duration": 983,
    "start_time": "2022-07-14T12:13:29.745Z"
   },
   {
    "duration": 315,
    "start_time": "2022-07-14T12:15:08.969Z"
   },
   {
    "duration": 12,
    "start_time": "2022-07-14T12:15:21.626Z"
   },
   {
    "duration": 272,
    "start_time": "2022-07-14T12:15:26.536Z"
   },
   {
    "duration": 15,
    "start_time": "2022-07-14T12:15:47.080Z"
   },
   {
    "duration": 16,
    "start_time": "2022-07-14T12:16:01.151Z"
   },
   {
    "duration": 20,
    "start_time": "2022-07-14T12:16:05.097Z"
   },
   {
    "duration": 283,
    "start_time": "2022-07-14T12:21:34.142Z"
   },
   {
    "duration": 9,
    "start_time": "2022-07-14T12:21:55.583Z"
   },
   {
    "duration": 993,
    "start_time": "2022-07-14T12:22:03.450Z"
   },
   {
    "duration": 32,
    "start_time": "2022-07-14T12:23:10.694Z"
   },
   {
    "duration": 31,
    "start_time": "2022-07-14T12:23:39.064Z"
   },
   {
    "duration": 19,
    "start_time": "2022-07-14T12:23:47.375Z"
   },
   {
    "duration": 6,
    "start_time": "2022-07-14T12:24:14.239Z"
   },
   {
    "duration": 5,
    "start_time": "2022-07-14T12:24:26.352Z"
   },
   {
    "duration": 5,
    "start_time": "2022-07-14T12:24:40.843Z"
   },
   {
    "duration": 11,
    "start_time": "2022-07-14T12:24:58.530Z"
   },
   {
    "duration": 13,
    "start_time": "2022-07-14T12:25:24.774Z"
   },
   {
    "duration": 19,
    "start_time": "2022-07-14T12:25:37.351Z"
   },
   {
    "duration": 10,
    "start_time": "2022-07-14T12:26:01.014Z"
   },
   {
    "duration": 10,
    "start_time": "2022-07-14T12:26:20.475Z"
   },
   {
    "duration": 276,
    "start_time": "2022-07-14T12:26:54.947Z"
   },
   {
    "duration": 272,
    "start_time": "2022-07-14T12:27:02.068Z"
   },
   {
    "duration": 154,
    "start_time": "2022-07-14T12:27:23.669Z"
   },
   {
    "duration": 59,
    "start_time": "2022-07-14T12:27:47.210Z"
   },
   {
    "duration": 336,
    "start_time": "2022-07-14T12:27:54.488Z"
   },
   {
    "duration": 22,
    "start_time": "2022-07-14T12:28:09.486Z"
   },
   {
    "duration": 20,
    "start_time": "2022-07-14T12:28:22.739Z"
   },
   {
    "duration": 299,
    "start_time": "2022-07-14T12:28:28.987Z"
   },
   {
    "duration": 281,
    "start_time": "2022-07-14T12:28:36.976Z"
   },
   {
    "duration": 601,
    "start_time": "2022-07-14T12:29:30.376Z"
   },
   {
    "duration": 29,
    "start_time": "2022-07-14T12:29:34.906Z"
   },
   {
    "duration": 12,
    "start_time": "2022-07-14T12:30:02.880Z"
   },
   {
    "duration": 48,
    "start_time": "2022-07-14T12:30:07.674Z"
   },
   {
    "duration": 14,
    "start_time": "2022-07-14T12:30:14.161Z"
   },
   {
    "duration": 547,
    "start_time": "2022-07-14T12:30:19.774Z"
   },
   {
    "duration": 545,
    "start_time": "2022-07-14T12:31:15.288Z"
   },
   {
    "duration": 459,
    "start_time": "2022-07-14T12:31:24.901Z"
   },
   {
    "duration": 403,
    "start_time": "2022-07-14T12:31:39.404Z"
   },
   {
    "duration": 424,
    "start_time": "2022-07-14T12:31:47.483Z"
   },
   {
    "duration": 13,
    "start_time": "2022-07-14T12:31:56.189Z"
   },
   {
    "duration": 13,
    "start_time": "2022-07-14T12:32:01.638Z"
   },
   {
    "duration": 434,
    "start_time": "2022-07-14T12:32:06.152Z"
   },
   {
    "duration": 11,
    "start_time": "2022-07-14T12:32:27.173Z"
   },
   {
    "duration": 279,
    "start_time": "2022-07-14T12:32:31.464Z"
   },
   {
    "duration": 283,
    "start_time": "2022-07-14T12:32:44.575Z"
   },
   {
    "duration": 212,
    "start_time": "2022-07-14T12:33:13.644Z"
   },
   {
    "duration": 277,
    "start_time": "2022-07-14T12:33:30.566Z"
   },
   {
    "duration": 276,
    "start_time": "2022-07-14T12:34:02.978Z"
   },
   {
    "duration": 240,
    "start_time": "2022-07-14T12:34:09.521Z"
   },
   {
    "duration": 1074,
    "start_time": "2022-07-14T12:34:43.355Z"
   },
   {
    "duration": 10,
    "start_time": "2022-07-14T12:34:57.504Z"
   },
   {
    "duration": 392,
    "start_time": "2022-07-14T12:35:03.090Z"
   },
   {
    "duration": 489,
    "start_time": "2022-07-14T12:35:20.169Z"
   },
   {
    "duration": 428,
    "start_time": "2022-07-14T12:35:32.012Z"
   },
   {
    "duration": 336,
    "start_time": "2022-07-14T12:35:45.902Z"
   },
   {
    "duration": 473,
    "start_time": "2022-07-14T12:35:50.081Z"
   },
   {
    "duration": 18,
    "start_time": "2022-07-14T12:36:33.733Z"
   },
   {
    "duration": 29,
    "start_time": "2022-07-14T12:36:37.228Z"
   },
   {
    "duration": 355,
    "start_time": "2022-07-14T12:36:59.598Z"
   },
   {
    "duration": 52,
    "start_time": "2022-07-14T12:37:20.494Z"
   },
   {
    "duration": 471,
    "start_time": "2022-07-14T12:37:26.370Z"
   },
   {
    "duration": 481,
    "start_time": "2022-07-14T12:37:39.272Z"
   },
   {
    "duration": 201,
    "start_time": "2022-07-14T12:42:03.185Z"
   },
   {
    "duration": 8,
    "start_time": "2022-07-14T12:42:19.309Z"
   },
   {
    "duration": 158,
    "start_time": "2022-07-14T12:42:22.062Z"
   },
   {
    "duration": 7,
    "start_time": "2022-07-14T12:48:24.256Z"
   },
   {
    "duration": 15,
    "start_time": "2022-07-14T12:48:28.209Z"
   },
   {
    "duration": 5,
    "start_time": "2022-07-14T12:48:31.348Z"
   },
   {
    "duration": 8,
    "start_time": "2022-07-14T12:48:36.470Z"
   },
   {
    "duration": 158,
    "start_time": "2022-07-14T12:48:41.782Z"
   },
   {
    "duration": 13,
    "start_time": "2022-07-14T12:50:29.916Z"
   },
   {
    "duration": 80,
    "start_time": "2022-07-14T12:50:50.724Z"
   },
   {
    "duration": 16,
    "start_time": "2022-07-14T12:50:50.806Z"
   },
   {
    "duration": 25,
    "start_time": "2022-07-14T12:50:50.823Z"
   },
   {
    "duration": 16,
    "start_time": "2022-07-14T12:50:50.850Z"
   },
   {
    "duration": 47,
    "start_time": "2022-07-14T12:50:50.868Z"
   },
   {
    "duration": 4,
    "start_time": "2022-07-14T12:50:50.917Z"
   },
   {
    "duration": 13,
    "start_time": "2022-07-14T12:50:50.922Z"
   },
   {
    "duration": 4,
    "start_time": "2022-07-14T12:50:50.937Z"
   },
   {
    "duration": 7,
    "start_time": "2022-07-14T12:50:50.942Z"
   },
   {
    "duration": 10,
    "start_time": "2022-07-14T12:50:50.952Z"
   },
   {
    "duration": 49,
    "start_time": "2022-07-14T12:50:50.964Z"
   },
   {
    "duration": 9,
    "start_time": "2022-07-14T12:50:51.015Z"
   },
   {
    "duration": 4,
    "start_time": "2022-07-14T12:50:51.026Z"
   },
   {
    "duration": 23,
    "start_time": "2022-07-14T12:50:51.032Z"
   },
   {
    "duration": 16,
    "start_time": "2022-07-14T12:50:51.057Z"
   },
   {
    "duration": 35,
    "start_time": "2022-07-14T12:50:51.075Z"
   },
   {
    "duration": 5,
    "start_time": "2022-07-14T12:50:51.112Z"
   },
   {
    "duration": 11,
    "start_time": "2022-07-14T12:50:51.119Z"
   },
   {
    "duration": 6,
    "start_time": "2022-07-14T12:50:51.132Z"
   },
   {
    "duration": 6,
    "start_time": "2022-07-14T12:50:51.139Z"
   },
   {
    "duration": 12,
    "start_time": "2022-07-14T12:50:51.146Z"
   },
   {
    "duration": 8,
    "start_time": "2022-07-14T12:50:51.159Z"
   },
   {
    "duration": 45,
    "start_time": "2022-07-14T12:50:51.169Z"
   },
   {
    "duration": 5,
    "start_time": "2022-07-14T12:50:51.215Z"
   },
   {
    "duration": 11,
    "start_time": "2022-07-14T12:50:51.222Z"
   },
   {
    "duration": 206,
    "start_time": "2022-07-14T12:50:51.234Z"
   },
   {
    "duration": 6,
    "start_time": "2022-07-14T12:50:51.444Z"
   },
   {
    "duration": 14,
    "start_time": "2022-07-14T12:50:51.453Z"
   },
   {
    "duration": 0,
    "start_time": "2022-07-14T12:50:51.469Z"
   },
   {
    "duration": 0,
    "start_time": "2022-07-14T12:50:51.471Z"
   },
   {
    "duration": 0,
    "start_time": "2022-07-14T12:50:51.472Z"
   },
   {
    "duration": 0,
    "start_time": "2022-07-14T12:50:51.473Z"
   },
   {
    "duration": 0,
    "start_time": "2022-07-14T12:50:51.474Z"
   },
   {
    "duration": 0,
    "start_time": "2022-07-14T12:50:51.475Z"
   },
   {
    "duration": 0,
    "start_time": "2022-07-14T12:50:51.477Z"
   },
   {
    "duration": 11,
    "start_time": "2022-07-14T12:52:30.286Z"
   },
   {
    "duration": 794,
    "start_time": "2022-07-14T12:52:34.264Z"
   },
   {
    "duration": 883,
    "start_time": "2022-07-14T12:52:45.216Z"
   },
   {
    "duration": 99,
    "start_time": "2022-07-14T12:52:47.472Z"
   },
   {
    "duration": 15,
    "start_time": "2022-07-14T12:52:47.573Z"
   },
   {
    "duration": 38,
    "start_time": "2022-07-14T12:52:47.590Z"
   },
   {
    "duration": 9,
    "start_time": "2022-07-14T12:52:47.630Z"
   },
   {
    "duration": 35,
    "start_time": "2022-07-14T12:52:47.641Z"
   },
   {
    "duration": 4,
    "start_time": "2022-07-14T12:52:47.677Z"
   },
   {
    "duration": 15,
    "start_time": "2022-07-14T12:52:47.682Z"
   },
   {
    "duration": 23,
    "start_time": "2022-07-14T12:52:47.698Z"
   },
   {
    "duration": 13,
    "start_time": "2022-07-14T12:52:47.722Z"
   },
   {
    "duration": 11,
    "start_time": "2022-07-14T12:52:47.738Z"
   },
   {
    "duration": 38,
    "start_time": "2022-07-14T12:52:47.750Z"
   },
   {
    "duration": 9,
    "start_time": "2022-07-14T12:52:47.790Z"
   },
   {
    "duration": 18,
    "start_time": "2022-07-14T12:52:47.804Z"
   },
   {
    "duration": 27,
    "start_time": "2022-07-14T12:52:47.823Z"
   },
   {
    "duration": 16,
    "start_time": "2022-07-14T12:52:47.851Z"
   },
   {
    "duration": 16,
    "start_time": "2022-07-14T12:52:47.869Z"
   },
   {
    "duration": 8,
    "start_time": "2022-07-14T12:52:47.887Z"
   },
   {
    "duration": 33,
    "start_time": "2022-07-14T12:52:47.896Z"
   },
   {
    "duration": 8,
    "start_time": "2022-07-14T12:52:47.931Z"
   },
   {
    "duration": 4,
    "start_time": "2022-07-14T12:52:47.941Z"
   },
   {
    "duration": 16,
    "start_time": "2022-07-14T12:52:47.947Z"
   },
   {
    "duration": 16,
    "start_time": "2022-07-14T12:52:47.965Z"
   },
   {
    "duration": 15,
    "start_time": "2022-07-14T12:52:47.984Z"
   },
   {
    "duration": 9,
    "start_time": "2022-07-14T12:52:48.000Z"
   },
   {
    "duration": 19,
    "start_time": "2022-07-14T12:52:48.010Z"
   },
   {
    "duration": 193,
    "start_time": "2022-07-14T12:52:48.030Z"
   },
   {
    "duration": 5,
    "start_time": "2022-07-14T12:52:48.225Z"
   },
   {
    "duration": 25,
    "start_time": "2022-07-14T12:52:48.233Z"
   },
   {
    "duration": 8,
    "start_time": "2022-07-14T12:52:48.260Z"
   },
   {
    "duration": 180,
    "start_time": "2022-07-14T12:52:48.270Z"
   },
   {
    "duration": 12,
    "start_time": "2022-07-14T12:52:48.452Z"
   },
   {
    "duration": 0,
    "start_time": "2022-07-14T12:52:48.466Z"
   },
   {
    "duration": 0,
    "start_time": "2022-07-14T12:52:48.467Z"
   },
   {
    "duration": 0,
    "start_time": "2022-07-14T12:52:48.469Z"
   },
   {
    "duration": 0,
    "start_time": "2022-07-14T12:52:48.470Z"
   },
   {
    "duration": 9,
    "start_time": "2022-07-14T12:53:39.328Z"
   },
   {
    "duration": 16,
    "start_time": "2022-07-14T12:53:44.164Z"
   },
   {
    "duration": 9,
    "start_time": "2022-07-14T12:53:45.730Z"
   },
   {
    "duration": 183,
    "start_time": "2022-07-14T12:53:48.898Z"
   },
   {
    "duration": 12,
    "start_time": "2022-07-14T12:53:54.042Z"
   },
   {
    "duration": 13,
    "start_time": "2022-07-14T12:54:11.548Z"
   },
   {
    "duration": 2,
    "start_time": "2022-07-14T12:54:16.632Z"
   },
   {
    "duration": 88,
    "start_time": "2022-07-14T12:54:38.167Z"
   },
   {
    "duration": 16,
    "start_time": "2022-07-14T12:54:38.257Z"
   },
   {
    "duration": 28,
    "start_time": "2022-07-14T12:54:38.274Z"
   },
   {
    "duration": 36,
    "start_time": "2022-07-14T12:54:38.306Z"
   },
   {
    "duration": 46,
    "start_time": "2022-07-14T12:54:38.343Z"
   },
   {
    "duration": 3,
    "start_time": "2022-07-14T12:54:38.391Z"
   },
   {
    "duration": 40,
    "start_time": "2022-07-14T12:54:38.396Z"
   },
   {
    "duration": 11,
    "start_time": "2022-07-14T12:54:38.438Z"
   },
   {
    "duration": 10,
    "start_time": "2022-07-14T12:54:38.451Z"
   },
   {
    "duration": 6,
    "start_time": "2022-07-14T12:54:38.465Z"
   },
   {
    "duration": 43,
    "start_time": "2022-07-14T12:54:38.472Z"
   },
   {
    "duration": 11,
    "start_time": "2022-07-14T12:54:38.517Z"
   },
   {
    "duration": 10,
    "start_time": "2022-07-14T12:54:38.530Z"
   },
   {
    "duration": 20,
    "start_time": "2022-07-14T12:54:38.542Z"
   },
   {
    "duration": 17,
    "start_time": "2022-07-14T12:54:38.564Z"
   },
   {
    "duration": 34,
    "start_time": "2022-07-14T12:54:38.583Z"
   },
   {
    "duration": 5,
    "start_time": "2022-07-14T12:54:38.619Z"
   },
   {
    "duration": 12,
    "start_time": "2022-07-14T12:54:38.625Z"
   },
   {
    "duration": 6,
    "start_time": "2022-07-14T12:54:38.639Z"
   },
   {
    "duration": 5,
    "start_time": "2022-07-14T12:54:38.647Z"
   },
   {
    "duration": 14,
    "start_time": "2022-07-14T12:54:38.654Z"
   },
   {
    "duration": 40,
    "start_time": "2022-07-14T12:54:38.669Z"
   },
   {
    "duration": 16,
    "start_time": "2022-07-14T12:54:38.714Z"
   },
   {
    "duration": 6,
    "start_time": "2022-07-14T12:54:38.732Z"
   },
   {
    "duration": 11,
    "start_time": "2022-07-14T12:54:38.739Z"
   },
   {
    "duration": 207,
    "start_time": "2022-07-14T12:54:38.751Z"
   },
   {
    "duration": 9,
    "start_time": "2022-07-14T12:54:38.961Z"
   },
   {
    "duration": 39,
    "start_time": "2022-07-14T12:54:38.974Z"
   },
   {
    "duration": 13,
    "start_time": "2022-07-14T12:54:39.015Z"
   },
   {
    "duration": 188,
    "start_time": "2022-07-14T12:54:39.029Z"
   },
   {
    "duration": 2,
    "start_time": "2022-07-14T12:54:39.219Z"
   },
   {
    "duration": 23,
    "start_time": "2022-07-14T12:54:39.223Z"
   },
   {
    "duration": 492,
    "start_time": "2022-07-14T12:54:39.248Z"
   },
   {
    "duration": 17,
    "start_time": "2022-07-14T12:54:39.741Z"
   },
   {
    "duration": 2,
    "start_time": "2022-07-14T12:54:39.760Z"
   },
   {
    "duration": 15,
    "start_time": "2022-07-14T12:55:48.203Z"
   },
   {
    "duration": 166,
    "start_time": "2022-07-14T12:56:07.018Z"
   },
   {
    "duration": 16,
    "start_time": "2022-07-14T12:57:23.717Z"
   },
   {
    "duration": 11,
    "start_time": "2022-07-14T12:57:49.042Z"
   },
   {
    "duration": 644,
    "start_time": "2022-07-14T12:58:06.017Z"
   },
   {
    "duration": 19,
    "start_time": "2022-07-14T12:58:26.552Z"
   },
   {
    "duration": 205,
    "start_time": "2022-07-14T12:58:32.659Z"
   },
   {
    "duration": 11,
    "start_time": "2022-07-14T13:10:19.976Z"
   },
   {
    "duration": 31,
    "start_time": "2022-07-14T13:11:39.596Z"
   },
   {
    "duration": 1640,
    "start_time": "2022-07-14T13:11:56.174Z"
   },
   {
    "duration": 7,
    "start_time": "2022-07-14T13:12:06.693Z"
   },
   {
    "duration": 10,
    "start_time": "2022-07-14T13:12:16.444Z"
   },
   {
    "duration": 6,
    "start_time": "2022-07-14T13:12:24.742Z"
   },
   {
    "duration": 12,
    "start_time": "2022-07-14T13:13:12.477Z"
   },
   {
    "duration": 409,
    "start_time": "2022-07-14T13:13:25.476Z"
   },
   {
    "duration": 17,
    "start_time": "2022-07-14T13:16:33.009Z"
   },
   {
    "duration": 122,
    "start_time": "2022-07-14T13:16:37.821Z"
   },
   {
    "duration": 10,
    "start_time": "2022-07-14T13:18:17.794Z"
   },
   {
    "duration": 3,
    "start_time": "2022-07-14T13:18:33.503Z"
   },
   {
    "duration": 11,
    "start_time": "2022-07-14T13:18:39.339Z"
   },
   {
    "duration": 234,
    "start_time": "2022-07-14T13:19:20.312Z"
   },
   {
    "duration": 24,
    "start_time": "2022-07-14T13:19:37.604Z"
   },
   {
    "duration": 20,
    "start_time": "2022-07-14T13:19:48.798Z"
   },
   {
    "duration": 3,
    "start_time": "2022-07-14T13:20:46.955Z"
   },
   {
    "duration": 3,
    "start_time": "2022-07-14T13:21:00.042Z"
   },
   {
    "duration": 10,
    "start_time": "2022-07-14T13:21:06.274Z"
   },
   {
    "duration": 415,
    "start_time": "2022-07-14T13:21:21.071Z"
   },
   {
    "duration": 151,
    "start_time": "2022-07-14T13:21:27.883Z"
   },
   {
    "duration": 18,
    "start_time": "2022-07-14T13:21:47.190Z"
   },
   {
    "duration": 14,
    "start_time": "2022-07-14T13:22:18.481Z"
   },
   {
    "duration": 22,
    "start_time": "2022-07-14T13:22:25.602Z"
   },
   {
    "duration": 12,
    "start_time": "2022-07-14T13:23:58.143Z"
   },
   {
    "duration": 5,
    "start_time": "2022-07-14T13:24:12.837Z"
   },
   {
    "duration": 5,
    "start_time": "2022-07-14T13:24:34.586Z"
   },
   {
    "duration": 1066,
    "start_time": "2022-07-14T13:24:51.318Z"
   },
   {
    "duration": 7,
    "start_time": "2022-07-14T13:25:01.292Z"
   },
   {
    "duration": 12,
    "start_time": "2022-07-14T13:26:24.964Z"
   },
   {
    "duration": 4,
    "start_time": "2022-07-14T13:28:50.006Z"
   },
   {
    "duration": 427,
    "start_time": "2022-07-14T13:29:10.466Z"
   },
   {
    "duration": 440,
    "start_time": "2022-07-14T13:29:19.162Z"
   },
   {
    "duration": 425,
    "start_time": "2022-07-14T13:29:46.205Z"
   },
   {
    "duration": 14,
    "start_time": "2022-07-14T13:31:06.515Z"
   },
   {
    "duration": 15,
    "start_time": "2022-07-14T13:31:13.233Z"
   },
   {
    "duration": 16,
    "start_time": "2022-07-14T13:31:44.859Z"
   },
   {
    "duration": 15,
    "start_time": "2022-07-14T13:32:03.223Z"
   },
   {
    "duration": 16,
    "start_time": "2022-07-14T13:32:07.944Z"
   },
   {
    "duration": 17,
    "start_time": "2022-07-14T13:32:34.388Z"
   },
   {
    "duration": 17,
    "start_time": "2022-07-14T13:35:48.408Z"
   },
   {
    "duration": 505,
    "start_time": "2022-07-14T13:36:20.953Z"
   },
   {
    "duration": 19,
    "start_time": "2022-07-14T13:48:22.821Z"
   },
   {
    "duration": 255,
    "start_time": "2022-07-14T13:48:38.333Z"
   },
   {
    "duration": 7,
    "start_time": "2022-07-14T13:49:17.474Z"
   },
   {
    "duration": 6,
    "start_time": "2022-07-14T13:49:28.262Z"
   },
   {
    "duration": 5,
    "start_time": "2022-07-14T13:49:46.636Z"
   },
   {
    "duration": 196,
    "start_time": "2022-07-14T13:49:53.537Z"
   },
   {
    "duration": 391,
    "start_time": "2022-07-14T13:50:28.291Z"
   },
   {
    "duration": 256,
    "start_time": "2022-07-14T13:51:13.491Z"
   },
   {
    "duration": 361,
    "start_time": "2022-07-14T13:53:34.563Z"
   },
   {
    "duration": 178,
    "start_time": "2022-07-14T13:56:54.048Z"
   },
   {
    "duration": 312,
    "start_time": "2022-07-14T14:08:57.133Z"
   },
   {
    "duration": 175,
    "start_time": "2022-07-14T14:09:09.316Z"
   },
   {
    "duration": 194,
    "start_time": "2022-07-14T14:11:06.826Z"
   },
   {
    "duration": 169,
    "start_time": "2022-07-14T14:11:38.018Z"
   },
   {
    "duration": 187,
    "start_time": "2022-07-14T14:19:38.037Z"
   },
   {
    "duration": 1755,
    "start_time": "2022-07-15T14:30:18.760Z"
   },
   {
    "duration": 21,
    "start_time": "2022-07-15T14:30:20.517Z"
   },
   {
    "duration": 16,
    "start_time": "2022-07-15T14:30:20.539Z"
   },
   {
    "duration": 10,
    "start_time": "2022-07-15T14:30:20.557Z"
   },
   {
    "duration": 42,
    "start_time": "2022-07-15T14:30:20.571Z"
   },
   {
    "duration": 4,
    "start_time": "2022-07-15T14:30:20.616Z"
   },
   {
    "duration": 31,
    "start_time": "2022-07-15T14:30:20.622Z"
   },
   {
    "duration": 6,
    "start_time": "2022-07-15T14:30:20.655Z"
   },
   {
    "duration": 19,
    "start_time": "2022-07-15T14:30:20.663Z"
   },
   {
    "duration": 7,
    "start_time": "2022-07-15T14:30:20.684Z"
   },
   {
    "duration": 53,
    "start_time": "2022-07-15T14:30:20.693Z"
   },
   {
    "duration": 11,
    "start_time": "2022-07-15T14:30:20.748Z"
   },
   {
    "duration": 7,
    "start_time": "2022-07-15T14:30:20.761Z"
   },
   {
    "duration": 21,
    "start_time": "2022-07-15T14:30:20.771Z"
   },
   {
    "duration": 16,
    "start_time": "2022-07-15T14:30:20.794Z"
   },
   {
    "duration": 35,
    "start_time": "2022-07-15T14:30:20.812Z"
   },
   {
    "duration": 4,
    "start_time": "2022-07-15T14:30:20.850Z"
   },
   {
    "duration": 12,
    "start_time": "2022-07-15T14:30:20.856Z"
   },
   {
    "duration": 14,
    "start_time": "2022-07-15T14:30:20.870Z"
   },
   {
    "duration": 5,
    "start_time": "2022-07-15T14:30:20.887Z"
   },
   {
    "duration": 21,
    "start_time": "2022-07-15T14:30:20.893Z"
   },
   {
    "duration": 14,
    "start_time": "2022-07-15T14:30:20.916Z"
   },
   {
    "duration": 28,
    "start_time": "2022-07-15T14:30:20.932Z"
   },
   {
    "duration": 5,
    "start_time": "2022-07-15T14:30:20.962Z"
   },
   {
    "duration": 11,
    "start_time": "2022-07-15T14:30:20.969Z"
   },
   {
    "duration": 226,
    "start_time": "2022-07-15T14:30:20.981Z"
   },
   {
    "duration": 5,
    "start_time": "2022-07-15T14:30:21.209Z"
   },
   {
    "duration": 35,
    "start_time": "2022-07-15T14:30:21.215Z"
   },
   {
    "duration": 9,
    "start_time": "2022-07-15T14:30:21.252Z"
   },
   {
    "duration": 13,
    "start_time": "2022-07-15T14:30:21.263Z"
   },
   {
    "duration": 195,
    "start_time": "2022-07-15T14:30:21.278Z"
   },
   {
    "duration": 948,
    "start_time": "2022-07-15T14:30:21.475Z"
   },
   {
    "duration": 517,
    "start_time": "2022-07-15T14:30:22.425Z"
   },
   {
    "duration": 17,
    "start_time": "2022-07-15T14:30:22.945Z"
   },
   {
    "duration": 8,
    "start_time": "2022-07-15T14:30:22.964Z"
   },
   {
    "duration": 196,
    "start_time": "2022-07-15T14:30:22.974Z"
   },
   {
    "duration": 19,
    "start_time": "2022-07-15T14:30:23.172Z"
   },
   {
    "duration": 5,
    "start_time": "2022-07-15T14:30:23.194Z"
   },
   {
    "duration": 23,
    "start_time": "2022-07-15T14:30:23.201Z"
   },
   {
    "duration": 24,
    "start_time": "2022-07-15T14:30:23.226Z"
   },
   {
    "duration": 465,
    "start_time": "2022-07-15T14:30:23.255Z"
   },
   {
    "duration": 498,
    "start_time": "2022-07-15T14:30:23.722Z"
   },
   {
    "duration": 506,
    "start_time": "2022-07-15T14:30:24.222Z"
   },
   {
    "duration": 544,
    "start_time": "2022-07-15T14:30:24.730Z"
   },
   {
    "duration": 3,
    "start_time": "2022-07-15T14:30:25.277Z"
   },
   {
    "duration": 5,
    "start_time": "2022-07-15T14:46:00.064Z"
   },
   {
    "duration": 5,
    "start_time": "2022-07-15T14:46:09.180Z"
   },
   {
    "duration": 125,
    "start_time": "2022-07-15T14:55:06.762Z"
   },
   {
    "duration": 4,
    "start_time": "2022-07-15T14:55:31.397Z"
   },
   {
    "duration": 5,
    "start_time": "2022-07-15T14:55:46.028Z"
   },
   {
    "duration": 5,
    "start_time": "2022-07-15T14:55:48.265Z"
   },
   {
    "duration": 11,
    "start_time": "2022-07-15T14:57:54.749Z"
   },
   {
    "duration": 12,
    "start_time": "2022-07-15T14:58:19.951Z"
   },
   {
    "duration": 36,
    "start_time": "2022-07-15T16:03:45.731Z"
   },
   {
    "duration": 38,
    "start_time": "2022-07-15T16:04:02.529Z"
   },
   {
    "duration": 14,
    "start_time": "2022-07-15T18:44:26.934Z"
   },
   {
    "duration": 176,
    "start_time": "2022-07-15T18:44:33.132Z"
   },
   {
    "duration": 17,
    "start_time": "2022-07-15T18:44:33.311Z"
   },
   {
    "duration": 28,
    "start_time": "2022-07-15T18:44:33.330Z"
   },
   {
    "duration": 10,
    "start_time": "2022-07-15T18:44:33.361Z"
   },
   {
    "duration": 38,
    "start_time": "2022-07-15T18:44:33.372Z"
   },
   {
    "duration": 3,
    "start_time": "2022-07-15T18:44:33.412Z"
   },
   {
    "duration": 31,
    "start_time": "2022-07-15T18:44:33.417Z"
   },
   {
    "duration": 6,
    "start_time": "2022-07-15T18:44:33.450Z"
   },
   {
    "duration": 8,
    "start_time": "2022-07-15T18:44:33.458Z"
   },
   {
    "duration": 6,
    "start_time": "2022-07-15T18:44:33.469Z"
   },
   {
    "duration": 39,
    "start_time": "2022-07-15T18:44:33.476Z"
   },
   {
    "duration": 40,
    "start_time": "2022-07-15T18:44:33.516Z"
   },
   {
    "duration": 6,
    "start_time": "2022-07-15T18:44:33.558Z"
   },
   {
    "duration": 20,
    "start_time": "2022-07-15T18:44:33.566Z"
   },
   {
    "duration": 19,
    "start_time": "2022-07-15T18:44:33.588Z"
   },
   {
    "duration": 44,
    "start_time": "2022-07-15T18:44:33.608Z"
   },
   {
    "duration": 5,
    "start_time": "2022-07-15T18:44:33.654Z"
   },
   {
    "duration": 13,
    "start_time": "2022-07-15T18:44:33.660Z"
   },
   {
    "duration": 9,
    "start_time": "2022-07-15T18:44:33.675Z"
   },
   {
    "duration": 5,
    "start_time": "2022-07-15T18:44:33.687Z"
   },
   {
    "duration": 17,
    "start_time": "2022-07-15T18:44:33.694Z"
   },
   {
    "duration": 40,
    "start_time": "2022-07-15T18:44:33.713Z"
   },
   {
    "duration": 23,
    "start_time": "2022-07-15T18:44:33.755Z"
   },
   {
    "duration": 4,
    "start_time": "2022-07-15T18:44:33.779Z"
   },
   {
    "duration": 8,
    "start_time": "2022-07-15T18:44:33.784Z"
   },
   {
    "duration": 15,
    "start_time": "2022-07-15T18:44:33.794Z"
   },
   {
    "duration": 226,
    "start_time": "2022-07-15T18:44:33.811Z"
   },
   {
    "duration": 5,
    "start_time": "2022-07-15T18:44:34.045Z"
   },
   {
    "duration": 17,
    "start_time": "2022-07-15T18:44:34.052Z"
   },
   {
    "duration": 9,
    "start_time": "2022-07-15T18:44:34.071Z"
   },
   {
    "duration": 11,
    "start_time": "2022-07-15T18:44:34.082Z"
   },
   {
    "duration": 199,
    "start_time": "2022-07-15T18:44:34.095Z"
   },
   {
    "duration": 21,
    "start_time": "2022-07-15T18:44:34.295Z"
   },
   {
    "duration": 462,
    "start_time": "2022-07-15T18:44:34.318Z"
   },
   {
    "duration": 17,
    "start_time": "2022-07-15T18:44:34.782Z"
   },
   {
    "duration": 14,
    "start_time": "2022-07-15T18:44:34.800Z"
   },
   {
    "duration": 184,
    "start_time": "2022-07-15T18:44:34.816Z"
   },
   {
    "duration": 20,
    "start_time": "2022-07-15T18:44:35.002Z"
   },
   {
    "duration": 5,
    "start_time": "2022-07-15T18:44:35.024Z"
   },
   {
    "duration": 39,
    "start_time": "2022-07-15T18:44:35.030Z"
   },
   {
    "duration": 18,
    "start_time": "2022-07-15T18:44:35.071Z"
   },
   {
    "duration": 443,
    "start_time": "2022-07-15T18:44:35.092Z"
   },
   {
    "duration": 469,
    "start_time": "2022-07-15T18:44:35.538Z"
   },
   {
    "duration": 466,
    "start_time": "2022-07-15T18:44:36.009Z"
   },
   {
    "duration": 553,
    "start_time": "2022-07-15T18:44:36.477Z"
   },
   {
    "duration": 2,
    "start_time": "2022-07-15T18:44:37.032Z"
   },
   {
    "duration": 5,
    "start_time": "2022-07-15T18:50:28.304Z"
   },
   {
    "duration": 3,
    "start_time": "2022-07-15T18:55:49.754Z"
   },
   {
    "duration": 5,
    "start_time": "2022-07-15T18:55:51.721Z"
   },
   {
    "duration": 4,
    "start_time": "2022-07-15T18:56:13.503Z"
   },
   {
    "duration": 4,
    "start_time": "2022-07-15T18:56:15.201Z"
   },
   {
    "duration": 3,
    "start_time": "2022-07-15T21:14:34.728Z"
   },
   {
    "duration": 198,
    "start_time": "2022-07-15T21:14:46.229Z"
   },
   {
    "duration": 10,
    "start_time": "2022-07-15T21:15:24.055Z"
   },
   {
    "duration": 196,
    "start_time": "2022-07-15T21:17:03.139Z"
   },
   {
    "duration": 76,
    "start_time": "2022-07-15T21:22:06.988Z"
   },
   {
    "duration": 15,
    "start_time": "2022-07-15T21:22:07.067Z"
   },
   {
    "duration": 19,
    "start_time": "2022-07-15T21:22:07.084Z"
   },
   {
    "duration": 11,
    "start_time": "2022-07-15T21:22:07.105Z"
   },
   {
    "duration": 35,
    "start_time": "2022-07-15T21:22:07.146Z"
   },
   {
    "duration": 3,
    "start_time": "2022-07-15T21:22:07.183Z"
   },
   {
    "duration": 11,
    "start_time": "2022-07-15T21:22:07.188Z"
   },
   {
    "duration": 6,
    "start_time": "2022-07-15T21:22:07.200Z"
   },
   {
    "duration": 8,
    "start_time": "2022-07-15T21:22:07.207Z"
   },
   {
    "duration": 30,
    "start_time": "2022-07-15T21:22:07.217Z"
   },
   {
    "duration": 56,
    "start_time": "2022-07-15T21:22:07.248Z"
   },
   {
    "duration": 11,
    "start_time": "2022-07-15T21:22:07.305Z"
   },
   {
    "duration": 5,
    "start_time": "2022-07-15T21:22:07.318Z"
   },
   {
    "duration": 20,
    "start_time": "2022-07-15T21:22:07.324Z"
   },
   {
    "duration": 17,
    "start_time": "2022-07-15T21:22:07.346Z"
   },
   {
    "duration": 13,
    "start_time": "2022-07-15T21:22:07.365Z"
   },
   {
    "duration": 13,
    "start_time": "2022-07-15T21:22:07.379Z"
   },
   {
    "duration": 14,
    "start_time": "2022-07-15T21:22:07.394Z"
   },
   {
    "duration": 13,
    "start_time": "2022-07-15T21:22:07.410Z"
   },
   {
    "duration": 21,
    "start_time": "2022-07-15T21:22:07.424Z"
   },
   {
    "duration": 20,
    "start_time": "2022-07-15T21:22:07.447Z"
   },
   {
    "duration": 19,
    "start_time": "2022-07-15T21:22:07.469Z"
   },
   {
    "duration": 20,
    "start_time": "2022-07-15T21:22:07.490Z"
   },
   {
    "duration": 4,
    "start_time": "2022-07-15T21:22:07.512Z"
   },
   {
    "duration": 8,
    "start_time": "2022-07-15T21:22:07.517Z"
   },
   {
    "duration": 203,
    "start_time": "2022-07-15T21:22:07.527Z"
   },
   {
    "duration": 15,
    "start_time": "2022-07-15T21:22:07.732Z"
   },
   {
    "duration": 5,
    "start_time": "2022-07-15T21:22:07.752Z"
   },
   {
    "duration": 16,
    "start_time": "2022-07-15T21:22:07.759Z"
   },
   {
    "duration": 8,
    "start_time": "2022-07-15T21:22:07.777Z"
   },
   {
    "duration": 6,
    "start_time": "2022-07-15T21:22:07.787Z"
   },
   {
    "duration": 210,
    "start_time": "2022-07-15T21:22:07.795Z"
   },
   {
    "duration": 19,
    "start_time": "2022-07-15T21:22:08.007Z"
   },
   {
    "duration": 563,
    "start_time": "2022-07-15T21:22:08.028Z"
   },
   {
    "duration": 17,
    "start_time": "2022-07-15T21:22:08.593Z"
   },
   {
    "duration": 10,
    "start_time": "2022-07-15T21:22:08.612Z"
   },
   {
    "duration": 197,
    "start_time": "2022-07-15T21:22:08.624Z"
   },
   {
    "duration": 24,
    "start_time": "2022-07-15T21:22:08.823Z"
   },
   {
    "duration": 6,
    "start_time": "2022-07-15T21:22:08.849Z"
   },
   {
    "duration": 36,
    "start_time": "2022-07-15T21:22:08.857Z"
   },
   {
    "duration": 14,
    "start_time": "2022-07-15T21:22:08.895Z"
   },
   {
    "duration": 474,
    "start_time": "2022-07-15T21:22:08.912Z"
   },
   {
    "duration": 471,
    "start_time": "2022-07-15T21:22:09.388Z"
   },
   {
    "duration": 425,
    "start_time": "2022-07-15T21:22:09.860Z"
   },
   {
    "duration": 434,
    "start_time": "2022-07-15T21:22:10.287Z"
   },
   {
    "duration": 3,
    "start_time": "2022-07-15T21:22:10.722Z"
   },
   {
    "duration": 5,
    "start_time": "2022-07-15T21:24:19.909Z"
   },
   {
    "duration": 312,
    "start_time": "2022-07-15T21:24:22.911Z"
   },
   {
    "duration": 4,
    "start_time": "2022-07-15T21:24:50.648Z"
   },
   {
    "duration": 5,
    "start_time": "2022-07-15T21:24:53.376Z"
   },
   {
    "duration": 199,
    "start_time": "2022-07-15T21:24:55.450Z"
   },
   {
    "duration": 20,
    "start_time": "2022-07-15T21:32:44.990Z"
   },
   {
    "duration": 19,
    "start_time": "2022-07-15T21:33:11.983Z"
   },
   {
    "duration": 6,
    "start_time": "2022-07-15T21:34:55.409Z"
   },
   {
    "duration": 5,
    "start_time": "2022-07-15T21:35:12.689Z"
   },
   {
    "duration": 9,
    "start_time": "2022-07-15T21:37:05.023Z"
   },
   {
    "duration": 4,
    "start_time": "2022-07-15T21:37:10.678Z"
   },
   {
    "duration": 13,
    "start_time": "2022-07-15T21:37:13.201Z"
   },
   {
    "duration": 169,
    "start_time": "2022-07-15T21:37:50.596Z"
   },
   {
    "duration": 8,
    "start_time": "2022-07-15T21:38:09.212Z"
   },
   {
    "duration": 17,
    "start_time": "2022-07-15T21:38:43.875Z"
   },
   {
    "duration": 13,
    "start_time": "2022-07-15T21:39:01.726Z"
   },
   {
    "duration": 6,
    "start_time": "2022-07-15T21:39:08.873Z"
   },
   {
    "duration": 5,
    "start_time": "2022-07-15T21:39:22.936Z"
   },
   {
    "duration": 9,
    "start_time": "2022-07-15T21:40:40.715Z"
   },
   {
    "duration": 9,
    "start_time": "2022-07-15T21:41:33.139Z"
   },
   {
    "duration": 15,
    "start_time": "2022-07-15T21:41:44.220Z"
   },
   {
    "duration": 9,
    "start_time": "2022-07-15T21:41:47.111Z"
   },
   {
    "duration": 8,
    "start_time": "2022-07-15T21:42:08.441Z"
   },
   {
    "duration": 9,
    "start_time": "2022-07-15T21:42:36.739Z"
   },
   {
    "duration": 14,
    "start_time": "2022-07-15T21:43:22.104Z"
   },
   {
    "duration": 15,
    "start_time": "2022-07-15T21:43:24.185Z"
   },
   {
    "duration": 200,
    "start_time": "2022-07-15T21:43:32.848Z"
   },
   {
    "duration": 114,
    "start_time": "2022-07-15T21:47:18.818Z"
   },
   {
    "duration": 30,
    "start_time": "2022-07-15T21:47:18.934Z"
   },
   {
    "duration": 28,
    "start_time": "2022-07-15T21:47:18.966Z"
   },
   {
    "duration": 15,
    "start_time": "2022-07-15T21:47:18.997Z"
   },
   {
    "duration": 61,
    "start_time": "2022-07-15T21:47:19.015Z"
   },
   {
    "duration": 5,
    "start_time": "2022-07-15T21:47:19.079Z"
   },
   {
    "duration": 22,
    "start_time": "2022-07-15T21:47:19.086Z"
   },
   {
    "duration": 6,
    "start_time": "2022-07-15T21:47:19.110Z"
   },
   {
    "duration": 31,
    "start_time": "2022-07-15T21:47:19.118Z"
   },
   {
    "duration": 7,
    "start_time": "2022-07-15T21:47:19.152Z"
   },
   {
    "duration": 202,
    "start_time": "2022-07-15T21:47:19.161Z"
   },
   {
    "duration": 10,
    "start_time": "2022-07-15T21:47:19.365Z"
   },
   {
    "duration": 5,
    "start_time": "2022-07-15T21:47:19.376Z"
   },
   {
    "duration": 21,
    "start_time": "2022-07-15T21:47:19.382Z"
   },
   {
    "duration": 18,
    "start_time": "2022-07-15T21:47:19.404Z"
   },
   {
    "duration": 32,
    "start_time": "2022-07-15T21:47:19.424Z"
   },
   {
    "duration": 4,
    "start_time": "2022-07-15T21:47:19.458Z"
   },
   {
    "duration": 13,
    "start_time": "2022-07-15T21:47:19.464Z"
   },
   {
    "duration": 8,
    "start_time": "2022-07-15T21:47:19.479Z"
   },
   {
    "duration": 4,
    "start_time": "2022-07-15T21:47:19.488Z"
   },
   {
    "duration": 14,
    "start_time": "2022-07-15T21:47:19.494Z"
   },
   {
    "duration": 43,
    "start_time": "2022-07-15T21:47:19.509Z"
   },
   {
    "duration": 17,
    "start_time": "2022-07-15T21:47:19.554Z"
   },
   {
    "duration": 4,
    "start_time": "2022-07-15T21:47:19.572Z"
   },
   {
    "duration": 8,
    "start_time": "2022-07-15T21:47:19.577Z"
   },
   {
    "duration": 209,
    "start_time": "2022-07-15T21:47:19.587Z"
   },
   {
    "duration": 10,
    "start_time": "2022-07-15T21:47:19.799Z"
   },
   {
    "duration": 35,
    "start_time": "2022-07-15T21:47:19.812Z"
   },
   {
    "duration": 8,
    "start_time": "2022-07-15T21:47:19.849Z"
   },
   {
    "duration": 8,
    "start_time": "2022-07-15T21:47:19.859Z"
   },
   {
    "duration": 12,
    "start_time": "2022-07-15T21:47:19.868Z"
   },
   {
    "duration": 224,
    "start_time": "2022-07-15T21:47:19.881Z"
   },
   {
    "duration": 18,
    "start_time": "2022-07-15T21:47:20.107Z"
   },
   {
    "duration": 20,
    "start_time": "2022-07-15T21:47:20.127Z"
   },
   {
    "duration": 184,
    "start_time": "2022-07-15T21:47:20.149Z"
   },
   {
    "duration": 23,
    "start_time": "2022-07-15T21:47:20.335Z"
   },
   {
    "duration": 5,
    "start_time": "2022-07-15T21:47:20.360Z"
   },
   {
    "duration": 21,
    "start_time": "2022-07-15T21:47:20.366Z"
   },
   {
    "duration": 7,
    "start_time": "2022-07-15T21:47:20.389Z"
   },
   {
    "duration": 400,
    "start_time": "2022-07-15T21:47:20.397Z"
   },
   {
    "duration": 438,
    "start_time": "2022-07-15T21:47:20.799Z"
   },
   {
    "duration": 462,
    "start_time": "2022-07-15T21:47:21.239Z"
   },
   {
    "duration": 460,
    "start_time": "2022-07-15T21:47:21.703Z"
   },
   {
    "duration": 3,
    "start_time": "2022-07-15T21:47:22.165Z"
   },
   {
    "duration": 10,
    "start_time": "2022-07-15T21:48:22.375Z"
   },
   {
    "duration": 5,
    "start_time": "2022-07-15T21:49:03.943Z"
   },
   {
    "duration": 47,
    "start_time": "2022-07-15T21:49:26.208Z"
   },
   {
    "duration": 10,
    "start_time": "2022-07-15T21:49:30.981Z"
   },
   {
    "duration": 15,
    "start_time": "2022-07-15T21:50:26.768Z"
   },
   {
    "duration": 72,
    "start_time": "2022-07-15T21:59:41.666Z"
   },
   {
    "duration": 18,
    "start_time": "2022-07-15T22:05:13.777Z"
   },
   {
    "duration": 11,
    "start_time": "2022-07-15T22:06:58.788Z"
   },
   {
    "duration": 10,
    "start_time": "2022-07-15T22:07:25.961Z"
   },
   {
    "duration": 184,
    "start_time": "2022-07-15T22:07:28.040Z"
   },
   {
    "duration": 11,
    "start_time": "2022-07-15T22:08:01.680Z"
   },
   {
    "duration": 13,
    "start_time": "2022-07-15T22:08:25.372Z"
   },
   {
    "duration": 191,
    "start_time": "2022-07-15T22:08:32.079Z"
   },
   {
    "duration": 17,
    "start_time": "2022-07-15T22:10:13.773Z"
   },
   {
    "duration": 57,
    "start_time": "2022-07-15T22:12:11.607Z"
   },
   {
    "duration": 18,
    "start_time": "2022-07-15T22:16:05.269Z"
   },
   {
    "duration": 10,
    "start_time": "2022-07-15T22:17:37.372Z"
   },
   {
    "duration": 10,
    "start_time": "2022-07-15T22:17:53.377Z"
   },
   {
    "duration": 775,
    "start_time": "2022-07-15T22:18:32.852Z"
   },
   {
    "duration": 17,
    "start_time": "2022-07-15T22:20:16.680Z"
   },
   {
    "duration": 20,
    "start_time": "2022-07-15T22:21:05.088Z"
   },
   {
    "duration": 65,
    "start_time": "2022-07-15T22:23:11.893Z"
   },
   {
    "duration": 331,
    "start_time": "2022-07-15T22:23:15.984Z"
   },
   {
    "duration": 802,
    "start_time": "2022-07-15T22:23:33.297Z"
   },
   {
    "duration": 206,
    "start_time": "2022-07-15T22:25:34.321Z"
   },
   {
    "duration": 157,
    "start_time": "2022-07-15T22:25:45.234Z"
   },
   {
    "duration": 217,
    "start_time": "2022-07-15T22:26:03.811Z"
   },
   {
    "duration": 166,
    "start_time": "2022-07-15T22:26:14.938Z"
   },
   {
    "duration": 167,
    "start_time": "2022-07-15T22:26:22.870Z"
   },
   {
    "duration": 158,
    "start_time": "2022-07-15T22:26:28.380Z"
   },
   {
    "duration": 186,
    "start_time": "2022-07-15T22:26:39.592Z"
   },
   {
    "duration": 172,
    "start_time": "2022-07-15T22:27:26.177Z"
   },
   {
    "duration": 157,
    "start_time": "2022-07-15T22:27:47.137Z"
   },
   {
    "duration": 799,
    "start_time": "2022-07-15T22:28:18.661Z"
   },
   {
    "duration": 786,
    "start_time": "2022-07-15T22:30:55.064Z"
   },
   {
    "duration": 999,
    "start_time": "2022-07-15T22:31:00.929Z"
   },
   {
    "duration": 764,
    "start_time": "2022-07-15T22:31:07.673Z"
   },
   {
    "duration": 811,
    "start_time": "2022-07-15T22:31:14.126Z"
   },
   {
    "duration": 152,
    "start_time": "2022-07-15T22:32:00.884Z"
   },
   {
    "duration": 165,
    "start_time": "2022-07-15T22:36:43.082Z"
   },
   {
    "duration": 165,
    "start_time": "2022-07-15T22:36:49.495Z"
   },
   {
    "duration": 165,
    "start_time": "2022-07-15T22:36:58.280Z"
   },
   {
    "duration": 815,
    "start_time": "2022-07-15T22:37:29.973Z"
   },
   {
    "duration": 805,
    "start_time": "2022-07-15T22:37:52.099Z"
   },
   {
    "duration": 9,
    "start_time": "2022-07-15T22:38:04.230Z"
   },
   {
    "duration": 4,
    "start_time": "2022-07-15T22:38:33.119Z"
   },
   {
    "duration": 15,
    "start_time": "2022-07-15T22:38:51.668Z"
   },
   {
    "duration": 1064,
    "start_time": "2022-07-15T22:39:00.240Z"
   },
   {
    "duration": 12,
    "start_time": "2022-07-15T22:39:07.126Z"
   },
   {
    "duration": 767,
    "start_time": "2022-07-15T22:39:09.750Z"
   },
   {
    "duration": 772,
    "start_time": "2022-07-15T22:39:16.851Z"
   },
   {
    "duration": 781,
    "start_time": "2022-07-15T22:39:27.037Z"
   },
   {
    "duration": 773,
    "start_time": "2022-07-15T22:39:35.101Z"
   },
   {
    "duration": 638,
    "start_time": "2022-07-15T22:41:20.773Z"
   },
   {
    "duration": 599,
    "start_time": "2022-07-15T22:41:26.851Z"
   },
   {
    "duration": 924,
    "start_time": "2022-07-15T22:41:34.472Z"
   },
   {
    "duration": 783,
    "start_time": "2022-07-15T22:41:45.189Z"
   },
   {
    "duration": 178,
    "start_time": "2022-07-15T22:41:53.385Z"
   },
   {
    "duration": 818,
    "start_time": "2022-07-15T22:42:08.387Z"
   },
   {
    "duration": 805,
    "start_time": "2022-07-15T22:42:59.873Z"
   },
   {
    "duration": 769,
    "start_time": "2022-07-15T22:43:07.752Z"
   },
   {
    "duration": 766,
    "start_time": "2022-07-15T22:43:15.214Z"
   },
   {
    "duration": 807,
    "start_time": "2022-07-15T22:43:23.370Z"
   },
   {
    "duration": 772,
    "start_time": "2022-07-15T22:43:32.512Z"
   },
   {
    "duration": 1173,
    "start_time": "2022-07-15T22:43:38.827Z"
   },
   {
    "duration": 791,
    "start_time": "2022-07-15T22:45:33.107Z"
   },
   {
    "duration": 825,
    "start_time": "2022-07-15T22:46:00.868Z"
   },
   {
    "duration": 330,
    "start_time": "2022-07-15T22:48:28.800Z"
   },
   {
    "duration": 311,
    "start_time": "2022-07-15T22:48:38.766Z"
   },
   {
    "duration": 271,
    "start_time": "2022-07-15T22:48:52.775Z"
   },
   {
    "duration": 785,
    "start_time": "2022-07-15T22:49:05.318Z"
   },
   {
    "duration": 3,
    "start_time": "2022-07-15T22:50:56.787Z"
   },
   {
    "duration": 889,
    "start_time": "2022-07-15T22:51:22.267Z"
   },
   {
    "duration": 19,
    "start_time": "2022-07-15T22:52:01.506Z"
   },
   {
    "duration": 967,
    "start_time": "2022-07-15T22:52:08.478Z"
   },
   {
    "duration": 954,
    "start_time": "2022-07-15T22:53:38.282Z"
   },
   {
    "duration": 1325,
    "start_time": "2022-07-15T22:53:45.635Z"
   },
   {
    "duration": 944,
    "start_time": "2022-07-15T22:53:56.280Z"
   },
   {
    "duration": 989,
    "start_time": "2022-07-15T22:54:02.938Z"
   },
   {
    "duration": 1021,
    "start_time": "2022-07-15T22:55:58.652Z"
   },
   {
    "duration": 20,
    "start_time": "2022-07-15T22:59:41.382Z"
   },
   {
    "duration": 11,
    "start_time": "2022-07-15T22:59:43.408Z"
   },
   {
    "duration": 271,
    "start_time": "2022-07-15T22:59:48.955Z"
   },
   {
    "duration": 178,
    "start_time": "2022-07-15T23:01:23.503Z"
   },
   {
    "duration": 14,
    "start_time": "2022-07-15T23:02:10.648Z"
   },
   {
    "duration": 5,
    "start_time": "2022-07-16T06:52:23.996Z"
   },
   {
    "duration": 115,
    "start_time": "2022-07-16T08:32:50.933Z"
   },
   {
    "duration": 708,
    "start_time": "2022-07-16T08:35:04.355Z"
   },
   {
    "duration": 37,
    "start_time": "2022-07-16T08:36:44.906Z"
   },
   {
    "duration": 1091,
    "start_time": "2022-07-16T08:37:01.574Z"
   },
   {
    "duration": 24,
    "start_time": "2022-07-16T08:37:02.668Z"
   },
   {
    "duration": 22,
    "start_time": "2022-07-16T08:37:02.694Z"
   },
   {
    "duration": 12,
    "start_time": "2022-07-16T08:37:02.719Z"
   },
   {
    "duration": 51,
    "start_time": "2022-07-16T08:37:02.732Z"
   },
   {
    "duration": 5,
    "start_time": "2022-07-16T08:37:02.785Z"
   },
   {
    "duration": 14,
    "start_time": "2022-07-16T08:37:02.792Z"
   },
   {
    "duration": 6,
    "start_time": "2022-07-16T08:37:02.809Z"
   },
   {
    "duration": 35,
    "start_time": "2022-07-16T08:37:02.817Z"
   },
   {
    "duration": 6,
    "start_time": "2022-07-16T08:37:02.855Z"
   },
   {
    "duration": 37,
    "start_time": "2022-07-16T08:37:02.863Z"
   },
   {
    "duration": 11,
    "start_time": "2022-07-16T08:37:02.902Z"
   },
   {
    "duration": 31,
    "start_time": "2022-07-16T08:37:02.915Z"
   },
   {
    "duration": 20,
    "start_time": "2022-07-16T08:37:02.948Z"
   },
   {
    "duration": 19,
    "start_time": "2022-07-16T08:37:02.970Z"
   },
   {
    "duration": 13,
    "start_time": "2022-07-16T08:37:02.991Z"
   },
   {
    "duration": 6,
    "start_time": "2022-07-16T08:37:03.006Z"
   },
   {
    "duration": 43,
    "start_time": "2022-07-16T08:37:03.014Z"
   },
   {
    "duration": 16,
    "start_time": "2022-07-16T08:37:03.059Z"
   },
   {
    "duration": 16,
    "start_time": "2022-07-16T08:37:03.078Z"
   },
   {
    "duration": 22,
    "start_time": "2022-07-16T08:37:03.096Z"
   },
   {
    "duration": 15,
    "start_time": "2022-07-16T08:37:03.120Z"
   },
   {
    "duration": 20,
    "start_time": "2022-07-16T08:37:03.137Z"
   },
   {
    "duration": 4,
    "start_time": "2022-07-16T08:37:03.159Z"
   },
   {
    "duration": 18,
    "start_time": "2022-07-16T08:37:03.165Z"
   },
   {
    "duration": 216,
    "start_time": "2022-07-16T08:37:03.185Z"
   },
   {
    "duration": 2,
    "start_time": "2022-07-16T08:37:03.403Z"
   },
   {
    "duration": 9,
    "start_time": "2022-07-16T08:37:03.409Z"
   },
   {
    "duration": 57,
    "start_time": "2022-07-16T08:37:03.420Z"
   },
   {
    "duration": 0,
    "start_time": "2022-07-16T08:37:03.479Z"
   },
   {
    "duration": 0,
    "start_time": "2022-07-16T08:37:03.483Z"
   },
   {
    "duration": 0,
    "start_time": "2022-07-16T08:37:03.487Z"
   },
   {
    "duration": 0,
    "start_time": "2022-07-16T08:37:03.488Z"
   },
   {
    "duration": 0,
    "start_time": "2022-07-16T08:37:03.490Z"
   },
   {
    "duration": 0,
    "start_time": "2022-07-16T08:37:03.492Z"
   },
   {
    "duration": 0,
    "start_time": "2022-07-16T08:37:03.493Z"
   },
   {
    "duration": 0,
    "start_time": "2022-07-16T08:37:03.495Z"
   },
   {
    "duration": 0,
    "start_time": "2022-07-16T08:37:03.496Z"
   },
   {
    "duration": 0,
    "start_time": "2022-07-16T08:37:03.498Z"
   },
   {
    "duration": 0,
    "start_time": "2022-07-16T08:37:03.499Z"
   },
   {
    "duration": 0,
    "start_time": "2022-07-16T08:37:03.502Z"
   },
   {
    "duration": 0,
    "start_time": "2022-07-16T08:37:03.503Z"
   },
   {
    "duration": 0,
    "start_time": "2022-07-16T08:37:03.504Z"
   },
   {
    "duration": 0,
    "start_time": "2022-07-16T08:37:03.505Z"
   },
   {
    "duration": 16,
    "start_time": "2022-07-16T08:37:44.251Z"
   },
   {
    "duration": 12,
    "start_time": "2022-07-16T08:38:02.434Z"
   },
   {
    "duration": 11,
    "start_time": "2022-07-16T08:38:08.708Z"
   },
   {
    "duration": 13,
    "start_time": "2022-07-16T08:38:25.090Z"
   },
   {
    "duration": 9,
    "start_time": "2022-07-16T08:38:38.100Z"
   },
   {
    "duration": 23,
    "start_time": "2022-07-16T08:39:12.522Z"
   },
   {
    "duration": 23,
    "start_time": "2022-07-16T08:39:16.762Z"
   },
   {
    "duration": 9,
    "start_time": "2022-07-16T08:39:19.563Z"
   },
   {
    "duration": 12,
    "start_time": "2022-07-16T08:41:25.516Z"
   },
   {
    "duration": 6,
    "start_time": "2022-07-16T08:41:45.618Z"
   },
   {
    "duration": 6,
    "start_time": "2022-07-16T08:42:05.180Z"
   },
   {
    "duration": 9,
    "start_time": "2022-07-16T08:42:26.683Z"
   },
   {
    "duration": 6,
    "start_time": "2022-07-16T08:42:52.490Z"
   },
   {
    "duration": 6,
    "start_time": "2022-07-16T08:42:59.663Z"
   },
   {
    "duration": 5,
    "start_time": "2022-07-16T08:44:31.468Z"
   },
   {
    "duration": 6,
    "start_time": "2022-07-16T08:44:41.361Z"
   },
   {
    "duration": 7,
    "start_time": "2022-07-16T08:44:54.694Z"
   },
   {
    "duration": 5,
    "start_time": "2022-07-16T08:45:07.727Z"
   },
   {
    "duration": 84,
    "start_time": "2022-07-16T08:47:43.664Z"
   },
   {
    "duration": 16,
    "start_time": "2022-07-16T08:47:43.751Z"
   },
   {
    "duration": 22,
    "start_time": "2022-07-16T08:47:43.769Z"
   },
   {
    "duration": 16,
    "start_time": "2022-07-16T08:47:43.794Z"
   },
   {
    "duration": 78,
    "start_time": "2022-07-16T08:47:43.812Z"
   },
   {
    "duration": 5,
    "start_time": "2022-07-16T08:47:43.892Z"
   },
   {
    "duration": 16,
    "start_time": "2022-07-16T08:47:43.899Z"
   },
   {
    "duration": 12,
    "start_time": "2022-07-16T08:47:43.918Z"
   },
   {
    "duration": 23,
    "start_time": "2022-07-16T08:47:43.934Z"
   },
   {
    "duration": 19,
    "start_time": "2022-07-16T08:47:43.960Z"
   },
   {
    "duration": 49,
    "start_time": "2022-07-16T08:47:43.981Z"
   },
   {
    "duration": 16,
    "start_time": "2022-07-16T08:47:44.032Z"
   },
   {
    "duration": 5,
    "start_time": "2022-07-16T08:47:44.050Z"
   },
   {
    "duration": 32,
    "start_time": "2022-07-16T08:47:44.056Z"
   },
   {
    "duration": 24,
    "start_time": "2022-07-16T08:47:44.090Z"
   },
   {
    "duration": 41,
    "start_time": "2022-07-16T08:47:44.116Z"
   },
   {
    "duration": 9,
    "start_time": "2022-07-16T08:47:44.159Z"
   },
   {
    "duration": 13,
    "start_time": "2022-07-16T08:47:44.170Z"
   },
   {
    "duration": 9,
    "start_time": "2022-07-16T08:47:44.185Z"
   },
   {
    "duration": 5,
    "start_time": "2022-07-16T08:47:44.196Z"
   },
   {
    "duration": 12,
    "start_time": "2022-07-16T08:47:44.203Z"
   },
   {
    "duration": 39,
    "start_time": "2022-07-16T08:47:44.217Z"
   },
   {
    "duration": 18,
    "start_time": "2022-07-16T08:47:44.258Z"
   },
   {
    "duration": 4,
    "start_time": "2022-07-16T08:47:44.278Z"
   },
   {
    "duration": 13,
    "start_time": "2022-07-16T08:47:44.284Z"
   },
   {
    "duration": 241,
    "start_time": "2022-07-16T08:47:44.299Z"
   },
   {
    "duration": 6,
    "start_time": "2022-07-16T08:47:44.545Z"
   },
   {
    "duration": 11,
    "start_time": "2022-07-16T08:47:44.555Z"
   },
   {
    "duration": 18,
    "start_time": "2022-07-16T08:47:44.568Z"
   },
   {
    "duration": 8,
    "start_time": "2022-07-16T08:47:44.587Z"
   },
   {
    "duration": 14,
    "start_time": "2022-07-16T08:47:44.597Z"
   },
   {
    "duration": 56,
    "start_time": "2022-07-16T08:47:44.614Z"
   },
   {
    "duration": 17,
    "start_time": "2022-07-16T08:47:44.672Z"
   },
   {
    "duration": 286,
    "start_time": "2022-07-16T08:47:44.693Z"
   },
   {
    "duration": 20,
    "start_time": "2022-07-16T08:47:44.981Z"
   },
   {
    "duration": 44,
    "start_time": "2022-07-16T08:47:45.003Z"
   },
   {
    "duration": 13,
    "start_time": "2022-07-16T08:47:45.049Z"
   },
   {
    "duration": 230,
    "start_time": "2022-07-16T08:47:45.064Z"
   },
   {
    "duration": 20,
    "start_time": "2022-07-16T08:47:45.297Z"
   },
   {
    "duration": 29,
    "start_time": "2022-07-16T08:47:45.320Z"
   },
   {
    "duration": 11,
    "start_time": "2022-07-16T08:47:45.351Z"
   },
   {
    "duration": 259,
    "start_time": "2022-07-16T08:47:45.366Z"
   },
   {
    "duration": 22,
    "start_time": "2022-07-16T08:47:45.627Z"
   },
   {
    "duration": 7,
    "start_time": "2022-07-16T08:47:45.651Z"
   },
   {
    "duration": 8,
    "start_time": "2022-07-16T08:47:45.660Z"
   },
   {
    "duration": 12,
    "start_time": "2022-07-16T08:49:38.299Z"
   },
   {
    "duration": 13,
    "start_time": "2022-07-16T08:51:23.979Z"
   },
   {
    "duration": 75,
    "start_time": "2022-07-16T08:52:00.021Z"
   },
   {
    "duration": 3,
    "start_time": "2022-07-16T08:52:30.226Z"
   },
   {
    "duration": 10,
    "start_time": "2022-07-16T08:52:43.925Z"
   },
   {
    "duration": 4,
    "start_time": "2022-07-16T08:53:25.936Z"
   },
   {
    "duration": 14,
    "start_time": "2022-07-16T08:53:31.241Z"
   },
   {
    "duration": 5,
    "start_time": "2022-07-16T08:53:38.406Z"
   },
   {
    "duration": 6,
    "start_time": "2022-07-16T08:53:46.680Z"
   },
   {
    "duration": 6,
    "start_time": "2022-07-16T08:53:49.774Z"
   },
   {
    "duration": 4,
    "start_time": "2022-07-16T08:54:13.983Z"
   },
   {
    "duration": 5,
    "start_time": "2022-07-16T08:54:18.814Z"
   },
   {
    "duration": 15,
    "start_time": "2022-07-16T08:57:26.110Z"
   },
   {
    "duration": 17,
    "start_time": "2022-07-16T08:57:37.862Z"
   },
   {
    "duration": 34,
    "start_time": "2022-07-16T08:58:08.666Z"
   },
   {
    "duration": 14,
    "start_time": "2022-07-16T09:00:04.896Z"
   },
   {
    "duration": 3,
    "start_time": "2022-07-16T09:00:15.235Z"
   },
   {
    "duration": 8,
    "start_time": "2022-07-16T09:00:21.475Z"
   },
   {
    "duration": 6,
    "start_time": "2022-07-16T09:03:09.837Z"
   },
   {
    "duration": 25,
    "start_time": "2022-07-16T09:03:22.042Z"
   },
   {
    "duration": 10,
    "start_time": "2022-07-16T09:03:52.739Z"
   },
   {
    "duration": 14,
    "start_time": "2022-07-16T09:04:37.344Z"
   },
   {
    "duration": 6,
    "start_time": "2022-07-16T09:05:33.599Z"
   },
   {
    "duration": 18,
    "start_time": "2022-07-16T09:05:39.072Z"
   },
   {
    "duration": 12,
    "start_time": "2022-07-16T09:19:47.979Z"
   },
   {
    "duration": 5,
    "start_time": "2022-07-16T09:19:56.620Z"
   },
   {
    "duration": 5,
    "start_time": "2022-07-16T09:23:37.942Z"
   },
   {
    "duration": 4,
    "start_time": "2022-07-16T09:27:10.003Z"
   },
   {
    "duration": 11,
    "start_time": "2022-07-16T09:33:29.082Z"
   },
   {
    "duration": 296,
    "start_time": "2022-07-16T09:33:31.096Z"
   },
   {
    "duration": 8,
    "start_time": "2022-07-16T09:35:28.568Z"
   },
   {
    "duration": 5,
    "start_time": "2022-07-16T10:41:01.332Z"
   },
   {
    "duration": 5,
    "start_time": "2022-07-16T10:42:29.209Z"
   },
   {
    "duration": 7,
    "start_time": "2022-07-16T10:42:52.102Z"
   },
   {
    "duration": 4,
    "start_time": "2022-07-16T10:59:38.625Z"
   },
   {
    "duration": 8,
    "start_time": "2022-07-16T11:00:08.948Z"
   },
   {
    "duration": 3,
    "start_time": "2022-07-16T11:00:21.484Z"
   },
   {
    "duration": 6,
    "start_time": "2022-07-16T11:01:25.815Z"
   },
   {
    "duration": 5,
    "start_time": "2022-07-16T11:01:42.100Z"
   },
   {
    "duration": 5,
    "start_time": "2022-07-16T11:01:43.651Z"
   },
   {
    "duration": 4,
    "start_time": "2022-07-16T11:01:57.567Z"
   },
   {
    "duration": 5,
    "start_time": "2022-07-16T11:01:59.900Z"
   },
   {
    "duration": 4,
    "start_time": "2022-07-16T11:02:08.461Z"
   },
   {
    "duration": 8,
    "start_time": "2022-07-16T11:04:42.942Z"
   },
   {
    "duration": 9,
    "start_time": "2022-07-16T11:07:19.820Z"
   },
   {
    "duration": 19,
    "start_time": "2022-07-16T11:07:23.582Z"
   },
   {
    "duration": 60,
    "start_time": "2022-07-16T11:14:23.517Z"
   },
   {
    "duration": 11,
    "start_time": "2022-07-16T11:14:26.937Z"
   },
   {
    "duration": 23,
    "start_time": "2022-07-16T11:14:40.238Z"
   },
   {
    "duration": 54,
    "start_time": "2022-07-16T11:20:19.619Z"
   },
   {
    "duration": 31,
    "start_time": "2022-07-16T11:20:27.558Z"
   },
   {
    "duration": 29,
    "start_time": "2022-07-16T11:20:38.471Z"
   },
   {
    "duration": 52,
    "start_time": "2022-07-16T11:20:56.085Z"
   },
   {
    "duration": 18,
    "start_time": "2022-07-16T11:21:07.178Z"
   },
   {
    "duration": 319,
    "start_time": "2022-07-16T11:21:30.260Z"
   },
   {
    "duration": 18,
    "start_time": "2022-07-16T11:21:30.581Z"
   },
   {
    "duration": 45,
    "start_time": "2022-07-16T11:21:30.601Z"
   },
   {
    "duration": 26,
    "start_time": "2022-07-16T11:21:30.648Z"
   },
   {
    "duration": 45,
    "start_time": "2022-07-16T11:21:30.676Z"
   },
   {
    "duration": 4,
    "start_time": "2022-07-16T11:21:30.723Z"
   },
   {
    "duration": 28,
    "start_time": "2022-07-16T11:21:30.728Z"
   },
   {
    "duration": 18,
    "start_time": "2022-07-16T11:21:30.758Z"
   },
   {
    "duration": 32,
    "start_time": "2022-07-16T11:21:30.778Z"
   },
   {
    "duration": 28,
    "start_time": "2022-07-16T11:21:30.812Z"
   },
   {
    "duration": 55,
    "start_time": "2022-07-16T11:21:30.842Z"
   },
   {
    "duration": 11,
    "start_time": "2022-07-16T11:21:30.898Z"
   },
   {
    "duration": 24,
    "start_time": "2022-07-16T11:21:30.911Z"
   },
   {
    "duration": 27,
    "start_time": "2022-07-16T11:21:30.937Z"
   },
   {
    "duration": 18,
    "start_time": "2022-07-16T11:21:30.966Z"
   },
   {
    "duration": 14,
    "start_time": "2022-07-16T11:21:30.986Z"
   },
   {
    "duration": 32,
    "start_time": "2022-07-16T11:21:31.002Z"
   },
   {
    "duration": 22,
    "start_time": "2022-07-16T11:21:31.036Z"
   },
   {
    "duration": 21,
    "start_time": "2022-07-16T11:21:31.059Z"
   },
   {
    "duration": 11,
    "start_time": "2022-07-16T11:21:31.082Z"
   },
   {
    "duration": 32,
    "start_time": "2022-07-16T11:21:31.094Z"
   },
   {
    "duration": 23,
    "start_time": "2022-07-16T11:21:31.129Z"
   },
   {
    "duration": 33,
    "start_time": "2022-07-16T11:21:31.154Z"
   },
   {
    "duration": 30,
    "start_time": "2022-07-16T11:21:31.188Z"
   },
   {
    "duration": 20,
    "start_time": "2022-07-16T11:21:31.220Z"
   },
   {
    "duration": 199,
    "start_time": "2022-07-16T11:21:31.243Z"
   },
   {
    "duration": 3,
    "start_time": "2022-07-16T11:21:31.446Z"
   },
   {
    "duration": 70,
    "start_time": "2022-07-16T11:21:31.453Z"
   },
   {
    "duration": 44,
    "start_time": "2022-07-16T11:21:31.525Z"
   },
   {
    "duration": 36,
    "start_time": "2022-07-16T11:21:31.570Z"
   },
   {
    "duration": 23,
    "start_time": "2022-07-16T11:21:31.608Z"
   },
   {
    "duration": 13,
    "start_time": "2022-07-16T11:21:31.633Z"
   },
   {
    "duration": 10,
    "start_time": "2022-07-16T11:21:31.648Z"
   },
   {
    "duration": 31,
    "start_time": "2022-07-16T11:21:31.660Z"
   },
   {
    "duration": 17,
    "start_time": "2022-07-16T11:21:31.693Z"
   },
   {
    "duration": 29,
    "start_time": "2022-07-16T11:21:31.712Z"
   },
   {
    "duration": 22,
    "start_time": "2022-07-16T11:21:31.742Z"
   },
   {
    "duration": 7,
    "start_time": "2022-07-16T11:21:31.766Z"
   },
   {
    "duration": 191,
    "start_time": "2022-07-16T11:21:31.775Z"
   },
   {
    "duration": 13,
    "start_time": "2022-07-16T11:21:31.968Z"
   },
   {
    "duration": 20,
    "start_time": "2022-07-16T11:21:31.983Z"
   },
   {
    "duration": 8,
    "start_time": "2022-07-16T11:21:32.005Z"
   },
   {
    "duration": 213,
    "start_time": "2022-07-16T11:21:32.014Z"
   },
   {
    "duration": 24,
    "start_time": "2022-07-16T11:21:32.229Z"
   },
   {
    "duration": 27,
    "start_time": "2022-07-16T11:21:32.255Z"
   },
   {
    "duration": 9,
    "start_time": "2022-07-16T11:21:32.284Z"
   },
   {
    "duration": 192,
    "start_time": "2022-07-16T11:21:32.294Z"
   },
   {
    "duration": 14,
    "start_time": "2022-07-16T11:21:32.488Z"
   },
   {
    "duration": 3,
    "start_time": "2022-07-16T11:21:32.503Z"
   },
   {
    "duration": 7,
    "start_time": "2022-07-16T11:21:32.507Z"
   },
   {
    "duration": 68,
    "start_time": "2022-07-16T11:23:42.646Z"
   },
   {
    "duration": 48,
    "start_time": "2022-07-16T11:23:53.964Z"
   },
   {
    "duration": 53,
    "start_time": "2022-07-16T11:24:08.163Z"
   },
   {
    "duration": 54,
    "start_time": "2022-07-16T11:24:14.848Z"
   },
   {
    "duration": 31,
    "start_time": "2022-07-16T11:24:29.410Z"
   },
   {
    "duration": 4,
    "start_time": "2022-07-16T11:25:25.164Z"
   },
   {
    "duration": 31,
    "start_time": "2022-07-16T11:25:28.146Z"
   },
   {
    "duration": 7,
    "start_time": "2022-07-16T11:25:52.558Z"
   },
   {
    "duration": 21,
    "start_time": "2022-07-16T11:25:54.548Z"
   },
   {
    "duration": 5,
    "start_time": "2022-07-16T11:26:53.985Z"
   },
   {
    "duration": 21,
    "start_time": "2022-07-16T11:26:55.701Z"
   },
   {
    "duration": 10,
    "start_time": "2022-07-16T11:27:50.292Z"
   },
   {
    "duration": 9,
    "start_time": "2022-07-16T11:28:16.996Z"
   },
   {
    "duration": 18,
    "start_time": "2022-07-16T11:28:20.811Z"
   },
   {
    "duration": 11,
    "start_time": "2022-07-16T11:28:27.461Z"
   },
   {
    "duration": 98,
    "start_time": "2022-07-16T11:29:13.285Z"
   },
   {
    "duration": 18,
    "start_time": "2022-07-16T11:32:26.687Z"
   },
   {
    "duration": 19,
    "start_time": "2022-07-16T11:32:39.614Z"
   },
   {
    "duration": 17,
    "start_time": "2022-07-16T11:33:59.668Z"
   },
   {
    "duration": 13,
    "start_time": "2022-07-16T11:34:26.391Z"
   },
   {
    "duration": 20,
    "start_time": "2022-07-16T11:37:03.044Z"
   },
   {
    "duration": 14,
    "start_time": "2022-07-16T11:37:25.398Z"
   },
   {
    "duration": 5,
    "start_time": "2022-07-16T11:41:35.769Z"
   },
   {
    "duration": 188,
    "start_time": "2022-07-16T11:45:35.534Z"
   },
   {
    "duration": 86,
    "start_time": "2022-07-16T11:53:00.586Z"
   },
   {
    "duration": 16,
    "start_time": "2022-07-16T11:53:00.675Z"
   },
   {
    "duration": 24,
    "start_time": "2022-07-16T11:53:00.692Z"
   },
   {
    "duration": 37,
    "start_time": "2022-07-16T11:53:00.718Z"
   },
   {
    "duration": 50,
    "start_time": "2022-07-16T11:53:00.756Z"
   },
   {
    "duration": 4,
    "start_time": "2022-07-16T11:53:00.808Z"
   },
   {
    "duration": 31,
    "start_time": "2022-07-16T11:53:00.814Z"
   },
   {
    "duration": 15,
    "start_time": "2022-07-16T11:53:00.847Z"
   },
   {
    "duration": 15,
    "start_time": "2022-07-16T11:53:00.864Z"
   },
   {
    "duration": 13,
    "start_time": "2022-07-16T11:53:00.882Z"
   },
   {
    "duration": 52,
    "start_time": "2022-07-16T11:53:00.896Z"
   },
   {
    "duration": 16,
    "start_time": "2022-07-16T11:53:00.950Z"
   },
   {
    "duration": 19,
    "start_time": "2022-07-16T11:53:00.968Z"
   },
   {
    "duration": 23,
    "start_time": "2022-07-16T11:53:00.989Z"
   },
   {
    "duration": 20,
    "start_time": "2022-07-16T11:53:01.013Z"
   },
   {
    "duration": 19,
    "start_time": "2022-07-16T11:53:01.035Z"
   },
   {
    "duration": 11,
    "start_time": "2022-07-16T11:53:01.056Z"
   },
   {
    "duration": 21,
    "start_time": "2022-07-16T11:53:01.069Z"
   },
   {
    "duration": 23,
    "start_time": "2022-07-16T11:53:01.092Z"
   },
   {
    "duration": 21,
    "start_time": "2022-07-16T11:53:01.117Z"
   },
   {
    "duration": 23,
    "start_time": "2022-07-16T11:53:01.140Z"
   },
   {
    "duration": 24,
    "start_time": "2022-07-16T11:53:01.165Z"
   },
   {
    "duration": 8,
    "start_time": "2022-07-16T11:53:01.191Z"
   },
   {
    "duration": 21,
    "start_time": "2022-07-16T11:53:01.201Z"
   },
   {
    "duration": 53,
    "start_time": "2022-07-16T11:53:01.224Z"
   },
   {
    "duration": 20,
    "start_time": "2022-07-16T11:53:01.279Z"
   },
   {
    "duration": 19,
    "start_time": "2022-07-16T11:53:01.300Z"
   },
   {
    "duration": 225,
    "start_time": "2022-07-16T11:53:01.323Z"
   },
   {
    "duration": 18,
    "start_time": "2022-07-16T11:53:01.550Z"
   },
   {
    "duration": 19,
    "start_time": "2022-07-16T11:53:01.569Z"
   },
   {
    "duration": 26,
    "start_time": "2022-07-16T11:53:01.590Z"
   },
   {
    "duration": 27,
    "start_time": "2022-07-16T11:53:01.618Z"
   },
   {
    "duration": 221,
    "start_time": "2022-07-16T11:53:01.648Z"
   },
   {
    "duration": 17,
    "start_time": "2022-07-16T11:53:01.872Z"
   },
   {
    "duration": 15,
    "start_time": "2022-07-16T11:53:01.891Z"
   },
   {
    "duration": 41,
    "start_time": "2022-07-16T11:53:01.908Z"
   },
   {
    "duration": 8,
    "start_time": "2022-07-16T11:53:01.952Z"
   },
   {
    "duration": 257,
    "start_time": "2022-07-16T11:53:01.962Z"
   },
   {
    "duration": 30,
    "start_time": "2022-07-16T11:53:02.222Z"
   },
   {
    "duration": 21,
    "start_time": "2022-07-16T11:53:02.253Z"
   },
   {
    "duration": 18,
    "start_time": "2022-07-16T11:53:02.276Z"
   },
   {
    "duration": 8,
    "start_time": "2022-07-16T11:53:02.295Z"
   },
   {
    "duration": 218,
    "start_time": "2022-07-16T11:53:02.304Z"
   },
   {
    "duration": 27,
    "start_time": "2022-07-16T11:53:02.524Z"
   },
   {
    "duration": 13,
    "start_time": "2022-07-16T11:53:02.553Z"
   },
   {
    "duration": 2,
    "start_time": "2022-07-16T11:53:02.568Z"
   },
   {
    "duration": 14,
    "start_time": "2022-07-16T11:53:02.572Z"
   },
   {
    "duration": 16,
    "start_time": "2022-07-16T11:54:45.786Z"
   },
   {
    "duration": 53,
    "start_time": "2022-07-16T11:55:13.098Z"
   },
   {
    "duration": 48,
    "start_time": "2022-07-16T11:55:16.581Z"
   },
   {
    "duration": 30,
    "start_time": "2022-07-16T11:55:56.113Z"
   },
   {
    "duration": 27,
    "start_time": "2022-07-16T11:57:01.604Z"
   },
   {
    "duration": 18,
    "start_time": "2022-07-16T12:00:03.299Z"
   },
   {
    "duration": 66,
    "start_time": "2022-07-16T12:00:21.040Z"
   },
   {
    "duration": 48,
    "start_time": "2022-07-16T12:00:25.398Z"
   },
   {
    "duration": 53,
    "start_time": "2022-07-16T12:00:47.774Z"
   },
   {
    "duration": 18,
    "start_time": "2022-07-16T12:01:16.382Z"
   },
   {
    "duration": 15,
    "start_time": "2022-07-16T12:01:21.241Z"
   },
   {
    "duration": 18,
    "start_time": "2022-07-16T12:01:25.115Z"
   },
   {
    "duration": 17,
    "start_time": "2022-07-16T12:01:52.543Z"
   },
   {
    "duration": 27,
    "start_time": "2022-07-16T12:02:26.846Z"
   },
   {
    "duration": 15,
    "start_time": "2022-07-16T12:03:01.350Z"
   },
   {
    "duration": 15,
    "start_time": "2022-07-16T12:03:14.681Z"
   },
   {
    "duration": 26,
    "start_time": "2022-07-16T12:03:22.738Z"
   },
   {
    "duration": 58,
    "start_time": "2022-07-16T12:11:36.303Z"
   },
   {
    "duration": 37,
    "start_time": "2022-07-16T12:11:39.542Z"
   },
   {
    "duration": 29,
    "start_time": "2022-07-16T12:12:37.833Z"
   },
   {
    "duration": 35,
    "start_time": "2022-07-16T12:12:59.221Z"
   },
   {
    "duration": 24,
    "start_time": "2022-07-16T12:13:35.341Z"
   },
   {
    "duration": 22,
    "start_time": "2022-07-16T12:13:42.959Z"
   },
   {
    "duration": 5,
    "start_time": "2022-07-16T12:14:02.498Z"
   },
   {
    "duration": 4,
    "start_time": "2022-07-16T12:14:11.239Z"
   },
   {
    "duration": 22,
    "start_time": "2022-07-16T12:14:24.198Z"
   },
   {
    "duration": 55,
    "start_time": "2022-07-16T12:15:34.560Z"
   },
   {
    "duration": 32,
    "start_time": "2022-07-16T12:16:56.760Z"
   },
   {
    "duration": 30,
    "start_time": "2022-07-16T12:17:12.901Z"
   },
   {
    "duration": 4,
    "start_time": "2022-07-16T12:20:58.683Z"
   },
   {
    "duration": 4,
    "start_time": "2022-07-16T12:21:09.562Z"
   },
   {
    "duration": 23,
    "start_time": "2022-07-16T12:21:50.905Z"
   },
   {
    "duration": 4,
    "start_time": "2022-07-16T12:24:38.011Z"
   },
   {
    "duration": 4,
    "start_time": "2022-07-16T12:24:41.456Z"
   },
   {
    "duration": 53,
    "start_time": "2022-07-16T12:25:07.962Z"
   },
   {
    "duration": 36,
    "start_time": "2022-07-16T12:26:17.397Z"
   },
   {
    "duration": 115,
    "start_time": "2022-07-16T14:51:17.298Z"
   },
   {
    "duration": 26,
    "start_time": "2022-07-16T14:51:20.573Z"
   },
   {
    "duration": 27,
    "start_time": "2022-07-16T14:51:30.319Z"
   },
   {
    "duration": 9,
    "start_time": "2022-07-16T14:54:47.272Z"
   },
   {
    "duration": 12,
    "start_time": "2022-07-16T14:55:15.789Z"
   },
   {
    "duration": 13,
    "start_time": "2022-07-16T14:55:30.151Z"
   },
   {
    "duration": 8,
    "start_time": "2022-07-16T15:56:18.068Z"
   },
   {
    "duration": 9,
    "start_time": "2022-07-16T15:57:52.259Z"
   },
   {
    "duration": 12,
    "start_time": "2022-07-16T15:57:58.790Z"
   },
   {
    "duration": 8,
    "start_time": "2022-07-16T15:58:08.008Z"
   },
   {
    "duration": 13,
    "start_time": "2022-07-16T15:59:37.278Z"
   },
   {
    "duration": 7,
    "start_time": "2022-07-16T15:59:47.457Z"
   },
   {
    "duration": 68,
    "start_time": "2022-07-16T16:08:46.492Z"
   },
   {
    "duration": 48,
    "start_time": "2022-07-16T16:08:56.182Z"
   },
   {
    "duration": 60,
    "start_time": "2022-07-16T16:09:08.908Z"
   },
   {
    "duration": 8,
    "start_time": "2022-07-16T16:09:15.043Z"
   },
   {
    "duration": 8,
    "start_time": "2022-07-16T16:09:22.662Z"
   },
   {
    "duration": 7,
    "start_time": "2022-07-16T16:09:25.439Z"
   },
   {
    "duration": 8,
    "start_time": "2022-07-16T16:09:33.704Z"
   },
   {
    "duration": 7,
    "start_time": "2022-07-16T16:09:48.483Z"
   },
   {
    "duration": 52,
    "start_time": "2022-07-16T16:10:13.757Z"
   },
   {
    "duration": 830,
    "start_time": "2022-07-16T16:10:18.196Z"
   },
   {
    "duration": 81,
    "start_time": "2022-07-16T16:11:03.847Z"
   },
   {
    "duration": 23,
    "start_time": "2022-07-16T16:11:03.930Z"
   },
   {
    "duration": 23,
    "start_time": "2022-07-16T16:11:03.955Z"
   },
   {
    "duration": 10,
    "start_time": "2022-07-16T16:11:03.981Z"
   },
   {
    "duration": 39,
    "start_time": "2022-07-16T16:11:03.992Z"
   },
   {
    "duration": 16,
    "start_time": "2022-07-16T16:11:04.033Z"
   },
   {
    "duration": 32,
    "start_time": "2022-07-16T16:11:04.051Z"
   },
   {
    "duration": 8,
    "start_time": "2022-07-16T16:11:04.084Z"
   },
   {
    "duration": 8,
    "start_time": "2022-07-16T16:11:04.093Z"
   },
   {
    "duration": 6,
    "start_time": "2022-07-16T16:11:04.103Z"
   },
   {
    "duration": 36,
    "start_time": "2022-07-16T16:11:04.111Z"
   },
   {
    "duration": 10,
    "start_time": "2022-07-16T16:11:04.148Z"
   },
   {
    "duration": 4,
    "start_time": "2022-07-16T16:11:04.159Z"
   },
   {
    "duration": 22,
    "start_time": "2022-07-16T16:11:04.165Z"
   },
   {
    "duration": 17,
    "start_time": "2022-07-16T16:11:04.188Z"
   },
   {
    "duration": 11,
    "start_time": "2022-07-16T16:11:04.206Z"
   },
   {
    "duration": 26,
    "start_time": "2022-07-16T16:11:04.219Z"
   },
   {
    "duration": 10,
    "start_time": "2022-07-16T16:11:04.247Z"
   },
   {
    "duration": 8,
    "start_time": "2022-07-16T16:11:04.259Z"
   },
   {
    "duration": 6,
    "start_time": "2022-07-16T16:11:04.269Z"
   },
   {
    "duration": 17,
    "start_time": "2022-07-16T16:11:04.277Z"
   },
   {
    "duration": 13,
    "start_time": "2022-07-16T16:11:04.296Z"
   },
   {
    "duration": 4,
    "start_time": "2022-07-16T16:11:04.311Z"
   },
   {
    "duration": 11,
    "start_time": "2022-07-16T16:11:04.316Z"
   },
   {
    "duration": 29,
    "start_time": "2022-07-16T16:11:04.328Z"
   },
   {
    "duration": 4,
    "start_time": "2022-07-16T16:11:04.358Z"
   },
   {
    "duration": 6,
    "start_time": "2022-07-16T16:11:04.364Z"
   },
   {
    "duration": 199,
    "start_time": "2022-07-16T16:11:04.373Z"
   },
   {
    "duration": 867,
    "start_time": "2022-07-16T16:11:04.573Z"
   },
   {
    "duration": 0,
    "start_time": "2022-07-16T16:11:05.443Z"
   },
   {
    "duration": 0,
    "start_time": "2022-07-16T16:11:05.444Z"
   },
   {
    "duration": 0,
    "start_time": "2022-07-16T16:11:05.445Z"
   },
   {
    "duration": 0,
    "start_time": "2022-07-16T16:11:05.446Z"
   },
   {
    "duration": 1,
    "start_time": "2022-07-16T16:11:05.447Z"
   },
   {
    "duration": 0,
    "start_time": "2022-07-16T16:11:05.449Z"
   },
   {
    "duration": 0,
    "start_time": "2022-07-16T16:11:05.450Z"
   },
   {
    "duration": 0,
    "start_time": "2022-07-16T16:11:05.451Z"
   },
   {
    "duration": 0,
    "start_time": "2022-07-16T16:11:05.453Z"
   },
   {
    "duration": 0,
    "start_time": "2022-07-16T16:11:05.454Z"
   },
   {
    "duration": 0,
    "start_time": "2022-07-16T16:11:05.455Z"
   },
   {
    "duration": 0,
    "start_time": "2022-07-16T16:11:05.456Z"
   },
   {
    "duration": 0,
    "start_time": "2022-07-16T16:11:05.458Z"
   },
   {
    "duration": 0,
    "start_time": "2022-07-16T16:11:05.459Z"
   },
   {
    "duration": 0,
    "start_time": "2022-07-16T16:11:05.460Z"
   },
   {
    "duration": 0,
    "start_time": "2022-07-16T16:11:05.461Z"
   },
   {
    "duration": 0,
    "start_time": "2022-07-16T16:11:05.463Z"
   },
   {
    "duration": 1266,
    "start_time": "2022-07-16T16:11:14.996Z"
   },
   {
    "duration": 8,
    "start_time": "2022-07-16T16:12:04.885Z"
   },
   {
    "duration": 874,
    "start_time": "2022-07-16T16:12:20.400Z"
   },
   {
    "duration": 828,
    "start_time": "2022-07-16T16:12:35.798Z"
   },
   {
    "duration": 11,
    "start_time": "2022-07-16T16:12:45.197Z"
   },
   {
    "duration": 940,
    "start_time": "2022-07-16T16:12:49.533Z"
   },
   {
    "duration": 1218,
    "start_time": "2022-07-16T16:13:12.852Z"
   },
   {
    "duration": 19,
    "start_time": "2022-07-16T16:13:14.072Z"
   },
   {
    "duration": 15,
    "start_time": "2022-07-16T16:13:14.093Z"
   },
   {
    "duration": 10,
    "start_time": "2022-07-16T16:13:14.110Z"
   },
   {
    "duration": 56,
    "start_time": "2022-07-16T16:13:14.122Z"
   },
   {
    "duration": 4,
    "start_time": "2022-07-16T16:13:14.179Z"
   },
   {
    "duration": 16,
    "start_time": "2022-07-16T16:13:14.184Z"
   },
   {
    "duration": 4,
    "start_time": "2022-07-16T16:13:14.202Z"
   },
   {
    "duration": 8,
    "start_time": "2022-07-16T16:13:14.207Z"
   },
   {
    "duration": 31,
    "start_time": "2022-07-16T16:13:14.216Z"
   },
   {
    "duration": 32,
    "start_time": "2022-07-16T16:13:14.249Z"
   },
   {
    "duration": 10,
    "start_time": "2022-07-16T16:13:14.282Z"
   },
   {
    "duration": 6,
    "start_time": "2022-07-16T16:13:14.293Z"
   },
   {
    "duration": 46,
    "start_time": "2022-07-16T16:13:14.301Z"
   },
   {
    "duration": 16,
    "start_time": "2022-07-16T16:13:14.349Z"
   },
   {
    "duration": 10,
    "start_time": "2022-07-16T16:13:14.367Z"
   },
   {
    "duration": 5,
    "start_time": "2022-07-16T16:13:14.379Z"
   },
   {
    "duration": 12,
    "start_time": "2022-07-16T16:13:14.386Z"
   },
   {
    "duration": 6,
    "start_time": "2022-07-16T16:13:14.399Z"
   },
   {
    "duration": 6,
    "start_time": "2022-07-16T16:13:14.407Z"
   },
   {
    "duration": 38,
    "start_time": "2022-07-16T16:13:14.415Z"
   },
   {
    "duration": 109,
    "start_time": "2022-07-16T16:13:14.455Z"
   },
   {
    "duration": 1,
    "start_time": "2022-07-16T16:13:14.565Z"
   },
   {
    "duration": 0,
    "start_time": "2022-07-16T16:13:14.566Z"
   },
   {
    "duration": 0,
    "start_time": "2022-07-16T16:13:14.567Z"
   },
   {
    "duration": 1,
    "start_time": "2022-07-16T16:13:14.568Z"
   },
   {
    "duration": 0,
    "start_time": "2022-07-16T16:13:14.570Z"
   },
   {
    "duration": 0,
    "start_time": "2022-07-16T16:13:14.571Z"
   },
   {
    "duration": 0,
    "start_time": "2022-07-16T16:13:14.573Z"
   },
   {
    "duration": 1,
    "start_time": "2022-07-16T16:13:14.573Z"
   },
   {
    "duration": 0,
    "start_time": "2022-07-16T16:13:14.575Z"
   },
   {
    "duration": 0,
    "start_time": "2022-07-16T16:13:14.576Z"
   },
   {
    "duration": 0,
    "start_time": "2022-07-16T16:13:14.577Z"
   },
   {
    "duration": 0,
    "start_time": "2022-07-16T16:13:14.577Z"
   },
   {
    "duration": 0,
    "start_time": "2022-07-16T16:13:14.578Z"
   },
   {
    "duration": 0,
    "start_time": "2022-07-16T16:13:14.579Z"
   },
   {
    "duration": 0,
    "start_time": "2022-07-16T16:13:14.581Z"
   },
   {
    "duration": 0,
    "start_time": "2022-07-16T16:13:14.582Z"
   },
   {
    "duration": 0,
    "start_time": "2022-07-16T16:13:14.583Z"
   },
   {
    "duration": 0,
    "start_time": "2022-07-16T16:13:14.584Z"
   },
   {
    "duration": 0,
    "start_time": "2022-07-16T16:13:14.585Z"
   },
   {
    "duration": 0,
    "start_time": "2022-07-16T16:13:14.586Z"
   },
   {
    "duration": 0,
    "start_time": "2022-07-16T16:13:14.586Z"
   },
   {
    "duration": 0,
    "start_time": "2022-07-16T16:13:14.587Z"
   },
   {
    "duration": 0,
    "start_time": "2022-07-16T16:13:14.588Z"
   },
   {
    "duration": 0,
    "start_time": "2022-07-16T16:13:14.589Z"
   },
   {
    "duration": 11,
    "start_time": "2022-07-16T16:13:41.745Z"
   },
   {
    "duration": 8,
    "start_time": "2022-07-16T16:13:47.202Z"
   },
   {
    "duration": 72,
    "start_time": "2022-07-16T16:14:37.606Z"
   },
   {
    "duration": 15,
    "start_time": "2022-07-16T16:14:37.680Z"
   },
   {
    "duration": 16,
    "start_time": "2022-07-16T16:14:37.696Z"
   },
   {
    "duration": 37,
    "start_time": "2022-07-16T16:14:37.715Z"
   },
   {
    "duration": 32,
    "start_time": "2022-07-16T16:14:37.754Z"
   },
   {
    "duration": 3,
    "start_time": "2022-07-16T16:14:37.788Z"
   },
   {
    "duration": 12,
    "start_time": "2022-07-16T16:14:37.792Z"
   },
   {
    "duration": 6,
    "start_time": "2022-07-16T16:14:37.805Z"
   },
   {
    "duration": 11,
    "start_time": "2022-07-16T16:14:37.813Z"
   },
   {
    "duration": 22,
    "start_time": "2022-07-16T16:14:37.826Z"
   },
   {
    "duration": 35,
    "start_time": "2022-07-16T16:14:37.849Z"
   },
   {
    "duration": 14,
    "start_time": "2022-07-16T16:14:37.885Z"
   },
   {
    "duration": 4,
    "start_time": "2022-07-16T16:14:37.900Z"
   },
   {
    "duration": 41,
    "start_time": "2022-07-16T16:14:37.906Z"
   },
   {
    "duration": 20,
    "start_time": "2022-07-16T16:14:37.950Z"
   },
   {
    "duration": 16,
    "start_time": "2022-07-16T16:14:37.972Z"
   },
   {
    "duration": 11,
    "start_time": "2022-07-16T16:14:37.989Z"
   },
   {
    "duration": 21,
    "start_time": "2022-07-16T16:14:38.001Z"
   },
   {
    "duration": 8,
    "start_time": "2022-07-16T16:14:38.024Z"
   },
   {
    "duration": 16,
    "start_time": "2022-07-16T16:14:38.034Z"
   },
   {
    "duration": 11,
    "start_time": "2022-07-16T16:14:38.052Z"
   },
   {
    "duration": 12,
    "start_time": "2022-07-16T16:14:38.065Z"
   },
   {
    "duration": 6,
    "start_time": "2022-07-16T16:14:38.078Z"
   },
   {
    "duration": 8,
    "start_time": "2022-07-16T16:14:38.085Z"
   },
   {
    "duration": 21,
    "start_time": "2022-07-16T16:14:38.094Z"
   },
   {
    "duration": 4,
    "start_time": "2022-07-16T16:14:38.116Z"
   },
   {
    "duration": 25,
    "start_time": "2022-07-16T16:14:38.121Z"
   },
   {
    "duration": 185,
    "start_time": "2022-07-16T16:14:38.149Z"
   },
   {
    "duration": 16,
    "start_time": "2022-07-16T16:14:38.335Z"
   },
   {
    "duration": 0,
    "start_time": "2022-07-16T16:14:38.352Z"
   },
   {
    "duration": 0,
    "start_time": "2022-07-16T16:14:38.353Z"
   },
   {
    "duration": 0,
    "start_time": "2022-07-16T16:14:38.355Z"
   },
   {
    "duration": 0,
    "start_time": "2022-07-16T16:14:38.356Z"
   },
   {
    "duration": 0,
    "start_time": "2022-07-16T16:14:38.357Z"
   },
   {
    "duration": 0,
    "start_time": "2022-07-16T16:14:38.358Z"
   },
   {
    "duration": 0,
    "start_time": "2022-07-16T16:14:38.359Z"
   },
   {
    "duration": 0,
    "start_time": "2022-07-16T16:14:38.360Z"
   },
   {
    "duration": 0,
    "start_time": "2022-07-16T16:14:38.361Z"
   },
   {
    "duration": 0,
    "start_time": "2022-07-16T16:14:38.362Z"
   },
   {
    "duration": 0,
    "start_time": "2022-07-16T16:14:38.363Z"
   },
   {
    "duration": 0,
    "start_time": "2022-07-16T16:14:38.364Z"
   },
   {
    "duration": 0,
    "start_time": "2022-07-16T16:14:38.365Z"
   },
   {
    "duration": 0,
    "start_time": "2022-07-16T16:14:38.366Z"
   },
   {
    "duration": 0,
    "start_time": "2022-07-16T16:14:38.367Z"
   },
   {
    "duration": 0,
    "start_time": "2022-07-16T16:14:38.368Z"
   },
   {
    "duration": 0,
    "start_time": "2022-07-16T16:14:38.369Z"
   },
   {
    "duration": 1390,
    "start_time": "2022-07-16T16:15:02.644Z"
   },
   {
    "duration": 4,
    "start_time": "2022-07-16T16:15:38.848Z"
   },
   {
    "duration": 40,
    "start_time": "2022-07-16T16:15:41.567Z"
   },
   {
    "duration": 5,
    "start_time": "2022-07-16T16:17:17.464Z"
   },
   {
    "duration": 26,
    "start_time": "2022-07-16T16:17:21.853Z"
   },
   {
    "duration": 5,
    "start_time": "2022-07-16T16:17:34.073Z"
   },
   {
    "duration": 5,
    "start_time": "2022-07-16T16:17:38.653Z"
   },
   {
    "duration": 26,
    "start_time": "2022-07-16T16:17:43.079Z"
   },
   {
    "duration": 4,
    "start_time": "2022-07-16T16:18:07.830Z"
   },
   {
    "duration": 36,
    "start_time": "2022-07-16T16:18:13.751Z"
   },
   {
    "duration": 33,
    "start_time": "2022-07-16T16:21:53.984Z"
   },
   {
    "duration": 6,
    "start_time": "2022-07-16T16:23:16.896Z"
   },
   {
    "duration": 5,
    "start_time": "2022-07-16T16:23:19.884Z"
   },
   {
    "duration": 5,
    "start_time": "2022-07-16T16:23:59.982Z"
   },
   {
    "duration": 6,
    "start_time": "2022-07-16T16:24:12.343Z"
   },
   {
    "duration": 184,
    "start_time": "2022-07-16T16:25:37.898Z"
   },
   {
    "duration": 46,
    "start_time": "2022-07-16T16:26:07.235Z"
   },
   {
    "duration": 4,
    "start_time": "2022-07-16T16:26:22.662Z"
   },
   {
    "duration": 38,
    "start_time": "2022-07-16T16:26:26.640Z"
   },
   {
    "duration": 5,
    "start_time": "2022-07-16T16:26:31.707Z"
   },
   {
    "duration": 825,
    "start_time": "2022-07-16T16:27:53.362Z"
   },
   {
    "duration": 3,
    "start_time": "2022-07-16T16:28:25.220Z"
   },
   {
    "duration": 31,
    "start_time": "2022-07-16T16:28:28.455Z"
   },
   {
    "duration": 4,
    "start_time": "2022-07-16T16:30:22.564Z"
   },
   {
    "duration": 28,
    "start_time": "2022-07-16T16:30:24.878Z"
   },
   {
    "duration": 40,
    "start_time": "2022-07-16T16:31:17.618Z"
   },
   {
    "duration": 192,
    "start_time": "2022-07-16T16:31:23.494Z"
   },
   {
    "duration": 33,
    "start_time": "2022-07-16T16:32:24.902Z"
   },
   {
    "duration": 44,
    "start_time": "2022-07-16T16:33:13.062Z"
   },
   {
    "duration": 32,
    "start_time": "2022-07-16T16:33:21.977Z"
   },
   {
    "duration": 48,
    "start_time": "2022-07-16T16:33:34.166Z"
   },
   {
    "duration": 32,
    "start_time": "2022-07-16T16:33:42.091Z"
   },
   {
    "duration": 49,
    "start_time": "2022-07-16T16:33:48.465Z"
   },
   {
    "duration": 52,
    "start_time": "2022-07-16T16:33:59.520Z"
   },
   {
    "duration": 35,
    "start_time": "2022-07-16T16:35:44.484Z"
   },
   {
    "duration": 3,
    "start_time": "2022-07-16T16:38:58.069Z"
   },
   {
    "duration": 3,
    "start_time": "2022-07-16T16:39:50.855Z"
   },
   {
    "duration": 35,
    "start_time": "2022-07-16T16:42:49.220Z"
   },
   {
    "duration": 31,
    "start_time": "2022-07-16T16:42:57.870Z"
   },
   {
    "duration": 24,
    "start_time": "2022-07-16T16:43:26.867Z"
   },
   {
    "duration": 29,
    "start_time": "2022-07-16T16:43:41.762Z"
   },
   {
    "duration": 95,
    "start_time": "2022-07-16T16:43:52.969Z"
   },
   {
    "duration": 22,
    "start_time": "2022-07-16T16:43:53.067Z"
   },
   {
    "duration": 24,
    "start_time": "2022-07-16T16:43:53.090Z"
   },
   {
    "duration": 31,
    "start_time": "2022-07-16T16:43:53.116Z"
   },
   {
    "duration": 47,
    "start_time": "2022-07-16T16:43:53.150Z"
   },
   {
    "duration": 4,
    "start_time": "2022-07-16T16:43:53.199Z"
   },
   {
    "duration": 19,
    "start_time": "2022-07-16T16:43:53.205Z"
   },
   {
    "duration": 24,
    "start_time": "2022-07-16T16:43:53.226Z"
   },
   {
    "duration": 7,
    "start_time": "2022-07-16T16:43:53.252Z"
   },
   {
    "duration": 8,
    "start_time": "2022-07-16T16:43:53.261Z"
   },
   {
    "duration": 38,
    "start_time": "2022-07-16T16:43:53.271Z"
   },
   {
    "duration": 39,
    "start_time": "2022-07-16T16:43:53.310Z"
   },
   {
    "duration": 5,
    "start_time": "2022-07-16T16:43:53.351Z"
   },
   {
    "duration": 26,
    "start_time": "2022-07-16T16:43:53.360Z"
   },
   {
    "duration": 25,
    "start_time": "2022-07-16T16:43:53.388Z"
   },
   {
    "duration": 40,
    "start_time": "2022-07-16T16:43:53.415Z"
   },
   {
    "duration": 4,
    "start_time": "2022-07-16T16:43:53.457Z"
   },
   {
    "duration": 39,
    "start_time": "2022-07-16T16:43:53.463Z"
   },
   {
    "duration": 16,
    "start_time": "2022-07-16T16:43:53.505Z"
   },
   {
    "duration": 25,
    "start_time": "2022-07-16T16:43:53.523Z"
   },
   {
    "duration": 30,
    "start_time": "2022-07-16T16:43:53.551Z"
   },
   {
    "duration": 28,
    "start_time": "2022-07-16T16:43:53.583Z"
   },
   {
    "duration": 19,
    "start_time": "2022-07-16T16:43:53.613Z"
   },
   {
    "duration": 40,
    "start_time": "2022-07-16T16:43:53.634Z"
   },
   {
    "duration": 66,
    "start_time": "2022-07-16T16:43:53.676Z"
   },
   {
    "duration": 31,
    "start_time": "2022-07-16T16:43:53.744Z"
   },
   {
    "duration": 0,
    "start_time": "2022-07-16T16:43:53.777Z"
   },
   {
    "duration": 0,
    "start_time": "2022-07-16T16:43:53.779Z"
   },
   {
    "duration": 0,
    "start_time": "2022-07-16T16:43:53.780Z"
   },
   {
    "duration": 0,
    "start_time": "2022-07-16T16:43:53.781Z"
   },
   {
    "duration": 0,
    "start_time": "2022-07-16T16:43:53.783Z"
   },
   {
    "duration": 0,
    "start_time": "2022-07-16T16:43:53.785Z"
   },
   {
    "duration": 0,
    "start_time": "2022-07-16T16:43:53.786Z"
   },
   {
    "duration": 0,
    "start_time": "2022-07-16T16:43:53.787Z"
   },
   {
    "duration": 0,
    "start_time": "2022-07-16T16:43:53.788Z"
   },
   {
    "duration": 0,
    "start_time": "2022-07-16T16:43:53.791Z"
   },
   {
    "duration": 0,
    "start_time": "2022-07-16T16:43:53.793Z"
   },
   {
    "duration": 0,
    "start_time": "2022-07-16T16:43:53.794Z"
   },
   {
    "duration": 0,
    "start_time": "2022-07-16T16:43:53.795Z"
   },
   {
    "duration": 0,
    "start_time": "2022-07-16T16:43:53.797Z"
   },
   {
    "duration": 0,
    "start_time": "2022-07-16T16:43:53.798Z"
   },
   {
    "duration": 0,
    "start_time": "2022-07-16T16:43:53.800Z"
   },
   {
    "duration": 0,
    "start_time": "2022-07-16T16:43:53.802Z"
   },
   {
    "duration": 0,
    "start_time": "2022-07-16T16:43:53.804Z"
   },
   {
    "duration": 48,
    "start_time": "2022-07-16T16:44:19.574Z"
   },
   {
    "duration": 34,
    "start_time": "2022-07-16T16:44:21.422Z"
   },
   {
    "duration": 11,
    "start_time": "2022-07-16T16:44:47.970Z"
   },
   {
    "duration": 5,
    "start_time": "2022-07-16T16:44:56.090Z"
   },
   {
    "duration": 6,
    "start_time": "2022-07-16T16:44:57.954Z"
   },
   {
    "duration": 10,
    "start_time": "2022-07-16T16:46:01.373Z"
   },
   {
    "duration": 42,
    "start_time": "2022-07-16T16:46:04.602Z"
   },
   {
    "duration": 902,
    "start_time": "2022-07-16T16:46:06.374Z"
   },
   {
    "duration": 43,
    "start_time": "2022-07-16T16:46:19.666Z"
   },
   {
    "duration": 848,
    "start_time": "2022-07-16T16:46:29.686Z"
   },
   {
    "duration": 7,
    "start_time": "2022-07-16T16:46:34.919Z"
   },
   {
    "duration": 5,
    "start_time": "2022-07-16T16:46:53.787Z"
   },
   {
    "duration": 4,
    "start_time": "2022-07-16T16:46:59.652Z"
   },
   {
    "duration": 7,
    "start_time": "2022-07-16T16:47:23.647Z"
   },
   {
    "duration": 6,
    "start_time": "2022-07-16T16:48:40.203Z"
   },
   {
    "duration": 5,
    "start_time": "2022-07-16T16:48:52.909Z"
   },
   {
    "duration": 5,
    "start_time": "2022-07-16T16:48:59.146Z"
   },
   {
    "duration": 7,
    "start_time": "2022-07-16T16:49:03.178Z"
   },
   {
    "duration": 3,
    "start_time": "2022-07-16T16:49:06.522Z"
   },
   {
    "duration": 42,
    "start_time": "2022-07-16T16:49:10.703Z"
   },
   {
    "duration": 90,
    "start_time": "2022-07-16T16:49:20.478Z"
   },
   {
    "duration": 16,
    "start_time": "2022-07-16T16:49:20.570Z"
   },
   {
    "duration": 18,
    "start_time": "2022-07-16T16:49:20.588Z"
   },
   {
    "duration": 37,
    "start_time": "2022-07-16T16:49:20.610Z"
   },
   {
    "duration": 54,
    "start_time": "2022-07-16T16:49:20.650Z"
   },
   {
    "duration": 4,
    "start_time": "2022-07-16T16:49:20.706Z"
   },
   {
    "duration": 12,
    "start_time": "2022-07-16T16:49:20.712Z"
   },
   {
    "duration": 12,
    "start_time": "2022-07-16T16:49:20.746Z"
   },
   {
    "duration": 10,
    "start_time": "2022-07-16T16:49:20.760Z"
   },
   {
    "duration": 5,
    "start_time": "2022-07-16T16:49:20.773Z"
   },
   {
    "duration": 45,
    "start_time": "2022-07-16T16:49:20.779Z"
   },
   {
    "duration": 23,
    "start_time": "2022-07-16T16:49:20.826Z"
   },
   {
    "duration": 4,
    "start_time": "2022-07-16T16:49:20.851Z"
   },
   {
    "duration": 20,
    "start_time": "2022-07-16T16:49:20.857Z"
   },
   {
    "duration": 24,
    "start_time": "2022-07-16T16:49:20.879Z"
   },
   {
    "duration": 43,
    "start_time": "2022-07-16T16:49:20.905Z"
   },
   {
    "duration": 6,
    "start_time": "2022-07-16T16:49:20.950Z"
   },
   {
    "duration": 16,
    "start_time": "2022-07-16T16:49:20.958Z"
   },
   {
    "duration": 8,
    "start_time": "2022-07-16T16:49:20.976Z"
   },
   {
    "duration": 11,
    "start_time": "2022-07-16T16:49:20.986Z"
   },
   {
    "duration": 11,
    "start_time": "2022-07-16T16:49:20.999Z"
   },
   {
    "duration": 35,
    "start_time": "2022-07-16T16:49:21.011Z"
   },
   {
    "duration": 5,
    "start_time": "2022-07-16T16:49:21.049Z"
   },
   {
    "duration": 11,
    "start_time": "2022-07-16T16:49:21.056Z"
   },
   {
    "duration": 44,
    "start_time": "2022-07-16T16:49:21.069Z"
   },
   {
    "duration": 4,
    "start_time": "2022-07-16T16:49:21.114Z"
   },
   {
    "duration": 54,
    "start_time": "2022-07-16T16:49:21.120Z"
   },
   {
    "duration": 190,
    "start_time": "2022-07-16T16:49:21.179Z"
   },
   {
    "duration": 24,
    "start_time": "2022-07-16T16:49:21.372Z"
   },
   {
    "duration": 10,
    "start_time": "2022-07-16T16:49:21.398Z"
   },
   {
    "duration": 267,
    "start_time": "2022-07-16T16:49:21.410Z"
   },
   {
    "duration": 22,
    "start_time": "2022-07-16T16:49:21.679Z"
   },
   {
    "duration": 0,
    "start_time": "2022-07-16T16:49:21.703Z"
   },
   {
    "duration": 0,
    "start_time": "2022-07-16T16:49:21.704Z"
   },
   {
    "duration": 0,
    "start_time": "2022-07-16T16:49:21.706Z"
   },
   {
    "duration": 0,
    "start_time": "2022-07-16T16:49:21.708Z"
   },
   {
    "duration": 0,
    "start_time": "2022-07-16T16:49:21.709Z"
   },
   {
    "duration": 0,
    "start_time": "2022-07-16T16:49:21.710Z"
   },
   {
    "duration": 0,
    "start_time": "2022-07-16T16:49:21.711Z"
   },
   {
    "duration": 0,
    "start_time": "2022-07-16T16:49:21.713Z"
   },
   {
    "duration": 0,
    "start_time": "2022-07-16T16:49:21.714Z"
   },
   {
    "duration": 0,
    "start_time": "2022-07-16T16:49:21.746Z"
   },
   {
    "duration": 0,
    "start_time": "2022-07-16T16:49:21.747Z"
   },
   {
    "duration": 0,
    "start_time": "2022-07-16T16:49:21.748Z"
   },
   {
    "duration": 0,
    "start_time": "2022-07-16T16:49:21.750Z"
   },
   {
    "duration": 49,
    "start_time": "2022-07-16T16:49:39.763Z"
   },
   {
    "duration": 32,
    "start_time": "2022-07-16T16:50:11.571Z"
   },
   {
    "duration": 40,
    "start_time": "2022-07-16T16:50:21.748Z"
   },
   {
    "duration": 4,
    "start_time": "2022-07-16T16:50:24.264Z"
   },
   {
    "duration": 41,
    "start_time": "2022-07-16T16:50:25.888Z"
   },
   {
    "duration": 251,
    "start_time": "2022-07-16T17:34:37.585Z"
   },
   {
    "duration": 49,
    "start_time": "2022-07-16T17:35:40.827Z"
   },
   {
    "duration": 28,
    "start_time": "2022-07-16T17:45:01.976Z"
   },
   {
    "duration": 29,
    "start_time": "2022-07-16T17:45:26.088Z"
   },
   {
    "duration": 9,
    "start_time": "2022-07-16T18:52:45.321Z"
   },
   {
    "duration": 177,
    "start_time": "2022-07-16T18:52:50.196Z"
   },
   {
    "duration": 28,
    "start_time": "2022-07-16T18:54:56.737Z"
   },
   {
    "duration": 192,
    "start_time": "2022-07-16T18:55:03.394Z"
   },
   {
    "duration": 32,
    "start_time": "2022-07-16T19:19:05.641Z"
   },
   {
    "duration": 25,
    "start_time": "2022-07-16T19:20:59.663Z"
   },
   {
    "duration": 6,
    "start_time": "2022-07-16T19:21:40.150Z"
   },
   {
    "duration": 19,
    "start_time": "2022-07-16T19:21:51.020Z"
   },
   {
    "duration": 23,
    "start_time": "2022-07-16T20:17:41.008Z"
   },
   {
    "duration": 55,
    "start_time": "2022-07-16T20:17:55.272Z"
   },
   {
    "duration": 53,
    "start_time": "2022-07-16T20:18:12.444Z"
   },
   {
    "duration": 80,
    "start_time": "2022-07-16T20:20:25.694Z"
   },
   {
    "duration": 47,
    "start_time": "2022-07-16T20:20:41.782Z"
   },
   {
    "duration": 63,
    "start_time": "2022-07-16T20:20:46.076Z"
   },
   {
    "duration": 30,
    "start_time": "2022-07-16T20:20:52.430Z"
   },
   {
    "duration": 5,
    "start_time": "2022-07-16T21:19:24.912Z"
   },
   {
    "duration": 250,
    "start_time": "2022-07-16T21:19:44.272Z"
   },
   {
    "duration": 38,
    "start_time": "2022-07-16T21:27:53.431Z"
   },
   {
    "duration": 24,
    "start_time": "2022-07-16T21:31:53.457Z"
   },
   {
    "duration": 19,
    "start_time": "2022-07-16T21:31:55.245Z"
   },
   {
    "duration": 26,
    "start_time": "2022-07-16T21:32:04.051Z"
   },
   {
    "duration": 31,
    "start_time": "2022-07-16T21:32:06.439Z"
   },
   {
    "duration": 30,
    "start_time": "2022-07-16T21:32:08.378Z"
   },
   {
    "duration": 164,
    "start_time": "2022-07-16T21:32:10.775Z"
   },
   {
    "duration": 4,
    "start_time": "2022-07-16T21:33:23.318Z"
   },
   {
    "duration": 1221,
    "start_time": "2022-07-16T21:41:11.080Z"
   },
   {
    "duration": 18,
    "start_time": "2022-07-16T21:41:12.304Z"
   },
   {
    "duration": 30,
    "start_time": "2022-07-16T21:41:12.323Z"
   },
   {
    "duration": 24,
    "start_time": "2022-07-16T21:41:12.355Z"
   },
   {
    "duration": 39,
    "start_time": "2022-07-16T21:41:12.382Z"
   },
   {
    "duration": 4,
    "start_time": "2022-07-16T21:41:12.422Z"
   },
   {
    "duration": 10,
    "start_time": "2022-07-16T21:41:12.427Z"
   },
   {
    "duration": 10,
    "start_time": "2022-07-16T21:41:12.439Z"
   },
   {
    "duration": 39,
    "start_time": "2022-07-16T21:41:12.450Z"
   },
   {
    "duration": 10,
    "start_time": "2022-07-16T21:41:12.491Z"
   },
   {
    "duration": 36,
    "start_time": "2022-07-16T21:41:12.503Z"
   },
   {
    "duration": 22,
    "start_time": "2022-07-16T21:41:12.541Z"
   },
   {
    "duration": 35,
    "start_time": "2022-07-16T21:41:12.568Z"
   },
   {
    "duration": 36,
    "start_time": "2022-07-16T21:41:12.606Z"
   },
   {
    "duration": 50,
    "start_time": "2022-07-16T21:41:12.644Z"
   },
   {
    "duration": 14,
    "start_time": "2022-07-16T21:41:12.696Z"
   },
   {
    "duration": 6,
    "start_time": "2022-07-16T21:41:12.711Z"
   },
   {
    "duration": 13,
    "start_time": "2022-07-16T21:41:12.719Z"
   },
   {
    "duration": 5,
    "start_time": "2022-07-16T21:41:12.734Z"
   },
   {
    "duration": 21,
    "start_time": "2022-07-16T21:41:12.741Z"
   },
   {
    "duration": 34,
    "start_time": "2022-07-16T21:41:12.769Z"
   },
   {
    "duration": 32,
    "start_time": "2022-07-16T21:41:12.804Z"
   },
   {
    "duration": 4,
    "start_time": "2022-07-16T21:41:12.838Z"
   },
   {
    "duration": 38,
    "start_time": "2022-07-16T21:41:12.844Z"
   },
   {
    "duration": 38,
    "start_time": "2022-07-16T21:41:12.883Z"
   },
   {
    "duration": 5,
    "start_time": "2022-07-16T21:41:12.923Z"
   },
   {
    "duration": 68,
    "start_time": "2022-07-16T21:41:12.929Z"
   },
   {
    "duration": 202,
    "start_time": "2022-07-16T21:41:12.999Z"
   },
   {
    "duration": 31,
    "start_time": "2022-07-16T21:41:13.203Z"
   },
   {
    "duration": 40,
    "start_time": "2022-07-16T21:41:13.245Z"
   },
   {
    "duration": 206,
    "start_time": "2022-07-16T21:41:13.287Z"
   },
   {
    "duration": 17,
    "start_time": "2022-07-16T21:41:13.495Z"
   },
   {
    "duration": 36,
    "start_time": "2022-07-16T21:41:13.513Z"
   },
   {
    "duration": 39,
    "start_time": "2022-07-16T21:41:13.551Z"
   },
   {
    "duration": 202,
    "start_time": "2022-07-16T21:41:13.592Z"
   },
   {
    "duration": 17,
    "start_time": "2022-07-16T21:41:13.795Z"
   },
   {
    "duration": 20,
    "start_time": "2022-07-16T21:41:13.814Z"
   },
   {
    "duration": 46,
    "start_time": "2022-07-16T21:41:13.845Z"
   },
   {
    "duration": 205,
    "start_time": "2022-07-16T21:41:13.893Z"
   },
   {
    "duration": 7,
    "start_time": "2022-07-16T21:58:50.212Z"
   },
   {
    "duration": 9,
    "start_time": "2022-07-16T21:59:37.298Z"
   },
   {
    "duration": 9,
    "start_time": "2022-07-16T22:01:25.727Z"
   },
   {
    "duration": 4,
    "start_time": "2022-07-16T22:07:45.980Z"
   },
   {
    "duration": 24,
    "start_time": "2022-07-16T22:08:42.501Z"
   },
   {
    "duration": 2,
    "start_time": "2022-07-16T22:09:04.411Z"
   },
   {
    "duration": 3,
    "start_time": "2022-07-16T22:10:41.761Z"
   },
   {
    "duration": 2,
    "start_time": "2022-07-16T22:12:18.089Z"
   },
   {
    "duration": 3,
    "start_time": "2022-07-16T22:14:44.562Z"
   },
   {
    "duration": 2,
    "start_time": "2022-07-16T22:15:39.163Z"
   },
   {
    "duration": 14,
    "start_time": "2022-07-16T22:17:45.703Z"
   },
   {
    "duration": 23,
    "start_time": "2022-07-16T22:18:19.351Z"
   },
   {
    "duration": 3,
    "start_time": "2022-07-16T22:20:27.740Z"
   },
   {
    "duration": 2,
    "start_time": "2022-07-16T22:21:50.231Z"
   },
   {
    "duration": 25,
    "start_time": "2022-07-16T23:02:57.372Z"
   },
   {
    "duration": 17,
    "start_time": "2022-07-16T23:03:38.462Z"
   },
   {
    "duration": 913,
    "start_time": "2022-07-16T23:04:51.978Z"
   },
   {
    "duration": 17,
    "start_time": "2022-07-16T23:04:57.985Z"
   },
   {
    "duration": 14,
    "start_time": "2022-07-16T23:05:31.706Z"
   },
   {
    "duration": 14,
    "start_time": "2022-07-16T23:05:51.439Z"
   },
   {
    "duration": 15,
    "start_time": "2022-07-16T23:06:11.952Z"
   },
   {
    "duration": 13,
    "start_time": "2022-07-16T23:12:12.972Z"
   },
   {
    "duration": 15,
    "start_time": "2022-07-16T23:12:23.883Z"
   },
   {
    "duration": 1203,
    "start_time": "2022-07-16T23:40:46.265Z"
   },
   {
    "duration": 20,
    "start_time": "2022-07-16T23:40:47.470Z"
   },
   {
    "duration": 21,
    "start_time": "2022-07-16T23:40:47.492Z"
   },
   {
    "duration": 9,
    "start_time": "2022-07-16T23:40:47.515Z"
   },
   {
    "duration": 24,
    "start_time": "2022-07-16T23:40:47.526Z"
   },
   {
    "duration": 5,
    "start_time": "2022-07-16T23:40:47.552Z"
   },
   {
    "duration": 20,
    "start_time": "2022-07-16T23:40:47.558Z"
   },
   {
    "duration": 6,
    "start_time": "2022-07-16T23:40:47.580Z"
   },
   {
    "duration": 13,
    "start_time": "2022-07-16T23:40:47.588Z"
   },
   {
    "duration": 10,
    "start_time": "2022-07-16T23:40:47.604Z"
   },
   {
    "duration": 9,
    "start_time": "2022-07-16T23:40:47.616Z"
   },
   {
    "duration": 25,
    "start_time": "2022-07-16T23:40:47.626Z"
   },
   {
    "duration": 4,
    "start_time": "2022-07-16T23:40:47.653Z"
   },
   {
    "duration": 21,
    "start_time": "2022-07-16T23:40:47.659Z"
   },
   {
    "duration": 17,
    "start_time": "2022-07-16T23:40:47.682Z"
   },
   {
    "duration": 12,
    "start_time": "2022-07-16T23:40:47.701Z"
   },
   {
    "duration": 4,
    "start_time": "2022-07-16T23:40:47.715Z"
   },
   {
    "duration": 11,
    "start_time": "2022-07-16T23:40:47.746Z"
   },
   {
    "duration": 9,
    "start_time": "2022-07-16T23:40:47.759Z"
   },
   {
    "duration": 5,
    "start_time": "2022-07-16T23:40:47.769Z"
   },
   {
    "duration": 10,
    "start_time": "2022-07-16T23:40:47.775Z"
   },
   {
    "duration": 12,
    "start_time": "2022-07-16T23:40:47.786Z"
   },
   {
    "duration": 4,
    "start_time": "2022-07-16T23:40:47.799Z"
   },
   {
    "duration": 10,
    "start_time": "2022-07-16T23:40:47.804Z"
   },
   {
    "duration": 47,
    "start_time": "2022-07-16T23:40:47.815Z"
   },
   {
    "duration": 18,
    "start_time": "2022-07-16T23:40:47.864Z"
   },
   {
    "duration": 4,
    "start_time": "2022-07-16T23:40:47.883Z"
   },
   {
    "duration": 31,
    "start_time": "2022-07-16T23:40:47.890Z"
   },
   {
    "duration": 204,
    "start_time": "2022-07-16T23:40:47.922Z"
   },
   {
    "duration": 23,
    "start_time": "2022-07-16T23:40:48.127Z"
   },
   {
    "duration": 18,
    "start_time": "2022-07-16T23:40:48.152Z"
   },
   {
    "duration": 24,
    "start_time": "2022-07-16T23:40:48.171Z"
   },
   {
    "duration": 194,
    "start_time": "2022-07-16T23:40:48.197Z"
   },
   {
    "duration": 16,
    "start_time": "2022-07-16T23:40:48.392Z"
   },
   {
    "duration": 18,
    "start_time": "2022-07-16T23:40:48.410Z"
   },
   {
    "duration": 38,
    "start_time": "2022-07-16T23:40:48.429Z"
   },
   {
    "duration": 181,
    "start_time": "2022-07-16T23:40:48.468Z"
   },
   {
    "duration": 16,
    "start_time": "2022-07-16T23:40:48.651Z"
   },
   {
    "duration": 19,
    "start_time": "2022-07-16T23:40:48.669Z"
   },
   {
    "duration": 26,
    "start_time": "2022-07-16T23:40:48.689Z"
   },
   {
    "duration": 199,
    "start_time": "2022-07-16T23:40:48.717Z"
   },
   {
    "duration": 10,
    "start_time": "2022-07-16T23:43:12.998Z"
   },
   {
    "duration": 1158,
    "start_time": "2022-07-16T23:45:06.177Z"
   },
   {
    "duration": 18,
    "start_time": "2022-07-16T23:45:07.337Z"
   },
   {
    "duration": 14,
    "start_time": "2022-07-16T23:45:07.357Z"
   },
   {
    "duration": 9,
    "start_time": "2022-07-16T23:45:07.373Z"
   },
   {
    "duration": 8,
    "start_time": "2022-07-16T23:45:07.383Z"
   },
   {
    "duration": 7,
    "start_time": "2022-07-16T23:45:07.392Z"
   },
   {
    "duration": 9,
    "start_time": "2022-07-16T23:45:07.401Z"
   },
   {
    "duration": 4,
    "start_time": "2022-07-16T23:45:07.412Z"
   },
   {
    "duration": 29,
    "start_time": "2022-07-16T23:45:07.418Z"
   },
   {
    "duration": 5,
    "start_time": "2022-07-16T23:45:07.449Z"
   },
   {
    "duration": 10,
    "start_time": "2022-07-16T23:45:07.455Z"
   },
   {
    "duration": 15,
    "start_time": "2022-07-16T23:45:07.467Z"
   },
   {
    "duration": 3,
    "start_time": "2022-07-16T23:45:07.484Z"
   },
   {
    "duration": 23,
    "start_time": "2022-07-16T23:45:07.489Z"
   },
   {
    "duration": 38,
    "start_time": "2022-07-16T23:45:07.514Z"
   },
   {
    "duration": 11,
    "start_time": "2022-07-16T23:45:07.553Z"
   },
   {
    "duration": 6,
    "start_time": "2022-07-16T23:45:07.566Z"
   },
   {
    "duration": 16,
    "start_time": "2022-07-16T23:45:07.574Z"
   },
   {
    "duration": 8,
    "start_time": "2022-07-16T23:45:07.591Z"
   },
   {
    "duration": 4,
    "start_time": "2022-07-16T23:45:07.601Z"
   },
   {
    "duration": 12,
    "start_time": "2022-07-16T23:45:07.607Z"
   },
   {
    "duration": 25,
    "start_time": "2022-07-16T23:45:07.620Z"
   },
   {
    "duration": 4,
    "start_time": "2022-07-16T23:45:07.647Z"
   },
   {
    "duration": 14,
    "start_time": "2022-07-16T23:45:07.652Z"
   },
   {
    "duration": 22,
    "start_time": "2022-07-16T23:45:07.667Z"
   },
   {
    "duration": 18,
    "start_time": "2022-07-16T23:45:07.690Z"
   },
   {
    "duration": 4,
    "start_time": "2022-07-16T23:45:07.709Z"
   },
   {
    "duration": 36,
    "start_time": "2022-07-16T23:45:07.715Z"
   },
   {
    "duration": 185,
    "start_time": "2022-07-16T23:45:07.752Z"
   },
   {
    "duration": 19,
    "start_time": "2022-07-16T23:45:07.939Z"
   },
   {
    "duration": 18,
    "start_time": "2022-07-16T23:45:07.959Z"
   },
   {
    "duration": 24,
    "start_time": "2022-07-16T23:45:07.978Z"
   },
   {
    "duration": 196,
    "start_time": "2022-07-16T23:45:08.004Z"
   },
   {
    "duration": 14,
    "start_time": "2022-07-16T23:45:08.202Z"
   },
   {
    "duration": 28,
    "start_time": "2022-07-16T23:45:08.218Z"
   },
   {
    "duration": 29,
    "start_time": "2022-07-16T23:45:08.248Z"
   },
   {
    "duration": 189,
    "start_time": "2022-07-16T23:45:08.278Z"
   },
   {
    "duration": 16,
    "start_time": "2022-07-16T23:45:08.468Z"
   },
   {
    "duration": 18,
    "start_time": "2022-07-16T23:45:08.486Z"
   },
   {
    "duration": 46,
    "start_time": "2022-07-16T23:45:08.506Z"
   },
   {
    "duration": 169,
    "start_time": "2022-07-16T23:45:08.553Z"
   },
   {
    "duration": 1162,
    "start_time": "2022-07-17T07:27:26.156Z"
   },
   {
    "duration": 19,
    "start_time": "2022-07-17T07:27:27.320Z"
   },
   {
    "duration": 27,
    "start_time": "2022-07-17T07:27:27.340Z"
   },
   {
    "duration": 22,
    "start_time": "2022-07-17T07:27:27.369Z"
   },
   {
    "duration": 16,
    "start_time": "2022-07-17T07:27:27.393Z"
   },
   {
    "duration": 29,
    "start_time": "2022-07-17T07:27:27.410Z"
   },
   {
    "duration": 29,
    "start_time": "2022-07-17T07:27:27.441Z"
   },
   {
    "duration": 35,
    "start_time": "2022-07-17T07:27:27.472Z"
   },
   {
    "duration": 19,
    "start_time": "2022-07-17T07:27:27.508Z"
   },
   {
    "duration": 37,
    "start_time": "2022-07-17T07:27:27.529Z"
   },
   {
    "duration": 28,
    "start_time": "2022-07-17T07:27:27.567Z"
   },
   {
    "duration": 34,
    "start_time": "2022-07-17T07:27:27.597Z"
   },
   {
    "duration": 36,
    "start_time": "2022-07-17T07:27:27.633Z"
   },
   {
    "duration": 25,
    "start_time": "2022-07-17T07:27:27.671Z"
   },
   {
    "duration": 33,
    "start_time": "2022-07-17T07:27:27.697Z"
   },
   {
    "duration": 25,
    "start_time": "2022-07-17T07:27:27.732Z"
   },
   {
    "duration": 29,
    "start_time": "2022-07-17T07:27:27.759Z"
   },
   {
    "duration": 40,
    "start_time": "2022-07-17T07:27:27.789Z"
   },
   {
    "duration": 18,
    "start_time": "2022-07-17T07:27:27.831Z"
   },
   {
    "duration": 19,
    "start_time": "2022-07-17T07:27:27.850Z"
   },
   {
    "duration": 44,
    "start_time": "2022-07-17T07:27:27.870Z"
   },
   {
    "duration": 40,
    "start_time": "2022-07-17T07:27:27.916Z"
   },
   {
    "duration": 31,
    "start_time": "2022-07-17T07:27:27.958Z"
   },
   {
    "duration": 33,
    "start_time": "2022-07-17T07:27:27.991Z"
   },
   {
    "duration": 24,
    "start_time": "2022-07-17T07:27:28.026Z"
   },
   {
    "duration": 28,
    "start_time": "2022-07-17T07:27:28.052Z"
   },
   {
    "duration": 9,
    "start_time": "2022-07-17T07:27:28.082Z"
   },
   {
    "duration": 41,
    "start_time": "2022-07-17T07:27:28.094Z"
   },
   {
    "duration": 176,
    "start_time": "2022-07-17T07:27:28.137Z"
   },
   {
    "duration": 16,
    "start_time": "2022-07-17T07:27:28.314Z"
   },
   {
    "duration": 30,
    "start_time": "2022-07-17T07:27:28.331Z"
   },
   {
    "duration": 32,
    "start_time": "2022-07-17T07:27:28.362Z"
   },
   {
    "duration": 175,
    "start_time": "2022-07-17T07:27:28.396Z"
   },
   {
    "duration": 16,
    "start_time": "2022-07-17T07:27:28.572Z"
   },
   {
    "duration": 44,
    "start_time": "2022-07-17T07:27:28.590Z"
   },
   {
    "duration": 25,
    "start_time": "2022-07-17T07:27:28.636Z"
   },
   {
    "duration": 198,
    "start_time": "2022-07-17T07:27:28.663Z"
   },
   {
    "duration": 16,
    "start_time": "2022-07-17T07:27:28.862Z"
   },
   {
    "duration": 30,
    "start_time": "2022-07-17T07:27:28.880Z"
   },
   {
    "duration": 45,
    "start_time": "2022-07-17T07:27:28.911Z"
   },
   {
    "duration": 160,
    "start_time": "2022-07-17T07:27:28.957Z"
   },
   {
    "duration": 1417,
    "start_time": "2022-07-17T21:26:03.848Z"
   },
   {
    "duration": 19,
    "start_time": "2022-07-17T21:26:05.267Z"
   },
   {
    "duration": 15,
    "start_time": "2022-07-17T21:26:05.288Z"
   },
   {
    "duration": 10,
    "start_time": "2022-07-17T21:26:05.306Z"
   },
   {
    "duration": 7,
    "start_time": "2022-07-17T21:26:05.317Z"
   },
   {
    "duration": 4,
    "start_time": "2022-07-17T21:26:05.326Z"
   },
   {
    "duration": 8,
    "start_time": "2022-07-17T21:26:05.353Z"
   },
   {
    "duration": 4,
    "start_time": "2022-07-17T21:26:05.363Z"
   },
   {
    "duration": 10,
    "start_time": "2022-07-17T21:26:05.369Z"
   },
   {
    "duration": 4,
    "start_time": "2022-07-17T21:26:05.381Z"
   },
   {
    "duration": 7,
    "start_time": "2022-07-17T21:26:05.387Z"
   },
   {
    "duration": 9,
    "start_time": "2022-07-17T21:26:05.396Z"
   },
   {
    "duration": 46,
    "start_time": "2022-07-17T21:26:05.406Z"
   },
   {
    "duration": 18,
    "start_time": "2022-07-17T21:26:05.454Z"
   },
   {
    "duration": 16,
    "start_time": "2022-07-17T21:26:05.474Z"
   },
   {
    "duration": 10,
    "start_time": "2022-07-17T21:26:05.492Z"
   },
   {
    "duration": 5,
    "start_time": "2022-07-17T21:26:05.504Z"
   },
   {
    "duration": 11,
    "start_time": "2022-07-17T21:26:05.511Z"
   },
   {
    "duration": 29,
    "start_time": "2022-07-17T21:26:05.524Z"
   },
   {
    "duration": 4,
    "start_time": "2022-07-17T21:26:05.555Z"
   },
   {
    "duration": 9,
    "start_time": "2022-07-17T21:26:05.561Z"
   },
   {
    "duration": 11,
    "start_time": "2022-07-17T21:26:05.572Z"
   },
   {
    "duration": 4,
    "start_time": "2022-07-17T21:26:05.584Z"
   },
   {
    "duration": 8,
    "start_time": "2022-07-17T21:26:05.589Z"
   },
   {
    "duration": 16,
    "start_time": "2022-07-17T21:26:05.598Z"
   },
   {
    "duration": 49,
    "start_time": "2022-07-17T21:26:05.615Z"
   },
   {
    "duration": 3,
    "start_time": "2022-07-17T21:26:05.665Z"
   },
   {
    "duration": 25,
    "start_time": "2022-07-17T21:26:05.670Z"
   },
   {
    "duration": 212,
    "start_time": "2022-07-17T21:26:05.696Z"
   },
   {
    "duration": 15,
    "start_time": "2022-07-17T21:26:05.910Z"
   },
   {
    "duration": 28,
    "start_time": "2022-07-17T21:26:05.927Z"
   },
   {
    "duration": 25,
    "start_time": "2022-07-17T21:26:05.956Z"
   },
   {
    "duration": 235,
    "start_time": "2022-07-17T21:26:05.983Z"
   },
   {
    "duration": 16,
    "start_time": "2022-07-17T21:26:06.220Z"
   },
   {
    "duration": 30,
    "start_time": "2022-07-17T21:26:06.238Z"
   },
   {
    "duration": 23,
    "start_time": "2022-07-17T21:26:06.270Z"
   },
   {
    "duration": 182,
    "start_time": "2022-07-17T21:26:06.295Z"
   },
   {
    "duration": 15,
    "start_time": "2022-07-17T21:26:06.479Z"
   },
   {
    "duration": 18,
    "start_time": "2022-07-17T21:26:06.496Z"
   },
   {
    "duration": 38,
    "start_time": "2022-07-17T21:26:06.515Z"
   },
   {
    "duration": 170,
    "start_time": "2022-07-17T21:26:06.554Z"
   },
   {
    "duration": 7,
    "start_time": "2022-07-17T21:33:49.979Z"
   },
   {
    "duration": 50,
    "start_time": "2022-07-18T07:43:29.471Z"
   },
   {
    "duration": 1540,
    "start_time": "2022-07-18T07:43:44.268Z"
   },
   {
    "duration": 19,
    "start_time": "2022-07-18T07:43:45.811Z"
   },
   {
    "duration": 22,
    "start_time": "2022-07-18T07:43:45.831Z"
   },
   {
    "duration": 10,
    "start_time": "2022-07-18T07:43:45.855Z"
   },
   {
    "duration": 15,
    "start_time": "2022-07-18T07:43:45.866Z"
   },
   {
    "duration": 16,
    "start_time": "2022-07-18T07:43:45.882Z"
   },
   {
    "duration": 17,
    "start_time": "2022-07-18T07:43:45.900Z"
   },
   {
    "duration": 17,
    "start_time": "2022-07-18T07:43:45.918Z"
   },
   {
    "duration": 18,
    "start_time": "2022-07-18T07:43:45.937Z"
   },
   {
    "duration": 18,
    "start_time": "2022-07-18T07:43:45.958Z"
   },
   {
    "duration": 23,
    "start_time": "2022-07-18T07:43:45.977Z"
   },
   {
    "duration": 20,
    "start_time": "2022-07-18T07:43:46.001Z"
   },
   {
    "duration": 23,
    "start_time": "2022-07-18T07:43:46.023Z"
   },
   {
    "duration": 27,
    "start_time": "2022-07-18T07:43:46.047Z"
   },
   {
    "duration": 27,
    "start_time": "2022-07-18T07:43:46.076Z"
   },
   {
    "duration": 16,
    "start_time": "2022-07-18T07:43:46.105Z"
   },
   {
    "duration": 23,
    "start_time": "2022-07-18T07:43:46.122Z"
   },
   {
    "duration": 24,
    "start_time": "2022-07-18T07:43:46.146Z"
   },
   {
    "duration": 22,
    "start_time": "2022-07-18T07:43:46.171Z"
   },
   {
    "duration": 12,
    "start_time": "2022-07-18T07:43:46.195Z"
   },
   {
    "duration": 44,
    "start_time": "2022-07-18T07:43:46.209Z"
   },
   {
    "duration": 30,
    "start_time": "2022-07-18T07:43:46.255Z"
   },
   {
    "duration": 11,
    "start_time": "2022-07-18T07:43:46.287Z"
   },
   {
    "duration": 18,
    "start_time": "2022-07-18T07:43:46.300Z"
   },
   {
    "duration": 38,
    "start_time": "2022-07-18T07:43:46.320Z"
   },
   {
    "duration": 37,
    "start_time": "2022-07-18T07:43:46.359Z"
   },
   {
    "duration": 8,
    "start_time": "2022-07-18T07:43:46.398Z"
   },
   {
    "duration": 44,
    "start_time": "2022-07-18T07:43:46.409Z"
   },
   {
    "duration": 11,
    "start_time": "2022-07-18T07:43:46.455Z"
   },
   {
    "duration": 198,
    "start_time": "2022-07-18T07:43:46.467Z"
   },
   {
    "duration": 17,
    "start_time": "2022-07-18T07:43:46.666Z"
   },
   {
    "duration": 32,
    "start_time": "2022-07-18T07:43:46.684Z"
   },
   {
    "duration": 25,
    "start_time": "2022-07-18T07:43:46.718Z"
   },
   {
    "duration": 187,
    "start_time": "2022-07-18T07:43:46.744Z"
   },
   {
    "duration": 16,
    "start_time": "2022-07-18T07:43:46.933Z"
   },
   {
    "duration": 17,
    "start_time": "2022-07-18T07:43:46.951Z"
   },
   {
    "duration": 44,
    "start_time": "2022-07-18T07:43:46.970Z"
   },
   {
    "duration": 187,
    "start_time": "2022-07-18T07:43:47.015Z"
   },
   {
    "duration": 17,
    "start_time": "2022-07-18T07:43:47.209Z"
   },
   {
    "duration": 39,
    "start_time": "2022-07-18T07:43:47.227Z"
   },
   {
    "duration": 29,
    "start_time": "2022-07-18T07:43:47.268Z"
   },
   {
    "duration": 181,
    "start_time": "2022-07-18T07:43:47.299Z"
   },
   {
    "duration": 24,
    "start_time": "2022-07-18T07:46:50.610Z"
   },
   {
    "duration": 25,
    "start_time": "2022-07-18T07:51:52.908Z"
   },
   {
    "duration": 24,
    "start_time": "2022-07-18T07:52:17.339Z"
   },
   {
    "duration": 190,
    "start_time": "2022-07-18T07:52:47.608Z"
   },
   {
    "duration": 172,
    "start_time": "2022-07-18T07:53:09.139Z"
   },
   {
    "duration": 159,
    "start_time": "2022-07-18T07:53:14.568Z"
   },
   {
    "duration": 1101,
    "start_time": "2022-07-18T07:55:39.485Z"
   },
   {
    "duration": 28,
    "start_time": "2022-07-18T07:55:56.364Z"
   },
   {
    "duration": 890,
    "start_time": "2022-07-18T07:59:46.416Z"
   },
   {
    "duration": 25,
    "start_time": "2022-07-18T08:00:12.050Z"
   },
   {
    "duration": 26,
    "start_time": "2022-07-18T08:00:31.663Z"
   },
   {
    "duration": 27,
    "start_time": "2022-07-18T08:01:59.403Z"
   },
   {
    "duration": 1052,
    "start_time": "2022-07-18T08:04:46.127Z"
   },
   {
    "duration": 28,
    "start_time": "2022-07-18T08:04:54.371Z"
   },
   {
    "duration": 28,
    "start_time": "2022-07-18T08:06:10.844Z"
   },
   {
    "duration": 27,
    "start_time": "2022-07-18T08:08:49.984Z"
   },
   {
    "duration": 78,
    "start_time": "2022-07-18T08:09:02.802Z"
   },
   {
    "duration": 16,
    "start_time": "2022-07-18T08:09:02.882Z"
   },
   {
    "duration": 17,
    "start_time": "2022-07-18T08:09:02.909Z"
   },
   {
    "duration": 10,
    "start_time": "2022-07-18T08:09:02.928Z"
   },
   {
    "duration": 7,
    "start_time": "2022-07-18T08:09:02.940Z"
   },
   {
    "duration": 9,
    "start_time": "2022-07-18T08:09:02.949Z"
   },
   {
    "duration": 31,
    "start_time": "2022-07-18T08:09:02.960Z"
   },
   {
    "duration": 5,
    "start_time": "2022-07-18T08:09:03.010Z"
   },
   {
    "duration": 40,
    "start_time": "2022-07-18T08:09:03.017Z"
   },
   {
    "duration": 6,
    "start_time": "2022-07-18T08:09:03.060Z"
   },
   {
    "duration": 9,
    "start_time": "2022-07-18T08:09:03.067Z"
   },
   {
    "duration": 15,
    "start_time": "2022-07-18T08:09:03.078Z"
   },
   {
    "duration": 19,
    "start_time": "2022-07-18T08:09:03.095Z"
   },
   {
    "duration": 41,
    "start_time": "2022-07-18T08:09:03.116Z"
   },
   {
    "duration": 40,
    "start_time": "2022-07-18T08:09:03.159Z"
   },
   {
    "duration": 10,
    "start_time": "2022-07-18T08:09:03.201Z"
   },
   {
    "duration": 8,
    "start_time": "2022-07-18T08:09:03.213Z"
   },
   {
    "duration": 29,
    "start_time": "2022-07-18T08:09:03.223Z"
   },
   {
    "duration": 7,
    "start_time": "2022-07-18T08:09:03.255Z"
   },
   {
    "duration": 7,
    "start_time": "2022-07-18T08:09:03.264Z"
   },
   {
    "duration": 20,
    "start_time": "2022-07-18T08:09:03.273Z"
   },
   {
    "duration": 18,
    "start_time": "2022-07-18T08:09:03.295Z"
   },
   {
    "duration": 4,
    "start_time": "2022-07-18T08:09:03.315Z"
   },
   {
    "duration": 17,
    "start_time": "2022-07-18T08:09:03.321Z"
   },
   {
    "duration": 24,
    "start_time": "2022-07-18T08:09:03.340Z"
   },
   {
    "duration": 42,
    "start_time": "2022-07-18T08:09:03.367Z"
   },
   {
    "duration": 5,
    "start_time": "2022-07-18T08:09:03.411Z"
   },
   {
    "duration": 49,
    "start_time": "2022-07-18T08:09:03.421Z"
   },
   {
    "duration": 23,
    "start_time": "2022-07-18T08:09:03.472Z"
   },
   {
    "duration": 197,
    "start_time": "2022-07-18T08:09:03.497Z"
   },
   {
    "duration": 21,
    "start_time": "2022-07-18T08:09:03.696Z"
   },
   {
    "duration": 17,
    "start_time": "2022-07-18T08:09:03.719Z"
   },
   {
    "duration": 25,
    "start_time": "2022-07-18T08:09:03.738Z"
   },
   {
    "duration": 200,
    "start_time": "2022-07-18T08:09:03.764Z"
   },
   {
    "duration": 15,
    "start_time": "2022-07-18T08:09:03.965Z"
   },
   {
    "duration": 33,
    "start_time": "2022-07-18T08:09:03.981Z"
   },
   {
    "duration": 24,
    "start_time": "2022-07-18T08:09:04.016Z"
   },
   {
    "duration": 273,
    "start_time": "2022-07-18T08:09:04.042Z"
   },
   {
    "duration": 16,
    "start_time": "2022-07-18T08:09:04.316Z"
   },
   {
    "duration": 19,
    "start_time": "2022-07-18T08:09:04.333Z"
   },
   {
    "duration": 24,
    "start_time": "2022-07-18T08:09:04.354Z"
   },
   {
    "duration": 187,
    "start_time": "2022-07-18T08:09:04.380Z"
   },
   {
    "duration": 24,
    "start_time": "2022-07-18T08:09:25.943Z"
   },
   {
    "duration": 200,
    "start_time": "2022-07-18T08:11:23.804Z"
   },
   {
    "duration": 134,
    "start_time": "2022-07-18T08:15:54.637Z"
   },
   {
    "duration": 23,
    "start_time": "2022-07-18T08:21:21.984Z"
   },
   {
    "duration": 34,
    "start_time": "2022-07-18T08:22:03.080Z"
   },
   {
    "duration": 23,
    "start_time": "2022-07-18T08:24:58.266Z"
   },
   {
    "duration": 24,
    "start_time": "2022-07-18T08:25:14.593Z"
   },
   {
    "duration": 28,
    "start_time": "2022-07-18T08:25:37.168Z"
   },
   {
    "duration": 143,
    "start_time": "2022-07-18T08:25:40.914Z"
   },
   {
    "duration": 120,
    "start_time": "2022-07-18T08:26:05.123Z"
   },
   {
    "duration": 26,
    "start_time": "2022-07-18T08:27:43.015Z"
   },
   {
    "duration": 24,
    "start_time": "2022-07-18T08:28:08.554Z"
   },
   {
    "duration": 1608,
    "start_time": "2022-07-18T08:28:17.303Z"
   },
   {
    "duration": 118,
    "start_time": "2022-07-18T08:28:38.663Z"
   },
   {
    "duration": 154,
    "start_time": "2022-07-18T08:30:32.179Z"
   },
   {
    "duration": 143,
    "start_time": "2022-07-18T08:30:57.023Z"
   },
   {
    "duration": 154,
    "start_time": "2022-07-18T08:31:05.807Z"
   },
   {
    "duration": 128,
    "start_time": "2022-07-18T08:31:14.466Z"
   },
   {
    "duration": 237,
    "start_time": "2022-07-18T08:31:34.388Z"
   },
   {
    "duration": 149,
    "start_time": "2022-07-18T08:31:48.030Z"
   },
   {
    "duration": 121,
    "start_time": "2022-07-18T08:31:56.921Z"
   },
   {
    "duration": 30,
    "start_time": "2022-07-18T08:39:11.655Z"
   },
   {
    "duration": 123,
    "start_time": "2022-07-18T08:39:20.647Z"
   },
   {
    "duration": 127,
    "start_time": "2022-07-18T08:39:23.688Z"
   },
   {
    "duration": 123,
    "start_time": "2022-07-18T08:39:26.599Z"
   },
   {
    "duration": 83,
    "start_time": "2022-07-18T08:39:36.866Z"
   },
   {
    "duration": 143,
    "start_time": "2022-07-18T08:39:43.658Z"
   },
   {
    "duration": 152,
    "start_time": "2022-07-18T08:39:48.803Z"
   },
   {
    "duration": 24,
    "start_time": "2022-07-18T12:06:37.615Z"
   },
   {
    "duration": 140,
    "start_time": "2022-07-18T12:06:47.203Z"
   },
   {
    "duration": 34,
    "start_time": "2022-07-18T12:07:11.090Z"
   },
   {
    "duration": 24,
    "start_time": "2022-07-18T12:07:29.023Z"
   },
   {
    "duration": 35,
    "start_time": "2022-07-18T12:08:13.490Z"
   },
   {
    "duration": 121,
    "start_time": "2022-07-18T12:08:17.561Z"
   },
   {
    "duration": 120,
    "start_time": "2022-07-18T12:08:22.344Z"
   },
   {
    "duration": 232,
    "start_time": "2022-07-18T12:13:37.108Z"
   },
   {
    "duration": 137,
    "start_time": "2022-07-18T12:13:44.184Z"
   },
   {
    "duration": 130,
    "start_time": "2022-07-18T12:14:14.240Z"
   },
   {
    "duration": 128,
    "start_time": "2022-07-18T12:14:22.438Z"
   },
   {
    "duration": 184,
    "start_time": "2022-07-18T12:15:02.595Z"
   },
   {
    "duration": 143,
    "start_time": "2022-07-18T12:15:32.018Z"
   },
   {
    "duration": 12,
    "start_time": "2022-07-18T12:15:35.900Z"
   },
   {
    "duration": 10,
    "start_time": "2022-07-18T12:17:49.052Z"
   },
   {
    "duration": 12,
    "start_time": "2022-07-18T12:18:02.341Z"
   },
   {
    "duration": 121,
    "start_time": "2022-07-18T12:18:12.071Z"
   },
   {
    "duration": 156,
    "start_time": "2022-07-18T12:18:23.089Z"
   },
   {
    "duration": 306,
    "start_time": "2022-07-18T12:20:33.809Z"
   },
   {
    "duration": 359,
    "start_time": "2022-07-18T12:20:48.783Z"
   },
   {
    "duration": 331,
    "start_time": "2022-07-18T12:20:55.906Z"
   },
   {
    "duration": 317,
    "start_time": "2022-07-18T12:21:29.449Z"
   },
   {
    "duration": 443,
    "start_time": "2022-07-18T12:21:53.164Z"
   },
   {
    "duration": 51,
    "start_time": "2022-07-18T12:23:02.167Z"
   },
   {
    "duration": 58,
    "start_time": "2022-07-18T12:23:10.924Z"
   },
   {
    "duration": 59,
    "start_time": "2022-07-18T12:23:17.297Z"
   },
   {
    "duration": 335,
    "start_time": "2022-07-18T12:23:24.885Z"
   },
   {
    "duration": 340,
    "start_time": "2022-07-18T12:23:36.869Z"
   },
   {
    "duration": 358,
    "start_time": "2022-07-18T12:24:42.193Z"
   },
   {
    "duration": 319,
    "start_time": "2022-07-18T12:24:49.025Z"
   },
   {
    "duration": 273,
    "start_time": "2022-07-18T12:24:55.324Z"
   },
   {
    "duration": 279,
    "start_time": "2022-07-18T12:25:02.726Z"
   },
   {
    "duration": 290,
    "start_time": "2022-07-18T12:25:07.428Z"
   },
   {
    "duration": 418,
    "start_time": "2022-07-18T12:25:16.487Z"
   },
   {
    "duration": 319,
    "start_time": "2022-07-18T12:25:21.823Z"
   },
   {
    "duration": 325,
    "start_time": "2022-07-18T12:25:26.599Z"
   },
   {
    "duration": 405,
    "start_time": "2022-07-18T12:25:30.840Z"
   },
   {
    "duration": 299,
    "start_time": "2022-07-18T12:25:37.422Z"
   },
   {
    "duration": 295,
    "start_time": "2022-07-18T12:25:44.727Z"
   },
   {
    "duration": 354,
    "start_time": "2022-07-18T12:25:52.489Z"
   },
   {
    "duration": 307,
    "start_time": "2022-07-18T12:27:26.790Z"
   },
   {
    "duration": 1072,
    "start_time": "2022-07-18T12:28:26.626Z"
   },
   {
    "duration": 1237,
    "start_time": "2022-07-18T12:28:43.749Z"
   },
   {
    "duration": 1090,
    "start_time": "2022-07-18T12:28:51.072Z"
   },
   {
    "duration": 1985,
    "start_time": "2022-07-18T12:29:07.343Z"
   },
   {
    "duration": 297,
    "start_time": "2022-07-18T12:29:35.497Z"
   },
   {
    "duration": 5,
    "start_time": "2022-07-18T12:30:02.386Z"
   },
   {
    "duration": 363,
    "start_time": "2022-07-18T12:30:14.794Z"
   },
   {
    "duration": 75,
    "start_time": "2022-07-18T12:30:58.123Z"
   },
   {
    "duration": 446,
    "start_time": "2022-07-18T12:31:41.345Z"
   },
   {
    "duration": 310,
    "start_time": "2022-07-18T12:31:52.557Z"
   },
   {
    "duration": 54,
    "start_time": "2022-07-18T12:32:24.605Z"
   },
   {
    "duration": 57,
    "start_time": "2022-07-18T12:33:39.775Z"
   },
   {
    "duration": 285,
    "start_time": "2022-07-18T12:33:55.545Z"
   },
   {
    "duration": 1053,
    "start_time": "2022-07-18T12:34:21.557Z"
   },
   {
    "duration": 5,
    "start_time": "2022-07-18T12:34:35.189Z"
   },
   {
    "duration": 4,
    "start_time": "2022-07-18T12:34:39.243Z"
   },
   {
    "duration": 56,
    "start_time": "2022-07-18T12:35:11.055Z"
   },
   {
    "duration": 1304,
    "start_time": "2022-07-18T12:35:14.543Z"
   },
   {
    "duration": 71,
    "start_time": "2022-07-18T12:35:37.564Z"
   },
   {
    "duration": 972,
    "start_time": "2022-07-18T12:36:06.595Z"
   },
   {
    "duration": 290,
    "start_time": "2022-07-18T12:37:39.846Z"
   },
   {
    "duration": 735,
    "start_time": "2022-07-18T12:38:46.359Z"
   },
   {
    "duration": 5,
    "start_time": "2022-07-18T12:38:50.683Z"
   },
   {
    "duration": 5,
    "start_time": "2022-07-18T12:39:27.027Z"
   },
   {
    "duration": 281,
    "start_time": "2022-07-18T12:39:59.916Z"
   },
   {
    "duration": 5,
    "start_time": "2022-07-18T12:40:10.153Z"
   },
   {
    "duration": 290,
    "start_time": "2022-07-18T12:40:25.325Z"
   },
   {
    "duration": 14,
    "start_time": "2022-07-18T12:55:36.920Z"
   },
   {
    "duration": 394,
    "start_time": "2022-07-18T12:55:49.657Z"
   },
   {
    "duration": 317,
    "start_time": "2022-07-18T12:56:11.204Z"
   },
   {
    "duration": 417,
    "start_time": "2022-07-18T12:56:44.567Z"
   },
   {
    "duration": 310,
    "start_time": "2022-07-18T12:56:50.103Z"
   },
   {
    "duration": 266,
    "start_time": "2022-07-18T12:57:29.631Z"
   },
   {
    "duration": 294,
    "start_time": "2022-07-18T12:57:33.429Z"
   },
   {
    "duration": 303,
    "start_time": "2022-07-18T12:57:38.724Z"
   },
   {
    "duration": 297,
    "start_time": "2022-07-18T13:02:58.457Z"
   },
   {
    "duration": 271,
    "start_time": "2022-07-18T13:03:23.543Z"
   },
   {
    "duration": 4,
    "start_time": "2022-07-18T13:04:39.463Z"
   },
   {
    "duration": 291,
    "start_time": "2022-07-18T13:08:04.634Z"
   },
   {
    "duration": 75,
    "start_time": "2022-07-18T13:27:19.295Z"
   },
   {
    "duration": 9,
    "start_time": "2022-07-18T13:27:23.443Z"
   },
   {
    "duration": 30,
    "start_time": "2022-07-18T13:27:34.848Z"
   },
   {
    "duration": 34,
    "start_time": "2022-07-18T13:27:39.924Z"
   },
   {
    "duration": 55,
    "start_time": "2022-07-18T13:28:13.368Z"
   },
   {
    "duration": 26,
    "start_time": "2022-07-18T13:28:16.682Z"
   },
   {
    "duration": 49,
    "start_time": "2022-07-18T13:28:31.886Z"
   },
   {
    "duration": 21,
    "start_time": "2022-07-18T13:29:48.376Z"
   },
   {
    "duration": 22,
    "start_time": "2022-07-18T13:30:24.873Z"
   },
   {
    "duration": 22,
    "start_time": "2022-07-18T13:32:34.436Z"
   },
   {
    "duration": 13,
    "start_time": "2022-07-18T13:32:38.870Z"
   },
   {
    "duration": 26,
    "start_time": "2022-07-18T13:32:47.186Z"
   },
   {
    "duration": 26,
    "start_time": "2022-07-18T13:32:54.795Z"
   },
   {
    "duration": 19,
    "start_time": "2022-07-18T13:34:29.936Z"
   },
   {
    "duration": 31,
    "start_time": "2022-07-18T13:34:33.893Z"
   },
   {
    "duration": 38,
    "start_time": "2022-07-18T13:35:45.132Z"
   },
   {
    "duration": 51,
    "start_time": "2022-07-18T13:36:04.116Z"
   },
   {
    "duration": 51,
    "start_time": "2022-07-18T13:36:12.763Z"
   },
   {
    "duration": 66,
    "start_time": "2022-07-18T13:37:33.708Z"
   },
   {
    "duration": 36,
    "start_time": "2022-07-18T13:37:41.533Z"
   },
   {
    "duration": 28,
    "start_time": "2022-07-18T13:38:04.349Z"
   },
   {
    "duration": 31,
    "start_time": "2022-07-18T13:38:07.832Z"
   },
   {
    "duration": 27,
    "start_time": "2022-07-18T13:38:18.425Z"
   },
   {
    "duration": 24,
    "start_time": "2022-07-18T13:39:10.364Z"
   },
   {
    "duration": 16,
    "start_time": "2022-07-18T13:39:23.476Z"
   },
   {
    "duration": 20,
    "start_time": "2022-07-18T13:40:06.698Z"
   },
   {
    "duration": 75,
    "start_time": "2022-07-18T13:41:39.900Z"
   },
   {
    "duration": 970,
    "start_time": "2022-07-18T13:42:20.977Z"
   },
   {
    "duration": 8,
    "start_time": "2022-07-18T13:42:30.189Z"
   },
   {
    "duration": 26,
    "start_time": "2022-07-18T13:44:19.448Z"
   },
   {
    "duration": 14,
    "start_time": "2022-07-18T13:44:32.837Z"
   },
   {
    "duration": 1085,
    "start_time": "2022-07-18T13:45:40.824Z"
   },
   {
    "duration": 953,
    "start_time": "2022-07-18T13:45:45.879Z"
   },
   {
    "duration": 5,
    "start_time": "2022-07-18T13:45:52.625Z"
   },
   {
    "duration": 7,
    "start_time": "2022-07-18T13:46:00.237Z"
   },
   {
    "duration": 6,
    "start_time": "2022-07-18T13:46:12.317Z"
   },
   {
    "duration": 4,
    "start_time": "2022-07-18T13:46:28.760Z"
   },
   {
    "duration": 6,
    "start_time": "2022-07-18T13:46:32.825Z"
   },
   {
    "duration": 15,
    "start_time": "2022-07-18T13:47:57.563Z"
   },
   {
    "duration": 2,
    "start_time": "2022-07-18T13:48:33.190Z"
   },
   {
    "duration": 10,
    "start_time": "2022-07-18T13:48:41.848Z"
   },
   {
    "duration": 13,
    "start_time": "2022-07-18T13:48:55.596Z"
   },
   {
    "duration": 15,
    "start_time": "2022-07-18T13:49:01.405Z"
   },
   {
    "duration": 16,
    "start_time": "2022-07-18T13:50:00.927Z"
   },
   {
    "duration": 18,
    "start_time": "2022-07-18T13:50:23.240Z"
   },
   {
    "duration": 18,
    "start_time": "2022-07-18T13:50:43.804Z"
   },
   {
    "duration": 6,
    "start_time": "2022-07-18T13:51:59.775Z"
   },
   {
    "duration": 5,
    "start_time": "2022-07-18T13:53:37.833Z"
   },
   {
    "duration": 5,
    "start_time": "2022-07-18T13:53:48.241Z"
   },
   {
    "duration": 116,
    "start_time": "2022-07-18T13:54:23.959Z"
   },
   {
    "duration": 18,
    "start_time": "2022-07-18T13:57:56.525Z"
   },
   {
    "duration": 65,
    "start_time": "2022-07-18T13:58:14.917Z"
   },
   {
    "duration": 59,
    "start_time": "2022-07-18T13:58:18.678Z"
   },
   {
    "duration": 17,
    "start_time": "2022-07-18T13:58:25.821Z"
   },
   {
    "duration": 956,
    "start_time": "2022-07-18T13:58:28.984Z"
   },
   {
    "duration": 18,
    "start_time": "2022-07-18T13:58:39.722Z"
   },
   {
    "duration": 27,
    "start_time": "2022-07-18T13:58:55.625Z"
   },
   {
    "duration": 35,
    "start_time": "2022-07-18T13:59:44.103Z"
   },
   {
    "duration": 19,
    "start_time": "2022-07-18T13:59:53.003Z"
   },
   {
    "duration": 61,
    "start_time": "2022-07-18T14:00:19.414Z"
   },
   {
    "duration": 37,
    "start_time": "2022-07-18T14:00:22.995Z"
   },
   {
    "duration": 53,
    "start_time": "2022-07-18T14:00:42.896Z"
   },
   {
    "duration": 16,
    "start_time": "2022-07-18T14:00:46.162Z"
   },
   {
    "duration": 587,
    "start_time": "2022-07-18T14:00:59.621Z"
   },
   {
    "duration": 784,
    "start_time": "2022-07-18T14:01:04.035Z"
   },
   {
    "duration": 714,
    "start_time": "2022-07-18T14:01:12.559Z"
   },
   {
    "duration": 970,
    "start_time": "2022-07-18T14:01:19.066Z"
   },
   {
    "duration": 5,
    "start_time": "2022-07-18T14:01:37.335Z"
   },
   {
    "duration": 5,
    "start_time": "2022-07-18T14:03:14.087Z"
   },
   {
    "duration": 4,
    "start_time": "2022-07-18T14:03:56.399Z"
   },
   {
    "duration": 7,
    "start_time": "2022-07-18T14:04:04.308Z"
   },
   {
    "duration": 896,
    "start_time": "2022-07-18T14:07:37.180Z"
   },
   {
    "duration": 15,
    "start_time": "2022-07-18T14:07:50.131Z"
   },
   {
    "duration": 16,
    "start_time": "2022-07-18T14:09:52.985Z"
   },
   {
    "duration": 22,
    "start_time": "2022-07-18T14:12:50.946Z"
   },
   {
    "duration": 21,
    "start_time": "2022-07-18T14:13:16.517Z"
   },
   {
    "duration": 307,
    "start_time": "2022-07-18T14:14:51.057Z"
   },
   {
    "duration": 65,
    "start_time": "2022-07-18T14:21:30.091Z"
   },
   {
    "duration": 32,
    "start_time": "2022-07-18T14:29:25.509Z"
   },
   {
    "duration": 20,
    "start_time": "2022-07-18T14:29:42.465Z"
   },
   {
    "duration": 313,
    "start_time": "2022-07-18T14:30:50.699Z"
   },
   {
    "duration": 63,
    "start_time": "2022-07-18T14:31:20.072Z"
   },
   {
    "duration": 26,
    "start_time": "2022-07-18T15:12:22.534Z"
   },
   {
    "duration": 432,
    "start_time": "2022-07-18T15:14:32.186Z"
   },
   {
    "duration": 14,
    "start_time": "2022-07-18T15:22:31.964Z"
   },
   {
    "duration": 13,
    "start_time": "2022-07-18T15:22:35.641Z"
   },
   {
    "duration": 302,
    "start_time": "2022-07-18T15:22:40.162Z"
   },
   {
    "duration": 317,
    "start_time": "2022-07-18T15:22:57.607Z"
   },
   {
    "duration": 14,
    "start_time": "2022-07-18T15:23:27.159Z"
   },
   {
    "duration": 348,
    "start_time": "2022-07-18T15:23:31.787Z"
   },
   {
    "duration": 173,
    "start_time": "2022-07-18T15:28:13.257Z"
   },
   {
    "duration": 1261,
    "start_time": "2022-07-18T15:34:29.270Z"
   },
   {
    "duration": 19,
    "start_time": "2022-07-18T15:34:30.533Z"
   },
   {
    "duration": 41,
    "start_time": "2022-07-18T15:34:30.553Z"
   },
   {
    "duration": 41,
    "start_time": "2022-07-18T15:34:30.596Z"
   },
   {
    "duration": 17,
    "start_time": "2022-07-18T15:34:30.639Z"
   },
   {
    "duration": 16,
    "start_time": "2022-07-18T15:34:30.657Z"
   },
   {
    "duration": 23,
    "start_time": "2022-07-18T15:34:30.675Z"
   },
   {
    "duration": 39,
    "start_time": "2022-07-18T15:34:30.700Z"
   },
   {
    "duration": 19,
    "start_time": "2022-07-18T15:34:30.741Z"
   },
   {
    "duration": 28,
    "start_time": "2022-07-18T15:34:30.762Z"
   },
   {
    "duration": 39,
    "start_time": "2022-07-18T15:34:30.791Z"
   },
   {
    "duration": 50,
    "start_time": "2022-07-18T15:34:30.831Z"
   },
   {
    "duration": 24,
    "start_time": "2022-07-18T15:34:30.883Z"
   },
   {
    "duration": 82,
    "start_time": "2022-07-18T15:34:30.910Z"
   },
   {
    "duration": 30,
    "start_time": "2022-07-18T15:34:30.994Z"
   },
   {
    "duration": 22,
    "start_time": "2022-07-18T15:34:31.028Z"
   },
   {
    "duration": 52,
    "start_time": "2022-07-18T15:34:31.052Z"
   },
   {
    "duration": 87,
    "start_time": "2022-07-18T15:34:31.106Z"
   },
   {
    "duration": 87,
    "start_time": "2022-07-18T15:34:31.195Z"
   },
   {
    "duration": 41,
    "start_time": "2022-07-18T15:34:31.284Z"
   },
   {
    "duration": 61,
    "start_time": "2022-07-18T15:34:31.327Z"
   },
   {
    "duration": 50,
    "start_time": "2022-07-18T15:34:31.390Z"
   },
   {
    "duration": 31,
    "start_time": "2022-07-18T15:34:31.442Z"
   },
   {
    "duration": 33,
    "start_time": "2022-07-18T15:34:31.475Z"
   },
   {
    "duration": 37,
    "start_time": "2022-07-18T15:34:31.517Z"
   },
   {
    "duration": 37,
    "start_time": "2022-07-18T15:34:31.556Z"
   },
   {
    "duration": 33,
    "start_time": "2022-07-18T15:34:31.596Z"
   },
   {
    "duration": 27,
    "start_time": "2022-07-18T15:34:31.631Z"
   },
   {
    "duration": 64,
    "start_time": "2022-07-18T15:34:31.660Z"
   },
   {
    "duration": 32,
    "start_time": "2022-07-18T15:34:31.729Z"
   },
   {
    "duration": 212,
    "start_time": "2022-07-18T15:34:31.763Z"
   },
   {
    "duration": 323,
    "start_time": "2022-07-18T15:34:31.977Z"
   },
   {
    "duration": 28,
    "start_time": "2022-07-18T15:34:32.302Z"
   },
   {
    "duration": 26,
    "start_time": "2022-07-18T15:34:32.332Z"
   },
   {
    "duration": 20,
    "start_time": "2022-07-18T15:34:32.360Z"
   },
   {
    "duration": 61,
    "start_time": "2022-07-18T15:34:32.382Z"
   },
   {
    "duration": 200,
    "start_time": "2022-07-18T15:34:32.445Z"
   },
   {
    "duration": 294,
    "start_time": "2022-07-18T15:34:32.647Z"
   },
   {
    "duration": 18,
    "start_time": "2022-07-18T15:34:32.942Z"
   },
   {
    "duration": 48,
    "start_time": "2022-07-18T15:34:32.961Z"
   },
   {
    "duration": 60,
    "start_time": "2022-07-18T15:34:33.013Z"
   },
   {
    "duration": 51,
    "start_time": "2022-07-18T15:34:33.075Z"
   },
   {
    "duration": 174,
    "start_time": "2022-07-18T15:34:33.128Z"
   },
   {
    "duration": 313,
    "start_time": "2022-07-18T15:34:33.303Z"
   },
   {
    "duration": 21,
    "start_time": "2022-07-18T15:34:33.618Z"
   },
   {
    "duration": 26,
    "start_time": "2022-07-18T15:34:33.641Z"
   },
   {
    "duration": 29,
    "start_time": "2022-07-18T15:34:33.668Z"
   },
   {
    "duration": 40,
    "start_time": "2022-07-18T15:34:33.698Z"
   },
   {
    "duration": 187,
    "start_time": "2022-07-18T15:34:33.740Z"
   },
   {
    "duration": 307,
    "start_time": "2022-07-18T15:34:33.930Z"
   },
   {
    "duration": 1808,
    "start_time": "2022-07-19T14:35:41.072Z"
   },
   {
    "duration": 22,
    "start_time": "2022-07-19T14:35:42.882Z"
   },
   {
    "duration": 16,
    "start_time": "2022-07-19T14:35:42.906Z"
   },
   {
    "duration": 10,
    "start_time": "2022-07-19T14:35:42.925Z"
   },
   {
    "duration": 7,
    "start_time": "2022-07-19T14:35:42.936Z"
   },
   {
    "duration": 8,
    "start_time": "2022-07-19T14:35:42.945Z"
   },
   {
    "duration": 11,
    "start_time": "2022-07-19T14:35:42.955Z"
   },
   {
    "duration": 5,
    "start_time": "2022-07-19T14:35:42.968Z"
   },
   {
    "duration": 41,
    "start_time": "2022-07-19T14:35:42.975Z"
   },
   {
    "duration": 5,
    "start_time": "2022-07-19T14:35:43.019Z"
   },
   {
    "duration": 8,
    "start_time": "2022-07-19T14:35:43.026Z"
   },
   {
    "duration": 12,
    "start_time": "2022-07-19T14:35:43.036Z"
   },
   {
    "duration": 4,
    "start_time": "2022-07-19T14:35:43.049Z"
   },
   {
    "duration": 27,
    "start_time": "2022-07-19T14:35:43.055Z"
   },
   {
    "duration": 18,
    "start_time": "2022-07-19T14:35:43.111Z"
   },
   {
    "duration": 12,
    "start_time": "2022-07-19T14:35:43.131Z"
   },
   {
    "duration": 5,
    "start_time": "2022-07-19T14:35:43.145Z"
   },
   {
    "duration": 14,
    "start_time": "2022-07-19T14:35:43.152Z"
   },
   {
    "duration": 6,
    "start_time": "2022-07-19T14:35:43.168Z"
   },
   {
    "duration": 5,
    "start_time": "2022-07-19T14:35:43.175Z"
   },
   {
    "duration": 9,
    "start_time": "2022-07-19T14:35:43.210Z"
   },
   {
    "duration": 18,
    "start_time": "2022-07-19T14:35:43.221Z"
   },
   {
    "duration": 10,
    "start_time": "2022-07-19T14:35:43.240Z"
   },
   {
    "duration": 6,
    "start_time": "2022-07-19T14:35:43.251Z"
   },
   {
    "duration": 18,
    "start_time": "2022-07-19T14:35:43.259Z"
   },
   {
    "duration": 20,
    "start_time": "2022-07-19T14:35:43.278Z"
   },
   {
    "duration": 26,
    "start_time": "2022-07-19T14:35:43.300Z"
   },
   {
    "duration": 4,
    "start_time": "2022-07-19T14:35:43.330Z"
   },
   {
    "duration": 34,
    "start_time": "2022-07-19T14:35:43.335Z"
   },
   {
    "duration": 43,
    "start_time": "2022-07-19T14:35:43.370Z"
   },
   {
    "duration": 218,
    "start_time": "2022-07-19T14:35:43.415Z"
   },
   {
    "duration": 396,
    "start_time": "2022-07-19T14:35:43.636Z"
   },
   {
    "duration": 19,
    "start_time": "2022-07-19T14:35:44.034Z"
   },
   {
    "duration": 23,
    "start_time": "2022-07-19T14:35:44.055Z"
   },
   {
    "duration": 45,
    "start_time": "2022-07-19T14:35:44.080Z"
   },
   {
    "duration": 28,
    "start_time": "2022-07-19T14:35:44.127Z"
   },
   {
    "duration": 216,
    "start_time": "2022-07-19T14:35:44.157Z"
   },
   {
    "duration": 326,
    "start_time": "2022-07-19T14:35:44.375Z"
   },
   {
    "duration": 23,
    "start_time": "2022-07-19T14:35:44.703Z"
   },
   {
    "duration": 23,
    "start_time": "2022-07-19T14:35:44.728Z"
   },
   {
    "duration": 22,
    "start_time": "2022-07-19T14:35:44.752Z"
   },
   {
    "duration": 55,
    "start_time": "2022-07-19T14:35:44.775Z"
   },
   {
    "duration": 214,
    "start_time": "2022-07-19T14:35:44.831Z"
   },
   {
    "duration": 320,
    "start_time": "2022-07-19T14:35:45.047Z"
   },
   {
    "duration": 21,
    "start_time": "2022-07-19T14:35:45.369Z"
   },
   {
    "duration": 34,
    "start_time": "2022-07-19T14:35:45.391Z"
   },
   {
    "duration": 24,
    "start_time": "2022-07-19T14:35:45.427Z"
   },
   {
    "duration": 31,
    "start_time": "2022-07-19T14:35:45.453Z"
   },
   {
    "duration": 198,
    "start_time": "2022-07-19T14:35:45.512Z"
   },
   {
    "duration": 288,
    "start_time": "2022-07-19T14:35:45.712Z"
   },
   {
    "duration": 57,
    "start_time": "2022-07-19T14:59:57.345Z"
   }
  ],
  "colab": {
   "name": "dpp_template_part2.ipynb",
   "provenance": []
  },
  "kernelspec": {
   "display_name": "ds_practicum_env",
   "language": "python",
   "name": "python3"
  },
  "language_info": {
   "codemirror_mode": {
    "name": "ipython",
    "version": 3
   },
   "file_extension": ".py",
   "mimetype": "text/x-python",
   "name": "python",
   "nbconvert_exporter": "python",
   "pygments_lexer": "ipython3",
   "version": "3.9.13"
  },
  "toc": {
   "base_numbering": 1,
   "nav_menu": {},
   "number_sections": true,
   "sideBar": true,
   "skip_h1_title": true,
   "title_cell": "Table of Contents",
   "title_sidebar": "Contents",
   "toc_cell": false,
   "toc_position": {},
   "toc_section_display": true,
   "toc_window_display": false
  },
  "vscode": {
   "interpreter": {
    "hash": "21f922037e414d3b2107e767321cbacecaf98da7b250b9ca65c58f6edf26ada9"
   }
  }
 },
 "nbformat": 4,
 "nbformat_minor": 5
}
