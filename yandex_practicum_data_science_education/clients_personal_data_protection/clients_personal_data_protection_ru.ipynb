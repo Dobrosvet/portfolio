{
 "cells": [
  {
   "cell_type": "markdown",
   "metadata": {},
   "source": [
    "# Защита персональных данных клиентов"
   ]
  },
  {
   "cell_type": "markdown",
   "metadata": {},
   "source": [
    "## Описание задачи"
   ]
  },
  {
   "cell_type": "markdown",
   "metadata": {},
   "source": [
    "- Защитить данные клиентов страховой компании «Хоть потоп»\n",
    "- Разработать такой метод преобразования данных, чтобы по ним было сложно восстановить персональную информацию\n",
    "- Обосновать корректность его работы\n",
    "- При преобразовании качество моделей машинного обучения не должно ухудштся\n",
    "- Подбирать наилучшую модель не требуется\n",
    "\n",
    "- Ответить на вопрос и обосновать решение.\n",
    "    - Умножте обучающие признаки на обратимую матрицу\n",
    "        - Изменится ли качество линейной регрессии? (Её можно обучить заново)\n",
    "        - Если изменится. Приведите примеры матриц.\n",
    "        - Если **не** изменится. Укажите, как связаны параметры линейной регрессии в исходной задаче и в преобразованной.\n",
    "- Предложить алгоритм преобразования данных для решения задачи. Обоснуйте, почему качество линейной регрессии не поменяется.\n",
    "- Запрограммируйте этот алгоритм, применив матричные операции. Проверьте, что качество линейной регрессии из *sklearn* не отличается до и после преобразования. Примените метрику *R2*."
   ]
  },
  {
   "cell_type": "markdown",
   "metadata": {},
   "source": [
    "## Описание данных"
   ]
  },
  {
   "cell_type": "markdown",
   "metadata": {},
   "source": [
    "Данные о клиентах страховой компании\n",
    "\n",
    "**Обучающие признаки:**\n",
    "- пол\n",
    "- возраст\n",
    "- зарплата\n",
    "- количество членов семьи\n",
    "\n",
    "**Целевой признак:**\n",
    "- количество страховых выплат клиенту за последние 5 лет"
   ]
  },
  {
   "cell_type": "markdown",
   "metadata": {},
   "source": [
    "## Подключение библиотек"
   ]
  },
  {
   "cell_type": "code",
   "execution_count": 1,
   "metadata": {},
   "outputs": [],
   "source": [
    "import numpy as np\n",
    "import pandas as pd\n",
    "import seaborn as sns\n",
    "import matplotlib.pyplot as plt\n",
    "import warnings\n",
    "\n",
    "from IPython.display import display, Markdown, Latex\n",
    "from sklearn.linear_model import LinearRegression\n",
    "from sklearn.metrics import r2_score\n",
    "from sklearn.model_selection import train_test_split"
   ]
  },
  {
   "cell_type": "code",
   "execution_count": 2,
   "metadata": {},
   "outputs": [],
   "source": [
    "# Отключение предупреждений UserWarning\n",
    "warnings.simplefilter('ignore', category=UserWarning)\n",
    "\n",
    "# Устраняет ошибку numpy при которой маленькие числа не отображаются как нули\n",
    "np.set_printoptions(precision=9, suppress=True)\n",
    "\n",
    "# Константы\n",
    "RANDOM_STATE=12345"
   ]
  },
  {
   "cell_type": "code",
   "execution_count": 3,
   "metadata": {},
   "outputs": [],
   "source": [
    "def print_pmatrix(a):\n",
    "    \"\"\"Отображает матрицу из LaTeX\"\"\"\n",
    "    if len(a.shape) > 2:\n",
    "        raise ValueError('pmatrix can at most display two dimensions')\n",
    "    lines = str(a).replace('[', '').replace(']', '').splitlines()\n",
    "    rv = [r'\\begin{pmatrix}']\n",
    "    rv += ['  ' + ' & '.join(l.split()) + r'\\\\' for l in lines]\n",
    "    rv +=  [r'\\end{pmatrix}']\n",
    "    return Latex('\\n'.join(rv))"
   ]
  },
  {
   "cell_type": "markdown",
   "metadata": {},
   "source": [
    "## Получение данных"
   ]
  },
  {
   "cell_type": "code",
   "execution_count": 5,
   "metadata": {},
   "outputs": [],
   "source": [
    "df = pd.read_csv('/datasets/insurance.csv')"
   ]
  },
  {
   "cell_type": "markdown",
   "metadata": {},
   "source": [
    "## Изучение данных"
   ]
  },
  {
   "cell_type": "code",
   "execution_count": 6,
   "metadata": {},
   "outputs": [
    {
     "data": {
      "text/html": [
       "<div>\n",
       "<style scoped>\n",
       "    .dataframe tbody tr th:only-of-type {\n",
       "        vertical-align: middle;\n",
       "    }\n",
       "\n",
       "    .dataframe tbody tr th {\n",
       "        vertical-align: top;\n",
       "    }\n",
       "\n",
       "    .dataframe thead th {\n",
       "        text-align: right;\n",
       "    }\n",
       "</style>\n",
       "<table border=\"1\" class=\"dataframe\">\n",
       "  <thead>\n",
       "    <tr style=\"text-align: right;\">\n",
       "      <th></th>\n",
       "      <th>Пол</th>\n",
       "      <th>Возраст</th>\n",
       "      <th>Зарплата</th>\n",
       "      <th>Члены семьи</th>\n",
       "      <th>Страховые выплаты</th>\n",
       "    </tr>\n",
       "  </thead>\n",
       "  <tbody>\n",
       "    <tr>\n",
       "      <th>0</th>\n",
       "      <td>1</td>\n",
       "      <td>41.0</td>\n",
       "      <td>49600.0</td>\n",
       "      <td>1</td>\n",
       "      <td>0</td>\n",
       "    </tr>\n",
       "    <tr>\n",
       "      <th>1</th>\n",
       "      <td>0</td>\n",
       "      <td>46.0</td>\n",
       "      <td>38000.0</td>\n",
       "      <td>1</td>\n",
       "      <td>1</td>\n",
       "    </tr>\n",
       "    <tr>\n",
       "      <th>2</th>\n",
       "      <td>0</td>\n",
       "      <td>29.0</td>\n",
       "      <td>21000.0</td>\n",
       "      <td>0</td>\n",
       "      <td>0</td>\n",
       "    </tr>\n",
       "    <tr>\n",
       "      <th>3</th>\n",
       "      <td>0</td>\n",
       "      <td>21.0</td>\n",
       "      <td>41700.0</td>\n",
       "      <td>2</td>\n",
       "      <td>0</td>\n",
       "    </tr>\n",
       "    <tr>\n",
       "      <th>4</th>\n",
       "      <td>1</td>\n",
       "      <td>28.0</td>\n",
       "      <td>26100.0</td>\n",
       "      <td>0</td>\n",
       "      <td>0</td>\n",
       "    </tr>\n",
       "    <tr>\n",
       "      <th>...</th>\n",
       "      <td>...</td>\n",
       "      <td>...</td>\n",
       "      <td>...</td>\n",
       "      <td>...</td>\n",
       "      <td>...</td>\n",
       "    </tr>\n",
       "    <tr>\n",
       "      <th>4995</th>\n",
       "      <td>0</td>\n",
       "      <td>28.0</td>\n",
       "      <td>35700.0</td>\n",
       "      <td>2</td>\n",
       "      <td>0</td>\n",
       "    </tr>\n",
       "    <tr>\n",
       "      <th>4996</th>\n",
       "      <td>0</td>\n",
       "      <td>34.0</td>\n",
       "      <td>52400.0</td>\n",
       "      <td>1</td>\n",
       "      <td>0</td>\n",
       "    </tr>\n",
       "    <tr>\n",
       "      <th>4997</th>\n",
       "      <td>0</td>\n",
       "      <td>20.0</td>\n",
       "      <td>33900.0</td>\n",
       "      <td>2</td>\n",
       "      <td>0</td>\n",
       "    </tr>\n",
       "    <tr>\n",
       "      <th>4998</th>\n",
       "      <td>1</td>\n",
       "      <td>22.0</td>\n",
       "      <td>32700.0</td>\n",
       "      <td>3</td>\n",
       "      <td>0</td>\n",
       "    </tr>\n",
       "    <tr>\n",
       "      <th>4999</th>\n",
       "      <td>1</td>\n",
       "      <td>28.0</td>\n",
       "      <td>40600.0</td>\n",
       "      <td>1</td>\n",
       "      <td>0</td>\n",
       "    </tr>\n",
       "  </tbody>\n",
       "</table>\n",
       "<p>5000 rows × 5 columns</p>\n",
       "</div>"
      ],
      "text/plain": [
       "      Пол  Возраст  Зарплата  Члены семьи  Страховые выплаты\n",
       "0       1     41.0   49600.0            1                  0\n",
       "1       0     46.0   38000.0            1                  1\n",
       "2       0     29.0   21000.0            0                  0\n",
       "3       0     21.0   41700.0            2                  0\n",
       "4       1     28.0   26100.0            0                  0\n",
       "...   ...      ...       ...          ...                ...\n",
       "4995    0     28.0   35700.0            2                  0\n",
       "4996    0     34.0   52400.0            1                  0\n",
       "4997    0     20.0   33900.0            2                  0\n",
       "4998    1     22.0   32700.0            3                  0\n",
       "4999    1     28.0   40600.0            1                  0\n",
       "\n",
       "[5000 rows x 5 columns]"
      ]
     },
     "execution_count": 6,
     "metadata": {},
     "output_type": "execute_result"
    }
   ],
   "source": [
    "df"
   ]
  },
  {
   "cell_type": "code",
   "execution_count": 7,
   "metadata": {
    "scrolled": true
   },
   "outputs": [
    {
     "name": "stdout",
     "output_type": "stream",
     "text": [
      "<class 'pandas.core.frame.DataFrame'>\n",
      "RangeIndex: 5000 entries, 0 to 4999\n",
      "Data columns (total 5 columns):\n",
      " #   Column             Non-Null Count  Dtype  \n",
      "---  ------             --------------  -----  \n",
      " 0   Пол                5000 non-null   int64  \n",
      " 1   Возраст            5000 non-null   float64\n",
      " 2   Зарплата           5000 non-null   float64\n",
      " 3   Члены семьи        5000 non-null   int64  \n",
      " 4   Страховые выплаты  5000 non-null   int64  \n",
      "dtypes: float64(2), int64(3)\n",
      "memory usage: 195.4 KB\n"
     ]
    }
   ],
   "source": [
    "df.info()"
   ]
  },
  {
   "cell_type": "code",
   "execution_count": 8,
   "metadata": {
    "scrolled": true
   },
   "outputs": [
    {
     "data": {
      "text/html": [
       "<div>\n",
       "<style scoped>\n",
       "    .dataframe tbody tr th:only-of-type {\n",
       "        vertical-align: middle;\n",
       "    }\n",
       "\n",
       "    .dataframe tbody tr th {\n",
       "        vertical-align: top;\n",
       "    }\n",
       "\n",
       "    .dataframe thead th {\n",
       "        text-align: right;\n",
       "    }\n",
       "</style>\n",
       "<table border=\"1\" class=\"dataframe\">\n",
       "  <thead>\n",
       "    <tr style=\"text-align: right;\">\n",
       "      <th></th>\n",
       "      <th>Пол</th>\n",
       "      <th>Возраст</th>\n",
       "      <th>Зарплата</th>\n",
       "      <th>Члены семьи</th>\n",
       "      <th>Страховые выплаты</th>\n",
       "    </tr>\n",
       "  </thead>\n",
       "  <tbody>\n",
       "    <tr>\n",
       "      <th>count</th>\n",
       "      <td>5000.000000</td>\n",
       "      <td>5000.000000</td>\n",
       "      <td>5000.000000</td>\n",
       "      <td>5000.000000</td>\n",
       "      <td>5000.000000</td>\n",
       "    </tr>\n",
       "    <tr>\n",
       "      <th>mean</th>\n",
       "      <td>0.499000</td>\n",
       "      <td>30.952800</td>\n",
       "      <td>39916.360000</td>\n",
       "      <td>1.194200</td>\n",
       "      <td>0.148000</td>\n",
       "    </tr>\n",
       "    <tr>\n",
       "      <th>std</th>\n",
       "      <td>0.500049</td>\n",
       "      <td>8.440807</td>\n",
       "      <td>9900.083569</td>\n",
       "      <td>1.091387</td>\n",
       "      <td>0.463183</td>\n",
       "    </tr>\n",
       "    <tr>\n",
       "      <th>min</th>\n",
       "      <td>0.000000</td>\n",
       "      <td>18.000000</td>\n",
       "      <td>5300.000000</td>\n",
       "      <td>0.000000</td>\n",
       "      <td>0.000000</td>\n",
       "    </tr>\n",
       "    <tr>\n",
       "      <th>25%</th>\n",
       "      <td>0.000000</td>\n",
       "      <td>24.000000</td>\n",
       "      <td>33300.000000</td>\n",
       "      <td>0.000000</td>\n",
       "      <td>0.000000</td>\n",
       "    </tr>\n",
       "    <tr>\n",
       "      <th>50%</th>\n",
       "      <td>0.000000</td>\n",
       "      <td>30.000000</td>\n",
       "      <td>40200.000000</td>\n",
       "      <td>1.000000</td>\n",
       "      <td>0.000000</td>\n",
       "    </tr>\n",
       "    <tr>\n",
       "      <th>75%</th>\n",
       "      <td>1.000000</td>\n",
       "      <td>37.000000</td>\n",
       "      <td>46600.000000</td>\n",
       "      <td>2.000000</td>\n",
       "      <td>0.000000</td>\n",
       "    </tr>\n",
       "    <tr>\n",
       "      <th>max</th>\n",
       "      <td>1.000000</td>\n",
       "      <td>65.000000</td>\n",
       "      <td>79000.000000</td>\n",
       "      <td>6.000000</td>\n",
       "      <td>5.000000</td>\n",
       "    </tr>\n",
       "  </tbody>\n",
       "</table>\n",
       "</div>"
      ],
      "text/plain": [
       "               Пол      Возраст      Зарплата  Члены семьи  Страховые выплаты\n",
       "count  5000.000000  5000.000000   5000.000000  5000.000000        5000.000000\n",
       "mean      0.499000    30.952800  39916.360000     1.194200           0.148000\n",
       "std       0.500049     8.440807   9900.083569     1.091387           0.463183\n",
       "min       0.000000    18.000000   5300.000000     0.000000           0.000000\n",
       "25%       0.000000    24.000000  33300.000000     0.000000           0.000000\n",
       "50%       0.000000    30.000000  40200.000000     1.000000           0.000000\n",
       "75%       1.000000    37.000000  46600.000000     2.000000           0.000000\n",
       "max       1.000000    65.000000  79000.000000     6.000000           5.000000"
      ]
     },
     "execution_count": 8,
     "metadata": {},
     "output_type": "execute_result"
    }
   ],
   "source": [
    "df.describe()"
   ]
  },
  {
   "cell_type": "code",
   "execution_count": 9,
   "metadata": {
    "scrolled": false
   },
   "outputs": [
    {
     "data": {
      "image/png": "[encoded data removed]",
      "text/plain": [
       "<Figure size 834.5x720 with 20 Axes>"
      ]
     },
     "metadata": {},
     "output_type": "display_data"
    }
   ],
   "source": [
    "sns.set_style('whitegrid')\n",
    "sns.pairplot(df, hue='Страховые выплаты', palette=sns.color_palette('tab10', n_colors=len(df['Страховые выплаты'].unique())));\n",
    "plt.suptitle(\"Зависимости признаков\", y=1.02, fontsize=13)\n",
    "plt.show()"
   ]
  },
  {
   "cell_type": "markdown",
   "metadata": {},
   "source": [
    "**Вывод**\n",
    "- Доля клиентов без выплат больше всего\n",
    "- Возраст клиентов без выплат в основном люди до 40 лет"
   ]
  },
  {
   "cell_type": "markdown",
   "metadata": {},
   "source": [
    "## Умножение матриц"
   ]
  },
  {
   "cell_type": "markdown",
   "metadata": {},
   "source": [
    "**Ответ:** Параметры линейной регрессии в исходной задаче и в преобразованной связаны матричным умножением обучающих признаков на обратимую матрицу, а качество линейной регрессии не изменится.\n",
    "\n",
    "**Обоснование:**\n",
    "\n",
    "Свойства матричных операций\n",
    "\n",
    "$A(BC) = (AB)C$ — Ассоциативность\n",
    "$(AB)^{-1} = B^{-1} A^{-1}$ — Обращение произведения матриц равно произведению обратных матриц в обратном порядке  \n",
    "$(AB)^T = B^T A^T$ — Транспонированное произведение матриц равно произведению транспонированных матриц в обратном порядке  \n",
    "$A E = E A = A$ — Умножение матрицы на единичную матрицу, получаем исходную  \n",
    "$A A^{-1} = A^{-1} A = E$ — Умножение матрицы на свою обратную, получаем единичную\n",
    "\n",
    "Следовательно\n",
    "\n",
    "$E = (A^T)^{-1} A^T$  \n",
    "$E$ — единичная матрица\n",
    "\n",
    "- Формула линейной регрессии $a = Xw + w_0$,\n",
    "- Упрощённая запись формулы линейной регрессии $a = X_i w$,  где $X_i$ - новые строки признаков, $w = (X^T X)^{-1} X^T y$\n",
    "- Параметр $w_0$ поднимает или опускает прямую. Он не менялся при изменённых признаках.\n",
    "- Преобразованная задача $a' = XPw'$. Случайная матрица $P$, в которой число строк равно числу столбцов $X$ и $P$ — обратима, то есть из матрицы $P$ можно получить матрицу $P^{-1}$, при этом $PP^{-1} = E$\n",
    "- Докажем что $a = a'$\n",
    "- $Xw = XPw'$\n",
    "- Подставим вместо $w$, формулу её вычисления: $a = X_i w = X_i (X^T X)^{-1} X^T y$\n",
    "\n",
    "\n",
    "Если обучить нашу модель на новых (изменённых) признаках, то модель найдёт новые коэффициенты $w'$, то есть $X = XP$  \n",
    "$w' = ((XP)^T XP)^{-1} (XP)^T y$  \n",
    "  \n",
    "$w' = (P^T (X^T X) P)^{-1} (XP)^T y$  \n",
    "$w' = P^{-1} (X^T X)^{-1} (P^T)^{-1} P^T X^T y$  \n",
    "$w' = P^{-1} (X^T X)^{-1} X^T y$  \n",
    "$w' = P^{-1} w$\n",
    "\n",
    "\n",
    "$a = Xw$    \n",
    "$a' = XPw'$    \n",
    "$Xw = XPw'$    \n",
    "$Xw = XPP^{-1} w$    \n",
    "$Xw = Xw$\n",
    "\n",
    "Следовательно $a = a'$\n",
    "\n",
    "То есть что бы из зашифрованных признаков получить исходные нужно домножить на обратную матрицу P\n",
    "\n",
    "**Вывод**\n",
    "\n",
    "Таким образом $a = a'$, следовательно результат предсказания не изменится не смотря на изменения признаков."
   ]
  },
  {
   "cell_type": "code",
   "execution_count": 10,
   "metadata": {},
   "outputs": [
    {
     "data": {
      "text/latex": [
       "\\begin{pmatrix}\n",
       "  8.4821668 & 11.156574266 & 10.618912939 & 9.760050198\\\\\n",
       "  10.686364056 & 8.778678798 & 11.047639016 & 9.551341663\\\\\n",
       "  10.675273525 & 10.871538488 & 12.269107965 & 10.586461358\\\\\n",
       "  10.475939106 & 9.097837096 & 9.69892347 & 8.94819997\\\\\n",
       "  9.40430166 & 9.372482329 & 9.791814158 & 11.635595231\\\\\n",
       "  8.366608255 & 10.40499014 & 9.925668987 & 9.505213368\\\\\n",
       "  10.08639027 & 10.19353826 & 10.408074473 & 9.777615327\\\\\n",
       "  9.869832624 & 11.050709155 & 9.878659463 & 9.536114823\\\\\n",
       "\\end{pmatrix}"
      ],
      "text/plain": [
       "<IPython.core.display.Latex object>"
      ]
     },
     "metadata": {},
     "output_type": "display_data"
    },
    {
     "data": {
      "text/latex": [
       "\\begin{pmatrix}\n",
       "  4.885008346 & 2.888277627 & 4.520785268 & 3.212596002\\\\\n",
       "  4.721291854 & 1.744371482 & 4.532420663 & 4.652473488\\\\\n",
       "  1.799784254 & 4.120721029 & 3.614471369 & 1.312826944\\\\\n",
       "  5.426390573 & 3.322691417 & 4.735505797 & 3.384559776\\\\\n",
       "\\end{pmatrix}"
      ],
      "text/plain": [
       "<IPython.core.display.Latex object>"
      ]
     },
     "metadata": {},
     "output_type": "display_data"
    },
    {
     "data": {
      "text/latex": [
       "\\begin{pmatrix}\n",
       "  -0.317232624 & -0.298041019 & -0.326863311 & 0.837592876\\\\\n",
       "  -2.989079168 & 0.253755239 & 0.325748862 & 2.362039056\\\\\n",
       "  4.70738022 & -0.45539433 & -0.012484479 & -3.837370804\\\\\n",
       "  -3.143277476 & 0.865890781 & 0.221726137 & 2.00275934\\\\\n",
       "\\end{pmatrix}"
      ],
      "text/plain": [
       "<IPython.core.display.Latex object>"
      ]
     },
     "metadata": {},
     "output_type": "display_data"
    },
    {
     "data": {
      "text/latex": [
       "\\begin{pmatrix}\n",
       "  8.4821668 & 11.156574266 & 10.618912939 & 9.760050198\\\\\n",
       "  10.686364056 & 8.778678798 & 11.047639016 & 9.551341663\\\\\n",
       "  10.675273525 & 10.871538488 & 12.269107965 & 10.586461358\\\\\n",
       "  10.475939106 & 9.097837096 & 9.69892347 & 8.94819997\\\\\n",
       "  9.40430166 & 9.372482329 & 9.791814158 & 11.635595231\\\\\n",
       "  8.366608255 & 10.40499014 & 9.925668987 & 9.505213368\\\\\n",
       "  10.08639027 & 10.19353826 & 10.408074473 & 9.777615327\\\\\n",
       "  9.869832624 & 11.050709155 & 9.878659463 & 9.536114823\\\\\n",
       "\\end{pmatrix}"
      ],
      "text/plain": [
       "<IPython.core.display.Latex object>"
      ]
     },
     "metadata": {},
     "output_type": "display_data"
    },
    {
     "data": {
      "text/plain": [
       "True"
      ]
     },
     "execution_count": 10,
     "metadata": {},
     "output_type": "execute_result"
    }
   ],
   "source": [
    "# Проверка на примере\n",
    "X = np.random.normal(10, size=[8, 4])\n",
    "P = np.random.normal(4, size=[4, 4])\n",
    "I = np.linalg.inv(P)\n",
    "X_s = X @ P @ I\n",
    "\n",
    "display(print_pmatrix(X))\n",
    "display(print_pmatrix(P))\n",
    "display(print_pmatrix(I))\n",
    "display(print_pmatrix(X_s))\n",
    "\n",
    "# Сравнение матриц\n",
    "np.allclose(X, X_s)"
   ]
  },
  {
   "cell_type": "markdown",
   "metadata": {},
   "source": [
    "## Алгоритм преобразования"
   ]
  },
  {
   "cell_type": "markdown",
   "metadata": {},
   "source": [
    "**Алгоритм:**\n",
    "- Есть матрица исходных признаков $X_{n \\times m}$, где $n$ — количество строк, $m$ — количество столбцов\n",
    "- Создаём случайную квадратную обратимую матрицу $P_{p \\times q}$, где $p$ — количество строк, $q$ — количество столбцов, такие что $n = q$\n",
    "- Производим умножение получаем новую изменённую матрицу признаков $M = XP$\n",
    "\n",
    "**Обоснование:**\n",
    "- Метрика R2 не изменилась при использовании изменённых данных по сравнению с исходными в модели линейной регрессии"
   ]
  },
  {
   "cell_type": "markdown",
   "metadata": {},
   "source": [
    "## Предобработка признаков"
   ]
  },
  {
   "cell_type": "code",
   "execution_count": 11,
   "metadata": {},
   "outputs": [],
   "source": [
    "features = df.drop('Страховые выплаты', axis=1)\n",
    "target = df['Страховые выплаты']"
   ]
  },
  {
   "cell_type": "code",
   "execution_count": 12,
   "metadata": {},
   "outputs": [],
   "source": [
    "train_features, test_features, train_target, test_target = \\\n",
    "    train_test_split(features,target, test_size=0.25, random_state=RANDOM_STATE)"
   ]
  },
  {
   "cell_type": "markdown",
   "metadata": {},
   "source": [
    "## Проверка собственного алгоритма"
   ]
  },
  {
   "cell_type": "markdown",
   "metadata": {},
   "source": [
    "Обозначения:\n",
    "\n",
    "- $X$ — матрица признаков (нулевой столбец состоит из единиц)\n",
    "\n",
    "- $y$ — вектор целевого признака\n",
    "\n",
    "- $P$ — матрица, на которую умножаются признаки\n",
    "\n",
    "- $w$ — вектор весов линейной регрессии (нулевой элемент равен сдвигу)"
   ]
  },
  {
   "cell_type": "markdown",
   "metadata": {},
   "source": [
    "Предсказания:  \n",
    "$a = Xw$\n",
    "\n",
    "Задача обучения:  \n",
    "$w = \\arg\\min_w MSE(Xw, y)$\n",
    "\n",
    "Формула обучения:  \n",
    "$w = (X^T X)^{-1} X^T y$\n",
    "\n",
    "**Задача:**\n",
    "- Преобразовать признаки с помощью обратимой матрицы\n",
    "- Определить изменится ли качество линейной регрессии\n",
    "- Определить как связаны параметры линейной регрессии в исходной задаче и в преобразованной"
   ]
  },
  {
   "cell_type": "code",
   "execution_count": 13,
   "metadata": {},
   "outputs": [],
   "source": [
    "class MyLinearRegression:\n",
    "    def fit(self, train_features, train_target):\n",
    "        ones = np.ones([train_features.shape[0], 1])\n",
    "        X = np.concatenate([ones, train_features], axis=1)\n",
    "        y = train_target\n",
    "\n",
    "        w = np.linalg.inv(X.T @ X) @ X.T @ y\n",
    "        \n",
    "        self.w = w[1:]\n",
    "        self.w0 = w[0]\n",
    "        \n",
    "        display(Latex('$w$'))\n",
    "        display(print_pmatrix(self.w))\n",
    "        \n",
    "        display(Latex('$w_0$'))\n",
    "        display(print_pmatrix(self.w0))\n",
    "    \n",
    "    def predict(self, test_features):\n",
    "        return test_features @ self.w + self.w0"
   ]
  },
  {
   "cell_type": "markdown",
   "metadata": {},
   "source": [
    "### Оригинальные данные"
   ]
  },
  {
   "cell_type": "code",
   "execution_count": 14,
   "metadata": {},
   "outputs": [
    {
     "data": {
      "text/latex": [
       "$w$"
      ],
      "text/plain": [
       "<IPython.core.display.Latex object>"
      ]
     },
     "metadata": {},
     "output_type": "display_data"
    },
    {
     "data": {
      "text/latex": [
       "\\begin{pmatrix}\n",
       "  0.017925837 & 0.035722828 & -0.000000546 & -0.012618659\\\\\n",
       "\\end{pmatrix}"
      ],
      "text/plain": [
       "<IPython.core.display.Latex object>"
      ]
     },
     "metadata": {},
     "output_type": "display_data"
    },
    {
     "data": {
      "text/latex": [
       "$w_0$"
      ],
      "text/plain": [
       "<IPython.core.display.Latex object>"
      ]
     },
     "metadata": {},
     "output_type": "display_data"
    },
    {
     "data": {
      "text/latex": [
       "\\begin{pmatrix}\n",
       "  -0.9321366751690914\\\\\n",
       "\\end{pmatrix}"
      ],
      "text/plain": [
       "<IPython.core.display.Latex object>"
      ]
     },
     "metadata": {},
     "output_type": "display_data"
    },
    {
     "data": {
      "text/plain": [
       "0.4352275712702667"
      ]
     },
     "execution_count": 14,
     "metadata": {},
     "output_type": "execute_result"
    }
   ],
   "source": [
    "model_my_lr = MyLinearRegression()\n",
    "model_my_lr.fit(train_features, train_target)\n",
    "predict_my_lr = model_my_lr.predict(test_features)\n",
    "\n",
    "r2_score_my_lr = r2_score(test_target, predict_my_lr)\n",
    "r2_score_my_lr"
   ]
  },
  {
   "cell_type": "code",
   "execution_count": 15,
   "metadata": {},
   "outputs": [
    {
     "data": {
      "image/png": "[encoded data removed]",
      "text/plain": [
       "<Figure size 648x648 with 1 Axes>"
      ]
     },
     "metadata": {},
     "output_type": "display_data"
    }
   ],
   "source": [
    "plt.figure(figsize=(9, 9))\n",
    "plt.plot(test_target, predict_my_lr, 'o', alpha=1)\n",
    "plt.legend(['Предсказание модели Scikit-learn'])\n",
    "plt.plot([-0.1,3.2],[-0.4,1.2],linestyle='--',color='g',alpha=0.3)\n",
    "plt.xlim(-0.1,3.2)\n",
    "plt.ylim(-0.4,1.2)\n",
    "plt.title('График значений истиные/предсказанные', y=1.01, fontsize=13)\n",
    "plt.grid(True)\n",
    "plt.xlabel('Истинные значения целевого признака')\n",
    "plt.ylabel('Предсказанные значения')\n",
    "plt.show()"
   ]
  },
  {
   "cell_type": "markdown",
   "metadata": {},
   "source": [
    "### Изменённые данные"
   ]
  },
  {
   "cell_type": "code",
   "execution_count": 16,
   "metadata": {},
   "outputs": [
    {
     "data": {
      "text/latex": [
       "\\begin{pmatrix}\n",
       "  3.597769817 & 5.225509601 & 2.949778347 & 4.533807806\\\\\n",
       "  4.186302502 & 4.314314508 & 4.28144833 & 6.573548362\\\\\n",
       "  4.660800894 & 5.386030365 & 5.213225312 & 5.405748528\\\\\n",
       "  4.345370369 & 3.104640333 & 5.008998724 & 4.35845842\\\\\n",
       "\\end{pmatrix}"
      ],
      "text/plain": [
       "<IPython.core.display.Latex object>"
      ]
     },
     "execution_count": 16,
     "metadata": {},
     "output_type": "execute_result"
    }
   ],
   "source": [
    "# Матрица на которую умножаются признаки\n",
    "P = np.random.normal(5, size=[4, 4])\n",
    "print_pmatrix(P)"
   ]
  },
  {
   "cell_type": "code",
   "execution_count": 17,
   "metadata": {},
   "outputs": [
    {
     "data": {
      "text/latex": [
       "\\begin{pmatrix}\n",
       "  1.387415311 & -0.379766979 & -1.894683535 & 1.479496727\\\\\n",
       "  0.004947454 & -0.186642336 & 0.600115849 & -0.467964485\\\\\n",
       "  -1.004054908 & -0.009830993 & 1.302894947 & -0.556689022\\\\\n",
       "  -0.23285382 & 0.522874997 & -0.035847837 & -0.272492039\\\\\n",
       "\\end{pmatrix}"
      ],
      "text/plain": [
       "<IPython.core.display.Latex object>"
      ]
     },
     "execution_count": 17,
     "metadata": {},
     "output_type": "execute_result"
    }
   ],
   "source": [
    "print_pmatrix(np.linalg.inv(P))"
   ]
  },
  {
   "cell_type": "markdown",
   "metadata": {},
   "source": [
    "Матрица $P$ обратима."
   ]
  },
  {
   "cell_type": "code",
   "execution_count": 18,
   "metadata": {},
   "outputs": [
    {
     "data": {
      "text/html": [
       "<div>\n",
       "<style scoped>\n",
       "    .dataframe tbody tr th:only-of-type {\n",
       "        vertical-align: middle;\n",
       "    }\n",
       "\n",
       "    .dataframe tbody tr th {\n",
       "        vertical-align: top;\n",
       "    }\n",
       "\n",
       "    .dataframe thead th {\n",
       "        text-align: right;\n",
       "    }\n",
       "</style>\n",
       "<table border=\"1\" class=\"dataframe\">\n",
       "  <thead>\n",
       "    <tr style=\"text-align: right;\">\n",
       "      <th></th>\n",
       "      <th>Пол</th>\n",
       "      <th>Возраст</th>\n",
       "      <th>Зарплата</th>\n",
       "      <th>Члены семьи</th>\n",
       "    </tr>\n",
       "  </thead>\n",
       "  <tbody>\n",
       "    <tr>\n",
       "      <th>3369</th>\n",
       "      <td>168908.946503</td>\n",
       "      <td>195168.144881</td>\n",
       "      <td>188910.817350</td>\n",
       "      <td>195979.651552</td>\n",
       "    </tr>\n",
       "    <tr>\n",
       "      <th>1441</th>\n",
       "      <td>268608.063537</td>\n",
       "      <td>310387.261218</td>\n",
       "      <td>300430.296993</td>\n",
       "      <td>311599.149654</td>\n",
       "    </tr>\n",
       "    <tr>\n",
       "      <th>571</th>\n",
       "      <td>191697.223785</td>\n",
       "      <td>221507.010700</td>\n",
       "      <td>214405.575669</td>\n",
       "      <td>222390.976499</td>\n",
       "    </tr>\n",
       "    <tr>\n",
       "      <th>225</th>\n",
       "      <td>210357.172570</td>\n",
       "      <td>243068.389417</td>\n",
       "      <td>235275.602710</td>\n",
       "      <td>244040.264803</td>\n",
       "    </tr>\n",
       "    <tr>\n",
       "      <th>2558</th>\n",
       "      <td>235983.363949</td>\n",
       "      <td>272681.718120</td>\n",
       "      <td>263940.506580</td>\n",
       "      <td>273756.519520</td>\n",
       "    </tr>\n",
       "  </tbody>\n",
       "</table>\n",
       "</div>"
      ],
      "text/plain": [
       "                Пол        Возраст       Зарплата    Члены семьи\n",
       "3369  168908.946503  195168.144881  188910.817350  195979.651552\n",
       "1441  268608.063537  310387.261218  300430.296993  311599.149654\n",
       "571   191697.223785  221507.010700  214405.575669  222390.976499\n",
       "225   210357.172570  243068.389417  235275.602710  244040.264803\n",
       "2558  235983.363949  272681.718120  263940.506580  273756.519520"
      ]
     },
     "execution_count": 18,
     "metadata": {},
     "output_type": "execute_result"
    }
   ],
   "source": [
    "# Тренировочная выборка\n",
    "train_features_P = train_features @ P\n",
    "train_features_P.columns = train_features.columns\n",
    "train_features_P.head()"
   ]
  },
  {
   "cell_type": "code",
   "execution_count": 19,
   "metadata": {},
   "outputs": [
    {
     "data": {
      "text/html": [
       "<div>\n",
       "<style scoped>\n",
       "    .dataframe tbody tr th:only-of-type {\n",
       "        vertical-align: middle;\n",
       "    }\n",
       "\n",
       "    .dataframe tbody tr th {\n",
       "        vertical-align: top;\n",
       "    }\n",
       "\n",
       "    .dataframe thead th {\n",
       "        text-align: right;\n",
       "    }\n",
       "</style>\n",
       "<table border=\"1\" class=\"dataframe\">\n",
       "  <thead>\n",
       "    <tr style=\"text-align: right;\">\n",
       "      <th></th>\n",
       "      <th>Пол</th>\n",
       "      <th>Возраст</th>\n",
       "      <th>Зарплата</th>\n",
       "      <th>Члены семьи</th>\n",
       "    </tr>\n",
       "  </thead>\n",
       "  <tbody>\n",
       "    <tr>\n",
       "      <th>3183</th>\n",
       "      <td>181926.764321</td>\n",
       "      <td>210209.975169</td>\n",
       "      <td>203477.110958</td>\n",
       "      <td>211058.553514</td>\n",
       "    </tr>\n",
       "    <tr>\n",
       "      <th>1071</th>\n",
       "      <td>201098.524388</td>\n",
       "      <td>232359.833731</td>\n",
       "      <td>224914.101362</td>\n",
       "      <td>233325.155883</td>\n",
       "    </tr>\n",
       "    <tr>\n",
       "      <th>2640</th>\n",
       "      <td>196386.581196</td>\n",
       "      <td>226925.362135</td>\n",
       "      <td>219646.711899</td>\n",
       "      <td>227842.915214</td>\n",
       "    </tr>\n",
       "    <tr>\n",
       "      <th>2282</th>\n",
       "      <td>162279.597154</td>\n",
       "      <td>187520.142987</td>\n",
       "      <td>181505.869825</td>\n",
       "      <td>188251.519735</td>\n",
       "    </tr>\n",
       "    <tr>\n",
       "      <th>1595</th>\n",
       "      <td>186621.055635</td>\n",
       "      <td>215630.520050</td>\n",
       "      <td>208724.587857</td>\n",
       "      <td>216516.890429</td>\n",
       "    </tr>\n",
       "  </tbody>\n",
       "</table>\n",
       "</div>"
      ],
      "text/plain": [
       "                Пол        Возраст       Зарплата    Члены семьи\n",
       "3183  181926.764321  210209.975169  203477.110958  211058.553514\n",
       "1071  201098.524388  232359.833731  224914.101362  233325.155883\n",
       "2640  196386.581196  226925.362135  219646.711899  227842.915214\n",
       "2282  162279.597154  187520.142987  181505.869825  188251.519735\n",
       "1595  186621.055635  215630.520050  208724.587857  216516.890429"
      ]
     },
     "execution_count": 19,
     "metadata": {},
     "output_type": "execute_result"
    }
   ],
   "source": [
    "# Тестовая выборка\n",
    "test_features_P = test_features @ P\n",
    "test_features_P.columns = test_features.columns\n",
    "test_features_P.head()"
   ]
  },
  {
   "cell_type": "markdown",
   "metadata": {},
   "source": [
    "Признаки зашифрованы."
   ]
  },
  {
   "cell_type": "markdown",
   "metadata": {},
   "source": [
    "Используем зашифрованные признаки для модели"
   ]
  },
  {
   "cell_type": "code",
   "execution_count": 20,
   "metadata": {},
   "outputs": [
    {
     "data": {
      "text/latex": [
       "$w$"
      ],
      "text/plain": [
       "<IPython.core.display.Latex object>"
      ]
     },
     "metadata": {},
     "output_type": "display_data"
    },
    {
     "data": {
      "text/latex": [
       "\\begin{pmatrix}\n",
       "  -0.007360684 & -0.000674141 & -0.011327936 & 0.017942411\\\\\n",
       "\\end{pmatrix}"
      ],
      "text/plain": [
       "<IPython.core.display.Latex object>"
      ]
     },
     "metadata": {},
     "output_type": "display_data"
    },
    {
     "data": {
      "text/latex": [
       "$w_0$"
      ],
      "text/plain": [
       "<IPython.core.display.Latex object>"
      ]
     },
     "metadata": {},
     "output_type": "display_data"
    },
    {
     "data": {
      "text/latex": [
       "\\begin{pmatrix}\n",
       "  -0.9321304456147038\\\\\n",
       "\\end{pmatrix}"
      ],
      "text/plain": [
       "<IPython.core.display.Latex object>"
      ]
     },
     "metadata": {},
     "output_type": "display_data"
    },
    {
     "data": {
      "text/plain": [
       "0.4352270524400986"
      ]
     },
     "execution_count": 20,
     "metadata": {},
     "output_type": "execute_result"
    }
   ],
   "source": [
    "model_my_lr_P = MyLinearRegression()\n",
    "model_my_lr_P.fit(train_features_P, train_target)\n",
    "predict_my_lr_P = model_my_lr_P.predict(test_features_P)\n",
    "\n",
    "r2_score_my_lr_P = r2_score(test_target, predict_my_lr_P)\n",
    "r2_score_my_lr_P"
   ]
  },
  {
   "cell_type": "code",
   "execution_count": 21,
   "metadata": {},
   "outputs": [
    {
     "data": {
      "text/plain": [
       "0.4352275712702667"
      ]
     },
     "execution_count": 21,
     "metadata": {},
     "output_type": "execute_result"
    }
   ],
   "source": [
    "r2_score_my_lr"
   ]
  },
  {
   "cell_type": "code",
   "execution_count": 22,
   "metadata": {
    "scrolled": false
   },
   "outputs": [
    {
     "data": {
      "image/png": "[encoded data removed]",
      "text/plain": [
       "<Figure size 648x648 with 1 Axes>"
      ]
     },
     "metadata": {},
     "output_type": "display_data"
    }
   ],
   "source": [
    "plt.figure(figsize=(9,9))\n",
    "plt.plot(test_target,predict_my_lr_P,'rs',alpha=0.5)\n",
    "plt.plot(test_target,predict_my_lr,'bo',alpha=0.4)\n",
    "\n",
    "plt.plot(predict_my_lr_P,predict_my_lr,'r',alpha=0.5)\n",
    "plt.legend(['Предсказание модели c изменёнными признаками', 'Предсказание модели c оригинальными признаками', 'Зависимость предсказанных значений в исходной задаче и в преобразованной'])\n",
    "\n",
    "plt.xlim(-0.1,3.2)\n",
    "plt.ylim(-0.4,1.2)\n",
    "plt.title('График значений истиные/предсказанные', y=1.01, fontsize=13)\n",
    "plt.grid(True)\n",
    "plt.xlabel('Истинные значения целевого признака')\n",
    "plt.ylabel('Предсказанные значения')\n",
    "plt.show()"
   ]
  },
  {
   "cell_type": "code",
   "execution_count": 23,
   "metadata": {},
   "outputs": [
    {
     "name": "stdout",
     "output_type": "stream",
     "text": [
      "Значение R2 для собственной модели не изменилось, для исходных данных — 0.435, по сравнению с преобразованными — 0.435\n"
     ]
    }
   ],
   "source": [
    "print(f'Значение R2 для собственной модели не изменилось, для исходных данных — {r2_score_my_lr:.3}, по сравнению с преобразованными — {r2_score_my_lr_P:.3}')"
   ]
  },
  {
   "cell_type": "markdown",
   "metadata": {},
   "source": [
    "## Проверка алгоритма sklearn"
   ]
  },
  {
   "cell_type": "markdown",
   "metadata": {},
   "source": [
    "### Оригинальные данные"
   ]
  },
  {
   "cell_type": "code",
   "execution_count": 24,
   "metadata": {},
   "outputs": [
    {
     "data": {
      "text/plain": [
       "0.43522757127026546"
      ]
     },
     "execution_count": 24,
     "metadata": {},
     "output_type": "execute_result"
    }
   ],
   "source": [
    "model_lr = LinearRegression()\n",
    "model_lr.fit(train_features, train_target)\n",
    "predict_lr = model_lr.predict(test_features)\n",
    "\n",
    "r2_score_lr = r2_score(test_target, predict_lr)\n",
    "r2_score_lr"
   ]
  },
  {
   "cell_type": "markdown",
   "metadata": {},
   "source": [
    "### Изменённые данные"
   ]
  },
  {
   "cell_type": "code",
   "execution_count": 25,
   "metadata": {},
   "outputs": [
    {
     "data": {
      "text/plain": [
       "0.43522757127088707"
      ]
     },
     "execution_count": 25,
     "metadata": {},
     "output_type": "execute_result"
    }
   ],
   "source": [
    "model_lr_P = LinearRegression()\n",
    "model_lr_P.fit(train_features_P, train_target)\n",
    "predict_lr_P = model_lr_P.predict(test_features_P)\n",
    "\n",
    "r2_score_lr_P = r2_score(test_target, predict_lr_P)\n",
    "r2_score_lr_P"
   ]
  },
  {
   "cell_type": "code",
   "execution_count": 26,
   "metadata": {},
   "outputs": [
    {
     "name": "stdout",
     "output_type": "stream",
     "text": [
      "Значение R2 для модели sklearn не изменилось, для исходных данных — 0.435, по сравнению с преобразованными — 0.435\n"
     ]
    }
   ],
   "source": [
    "print(f'Значение R2 для модели sklearn не изменилось, для исходных данных — {r2_score_lr:.3}, по сравнению с преобразованными — {r2_score_lr_P:.3}')"
   ]
  },
  {
   "cell_type": "markdown",
   "metadata": {},
   "source": [
    "## Вывод"
   ]
  },
  {
   "cell_type": "markdown",
   "metadata": {},
   "source": [
    "Была поставлена задача защитить данные клиентов страховой компании, разработав такой метод преобразования исходных данных, что бы их было трудно восстановить. А качество модели линейной регрессии при этом не изменялось.\n",
    "\n",
    "В результате разработаны собственная модель линейной регрессии и алгоритм в котором исходные признаки умножаются на случайную обратимую квадратную матрицу и при этом метрика $R2$ не изменилась. Написано его обоснование.\n",
    "\n",
    "Зависимость предсказанных значений в исходной задаче и в преобразованной линейна.\n",
    "\n",
    "С помощью метрики $R2$ сделано сравнение собственной модели линейной регрессии и из пакета sklearn, модели не отличаются."
   ]
  }
 ],
 "metadata": {
  "ExecuteTimeLog": [
   {
    "duration": 4,
    "start_time": "2023-03-08T16:45:54.856Z"
   },
   {
    "duration": 462,
    "start_time": "2023-03-08T16:54:40.202Z"
   },
   {
    "duration": 74,
    "start_time": "2023-03-08T16:54:42.297Z"
   },
   {
    "duration": 14,
    "start_time": "2023-03-08T16:55:07.689Z"
   },
   {
    "duration": 22,
    "start_time": "2023-03-08T16:55:21.930Z"
   },
   {
    "duration": 1039,
    "start_time": "2023-03-08T16:55:46.940Z"
   },
   {
    "duration": 7290,
    "start_time": "2023-03-08T16:56:51.675Z"
   },
   {
    "duration": 4008,
    "start_time": "2023-03-08T16:58:20.277Z"
   },
   {
    "duration": 7383,
    "start_time": "2023-03-08T17:03:49.574Z"
   },
   {
    "duration": 3,
    "start_time": "2023-03-08T17:49:15.908Z"
   },
   {
    "duration": 1258,
    "start_time": "2023-03-09T10:35:12.466Z"
   },
   {
    "duration": 3,
    "start_time": "2023-03-09T10:37:38.504Z"
   },
   {
    "duration": 3,
    "start_time": "2023-03-09T10:37:40.004Z"
   },
   {
    "duration": 90,
    "start_time": "2023-03-09T10:37:43.510Z"
   },
   {
    "duration": 13,
    "start_time": "2023-03-09T10:37:44.345Z"
   },
   {
    "duration": 18,
    "start_time": "2023-03-09T10:37:45.047Z"
   },
   {
    "duration": 6914,
    "start_time": "2023-03-09T10:37:45.989Z"
   },
   {
    "duration": 6,
    "start_time": "2023-03-09T10:38:36.508Z"
   },
   {
    "duration": 6897,
    "start_time": "2023-03-09T10:38:40.328Z"
   },
   {
    "duration": 445,
    "start_time": "2023-03-09T11:51:21.618Z"
   },
   {
    "duration": 40,
    "start_time": "2023-03-09T11:52:15.183Z"
   },
   {
    "duration": 5,
    "start_time": "2023-03-09T11:54:32.495Z"
   },
   {
    "duration": 66,
    "start_time": "2023-03-09T11:55:25.951Z"
   },
   {
    "duration": 13,
    "start_time": "2023-03-09T11:55:38.188Z"
   },
   {
    "duration": 3,
    "start_time": "2023-03-09T11:55:45.779Z"
   },
   {
    "duration": 3,
    "start_time": "2023-03-09T11:56:30.917Z"
   },
   {
    "duration": 12,
    "start_time": "2023-03-09T11:56:47.839Z"
   },
   {
    "duration": 4,
    "start_time": "2023-03-09T11:57:17.601Z"
   },
   {
    "duration": 9,
    "start_time": "2023-03-09T11:57:46.979Z"
   },
   {
    "duration": 10,
    "start_time": "2023-03-09T11:58:12.327Z"
   },
   {
    "duration": 5,
    "start_time": "2023-03-09T11:58:23.029Z"
   },
   {
    "duration": 8,
    "start_time": "2023-03-09T11:58:52.805Z"
   },
   {
    "duration": 5,
    "start_time": "2023-03-09T11:59:06.467Z"
   },
   {
    "duration": 79,
    "start_time": "2023-03-19T14:35:33.084Z"
   },
   {
    "duration": 1847,
    "start_time": "2023-03-19T14:35:42.305Z"
   },
   {
    "duration": 4,
    "start_time": "2023-03-19T14:35:44.155Z"
   },
   {
    "duration": 108,
    "start_time": "2023-03-19T14:35:44.170Z"
   },
   {
    "duration": 16,
    "start_time": "2023-03-19T14:35:44.280Z"
   },
   {
    "duration": 20,
    "start_time": "2023-03-19T14:35:44.299Z"
   },
   {
    "duration": 3,
    "start_time": "2023-03-19T14:35:44.320Z"
   },
   {
    "duration": 12,
    "start_time": "2023-03-19T14:35:44.325Z"
   },
   {
    "duration": 9,
    "start_time": "2023-03-19T14:35:44.339Z"
   },
   {
    "duration": 27,
    "start_time": "2023-03-19T14:35:44.350Z"
   },
   {
    "duration": 201,
    "start_time": "2023-03-19T14:35:44.379Z"
   },
   {
    "duration": 13,
    "start_time": "2023-03-19T14:35:44.587Z"
   },
   {
    "duration": 2,
    "start_time": "2023-03-19T15:04:24.480Z"
   },
   {
    "duration": 5,
    "start_time": "2023-03-19T15:05:33.340Z"
   },
   {
    "duration": 5,
    "start_time": "2023-03-19T15:05:43.954Z"
   },
   {
    "duration": 4,
    "start_time": "2023-03-19T15:06:51.781Z"
   },
   {
    "duration": 7,
    "start_time": "2023-03-19T15:06:54.701Z"
   },
   {
    "duration": 4,
    "start_time": "2023-03-19T15:44:24.407Z"
   },
   {
    "duration": 6,
    "start_time": "2023-03-19T15:44:24.654Z"
   },
   {
    "duration": 6,
    "start_time": "2023-03-19T15:45:28.608Z"
   },
   {
    "duration": 129,
    "start_time": "2023-03-19T15:45:33.310Z"
   },
   {
    "duration": 30,
    "start_time": "2023-03-19T15:47:01.760Z"
   },
   {
    "duration": 11,
    "start_time": "2023-03-19T15:47:13.419Z"
   },
   {
    "duration": 30,
    "start_time": "2023-03-19T15:47:16.283Z"
   },
   {
    "duration": 11,
    "start_time": "2023-03-19T15:48:07.717Z"
   },
   {
    "duration": 15,
    "start_time": "2023-03-19T15:48:11.403Z"
   },
   {
    "duration": 14,
    "start_time": "2023-03-19T15:48:26.804Z"
   },
   {
    "duration": 16,
    "start_time": "2023-03-19T15:54:32.345Z"
   },
   {
    "duration": 26,
    "start_time": "2023-03-19T15:54:49.088Z"
   },
   {
    "duration": 32,
    "start_time": "2023-03-19T15:55:14.658Z"
   },
   {
    "duration": 11,
    "start_time": "2023-03-19T17:30:14.931Z"
   },
   {
    "duration": 14,
    "start_time": "2023-03-19T17:30:17.120Z"
   },
   {
    "duration": 18,
    "start_time": "2023-03-19T17:30:53.748Z"
   },
   {
    "duration": 23,
    "start_time": "2023-03-19T17:31:22.652Z"
   },
   {
    "duration": 11,
    "start_time": "2023-03-19T17:32:00.648Z"
   },
   {
    "duration": 20,
    "start_time": "2023-03-19T17:33:11.010Z"
   },
   {
    "duration": 21,
    "start_time": "2023-03-19T17:33:27.128Z"
   },
   {
    "duration": 17,
    "start_time": "2023-03-19T17:33:30.033Z"
   },
   {
    "duration": 9,
    "start_time": "2023-03-19T17:33:43.544Z"
   },
   {
    "duration": 9,
    "start_time": "2023-03-19T17:34:23.092Z"
   },
   {
    "duration": 10,
    "start_time": "2023-03-19T17:34:25.143Z"
   },
   {
    "duration": 4,
    "start_time": "2023-03-19T17:51:53.922Z"
   },
   {
    "duration": 8,
    "start_time": "2023-03-19T17:51:54.449Z"
   },
   {
    "duration": 8,
    "start_time": "2023-03-19T17:52:14.027Z"
   },
   {
    "duration": 8,
    "start_time": "2023-03-19T17:52:26.237Z"
   },
   {
    "duration": 9,
    "start_time": "2023-03-19T17:53:22.293Z"
   },
   {
    "duration": 15,
    "start_time": "2023-03-19T17:53:24.508Z"
   },
   {
    "duration": 6,
    "start_time": "2023-03-19T17:53:27.527Z"
   },
   {
    "duration": 6,
    "start_time": "2023-03-19T17:53:29.525Z"
   },
   {
    "duration": 30,
    "start_time": "2023-03-19T17:56:10.895Z"
   },
   {
    "duration": 13,
    "start_time": "2023-03-19T17:56:34.044Z"
   },
   {
    "duration": 3,
    "start_time": "2023-03-19T18:07:19.630Z"
   },
   {
    "duration": 17,
    "start_time": "2023-03-19T18:08:07.204Z"
   },
   {
    "duration": 24,
    "start_time": "2023-03-19T18:08:31.989Z"
   },
   {
    "duration": 16,
    "start_time": "2023-03-19T18:08:43.003Z"
   },
   {
    "duration": 11,
    "start_time": "2023-03-19T18:09:42.824Z"
   },
   {
    "duration": 10,
    "start_time": "2023-03-19T18:09:45.830Z"
   },
   {
    "duration": 11,
    "start_time": "2023-03-19T18:09:47.791Z"
   },
   {
    "duration": 9,
    "start_time": "2023-03-19T18:10:20.815Z"
   },
   {
    "duration": 7,
    "start_time": "2023-03-19T18:10:33.312Z"
   },
   {
    "duration": 5,
    "start_time": "2023-03-19T18:13:22.735Z"
   },
   {
    "duration": 5,
    "start_time": "2023-03-19T18:13:48.447Z"
   },
   {
    "duration": 22,
    "start_time": "2023-03-19T18:14:42.419Z"
   },
   {
    "duration": 13,
    "start_time": "2023-03-19T20:09:36.055Z"
   },
   {
    "duration": 6,
    "start_time": "2023-03-19T20:10:26.200Z"
   },
   {
    "duration": 7,
    "start_time": "2023-03-19T20:10:34.078Z"
   },
   {
    "duration": 3237,
    "start_time": "2023-03-20T19:25:06.788Z"
   },
   {
    "duration": 146,
    "start_time": "2023-03-20T19:25:37.275Z"
   },
   {
    "duration": 11,
    "start_time": "2023-03-20T19:25:43.539Z"
   },
   {
    "duration": 6,
    "start_time": "2023-03-20T19:25:47.526Z"
   },
   {
    "duration": 17,
    "start_time": "2023-03-20T19:26:07.224Z"
   },
   {
    "duration": 6,
    "start_time": "2023-03-20T19:26:14.341Z"
   },
   {
    "duration": 7,
    "start_time": "2023-03-20T19:38:59.548Z"
   },
   {
    "duration": 5,
    "start_time": "2023-03-20T19:39:01.862Z"
   },
   {
    "duration": 4,
    "start_time": "2023-03-20T19:39:04.552Z"
   },
   {
    "duration": 10,
    "start_time": "2023-03-20T19:41:26.658Z"
   },
   {
    "duration": 7,
    "start_time": "2023-03-20T19:53:08.649Z"
   },
   {
    "duration": 5,
    "start_time": "2023-03-20T19:53:15.788Z"
   },
   {
    "duration": 4,
    "start_time": "2023-03-20T19:53:18.564Z"
   },
   {
    "duration": 220,
    "start_time": "2023-03-20T19:58:27.952Z"
   },
   {
    "duration": 4,
    "start_time": "2023-03-20T19:59:46.131Z"
   },
   {
    "duration": 5,
    "start_time": "2023-03-20T19:59:49.132Z"
   },
   {
    "duration": 5,
    "start_time": "2023-03-20T19:59:57.535Z"
   },
   {
    "duration": 15,
    "start_time": "2023-03-20T20:00:13.899Z"
   },
   {
    "duration": 5,
    "start_time": "2023-03-20T20:00:15.976Z"
   },
   {
    "duration": 6,
    "start_time": "2023-03-20T20:06:17.552Z"
   },
   {
    "duration": 4,
    "start_time": "2023-03-20T20:06:23.258Z"
   },
   {
    "duration": 13,
    "start_time": "2023-03-20T20:06:29.127Z"
   },
   {
    "duration": 5,
    "start_time": "2023-03-20T20:06:34.880Z"
   },
   {
    "duration": 4,
    "start_time": "2023-03-20T20:06:37.230Z"
   },
   {
    "duration": 15,
    "start_time": "2023-03-20T20:07:41.249Z"
   },
   {
    "duration": 6,
    "start_time": "2023-03-20T20:07:48.327Z"
   },
   {
    "duration": 5,
    "start_time": "2023-03-20T20:07:51.126Z"
   },
   {
    "duration": 7,
    "start_time": "2023-03-20T20:09:21.936Z"
   },
   {
    "duration": 5,
    "start_time": "2023-03-20T20:10:41.954Z"
   },
   {
    "duration": 92,
    "start_time": "2023-03-20T20:10:46.486Z"
   },
   {
    "duration": 4,
    "start_time": "2023-03-20T20:11:26.038Z"
   },
   {
    "duration": 4,
    "start_time": "2023-03-20T20:11:40.396Z"
   },
   {
    "duration": 14,
    "start_time": "2023-03-20T20:12:53.522Z"
   },
   {
    "duration": 4,
    "start_time": "2023-03-20T20:12:58.130Z"
   },
   {
    "duration": 3,
    "start_time": "2023-03-20T20:13:31.339Z"
   },
   {
    "duration": 10,
    "start_time": "2023-03-20T20:26:16.172Z"
   },
   {
    "duration": 6,
    "start_time": "2023-03-20T20:26:36.088Z"
   },
   {
    "duration": 4,
    "start_time": "2023-03-20T20:26:42.367Z"
   },
   {
    "duration": 5,
    "start_time": "2023-03-20T20:26:44.927Z"
   },
   {
    "duration": 4,
    "start_time": "2023-03-20T20:26:56.592Z"
   },
   {
    "duration": 5,
    "start_time": "2023-03-20T20:27:57.379Z"
   },
   {
    "duration": 5,
    "start_time": "2023-03-20T20:31:08.522Z"
   },
   {
    "duration": 5,
    "start_time": "2023-03-20T20:31:12.822Z"
   },
   {
    "duration": 4,
    "start_time": "2023-03-20T20:31:16.626Z"
   },
   {
    "duration": 4,
    "start_time": "2023-03-20T20:31:45.474Z"
   },
   {
    "duration": 14,
    "start_time": "2023-03-21T10:01:03.279Z"
   },
   {
    "duration": 1699,
    "start_time": "2023-03-21T10:17:58.394Z"
   },
   {
    "duration": 2,
    "start_time": "2023-03-21T10:18:11.012Z"
   },
   {
    "duration": 6,
    "start_time": "2023-03-21T10:19:11.155Z"
   },
   {
    "duration": 12,
    "start_time": "2023-03-21T10:19:15.233Z"
   },
   {
    "duration": 5,
    "start_time": "2023-03-21T10:19:20.735Z"
   },
   {
    "duration": 4,
    "start_time": "2023-03-21T10:19:26.679Z"
   },
   {
    "duration": 109,
    "start_time": "2023-03-21T10:20:10.283Z"
   },
   {
    "duration": 4,
    "start_time": "2023-03-21T10:20:22.289Z"
   },
   {
    "duration": 46,
    "start_time": "2023-03-21T10:20:31.648Z"
   },
   {
    "duration": 4,
    "start_time": "2023-03-21T10:21:08.891Z"
   },
   {
    "duration": 118,
    "start_time": "2023-03-21T10:21:15.550Z"
   },
   {
    "duration": 4,
    "start_time": "2023-03-21T10:21:29.626Z"
   },
   {
    "duration": 37,
    "start_time": "2023-03-21T10:21:36.277Z"
   },
   {
    "duration": 77,
    "start_time": "2023-03-21T10:21:45.622Z"
   },
   {
    "duration": 121,
    "start_time": "2023-03-21T10:23:56.736Z"
   },
   {
    "duration": 185,
    "start_time": "2023-03-21T10:24:16.443Z"
   },
   {
    "duration": 94,
    "start_time": "2023-03-21T10:24:30.193Z"
   },
   {
    "duration": 15,
    "start_time": "2023-03-21T10:29:57.140Z"
   },
   {
    "duration": 194,
    "start_time": "2023-03-21T10:30:18.640Z"
   },
   {
    "duration": 6,
    "start_time": "2023-03-21T10:30:47.230Z"
   },
   {
    "duration": 6,
    "start_time": "2023-03-21T10:31:25.513Z"
   },
   {
    "duration": 7,
    "start_time": "2023-03-21T10:31:30.182Z"
   },
   {
    "duration": 6,
    "start_time": "2023-03-21T10:31:38.984Z"
   },
   {
    "duration": 328,
    "start_time": "2023-03-21T10:32:20.986Z"
   },
   {
    "duration": 6,
    "start_time": "2023-03-21T10:32:30.319Z"
   },
   {
    "duration": 7,
    "start_time": "2023-03-21T10:32:52.988Z"
   },
   {
    "duration": 40,
    "start_time": "2023-03-21T10:33:03.211Z"
   },
   {
    "duration": 53,
    "start_time": "2023-03-21T10:33:07.577Z"
   },
   {
    "duration": 44,
    "start_time": "2023-03-21T10:33:20.791Z"
   },
   {
    "duration": 7,
    "start_time": "2023-03-21T10:33:36.584Z"
   },
   {
    "duration": 83,
    "start_time": "2023-03-21T10:34:13.813Z"
   },
   {
    "duration": 6,
    "start_time": "2023-03-21T10:34:18.263Z"
   },
   {
    "duration": 176,
    "start_time": "2023-03-21T10:34:30.228Z"
   },
   {
    "duration": 88,
    "start_time": "2023-03-21T10:34:41.979Z"
   },
   {
    "duration": 7,
    "start_time": "2023-03-21T10:34:51.687Z"
   },
   {
    "duration": 6,
    "start_time": "2023-03-21T10:35:07.013Z"
   },
   {
    "duration": 6,
    "start_time": "2023-03-21T10:35:14.951Z"
   },
   {
    "duration": 65,
    "start_time": "2023-03-21T10:35:52.179Z"
   },
   {
    "duration": 4,
    "start_time": "2023-03-21T10:35:58.025Z"
   },
   {
    "duration": 86,
    "start_time": "2023-03-21T10:36:02.289Z"
   },
   {
    "duration": 4,
    "start_time": "2023-03-21T11:01:06.797Z"
   },
   {
    "duration": 7,
    "start_time": "2023-03-21T11:01:34.837Z"
   },
   {
    "duration": 5,
    "start_time": "2023-03-21T11:01:49.432Z"
   },
   {
    "duration": 6,
    "start_time": "2023-03-21T11:02:02.406Z"
   },
   {
    "duration": 6,
    "start_time": "2023-03-21T11:02:43.662Z"
   },
   {
    "duration": 10,
    "start_time": "2023-03-21T11:03:29.507Z"
   },
   {
    "duration": 6,
    "start_time": "2023-03-21T11:04:45.520Z"
   },
   {
    "duration": 5,
    "start_time": "2023-03-21T11:04:58.605Z"
   },
   {
    "duration": 6,
    "start_time": "2023-03-21T11:05:10.386Z"
   },
   {
    "duration": 6,
    "start_time": "2023-03-21T11:05:23.677Z"
   },
   {
    "duration": 7,
    "start_time": "2023-03-21T11:05:45.825Z"
   },
   {
    "duration": 8,
    "start_time": "2023-03-21T11:05:54.965Z"
   },
   {
    "duration": 7,
    "start_time": "2023-03-21T11:06:33.036Z"
   },
   {
    "duration": 7,
    "start_time": "2023-03-21T11:06:56.567Z"
   },
   {
    "duration": 6,
    "start_time": "2023-03-21T11:15:45.991Z"
   },
   {
    "duration": 6,
    "start_time": "2023-03-21T11:26:35.119Z"
   },
   {
    "duration": 6,
    "start_time": "2023-03-21T11:26:39.465Z"
   },
   {
    "duration": 3,
    "start_time": "2023-03-21T12:44:49.259Z"
   },
   {
    "duration": 4,
    "start_time": "2023-03-21T12:46:20.947Z"
   },
   {
    "duration": 1405,
    "start_time": "2023-03-21T12:46:31.776Z"
   },
   {
    "duration": 3,
    "start_time": "2023-03-21T12:46:34.844Z"
   },
   {
    "duration": 7,
    "start_time": "2023-03-21T12:46:35.677Z"
   },
   {
    "duration": 85,
    "start_time": "2023-03-21T12:47:33.389Z"
   },
   {
    "duration": 35,
    "start_time": "2023-03-21T12:47:45.922Z"
   },
   {
    "duration": 27,
    "start_time": "2023-03-21T12:48:10.257Z"
   },
   {
    "duration": 25,
    "start_time": "2023-03-21T12:48:45.649Z"
   },
   {
    "duration": 7204,
    "start_time": "2023-03-21T12:49:33.457Z"
   },
   {
    "duration": 7384,
    "start_time": "2023-03-21T12:49:51.811Z"
   },
   {
    "duration": 8589,
    "start_time": "2023-03-21T12:50:17.090Z"
   },
   {
    "duration": 9065,
    "start_time": "2023-03-21T12:52:43.930Z"
   },
   {
    "duration": 3,
    "start_time": "2023-03-21T12:53:07.226Z"
   },
   {
    "duration": 8755,
    "start_time": "2023-03-21T12:53:26.305Z"
   },
   {
    "duration": 8864,
    "start_time": "2023-03-21T12:53:38.215Z"
   },
   {
    "duration": 5,
    "start_time": "2023-03-21T12:58:06.817Z"
   },
   {
    "duration": 8909,
    "start_time": "2023-03-21T12:58:12.087Z"
   },
   {
    "duration": 7,
    "start_time": "2023-03-21T12:59:11.219Z"
   },
   {
    "duration": 8766,
    "start_time": "2023-03-21T12:59:13.753Z"
   },
   {
    "duration": 5,
    "start_time": "2023-03-21T12:59:27.256Z"
   },
   {
    "duration": 1677,
    "start_time": "2023-03-21T12:59:46.958Z"
   },
   {
    "duration": 11,
    "start_time": "2023-03-21T13:00:32.978Z"
   },
   {
    "duration": 2087,
    "start_time": "2023-03-21T13:00:44.752Z"
   },
   {
    "duration": 4,
    "start_time": "2023-03-21T13:00:56.623Z"
   },
   {
    "duration": 1814,
    "start_time": "2023-03-21T13:01:11.121Z"
   },
   {
    "duration": 1758,
    "start_time": "2023-03-21T13:01:14.973Z"
   },
   {
    "duration": 5,
    "start_time": "2023-03-21T13:01:31.183Z"
   },
   {
    "duration": 9120,
    "start_time": "2023-03-21T13:01:46.209Z"
   },
   {
    "duration": 7375,
    "start_time": "2023-03-21T13:02:08.241Z"
   },
   {
    "duration": 17,
    "start_time": "2023-03-21T13:02:20.460Z"
   },
   {
    "duration": 7298,
    "start_time": "2023-03-21T13:02:38.989Z"
   },
   {
    "duration": 122,
    "start_time": "2023-03-21T13:03:32.848Z"
   },
   {
    "duration": 7052,
    "start_time": "2023-03-21T13:03:38.546Z"
   },
   {
    "duration": 34,
    "start_time": "2023-03-21T13:06:35.609Z"
   },
   {
    "duration": 3,
    "start_time": "2023-03-21T13:07:01.836Z"
   },
   {
    "duration": 10,
    "start_time": "2023-03-21T13:08:57.210Z"
   },
   {
    "duration": 6,
    "start_time": "2023-03-21T13:09:01.280Z"
   },
   {
    "duration": 10,
    "start_time": "2023-03-21T13:09:03.050Z"
   },
   {
    "duration": 4,
    "start_time": "2023-03-21T13:09:08.410Z"
   },
   {
    "duration": 5,
    "start_time": "2023-03-21T13:09:13.812Z"
   },
   {
    "duration": 5,
    "start_time": "2023-03-21T13:36:55.783Z"
   },
   {
    "duration": 13,
    "start_time": "2023-03-21T13:36:57.637Z"
   },
   {
    "duration": 3,
    "start_time": "2023-03-21T13:37:13.618Z"
   },
   {
    "duration": 175,
    "start_time": "2023-03-21T13:37:15.342Z"
   },
   {
    "duration": 5,
    "start_time": "2023-03-21T13:38:43.612Z"
   },
   {
    "duration": 5,
    "start_time": "2023-03-21T13:39:06.789Z"
   },
   {
    "duration": 16,
    "start_time": "2023-03-21T13:39:08.634Z"
   },
   {
    "duration": 5,
    "start_time": "2023-03-21T13:40:01.324Z"
   },
   {
    "duration": 14,
    "start_time": "2023-03-21T13:40:03.319Z"
   },
   {
    "duration": 5,
    "start_time": "2023-03-21T13:40:12.289Z"
   },
   {
    "duration": 35,
    "start_time": "2023-03-21T13:40:14.342Z"
   },
   {
    "duration": 6,
    "start_time": "2023-03-21T13:41:12.513Z"
   },
   {
    "duration": 11,
    "start_time": "2023-03-21T13:41:15.429Z"
   },
   {
    "duration": 5,
    "start_time": "2023-03-21T13:42:21.721Z"
   },
   {
    "duration": 17,
    "start_time": "2023-03-21T13:42:23.713Z"
   },
   {
    "duration": 10,
    "start_time": "2023-03-21T13:42:54.080Z"
   },
   {
    "duration": 14,
    "start_time": "2023-03-21T13:42:56.897Z"
   },
   {
    "duration": 11,
    "start_time": "2023-03-21T13:43:17.084Z"
   },
   {
    "duration": 9,
    "start_time": "2023-03-21T13:43:19.117Z"
   },
   {
    "duration": 4,
    "start_time": "2023-03-21T13:43:34.036Z"
   },
   {
    "duration": 4,
    "start_time": "2023-03-21T13:44:07.718Z"
   },
   {
    "duration": 7,
    "start_time": "2023-03-21T13:44:10.054Z"
   },
   {
    "duration": 7,
    "start_time": "2023-03-21T13:48:08.055Z"
   },
   {
    "duration": 8,
    "start_time": "2023-03-21T13:48:34.618Z"
   },
   {
    "duration": 9,
    "start_time": "2023-03-21T13:49:08.024Z"
   },
   {
    "duration": 6,
    "start_time": "2023-03-21T13:50:31.716Z"
   },
   {
    "duration": 5,
    "start_time": "2023-03-21T13:50:32.607Z"
   },
   {
    "duration": 5,
    "start_time": "2023-03-21T13:50:52.044Z"
   },
   {
    "duration": 8,
    "start_time": "2023-03-21T13:50:53.887Z"
   },
   {
    "duration": 4,
    "start_time": "2023-03-21T13:50:56.208Z"
   },
   {
    "duration": 9,
    "start_time": "2023-03-21T13:51:10.656Z"
   },
   {
    "duration": 3,
    "start_time": "2023-03-21T13:51:16.699Z"
   },
   {
    "duration": 4,
    "start_time": "2023-03-21T13:52:28.430Z"
   },
   {
    "duration": 11,
    "start_time": "2023-03-21T13:52:32.088Z"
   },
   {
    "duration": 6,
    "start_time": "2023-03-21T13:53:20.642Z"
   },
   {
    "duration": 5,
    "start_time": "2023-03-21T13:53:38.253Z"
   },
   {
    "duration": 192,
    "start_time": "2023-03-21T13:59:48.472Z"
   },
   {
    "duration": 182,
    "start_time": "2023-03-21T14:05:41.585Z"
   },
   {
    "duration": 84,
    "start_time": "2023-03-21T14:07:05.480Z"
   },
   {
    "duration": 189,
    "start_time": "2023-03-21T14:07:13.132Z"
   },
   {
    "duration": 176,
    "start_time": "2023-03-21T14:11:38.331Z"
   },
   {
    "duration": 169,
    "start_time": "2023-03-21T14:13:50.486Z"
   },
   {
    "duration": 201,
    "start_time": "2023-03-21T14:14:23.322Z"
   },
   {
    "duration": 234,
    "start_time": "2023-03-21T14:14:42.290Z"
   },
   {
    "duration": 230,
    "start_time": "2023-03-21T14:15:01.026Z"
   },
   {
    "duration": 529,
    "start_time": "2023-03-21T14:15:05.810Z"
   },
   {
    "duration": 205,
    "start_time": "2023-03-21T14:15:09.263Z"
   },
   {
    "duration": 219,
    "start_time": "2023-03-21T14:15:27.932Z"
   },
   {
    "duration": 216,
    "start_time": "2023-03-21T14:19:44.044Z"
   },
   {
    "duration": 210,
    "start_time": "2023-03-21T14:21:21.879Z"
   },
   {
    "duration": 197,
    "start_time": "2023-03-21T14:22:55.846Z"
   },
   {
    "duration": 5,
    "start_time": "2023-03-21T14:24:30.385Z"
   },
   {
    "duration": 9,
    "start_time": "2023-03-21T14:24:44.631Z"
   },
   {
    "duration": 4,
    "start_time": "2023-03-21T14:24:56.441Z"
   },
   {
    "duration": 5,
    "start_time": "2023-03-21T14:25:04.069Z"
   },
   {
    "duration": 4,
    "start_time": "2023-03-21T14:25:07.786Z"
   },
   {
    "duration": 4,
    "start_time": "2023-03-21T14:25:28.190Z"
   },
   {
    "duration": 3,
    "start_time": "2023-03-21T14:27:02.324Z"
   },
   {
    "duration": 8,
    "start_time": "2023-03-21T14:27:02.821Z"
   },
   {
    "duration": 5,
    "start_time": "2023-03-21T14:27:04.881Z"
   },
   {
    "duration": 6,
    "start_time": "2023-03-21T14:27:05.481Z"
   },
   {
    "duration": 152,
    "start_time": "2023-03-21T14:27:39.038Z"
   },
   {
    "duration": 7,
    "start_time": "2023-03-21T14:28:06.163Z"
   },
   {
    "duration": 6,
    "start_time": "2023-03-21T14:28:15.354Z"
   },
   {
    "duration": 13,
    "start_time": "2023-03-21T14:28:17.468Z"
   },
   {
    "duration": 3,
    "start_time": "2023-03-21T14:28:21.295Z"
   },
   {
    "duration": 3,
    "start_time": "2023-03-21T14:28:22.275Z"
   },
   {
    "duration": 7,
    "start_time": "2023-03-21T14:28:22.888Z"
   },
   {
    "duration": 5,
    "start_time": "2023-03-21T14:28:23.548Z"
   },
   {
    "duration": 12,
    "start_time": "2023-03-21T14:28:24.333Z"
   },
   {
    "duration": 5,
    "start_time": "2023-03-21T14:28:39.165Z"
   },
   {
    "duration": 205,
    "start_time": "2023-03-21T14:28:45.034Z"
   },
   {
    "duration": 177,
    "start_time": "2023-03-21T14:33:34.882Z"
   },
   {
    "duration": 225,
    "start_time": "2023-03-21T14:34:22.637Z"
   },
   {
    "duration": 5,
    "start_time": "2023-03-21T14:34:56.876Z"
   },
   {
    "duration": 5,
    "start_time": "2023-03-21T14:35:05.080Z"
   },
   {
    "duration": 5,
    "start_time": "2023-03-21T14:35:30.395Z"
   },
   {
    "duration": 4,
    "start_time": "2023-03-21T14:35:47.888Z"
   },
   {
    "duration": 186,
    "start_time": "2023-03-21T14:35:50.945Z"
   },
   {
    "duration": 190,
    "start_time": "2023-03-21T14:36:07.545Z"
   },
   {
    "duration": 201,
    "start_time": "2023-03-21T14:36:11.049Z"
   },
   {
    "duration": 182,
    "start_time": "2023-03-21T14:37:26.387Z"
   },
   {
    "duration": 210,
    "start_time": "2023-03-21T14:37:30.680Z"
   },
   {
    "duration": 197,
    "start_time": "2023-03-21T14:37:50.524Z"
   },
   {
    "duration": 229,
    "start_time": "2023-03-21T14:38:02.082Z"
   },
   {
    "duration": 223,
    "start_time": "2023-03-21T14:40:28.838Z"
   },
   {
    "duration": 6,
    "start_time": "2023-03-21T14:43:01.913Z"
   },
   {
    "duration": 5,
    "start_time": "2023-03-21T14:43:14.481Z"
   },
   {
    "duration": 21,
    "start_time": "2023-03-21T14:43:21.974Z"
   },
   {
    "duration": 5,
    "start_time": "2023-03-21T14:43:40.182Z"
   },
   {
    "duration": 9,
    "start_time": "2023-03-21T14:44:12.786Z"
   },
   {
    "duration": 10,
    "start_time": "2023-03-21T14:44:18.510Z"
   },
   {
    "duration": 18,
    "start_time": "2023-03-21T14:44:22.595Z"
   },
   {
    "duration": 5,
    "start_time": "2023-03-21T14:44:25.077Z"
   },
   {
    "duration": 7,
    "start_time": "2023-03-21T14:44:35.298Z"
   },
   {
    "duration": 189,
    "start_time": "2023-03-21T14:44:50.345Z"
   },
   {
    "duration": 191,
    "start_time": "2023-03-21T14:45:11.356Z"
   },
   {
    "duration": 195,
    "start_time": "2023-03-21T14:45:22.009Z"
   },
   {
    "duration": 366,
    "start_time": "2023-03-21T14:45:35.578Z"
   },
   {
    "duration": 221,
    "start_time": "2023-03-21T14:46:48.082Z"
   },
   {
    "duration": 185,
    "start_time": "2023-03-21T14:47:04.530Z"
   },
   {
    "duration": 216,
    "start_time": "2023-03-21T14:47:09.292Z"
   },
   {
    "duration": 206,
    "start_time": "2023-03-21T14:47:15.388Z"
   },
   {
    "duration": 4,
    "start_time": "2023-03-21T16:40:59.797Z"
   },
   {
    "duration": 5,
    "start_time": "2023-03-21T16:42:57.001Z"
   },
   {
    "duration": 4,
    "start_time": "2023-03-21T16:43:00.251Z"
   },
   {
    "duration": 6,
    "start_time": "2023-03-21T16:43:01.126Z"
   },
   {
    "duration": 202,
    "start_time": "2023-03-21T16:43:04.401Z"
   },
   {
    "duration": 46,
    "start_time": "2023-03-21T16:45:34.202Z"
   },
   {
    "duration": 5,
    "start_time": "2023-03-21T16:47:18.857Z"
   },
   {
    "duration": 115,
    "start_time": "2023-03-21T16:47:32.564Z"
   },
   {
    "duration": 4,
    "start_time": "2023-03-21T16:49:32.473Z"
   },
   {
    "duration": 11,
    "start_time": "2023-03-21T16:49:39.109Z"
   },
   {
    "duration": 12,
    "start_time": "2023-03-21T16:51:31.618Z"
   },
   {
    "duration": 3,
    "start_time": "2023-03-21T16:56:31.546Z"
   },
   {
    "duration": 6,
    "start_time": "2023-03-21T16:56:52.002Z"
   },
   {
    "duration": 6,
    "start_time": "2023-03-21T16:57:30.821Z"
   },
   {
    "duration": 10,
    "start_time": "2023-03-21T16:57:52.215Z"
   },
   {
    "duration": 8,
    "start_time": "2023-03-21T16:57:57.830Z"
   },
   {
    "duration": 11,
    "start_time": "2023-03-21T16:58:13.255Z"
   },
   {
    "duration": 9,
    "start_time": "2023-03-21T16:58:21.601Z"
   },
   {
    "duration": 9,
    "start_time": "2023-03-21T16:58:25.031Z"
   },
   {
    "duration": 8,
    "start_time": "2023-03-21T16:58:33.095Z"
   },
   {
    "duration": 259,
    "start_time": "2023-03-21T17:04:27.204Z"
   },
   {
    "duration": 1686,
    "start_time": "2023-03-23T11:27:19.162Z"
   },
   {
    "duration": 3,
    "start_time": "2023-03-23T11:27:20.850Z"
   },
   {
    "duration": 12,
    "start_time": "2023-03-23T11:27:20.854Z"
   },
   {
    "duration": 12,
    "start_time": "2023-03-23T11:27:20.867Z"
   },
   {
    "duration": 85,
    "start_time": "2023-03-23T11:27:20.882Z"
   },
   {
    "duration": 19,
    "start_time": "2023-03-23T11:27:20.968Z"
   },
   {
    "duration": 12,
    "start_time": "2023-03-23T11:27:20.989Z"
   },
   {
    "duration": 28,
    "start_time": "2023-03-23T11:27:21.003Z"
   },
   {
    "duration": 7205,
    "start_time": "2023-03-23T11:27:21.033Z"
   },
   {
    "duration": 4,
    "start_time": "2023-03-23T11:27:28.240Z"
   },
   {
    "duration": 8,
    "start_time": "2023-03-23T11:27:28.246Z"
   },
   {
    "duration": 8,
    "start_time": "2023-03-23T11:27:28.255Z"
   },
   {
    "duration": 24,
    "start_time": "2023-03-23T11:27:28.265Z"
   },
   {
    "duration": 333,
    "start_time": "2023-03-23T11:27:28.292Z"
   },
   {
    "duration": 48,
    "start_time": "2023-03-23T11:27:28.626Z"
   },
   {
    "duration": 85,
    "start_time": "2023-03-23T11:27:28.675Z"
   },
   {
    "duration": 96,
    "start_time": "2023-03-23T11:27:28.763Z"
   },
   {
    "duration": 10,
    "start_time": "2023-03-23T11:27:28.860Z"
   },
   {
    "duration": 12,
    "start_time": "2023-03-23T11:27:28.872Z"
   },
   {
    "duration": 75,
    "start_time": "2023-03-23T11:27:28.886Z"
   },
   {
    "duration": 317,
    "start_time": "2023-03-23T11:27:28.963Z"
   },
   {
    "duration": 3,
    "start_time": "2023-03-23T11:27:29.281Z"
   },
   {
    "duration": 21,
    "start_time": "2023-03-23T11:27:29.286Z"
   },
   {
    "duration": 109,
    "start_time": "2023-03-23T11:27:29.359Z"
   },
   {
    "duration": 14,
    "start_time": "2023-03-23T11:27:29.470Z"
   },
   {
    "duration": 16,
    "start_time": "2023-03-23T11:27:29.486Z"
   },
   {
    "duration": 202,
    "start_time": "2023-03-23T11:27:29.504Z"
   },
   {
    "duration": 4,
    "start_time": "2023-03-23T11:27:29.708Z"
   },
   {
    "duration": 8,
    "start_time": "2023-03-23T11:27:29.714Z"
   },
   {
    "duration": 8,
    "start_time": "2023-03-23T11:27:29.724Z"
   },
   {
    "duration": 27,
    "start_time": "2023-03-23T11:27:29.733Z"
   },
   {
    "duration": 15,
    "start_time": "2023-03-23T11:27:29.761Z"
   },
   {
    "duration": 14,
    "start_time": "2023-03-23T11:27:29.777Z"
   },
   {
    "duration": 20,
    "start_time": "2023-03-23T11:27:29.793Z"
   },
   {
    "duration": 7,
    "start_time": "2023-03-23T11:27:29.815Z"
   },
   {
    "duration": 12,
    "start_time": "2023-03-23T11:27:29.824Z"
   },
   {
    "duration": 24,
    "start_time": "2023-03-23T11:27:29.837Z"
   },
   {
    "duration": 97,
    "start_time": "2023-03-23T11:27:29.867Z"
   },
   {
    "duration": 116,
    "start_time": "2023-03-23T11:27:29.966Z"
   },
   {
    "duration": 35,
    "start_time": "2023-03-23T11:27:30.085Z"
   },
   {
    "duration": 137,
    "start_time": "2023-03-23T11:27:30.125Z"
   },
   {
    "duration": 0,
    "start_time": "2023-03-23T11:27:30.264Z"
   },
   {
    "duration": 0,
    "start_time": "2023-03-23T11:27:30.266Z"
   },
   {
    "duration": 0,
    "start_time": "2023-03-23T11:27:30.267Z"
   },
   {
    "duration": 230,
    "start_time": "2023-03-23T11:28:20.593Z"
   },
   {
    "duration": 226,
    "start_time": "2023-03-23T11:28:25.931Z"
   },
   {
    "duration": 234,
    "start_time": "2023-03-23T11:28:30.818Z"
   },
   {
    "duration": 216,
    "start_time": "2023-03-23T11:28:37.095Z"
   },
   {
    "duration": 206,
    "start_time": "2023-03-23T11:28:41.348Z"
   },
   {
    "duration": 331,
    "start_time": "2023-03-23T11:29:00.037Z"
   },
   {
    "duration": 227,
    "start_time": "2023-03-23T11:29:20.040Z"
   },
   {
    "duration": 219,
    "start_time": "2023-03-23T11:29:26.041Z"
   },
   {
    "duration": 215,
    "start_time": "2023-03-23T11:29:43.361Z"
   },
   {
    "duration": 221,
    "start_time": "2023-03-23T11:31:20.245Z"
   },
   {
    "duration": 234,
    "start_time": "2023-03-23T11:31:34.436Z"
   },
   {
    "duration": 241,
    "start_time": "2023-03-23T11:31:43.019Z"
   },
   {
    "duration": 234,
    "start_time": "2023-03-23T11:31:54.774Z"
   },
   {
    "duration": 258,
    "start_time": "2023-03-23T11:34:49.587Z"
   },
   {
    "duration": 6,
    "start_time": "2023-03-23T11:39:19.628Z"
   },
   {
    "duration": 4,
    "start_time": "2023-03-23T11:40:11.002Z"
   },
   {
    "duration": 4,
    "start_time": "2023-03-23T11:40:22.988Z"
   },
   {
    "duration": 4,
    "start_time": "2023-03-23T11:40:35.039Z"
   },
   {
    "duration": 4,
    "start_time": "2023-03-23T11:41:01.887Z"
   },
   {
    "duration": 82,
    "start_time": "2023-03-23T11:41:37.461Z"
   },
   {
    "duration": 162,
    "start_time": "2023-03-23T11:41:51.622Z"
   },
   {
    "duration": 5,
    "start_time": "2023-03-23T11:41:56.879Z"
   },
   {
    "duration": 4,
    "start_time": "2023-03-23T11:42:01.379Z"
   },
   {
    "duration": 5,
    "start_time": "2023-03-23T11:44:16.922Z"
   },
   {
    "duration": 3,
    "start_time": "2023-03-23T11:44:24.218Z"
   },
   {
    "duration": 3,
    "start_time": "2023-03-23T11:44:57.482Z"
   },
   {
    "duration": 5,
    "start_time": "2023-03-23T12:13:29.239Z"
   },
   {
    "duration": 181,
    "start_time": "2023-03-23T12:13:36.780Z"
   },
   {
    "duration": 201,
    "start_time": "2023-03-23T12:14:01.564Z"
   },
   {
    "duration": 6,
    "start_time": "2023-03-23T12:15:06.344Z"
   },
   {
    "duration": 250,
    "start_time": "2023-03-23T12:15:09.319Z"
   },
   {
    "duration": 239,
    "start_time": "2023-03-23T12:15:20.225Z"
   },
   {
    "duration": 5,
    "start_time": "2023-03-23T12:17:02.052Z"
   },
   {
    "duration": 151,
    "start_time": "2023-03-23T12:26:30.713Z"
   },
   {
    "duration": 5,
    "start_time": "2023-03-23T12:26:51.689Z"
   },
   {
    "duration": 73,
    "start_time": "2023-03-23T12:26:54.488Z"
   },
   {
    "duration": 5,
    "start_time": "2023-03-23T12:27:45.790Z"
   },
   {
    "duration": 251,
    "start_time": "2023-03-23T12:27:47.555Z"
   },
   {
    "duration": 4,
    "start_time": "2023-03-23T12:28:28.180Z"
   },
   {
    "duration": 223,
    "start_time": "2023-03-23T12:28:30.141Z"
   },
   {
    "duration": 5,
    "start_time": "2023-03-23T12:29:04.358Z"
   },
   {
    "duration": 174,
    "start_time": "2023-03-23T12:29:09.327Z"
   },
   {
    "duration": 5,
    "start_time": "2023-03-23T12:29:35.674Z"
   },
   {
    "duration": 306,
    "start_time": "2023-03-23T12:29:37.739Z"
   },
   {
    "duration": 4,
    "start_time": "2023-03-23T12:29:46.069Z"
   },
   {
    "duration": 280,
    "start_time": "2023-03-23T12:29:47.955Z"
   },
   {
    "duration": 231,
    "start_time": "2023-03-23T12:29:55.903Z"
   },
   {
    "duration": 3,
    "start_time": "2023-03-23T14:10:37.428Z"
   },
   {
    "duration": 306,
    "start_time": "2023-03-23T14:16:19.475Z"
   },
   {
    "duration": 9,
    "start_time": "2023-03-23T14:16:23.467Z"
   },
   {
    "duration": 9,
    "start_time": "2023-03-23T14:18:13.047Z"
   },
   {
    "duration": 3,
    "start_time": "2023-03-23T14:18:14.814Z"
   },
   {
    "duration": 4,
    "start_time": "2023-03-23T14:18:35.528Z"
   },
   {
    "duration": 5,
    "start_time": "2023-03-23T14:18:37.870Z"
   },
   {
    "duration": 4,
    "start_time": "2023-03-23T14:18:48.307Z"
   },
   {
    "duration": 1517,
    "start_time": "2023-03-23T14:45:05.396Z"
   },
   {
    "duration": 3,
    "start_time": "2023-03-23T14:45:06.915Z"
   },
   {
    "duration": 6,
    "start_time": "2023-03-23T14:45:06.922Z"
   },
   {
    "duration": 11,
    "start_time": "2023-03-23T14:45:06.930Z"
   },
   {
    "duration": 36,
    "start_time": "2023-03-23T14:45:06.942Z"
   },
   {
    "duration": 20,
    "start_time": "2023-03-23T14:45:06.980Z"
   },
   {
    "duration": 25,
    "start_time": "2023-03-23T14:45:07.001Z"
   },
   {
    "duration": 31,
    "start_time": "2023-03-23T14:45:07.027Z"
   },
   {
    "duration": 7191,
    "start_time": "2023-03-23T14:45:07.062Z"
   },
   {
    "duration": 5,
    "start_time": "2023-03-23T14:45:14.255Z"
   },
   {
    "duration": 26,
    "start_time": "2023-03-23T14:45:14.262Z"
   },
   {
    "duration": 23,
    "start_time": "2023-03-23T14:45:14.290Z"
   },
   {
    "duration": 299,
    "start_time": "2023-03-23T14:45:14.315Z"
   },
   {
    "duration": 186,
    "start_time": "2023-03-23T14:45:14.615Z"
   },
   {
    "duration": 40,
    "start_time": "2023-03-23T14:45:14.803Z"
   },
   {
    "duration": 91,
    "start_time": "2023-03-23T14:45:14.845Z"
   },
   {
    "duration": 94,
    "start_time": "2023-03-23T14:45:14.939Z"
   },
   {
    "duration": 10,
    "start_time": "2023-03-23T14:45:15.035Z"
   },
   {
    "duration": 419,
    "start_time": "2023-03-23T14:45:15.047Z"
   },
   {
    "duration": 4,
    "start_time": "2023-03-23T14:45:15.467Z"
   },
   {
    "duration": 268,
    "start_time": "2023-03-23T14:45:15.472Z"
   },
   {
    "duration": 4,
    "start_time": "2023-03-23T14:45:15.742Z"
   },
   {
    "duration": 19,
    "start_time": "2023-03-23T14:45:15.748Z"
   },
   {
    "duration": 13,
    "start_time": "2023-03-23T14:45:15.769Z"
   },
   {
    "duration": 5,
    "start_time": "2023-03-23T14:45:15.784Z"
   },
   {
    "duration": 2693,
    "start_time": "2023-03-24T09:06:09.804Z"
   },
   {
    "duration": 4,
    "start_time": "2023-03-24T09:06:12.500Z"
   },
   {
    "duration": 8,
    "start_time": "2023-03-24T09:06:12.505Z"
   },
   {
    "duration": 4,
    "start_time": "2023-03-24T09:06:12.515Z"
   },
   {
    "duration": 29,
    "start_time": "2023-03-24T09:06:13.243Z"
   },
   {
    "duration": 19,
    "start_time": "2023-03-24T09:06:35.373Z"
   },
   {
    "duration": 14,
    "start_time": "2023-03-24T09:06:35.855Z"
   },
   {
    "duration": 26,
    "start_time": "2023-03-24T09:06:36.681Z"
   },
   {
    "duration": 7270,
    "start_time": "2023-03-24T09:06:37.182Z"
   },
   {
    "duration": 5,
    "start_time": "2023-03-24T09:11:22.894Z"
   },
   {
    "duration": 7,
    "start_time": "2023-03-24T09:11:23.321Z"
   },
   {
    "duration": 8,
    "start_time": "2023-03-24T09:11:25.298Z"
   },
   {
    "duration": 245,
    "start_time": "2023-03-24T09:11:26.824Z"
   },
   {
    "duration": 5,
    "start_time": "2023-03-24T09:13:36.518Z"
   },
   {
    "duration": 6,
    "start_time": "2023-03-24T09:13:37.048Z"
   },
   {
    "duration": 4,
    "start_time": "2023-03-24T09:13:37.779Z"
   },
   {
    "duration": 273,
    "start_time": "2023-03-24T09:13:38.303Z"
   },
   {
    "duration": 202,
    "start_time": "2023-03-24T09:13:38.938Z"
   },
   {
    "duration": 55,
    "start_time": "2023-03-24T09:14:02.562Z"
   },
   {
    "duration": 65,
    "start_time": "2023-03-24T09:14:02.712Z"
   },
   {
    "duration": 12,
    "start_time": "2023-03-24T09:14:03.400Z"
   },
   {
    "duration": 11,
    "start_time": "2023-03-24T09:14:03.905Z"
   },
   {
    "duration": 284,
    "start_time": "2023-03-24T09:14:04.937Z"
   },
   {
    "duration": 4,
    "start_time": "2023-03-24T09:14:05.528Z"
   },
   {
    "duration": 244,
    "start_time": "2023-03-24T09:14:06.313Z"
   },
   {
    "duration": 4,
    "start_time": "2023-03-24T09:14:06.764Z"
   },
   {
    "duration": 10,
    "start_time": "2023-03-24T09:14:35.717Z"
   },
   {
    "duration": 10,
    "start_time": "2023-03-24T09:14:36.694Z"
   },
   {
    "duration": 4,
    "start_time": "2023-03-24T09:14:38.400Z"
   },
   {
    "duration": 1665,
    "start_time": "2023-03-24T11:11:48.452Z"
   },
   {
    "duration": 3,
    "start_time": "2023-03-24T11:12:36.949Z"
   },
   {
    "duration": 3,
    "start_time": "2023-03-24T11:12:45.248Z"
   },
   {
    "duration": 6,
    "start_time": "2023-03-24T11:12:46.588Z"
   },
   {
    "duration": 49,
    "start_time": "2023-03-24T11:14:39.426Z"
   },
   {
    "duration": 60,
    "start_time": "2023-03-24T11:15:17.824Z"
   },
   {
    "duration": 55,
    "start_time": "2023-03-24T11:15:40.596Z"
   },
   {
    "duration": 66,
    "start_time": "2023-03-24T11:18:42.968Z"
   },
   {
    "duration": 105,
    "start_time": "2023-03-24T11:18:54.072Z"
   },
   {
    "duration": 75,
    "start_time": "2023-03-24T11:19:27.990Z"
   },
   {
    "duration": 102,
    "start_time": "2023-03-24T11:24:40.874Z"
   },
   {
    "duration": 221,
    "start_time": "2023-03-24T11:27:36.111Z"
   },
   {
    "duration": 11,
    "start_time": "2023-03-24T11:27:48.082Z"
   },
   {
    "duration": 14,
    "start_time": "2023-03-24T11:28:07.848Z"
   },
   {
    "duration": 199,
    "start_time": "2023-03-24T11:28:16.471Z"
   },
   {
    "duration": 182,
    "start_time": "2023-03-24T11:28:29.107Z"
   },
   {
    "duration": 213,
    "start_time": "2023-03-24T11:30:55.601Z"
   },
   {
    "duration": 1423,
    "start_time": "2023-03-24T12:42:45.544Z"
   },
   {
    "duration": 3,
    "start_time": "2023-03-24T12:42:46.969Z"
   },
   {
    "duration": 11,
    "start_time": "2023-03-24T12:42:46.974Z"
   },
   {
    "duration": 5,
    "start_time": "2023-03-24T12:42:46.986Z"
   },
   {
    "duration": 107,
    "start_time": "2023-03-24T12:42:46.993Z"
   },
   {
    "duration": 21,
    "start_time": "2023-03-24T12:42:47.102Z"
   },
   {
    "duration": 14,
    "start_time": "2023-03-24T12:42:47.125Z"
   },
   {
    "duration": 26,
    "start_time": "2023-03-24T12:42:47.141Z"
   },
   {
    "duration": 7443,
    "start_time": "2023-03-24T12:42:47.169Z"
   },
   {
    "duration": 171,
    "start_time": "2023-03-24T12:42:54.614Z"
   },
   {
    "duration": 4,
    "start_time": "2023-03-24T12:42:54.787Z"
   },
   {
    "duration": 12,
    "start_time": "2023-03-24T12:42:54.793Z"
   },
   {
    "duration": 6,
    "start_time": "2023-03-24T12:42:54.807Z"
   },
   {
    "duration": 205,
    "start_time": "2023-03-24T12:42:54.816Z"
   },
   {
    "duration": 208,
    "start_time": "2023-03-24T12:42:55.023Z"
   },
   {
    "duration": 28,
    "start_time": "2023-03-24T12:42:55.233Z"
   },
   {
    "duration": 28,
    "start_time": "2023-03-24T12:42:55.264Z"
   },
   {
    "duration": 16,
    "start_time": "2023-03-24T12:42:55.363Z"
   },
   {
    "duration": 12,
    "start_time": "2023-03-24T12:42:55.461Z"
   },
   {
    "duration": 255,
    "start_time": "2023-03-24T12:42:55.474Z"
   },
   {
    "duration": 4,
    "start_time": "2023-03-24T12:42:55.731Z"
   },
   {
    "duration": 266,
    "start_time": "2023-03-24T12:42:55.737Z"
   },
   {
    "duration": 5,
    "start_time": "2023-03-24T12:42:56.005Z"
   },
   {
    "duration": 23,
    "start_time": "2023-03-24T12:42:56.012Z"
   },
   {
    "duration": 11,
    "start_time": "2023-03-24T12:42:56.036Z"
   },
   {
    "duration": 16,
    "start_time": "2023-03-24T12:42:56.048Z"
   }
  ],
  "kernelspec": {
   "display_name": "Python 3 (ipykernel)",
   "language": "python",
   "name": "python3"
  },
  "language_info": {
   "codemirror_mode": {
    "name": "ipython",
    "version": 3
   },
   "file_extension": ".py",
   "mimetype": "text/x-python",
   "name": "python",
   "nbconvert_exporter": "python",
   "pygments_lexer": "ipython3",
   "version": "3.9.5"
  },
  "toc": {
   "base_numbering": 1,
   "nav_menu": {},
   "number_sections": true,
   "sideBar": true,
   "skip_h1_title": true,
   "title_cell": "Содержание",
   "title_sidebar": "Contents",
   "toc_cell": true,
   "toc_position": {
    "height": "calc(100% - 180px)",
    "left": "10px",
    "top": "150px",
    "width": "266.172px"
   },
   "toc_section_display": true,
   "toc_window_display": true
  }
 },
 "nbformat": 4,
 "nbformat_minor": 2
}
